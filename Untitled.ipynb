{
 "cells": [
  {
   "cell_type": "code",
   "execution_count": 1,
   "id": "aed0fcd7-7b58-4f39-8bae-5fbc0d54a2b6",
   "metadata": {},
   "outputs": [
    {
     "name": "stderr",
     "output_type": "stream",
     "text": [
      "Filtering tracks by size: 100%|████████████████████████████████████████████████| 17000/17000 [00:01<00:00, 9118.11it/s]\n"
     ]
    },
    {
     "name": "stdout",
     "output_type": "stream",
     "text": [
      "\n",
      "Processing training data with augmentation...\n"
     ]
    },
    {
     "name": "stderr",
     "output_type": "stream",
     "text": [
      "Processing tracks:   0%|                                                           | 1/12114 [00:02<8:19:06,  2.47s/it]"
     ]
    },
    {
     "name": "stdout",
     "output_type": "stream",
     "text": [
      "Error processing track 3: index can't contain negative values\n"
     ]
    },
    {
     "name": "stderr",
     "output_type": "stream",
     "text": [
      "Processing tracks:   0%|                                                           | 4/12114 [00:03<1:51:32,  1.81it/s]"
     ]
    },
    {
     "name": "stdout",
     "output_type": "stream",
     "text": [
      "Error processing track 134: could not broadcast input array from shape (130,13,1) into shape (10,13,1)\n",
      "Track 136 is shorter than expected 30 seconds, skipping.\n",
      "Track 198 is shorter than expected 30 seconds, skipping.\n",
      "Track 208 is shorter than expected 30 seconds, skipping.\n"
     ]
    },
    {
     "name": "stderr",
     "output_type": "stream",
     "text": [
      "Processing tracks:   0%|                                                           | 8/12114 [00:04<1:20:15,  2.51it/s]"
     ]
    },
    {
     "name": "stdout",
     "output_type": "stream",
     "text": [
      "Error processing track 209: could not broadcast input array from shape (130,13,1) into shape (10,13,1)\n",
      "Track 237 is shorter than expected 30 seconds, skipping.\n",
      "Track 247 is shorter than expected 30 seconds, skipping.\n",
      "Track 249 is shorter than expected 30 seconds, skipping.\n"
     ]
    },
    {
     "name": "stderr",
     "output_type": "stream",
     "text": [
      "Processing tracks:   0%|                                                            | 12/12114 [00:04<40:19,  5.00it/s]"
     ]
    },
    {
     "name": "stdout",
     "output_type": "stream",
     "text": [
      "Track 257 is shorter than expected 30 seconds, skipping.\n",
      "Error processing track 258: could not broadcast input array from shape (130,13,1) into shape (10,13,1)\n",
      "Error processing track 341: could not broadcast input array from shape (130,13,1) into shape (10,13,1)\n",
      "Track 343 is shorter than expected 30 seconds, skipping.\n"
     ]
    },
    {
     "name": "stderr",
     "output_type": "stream",
     "text": [
      "Processing tracks:   0%|                                                            | 16/12114 [00:05<25:26,  7.92it/s]"
     ]
    },
    {
     "name": "stdout",
     "output_type": "stream",
     "text": [
      "Error processing track 352: could not broadcast input array from shape (130,13,1) into shape (10,13,1)\n",
      "Error processing track 369: could not broadcast input array from shape (130,13,1) into shape (10,13,1)\n",
      "Track 397 is shorter than expected 30 seconds, skipping.\n",
      "Track 398 is shorter than expected 30 seconds, skipping.\n"
     ]
    },
    {
     "name": "stderr",
     "output_type": "stream",
     "text": [
      "Processing tracks:   0%|                                                            | 20/12114 [00:05<17:58, 11.22it/s]"
     ]
    },
    {
     "name": "stdout",
     "output_type": "stream",
     "text": [
      "Track 399 is shorter than expected 30 seconds, skipping.\n",
      "Track 400 is shorter than expected 30 seconds, skipping.\n",
      "Track 405 is shorter than expected 30 seconds, skipping.\n",
      "Track 414 is shorter than expected 30 seconds, skipping.\n"
     ]
    },
    {
     "name": "stderr",
     "output_type": "stream",
     "text": [
      "Processing tracks:   0%|                                                            | 24/12114 [00:06<23:29,  8.58it/s]"
     ]
    },
    {
     "name": "stdout",
     "output_type": "stream",
     "text": [
      "Error processing track 425: could not broadcast input array from shape (130,13,1) into shape (10,13,1)\n",
      "Track 550 is shorter than expected 30 seconds, skipping.\n",
      "Track 573 is shorter than expected 30 seconds, skipping.\n"
     ]
    },
    {
     "name": "stderr",
     "output_type": "stream",
     "text": [
      "Processing tracks:   0%|▏                                                           | 28/12114 [00:06<24:30,  8.22it/s]"
     ]
    },
    {
     "name": "stdout",
     "output_type": "stream",
     "text": [
      "Error processing track 619: index can't contain negative values\n",
      "Track 629 is shorter than expected 30 seconds, skipping.\n",
      "Track 631 is shorter than expected 30 seconds, skipping.\n",
      "Track 665 is shorter than expected 30 seconds, skipping.\n"
     ]
    },
    {
     "name": "stderr",
     "output_type": "stream",
     "text": [
      "Processing tracks:   0%|▏                                                           | 32/12114 [00:07<22:16,  9.04it/s]"
     ]
    },
    {
     "name": "stdout",
     "output_type": "stream",
     "text": [
      "Error processing track 668: index can't contain negative values\n",
      "Track 669 is shorter than expected 30 seconds, skipping.\n",
      "Track 672 is shorter than expected 30 seconds, skipping.\n",
      "Track 673 is shorter than expected 30 seconds, skipping.\n",
      "Track 674 is shorter than expected 30 seconds, skipping.\n"
     ]
    },
    {
     "name": "stderr",
     "output_type": "stream",
     "text": [
      "Processing tracks:   0%|▏                                                           | 34/12114 [00:07<21:19,  9.44it/s]"
     ]
    },
    {
     "name": "stdout",
     "output_type": "stream",
     "text": [
      "Error processing track 677: could not broadcast input array from shape (130,13,1) into shape (10,13,1)\n"
     ]
    },
    {
     "name": "stderr",
     "output_type": "stream",
     "text": [
      "Processing tracks:   0%|▏                                                           | 38/12114 [00:08<30:42,  6.55it/s]"
     ]
    },
    {
     "name": "stdout",
     "output_type": "stream",
     "text": [
      "Error processing track 679: could not broadcast input array from shape (130,13,1) into shape (10,13,1)\n",
      "Track 680 is shorter than expected 30 seconds, skipping.\n",
      "Track 681 is shorter than expected 30 seconds, skipping.\n",
      "Track 684 is shorter than expected 30 seconds, skipping.\n"
     ]
    },
    {
     "name": "stderr",
     "output_type": "stream",
     "text": [
      "Processing tracks:   0%|▏                                                           | 42/12114 [00:08<25:07,  8.01it/s]"
     ]
    },
    {
     "name": "stdout",
     "output_type": "stream",
     "text": [
      "Error processing track 686: could not broadcast input array from shape (130,13,1) into shape (10,13,1)\n",
      "Track 696 is shorter than expected 30 seconds, skipping.\n",
      "Track 698 is shorter than expected 30 seconds, skipping.\n",
      "Track 701 is shorter than expected 30 seconds, skipping.\n"
     ]
    },
    {
     "name": "stderr",
     "output_type": "stream",
     "text": [
      "Processing tracks:   0%|▏                                                           | 46/12114 [00:08<17:51, 11.26it/s]"
     ]
    },
    {
     "name": "stdout",
     "output_type": "stream",
     "text": [
      "Track 702 is shorter than expected 30 seconds, skipping.\n",
      "Track 703 is shorter than expected 30 seconds, skipping.\n",
      "Track 717 is shorter than expected 30 seconds, skipping.\n",
      "Track 720 is shorter than expected 30 seconds, skipping.\n",
      "Track 823 is shorter than expected 30 seconds, skipping.\n"
     ]
    },
    {
     "name": "stderr",
     "output_type": "stream",
     "text": [
      "Processing tracks:   0%|▏                                                           | 50/12114 [00:09<15:09, 13.26it/s]"
     ]
    },
    {
     "name": "stdout",
     "output_type": "stream",
     "text": [
      "Error processing track 824: could not broadcast input array from shape (130,13,1) into shape (10,13,1)\n",
      "Error processing track 830: could not broadcast input array from shape (130,13,1) into shape (10,13,1)\n",
      "Error processing track 855: could not broadcast input array from shape (130,13,1) into shape (10,13,1)\n",
      "Track 858 is shorter than expected 30 seconds, skipping.\n"
     ]
    },
    {
     "name": "stderr",
     "output_type": "stream",
     "text": [
      "Processing tracks:   0%|▎                                                           | 52/12114 [00:09<14:32, 13.83it/s]"
     ]
    },
    {
     "name": "stdout",
     "output_type": "stream",
     "text": [
      "Track 861 is shorter than expected 30 seconds, skipping.\n",
      "Track 863 is shorter than expected 30 seconds, skipping.\n"
     ]
    },
    {
     "name": "stderr",
     "output_type": "stream",
     "text": [
      "Processing tracks:   0%|▎                                                           | 54/12114 [00:09<24:11,  8.31it/s]"
     ]
    },
    {
     "name": "stdout",
     "output_type": "stream",
     "text": [
      "Error processing track 868: could not broadcast input array from shape (130,13,1) into shape (10,13,1)\n"
     ]
    },
    {
     "name": "stderr",
     "output_type": "stream",
     "text": [
      "Processing tracks:   0%|▎                                                           | 58/12114 [00:10<26:21,  7.62it/s]"
     ]
    },
    {
     "name": "stdout",
     "output_type": "stream",
     "text": [
      "Error processing track 898: could not broadcast input array from shape (130,13,1) into shape (10,13,1)\n",
      "Track 992 is shorter than expected 30 seconds, skipping.\n",
      "Track 1022 is shorter than expected 30 seconds, skipping.\n",
      "Track 1023 is shorter than expected 30 seconds, skipping.\n"
     ]
    },
    {
     "name": "stderr",
     "output_type": "stream",
     "text": [
      "Processing tracks:   1%|▎                                                           | 62/12114 [00:10<18:51, 10.66it/s]"
     ]
    },
    {
     "name": "stdout",
     "output_type": "stream",
     "text": [
      "Track 1028 is shorter than expected 30 seconds, skipping.\n",
      "Error processing track 1029: could not broadcast input array from shape (130,13,1) into shape (10,13,1)\n",
      "Track 1041 is shorter than expected 30 seconds, skipping.\n",
      "Error processing track 1052: could not broadcast input array from shape (130,13,1) into shape (10,13,1)\n"
     ]
    },
    {
     "name": "stderr",
     "output_type": "stream",
     "text": [
      "Processing tracks:   1%|▎                                                           | 64/12114 [00:10<16:57, 11.84it/s]"
     ]
    },
    {
     "name": "stdout",
     "output_type": "stream",
     "text": [
      "Track 1058 is shorter than expected 30 seconds, skipping.\n",
      "Track 1059 is shorter than expected 30 seconds, skipping.\n",
      "Track 1060 is shorter than expected 30 seconds, skipping.\n"
     ]
    },
    {
     "name": "stderr",
     "output_type": "stream",
     "text": [
      "Processing tracks:   1%|▎                                                           | 66/12114 [00:10<20:07,  9.98it/s]"
     ]
    },
    {
     "name": "stdout",
     "output_type": "stream",
     "text": [
      "Error processing track 1061: index can't contain negative values\n",
      "Error processing track 1063: index can't contain negative values\n"
     ]
    },
    {
     "name": "stderr",
     "output_type": "stream",
     "text": [
      "Processing tracks:   1%|▎                                                           | 68/12114 [00:12<50:59,  3.94it/s]"
     ]
    },
    {
     "name": "stdout",
     "output_type": "stream",
     "text": [
      "Error processing track 1064: index can't contain negative values\n"
     ]
    },
    {
     "name": "stderr",
     "output_type": "stream",
     "text": [
      "Processing tracks:   1%|▎                                                           | 71/12114 [00:13<51:35,  3.89it/s]"
     ]
    },
    {
     "name": "stdout",
     "output_type": "stream",
     "text": [
      "Error processing track 1093: could not broadcast input array from shape (130,13,1) into shape (10,13,1)\n",
      "Track 1095 is shorter than expected 30 seconds, skipping.\n",
      "Track 1105 is shorter than expected 30 seconds, skipping.\n",
      "Track 1106 is shorter than expected 30 seconds, skipping.\n"
     ]
    },
    {
     "name": "stderr",
     "output_type": "stream",
     "text": [
      "Processing tracks:   1%|▎                                                           | 75/12114 [00:13<29:53,  6.71it/s]"
     ]
    },
    {
     "name": "stdout",
     "output_type": "stream",
     "text": [
      "Track 1107 is shorter than expected 30 seconds, skipping.\n",
      "Error processing track 1108: could not broadcast input array from shape (130,13,1) into shape (10,13,1)\n",
      "Track 1123 is shorter than expected 30 seconds, skipping.\n",
      "Error processing track 1125: could not broadcast input array from shape (130,13,1) into shape (10,13,1)\n"
     ]
    },
    {
     "name": "stderr",
     "output_type": "stream",
     "text": [
      "Processing tracks:   1%|▍                                                           | 79/12114 [00:13<21:01,  9.54it/s]"
     ]
    },
    {
     "name": "stdout",
     "output_type": "stream",
     "text": [
      "Error processing track 1126: could not broadcast input array from shape (130,13,1) into shape (10,13,1)\n",
      "Error processing track 1130: could not broadcast input array from shape (130,13,1) into shape (10,13,1)\n",
      "Track 1131 is shorter than expected 30 seconds, skipping.\n",
      "Track 1147 is shorter than expected 30 seconds, skipping.\n"
     ]
    },
    {
     "name": "stderr",
     "output_type": "stream",
     "text": [
      "Processing tracks:   1%|▍                                                           | 83/12114 [00:13<15:56, 12.58it/s]"
     ]
    },
    {
     "name": "stdout",
     "output_type": "stream",
     "text": [
      "Track 1148 is shorter than expected 30 seconds, skipping.\n",
      "Track 1149 is shorter than expected 30 seconds, skipping.\n",
      "Error processing track 1150: could not broadcast input array from shape (130,13,1) into shape (10,13,1)\n",
      "Track 1156 is shorter than expected 30 seconds, skipping.\n"
     ]
    },
    {
     "name": "stderr",
     "output_type": "stream",
     "text": [
      "Processing tracks:   1%|▍                                                           | 87/12114 [00:14<14:27, 13.87it/s]"
     ]
    },
    {
     "name": "stdout",
     "output_type": "stream",
     "text": [
      "Error processing track 1157: could not broadcast input array from shape (130,13,1) into shape (10,13,1)\n",
      "Error processing track 1161: could not broadcast input array from shape (130,13,1) into shape (10,13,1)\n",
      "Track 1162 is shorter than expected 30 seconds, skipping.\n",
      "Error processing track 1165: could not broadcast input array from shape (130,13,1) into shape (10,13,1)\n"
     ]
    },
    {
     "name": "stderr",
     "output_type": "stream",
     "text": [
      "Processing tracks:   1%|▍                                                           | 91/12114 [00:14<13:05, 15.31it/s]"
     ]
    },
    {
     "name": "stdout",
     "output_type": "stream",
     "text": [
      "Error processing track 1179: could not broadcast input array from shape (130,13,1) into shape (10,13,1)\n",
      "Track 1183 is shorter than expected 30 seconds, skipping.\n",
      "Track 1199 is shorter than expected 30 seconds, skipping.\n",
      "Track 1201 is shorter than expected 30 seconds, skipping.\n"
     ]
    },
    {
     "name": "stderr",
     "output_type": "stream",
     "text": [
      "Processing tracks:   1%|▍                                                           | 95/12114 [00:14<12:31, 16.00it/s]"
     ]
    },
    {
     "name": "stdout",
     "output_type": "stream",
     "text": [
      "Error processing track 1202: could not broadcast input array from shape (130,13,1) into shape (10,13,1)\n",
      "Track 1203 is shorter than expected 30 seconds, skipping.\n",
      "Error processing track 1204: could not broadcast input array from shape (130,13,1) into shape (10,13,1)\n",
      "Track 1311 is shorter than expected 30 seconds, skipping.\n"
     ]
    },
    {
     "name": "stderr",
     "output_type": "stream",
     "text": [
      "Processing tracks:   1%|▍                                                           | 99/12114 [00:14<12:06, 16.54it/s]"
     ]
    },
    {
     "name": "stdout",
     "output_type": "stream",
     "text": [
      "Track 1339 is shorter than expected 30 seconds, skipping.\n",
      "Track 1354 is shorter than expected 30 seconds, skipping.\n",
      "Track 1413 is shorter than expected 30 seconds, skipping.\n",
      "Track 1416 is shorter than expected 30 seconds, skipping.\n"
     ]
    },
    {
     "name": "stderr",
     "output_type": "stream",
     "text": [
      "Processing tracks:   1%|▌                                                          | 103/12114 [00:15<11:34, 17.29it/s]"
     ]
    },
    {
     "name": "stdout",
     "output_type": "stream",
     "text": [
      "Error processing track 1418: could not broadcast input array from shape (130,13,1) into shape (10,13,1)\n",
      "Track 1419 is shorter than expected 30 seconds, skipping.\n",
      "Error processing track 1450: could not broadcast input array from shape (130,13,1) into shape (10,13,1)\n",
      "Track 1451 is shorter than expected 30 seconds, skipping.\n"
     ]
    },
    {
     "name": "stderr",
     "output_type": "stream",
     "text": [
      "Processing tracks:   1%|▌                                                          | 107/12114 [00:15<11:43, 17.08it/s]"
     ]
    },
    {
     "name": "stdout",
     "output_type": "stream",
     "text": [
      "Track 1481 is shorter than expected 30 seconds, skipping.\n",
      "Track 1483 is shorter than expected 30 seconds, skipping.\n",
      "Track 1485 is shorter than expected 30 seconds, skipping.\n",
      "Track 1498 is shorter than expected 30 seconds, skipping.\n"
     ]
    },
    {
     "name": "stderr",
     "output_type": "stream",
     "text": [
      "Processing tracks:   1%|▌                                                          | 111/12114 [00:15<11:23, 17.56it/s]"
     ]
    },
    {
     "name": "stdout",
     "output_type": "stream",
     "text": [
      "Track 1526 is shorter than expected 30 seconds, skipping.\n",
      "Track 1528 is shorter than expected 30 seconds, skipping.\n",
      "Track 1534 is shorter than expected 30 seconds, skipping.\n",
      "Track 1545 is shorter than expected 30 seconds, skipping.\n"
     ]
    },
    {
     "name": "stderr",
     "output_type": "stream",
     "text": [
      "Processing tracks:   1%|▌                                                          | 113/12114 [00:15<11:56, 16.76it/s]"
     ]
    },
    {
     "name": "stdout",
     "output_type": "stream",
     "text": [
      "Error processing track 1547: could not broadcast input array from shape (130,13,1) into shape (10,13,1)\n"
     ]
    },
    {
     "name": "stderr",
     "output_type": "stream",
     "text": [
      "Processing tracks:   1%|▌                                                          | 115/12114 [00:15<18:13, 10.97it/s]"
     ]
    },
    {
     "name": "stdout",
     "output_type": "stream",
     "text": [
      "Error processing track 1548: could not broadcast input array from shape (130,13,1) into shape (10,13,1)\n",
      "Error processing track 1550: could not broadcast input array from shape (130,13,1) into shape (10,13,1)\n"
     ]
    },
    {
     "name": "stderr",
     "output_type": "stream",
     "text": [
      "Processing tracks:   1%|▌                                                          | 119/12114 [00:16<18:23, 10.87it/s]"
     ]
    },
    {
     "name": "stdout",
     "output_type": "stream",
     "text": [
      "Error processing track 1551: could not broadcast input array from shape (130,13,1) into shape (10,13,1)\n",
      "Track 1552 is shorter than expected 30 seconds, skipping.\n",
      "Track 1553 is shorter than expected 30 seconds, skipping.\n",
      "Track 1554 is shorter than expected 30 seconds, skipping.\n"
     ]
    },
    {
     "name": "stderr",
     "output_type": "stream",
     "text": [
      "Processing tracks:   1%|▌                                                          | 123/12114 [00:16<14:30, 13.78it/s]"
     ]
    },
    {
     "name": "stdout",
     "output_type": "stream",
     "text": [
      "Track 1555 is shorter than expected 30 seconds, skipping.\n",
      "Track 1556 is shorter than expected 30 seconds, skipping.\n",
      "Track 1559 is shorter than expected 30 seconds, skipping.\n",
      "Error processing track 1607: could not broadcast input array from shape (130,13,1) into shape (10,13,1)\n"
     ]
    },
    {
     "name": "stderr",
     "output_type": "stream",
     "text": [
      "Processing tracks:   1%|▌                                                          | 127/12114 [00:16<12:55, 15.46it/s]"
     ]
    },
    {
     "name": "stdout",
     "output_type": "stream",
     "text": [
      "Track 1652 is shorter than expected 30 seconds, skipping.\n",
      "Track 1671 is shorter than expected 30 seconds, skipping.\n",
      "Track 1674 is shorter than expected 30 seconds, skipping.\n",
      "Track 1677 is shorter than expected 30 seconds, skipping.\n"
     ]
    },
    {
     "name": "stderr",
     "output_type": "stream",
     "text": [
      "Processing tracks:   1%|▋                                                          | 131/12114 [00:17<16:53, 11.83it/s]"
     ]
    },
    {
     "name": "stdout",
     "output_type": "stream",
     "text": [
      "Error processing track 1678: could not broadcast input array from shape (130,13,1) into shape (10,13,1)\n",
      "Track 1705 is shorter than expected 30 seconds, skipping.\n",
      "Error processing track 1730: could not broadcast input array from shape (130,13,1) into shape (10,13,1)\n",
      "Track 1734 is shorter than expected 30 seconds, skipping.\n",
      "Error processing track 1738: index can't contain negative values\n"
     ]
    },
    {
     "name": "stderr",
     "output_type": "stream",
     "text": [
      "Processing tracks:   1%|▋                                                          | 135/12114 [00:18<26:01,  7.67it/s]"
     ]
    },
    {
     "name": "stdout",
     "output_type": "stream",
     "text": [
      "Error processing track 1739: could not broadcast input array from shape (130,13,1) into shape (10,13,1)\n",
      "Error processing track 1783: could not broadcast input array from shape (130,13,1) into shape (10,13,1)\n",
      "Error processing track 1793: could not broadcast input array from shape (130,13,1) into shape (10,13,1)\n",
      "Track 1797 is shorter than expected 30 seconds, skipping.\n"
     ]
    },
    {
     "name": "stderr",
     "output_type": "stream",
     "text": [
      "Processing tracks:   1%|▋                                                          | 139/12114 [00:18<18:30, 10.79it/s]"
     ]
    },
    {
     "name": "stdout",
     "output_type": "stream",
     "text": [
      "Track 1799 is shorter than expected 30 seconds, skipping.\n",
      "Track 1804 is shorter than expected 30 seconds, skipping.\n",
      "Track 1810 is shorter than expected 30 seconds, skipping.\n",
      "Error processing track 1822: could not broadcast input array from shape (130,13,1) into shape (10,13,1)\n"
     ]
    },
    {
     "name": "stderr",
     "output_type": "stream",
     "text": [
      "Processing tracks:   1%|▋                                                          | 143/12114 [00:18<15:01, 13.28it/s]"
     ]
    },
    {
     "name": "stdout",
     "output_type": "stream",
     "text": [
      "Track 1831 is shorter than expected 30 seconds, skipping.\n",
      "Track 1836 is shorter than expected 30 seconds, skipping.\n",
      "Error processing track 1837: could not broadcast input array from shape (130,13,1) into shape (10,13,1)\n",
      "Error processing track 1888: could not broadcast input array from shape (130,13,1) into shape (10,13,1)\n"
     ]
    },
    {
     "name": "stderr",
     "output_type": "stream",
     "text": [
      "Processing tracks:   1%|▋                                                          | 147/12114 [00:18<13:37, 14.64it/s]"
     ]
    },
    {
     "name": "stdout",
     "output_type": "stream",
     "text": [
      "Track 1889 is shorter than expected 30 seconds, skipping.\n",
      "Error processing track 1890: could not broadcast input array from shape (130,13,1) into shape (10,13,1)\n",
      "Track 1898 is shorter than expected 30 seconds, skipping.\n",
      "Error processing track 1899: could not broadcast input array from shape (130,13,1) into shape (10,13,1)\n"
     ]
    },
    {
     "name": "stderr",
     "output_type": "stream",
     "text": [
      "Processing tracks:   1%|▋                                                          | 149/12114 [00:18<12:58, 15.37it/s]"
     ]
    },
    {
     "name": "stdout",
     "output_type": "stream",
     "text": [
      "Track 1900 is shorter than expected 30 seconds, skipping.\n",
      "Track 1901 is shorter than expected 30 seconds, skipping.\n"
     ]
    },
    {
     "name": "stderr",
     "output_type": "stream",
     "text": [
      "Processing tracks:   1%|▋                                                          | 153/12114 [00:21<53:34,  3.72it/s]"
     ]
    },
    {
     "name": "stdout",
     "output_type": "stream",
     "text": [
      "Error processing track 1996: could not broadcast input array from shape (130,13,1) into shape (10,13,1)\n",
      "Track 2125 is shorter than expected 30 seconds, skipping.\n",
      "Track 3401 is shorter than expected 30 seconds, skipping.\n",
      "Error processing track 3446: index can't contain negative values\n"
     ]
    },
    {
     "name": "stderr",
     "output_type": "stream",
     "text": [
      "Processing tracks:   1%|▋                                                        | 157/12114 [00:23<1:10:07,  2.84it/s]"
     ]
    },
    {
     "name": "stdout",
     "output_type": "stream",
     "text": [
      "Error processing track 3449: index can't contain negative values\n",
      "Track 3450 is shorter than expected 30 seconds, skipping.\n",
      "Track 3452 is shorter than expected 30 seconds, skipping.\n",
      "Track 3453 is shorter than expected 30 seconds, skipping.\n"
     ]
    },
    {
     "name": "stderr",
     "output_type": "stream",
     "text": [
      "Processing tracks:   1%|▊                                                          | 161/12114 [00:23<40:28,  4.92it/s]"
     ]
    },
    {
     "name": "stdout",
     "output_type": "stream",
     "text": [
      "Track 3454 is shorter than expected 30 seconds, skipping.\n",
      "Track 3455 is shorter than expected 30 seconds, skipping.\n",
      "Error processing track 3458: could not broadcast input array from shape (130,13,1) into shape (10,13,1)\n",
      "Track 3459 is shorter than expected 30 seconds, skipping.\n"
     ]
    },
    {
     "name": "stderr",
     "output_type": "stream",
     "text": [
      "Processing tracks:   1%|▊                                                          | 163/12114 [00:23<31:56,  6.23it/s]"
     ]
    },
    {
     "name": "stdout",
     "output_type": "stream",
     "text": [
      "Track 3460 is shorter than expected 30 seconds, skipping.\n"
     ]
    },
    {
     "name": "stderr",
     "output_type": "stream",
     "text": [
      "Processing tracks:   1%|▊                                                          | 167/12114 [00:24<32:11,  6.19it/s]"
     ]
    },
    {
     "name": "stdout",
     "output_type": "stream",
     "text": [
      "Error processing track 3461: index can't contain negative values\n",
      "Track 3462 is shorter than expected 30 seconds, skipping.\n",
      "Error processing track 3463: index can't contain negative values\n",
      "Track 3464 is shorter than expected 30 seconds, skipping.\n"
     ]
    },
    {
     "name": "stderr",
     "output_type": "stream",
     "text": [
      "Processing tracks:   1%|▊                                                          | 171/12114 [00:25<39:42,  5.01it/s]"
     ]
    },
    {
     "name": "stdout",
     "output_type": "stream",
     "text": [
      "Error processing track 3465: index can't contain negative values\n",
      "Track 3467 is shorter than expected 30 seconds, skipping.\n",
      "Track 3468 is shorter than expected 30 seconds, skipping.\n",
      "Track 3469 is shorter than expected 30 seconds, skipping.\n"
     ]
    },
    {
     "name": "stderr",
     "output_type": "stream",
     "text": [
      "Processing tracks:   1%|▊                                                          | 175/12114 [00:25<25:52,  7.69it/s]"
     ]
    },
    {
     "name": "stdout",
     "output_type": "stream",
     "text": [
      "Error processing track 3470: could not broadcast input array from shape (130,13,1) into shape (10,13,1)\n",
      "Error processing track 3472: could not broadcast input array from shape (130,13,1) into shape (10,13,1)\n",
      "Track 3473 is shorter than expected 30 seconds, skipping.\n",
      "Error processing track 3475: could not broadcast input array from shape (130,13,1) into shape (10,13,1)\n"
     ]
    },
    {
     "name": "stderr",
     "output_type": "stream",
     "text": [
      "Processing tracks:   1%|▊                                                          | 179/12114 [00:25<19:11, 10.37it/s]"
     ]
    },
    {
     "name": "stdout",
     "output_type": "stream",
     "text": [
      "Track 3476 is shorter than expected 30 seconds, skipping.\n",
      "Error processing track 3477: could not broadcast input array from shape (130,13,1) into shape (10,13,1)\n",
      "Track 3478 is shorter than expected 30 seconds, skipping.\n",
      "Error processing track 3479: could not broadcast input array from shape (130,13,1) into shape (10,13,1)\n"
     ]
    },
    {
     "name": "stderr",
     "output_type": "stream",
     "text": [
      "Processing tracks:   2%|▉                                                          | 183/12114 [00:26<15:53, 12.52it/s]"
     ]
    },
    {
     "name": "stdout",
     "output_type": "stream",
     "text": [
      "Track 3489 is shorter than expected 30 seconds, skipping.\n",
      "Track 3490 is shorter than expected 30 seconds, skipping.\n",
      "Error processing track 3491: could not broadcast input array from shape (130,13,1) into shape (10,13,1)\n",
      "Error processing track 3493: could not broadcast input array from shape (130,13,1) into shape (10,13,1)\n"
     ]
    },
    {
     "name": "stderr",
     "output_type": "stream",
     "text": [
      "Processing tracks:   2%|▉                                                          | 187/12114 [00:26<13:37, 14.59it/s]"
     ]
    },
    {
     "name": "stdout",
     "output_type": "stream",
     "text": [
      "Track 3495 is shorter than expected 30 seconds, skipping.\n",
      "Track 3497 is shorter than expected 30 seconds, skipping.\n",
      "Track 3499 is shorter than expected 30 seconds, skipping.\n",
      "Error processing track 3514: could not broadcast input array from shape (130,13,1) into shape (10,13,1)\n",
      "Track 3515 is shorter than expected 30 seconds, skipping.\n"
     ]
    },
    {
     "name": "stderr",
     "output_type": "stream",
     "text": [
      "Processing tracks:   2%|▉                                                          | 191/12114 [00:26<12:41, 15.66it/s]"
     ]
    },
    {
     "name": "stdout",
     "output_type": "stream",
     "text": [
      "Error processing track 3516: could not broadcast input array from shape (130,13,1) into shape (10,13,1)\n",
      "Track 3517 is shorter than expected 30 seconds, skipping.\n",
      "Track 3518 is shorter than expected 30 seconds, skipping.\n",
      "Error processing track 3519: could not broadcast input array from shape (130,13,1) into shape (10,13,1)\n"
     ]
    },
    {
     "name": "stderr",
     "output_type": "stream",
     "text": [
      "Processing tracks:   2%|▉                                                          | 195/12114 [00:26<12:27, 15.95it/s]"
     ]
    },
    {
     "name": "stdout",
     "output_type": "stream",
     "text": [
      "Track 3520 is shorter than expected 30 seconds, skipping.\n",
      "Track 3521 is shorter than expected 30 seconds, skipping.\n",
      "Error processing track 3522: could not broadcast input array from shape (130,13,1) into shape (10,13,1)\n",
      "Track 3536 is shorter than expected 30 seconds, skipping.\n"
     ]
    },
    {
     "name": "stderr",
     "output_type": "stream",
     "text": [
      "Processing tracks:   2%|▉                                                          | 199/12114 [00:27<12:02, 16.50it/s]"
     ]
    },
    {
     "name": "stdout",
     "output_type": "stream",
     "text": [
      "Track 3551 is shorter than expected 30 seconds, skipping.\n",
      "Track 3552 is shorter than expected 30 seconds, skipping.\n",
      "Track 3557 is shorter than expected 30 seconds, skipping.\n",
      "Track 3558 is shorter than expected 30 seconds, skipping.\n"
     ]
    },
    {
     "name": "stderr",
     "output_type": "stream",
     "text": [
      "Processing tracks:   2%|▉                                                          | 201/12114 [00:27<11:36, 17.10it/s]"
     ]
    },
    {
     "name": "stdout",
     "output_type": "stream",
     "text": [
      "Error processing track 3559: index can't contain negative values\n"
     ]
    },
    {
     "name": "stderr",
     "output_type": "stream",
     "text": [
      "Processing tracks:   2%|▉                                                          | 205/12114 [00:27<15:06, 13.14it/s]"
     ]
    },
    {
     "name": "stdout",
     "output_type": "stream",
     "text": [
      "Error processing track 3560: could not broadcast input array from shape (130,13,1) into shape (10,13,1)\n",
      "Track 3561 is shorter than expected 30 seconds, skipping.\n",
      "Track 3563 is shorter than expected 30 seconds, skipping.\n",
      "Track 3564 is shorter than expected 30 seconds, skipping.\n"
     ]
    },
    {
     "name": "stderr",
     "output_type": "stream",
     "text": [
      "Processing tracks:   2%|█                                                          | 207/12114 [00:27<15:02, 13.20it/s]"
     ]
    },
    {
     "name": "stdout",
     "output_type": "stream",
     "text": [
      "Error processing track 3566: could not broadcast input array from shape (130,13,1) into shape (10,13,1)\n",
      "Track 3567 is shorter than expected 30 seconds, skipping.\n",
      "Track 3568 is shorter than expected 30 seconds, skipping.\n",
      "Track 3569 is shorter than expected 30 seconds, skipping.\n"
     ]
    },
    {
     "name": "stderr",
     "output_type": "stream",
     "text": [
      "Processing tracks:   2%|█                                                          | 209/12114 [00:27<14:30, 13.67it/s]"
     ]
    },
    {
     "name": "stdout",
     "output_type": "stream",
     "text": [
      "Track 3570 is shorter than expected 30 seconds, skipping.\n"
     ]
    },
    {
     "name": "stderr",
     "output_type": "stream",
     "text": [
      "Processing tracks:   2%|█                                                          | 211/12114 [00:28<18:11, 10.90it/s]"
     ]
    },
    {
     "name": "stdout",
     "output_type": "stream",
     "text": [
      "Error processing track 3571: could not broadcast input array from shape (130,13,1) into shape (10,13,1)\n",
      "Track 3572 is shorter than expected 30 seconds, skipping.\n"
     ]
    },
    {
     "name": "stderr",
     "output_type": "stream",
     "text": [
      "Processing tracks:   2%|█                                                          | 215/12114 [00:28<19:55,  9.95it/s]"
     ]
    },
    {
     "name": "stdout",
     "output_type": "stream",
     "text": [
      "Error processing track 3574: could not broadcast input array from shape (130,13,1) into shape (10,13,1)\n",
      "Error processing track 3603: could not broadcast input array from shape (130,13,1) into shape (10,13,1)\n",
      "Track 3604 is shorter than expected 30 seconds, skipping.\n",
      "Track 3606 is shorter than expected 30 seconds, skipping.\n"
     ]
    },
    {
     "name": "stderr",
     "output_type": "stream",
     "text": [
      "Processing tracks:   2%|█                                                          | 219/12114 [00:28<16:12, 12.23it/s]"
     ]
    },
    {
     "name": "stdout",
     "output_type": "stream",
     "text": [
      "Error processing track 3609: could not broadcast input array from shape (130,13,1) into shape (10,13,1)\n",
      "Track 3638 is shorter than expected 30 seconds, skipping.\n",
      "Error processing track 3681: could not broadcast input array from shape (130,13,1) into shape (10,13,1)\n",
      "Track 3696 is shorter than expected 30 seconds, skipping.\n"
     ]
    },
    {
     "name": "stderr",
     "output_type": "stream",
     "text": [
      "Processing tracks:   2%|█                                                          | 223/12114 [00:29<14:08, 14.01it/s]"
     ]
    },
    {
     "name": "stdout",
     "output_type": "stream",
     "text": [
      "Track 3698 is shorter than expected 30 seconds, skipping.\n",
      "Track 3727 is shorter than expected 30 seconds, skipping.\n",
      "Track 3812 is shorter than expected 30 seconds, skipping.\n",
      "Track 3834 is shorter than expected 30 seconds, skipping.\n"
     ]
    },
    {
     "name": "stderr",
     "output_type": "stream",
     "text": [
      "Processing tracks:   2%|█                                                          | 227/12114 [00:29<13:19, 14.87it/s]"
     ]
    },
    {
     "name": "stdout",
     "output_type": "stream",
     "text": [
      "Error processing track 3835: could not broadcast input array from shape (130,13,1) into shape (10,13,1)\n",
      "Error processing track 3836: could not broadcast input array from shape (130,13,1) into shape (10,13,1)\n",
      "Error processing track 3839: could not broadcast input array from shape (130,13,1) into shape (10,13,1)\n",
      "Track 3854 is shorter than expected 30 seconds, skipping.\n"
     ]
    },
    {
     "name": "stderr",
     "output_type": "stream",
     "text": [
      "Processing tracks:   2%|█▏                                                         | 231/12114 [00:29<12:30, 15.84it/s]"
     ]
    },
    {
     "name": "stdout",
     "output_type": "stream",
     "text": [
      "Track 3855 is shorter than expected 30 seconds, skipping.\n",
      "Error processing track 3856: could not broadcast input array from shape (130,13,1) into shape (10,13,1)\n",
      "Track 3857 is shorter than expected 30 seconds, skipping.\n",
      "Error processing track 3859: could not broadcast input array from shape (130,13,1) into shape (10,13,1)\n"
     ]
    },
    {
     "name": "stderr",
     "output_type": "stream",
     "text": [
      "Processing tracks:   2%|█▏                                                         | 235/12114 [00:29<12:56, 15.30it/s]"
     ]
    },
    {
     "name": "stdout",
     "output_type": "stream",
     "text": [
      "Track 3861 is shorter than expected 30 seconds, skipping.\n",
      "Error processing track 3862: could not broadcast input array from shape (130,13,1) into shape (10,13,1)\n",
      "Error processing track 3863: could not broadcast input array from shape (130,13,1) into shape (10,13,1)\n",
      "Error processing track 3915: could not broadcast input array from shape (130,13,1) into shape (10,13,1)\n"
     ]
    },
    {
     "name": "stderr",
     "output_type": "stream",
     "text": [
      "Processing tracks:   2%|█▏                                                         | 239/12114 [00:31<51:52,  3.82it/s]"
     ]
    },
    {
     "name": "stdout",
     "output_type": "stream",
     "text": [
      "Error processing track 3919: could not broadcast input array from shape (130,13,1) into shape (10,13,1)\n",
      "Track 3923 is shorter than expected 30 seconds, skipping.\n",
      "Error processing track 3924: could not broadcast input array from shape (130,13,1) into shape (10,13,1)\n",
      "Error processing track 3929: could not broadcast input array from shape (130,13,1) into shape (10,13,1)\n"
     ]
    },
    {
     "name": "stderr",
     "output_type": "stream",
     "text": [
      "Processing tracks:   2%|█▏                                                         | 243/12114 [00:32<31:40,  6.24it/s]"
     ]
    },
    {
     "name": "stdout",
     "output_type": "stream",
     "text": [
      "Error processing track 3932: could not broadcast input array from shape (130,13,1) into shape (10,13,1)\n",
      "Error processing track 3933: could not broadcast input array from shape (130,13,1) into shape (10,13,1)\n",
      "Track 3934 is shorter than expected 30 seconds, skipping.\n",
      "Track 3936 is shorter than expected 30 seconds, skipping.\n"
     ]
    },
    {
     "name": "stderr",
     "output_type": "stream",
     "text": [
      "Processing tracks:   2%|█▏                                                         | 247/12114 [00:32<21:59,  8.99it/s]"
     ]
    },
    {
     "name": "stdout",
     "output_type": "stream",
     "text": [
      "Error processing track 3939: could not broadcast input array from shape (130,13,1) into shape (10,13,1)\n",
      "Track 3941 is shorter than expected 30 seconds, skipping.\n",
      "Error processing track 3942: could not broadcast input array from shape (130,13,1) into shape (10,13,1)\n",
      "Track 3943 is shorter than expected 30 seconds, skipping.\n"
     ]
    },
    {
     "name": "stderr",
     "output_type": "stream",
     "text": [
      "Processing tracks:   2%|█▏                                                         | 251/12114 [00:32<17:05, 11.56it/s]"
     ]
    },
    {
     "name": "stdout",
     "output_type": "stream",
     "text": [
      "Error processing track 3944: could not broadcast input array from shape (130,13,1) into shape (10,13,1)\n",
      "Error processing track 3945: could not broadcast input array from shape (130,13,1) into shape (10,13,1)\n",
      "Track 3946 is shorter than expected 30 seconds, skipping.\n",
      "Error processing track 3947: could not broadcast input array from shape (130,13,1) into shape (10,13,1)\n"
     ]
    },
    {
     "name": "stderr",
     "output_type": "stream",
     "text": [
      "Processing tracks:   2%|█▏                                                         | 255/12114 [00:33<15:00, 13.16it/s]"
     ]
    },
    {
     "name": "stdout",
     "output_type": "stream",
     "text": [
      "Error processing track 3948: could not broadcast input array from shape (130,13,1) into shape (10,13,1)\n",
      "Error processing track 3951: could not broadcast input array from shape (130,13,1) into shape (10,13,1)\n",
      "Error processing track 3952: could not broadcast input array from shape (130,13,1) into shape (10,13,1)\n",
      "Error processing track 3953: could not broadcast input array from shape (130,13,1) into shape (10,13,1)\n"
     ]
    },
    {
     "name": "stderr",
     "output_type": "stream",
     "text": [
      "Processing tracks:   2%|█▎                                                         | 259/12114 [00:33<13:34, 14.56it/s]"
     ]
    },
    {
     "name": "stdout",
     "output_type": "stream",
     "text": [
      "Track 3954 is shorter than expected 30 seconds, skipping.\n",
      "Track 3955 is shorter than expected 30 seconds, skipping.\n",
      "Error processing track 3956: could not broadcast input array from shape (130,13,1) into shape (10,13,1)\n",
      "Track 3957 is shorter than expected 30 seconds, skipping.\n"
     ]
    },
    {
     "name": "stderr",
     "output_type": "stream",
     "text": [
      "Processing tracks:   2%|█▎                                                         | 263/12114 [00:33<12:33, 15.73it/s]"
     ]
    },
    {
     "name": "stdout",
     "output_type": "stream",
     "text": [
      "Track 3958 is shorter than expected 30 seconds, skipping.\n",
      "Track 3959 is shorter than expected 30 seconds, skipping.\n",
      "Error processing track 3960: could not broadcast input array from shape (130,13,1) into shape (10,13,1)\n",
      "Track 3973 is shorter than expected 30 seconds, skipping.\n"
     ]
    },
    {
     "name": "stderr",
     "output_type": "stream",
     "text": [
      "Processing tracks:   2%|█▎                                                         | 267/12114 [00:33<11:44, 16.83it/s]"
     ]
    },
    {
     "name": "stdout",
     "output_type": "stream",
     "text": [
      "Track 3974 is shorter than expected 30 seconds, skipping.\n",
      "Track 3975 is shorter than expected 30 seconds, skipping.\n",
      "Track 3976 is shorter than expected 30 seconds, skipping.\n",
      "Track 3981 is shorter than expected 30 seconds, skipping.\n"
     ]
    },
    {
     "name": "stderr",
     "output_type": "stream",
     "text": [
      "Processing tracks:   2%|█▎                                                         | 271/12114 [00:33<11:30, 17.16it/s]"
     ]
    },
    {
     "name": "stdout",
     "output_type": "stream",
     "text": [
      "Error processing track 3983: could not broadcast input array from shape (130,13,1) into shape (10,13,1)\n",
      "Error processing track 3985: could not broadcast input array from shape (130,13,1) into shape (10,13,1)\n",
      "Track 3986 is shorter than expected 30 seconds, skipping.\n",
      "Track 3989 is shorter than expected 30 seconds, skipping.\n"
     ]
    },
    {
     "name": "stderr",
     "output_type": "stream",
     "text": [
      "Processing tracks:   2%|█▎                                                         | 273/12114 [00:34<12:09, 16.22it/s]"
     ]
    },
    {
     "name": "stdout",
     "output_type": "stream",
     "text": [
      "Track 4004 is shorter than expected 30 seconds, skipping.\n"
     ]
    },
    {
     "name": "stderr",
     "output_type": "stream",
     "text": [
      "Processing tracks:   2%|█▎                                                         | 277/12114 [00:34<18:48, 10.49it/s]"
     ]
    },
    {
     "name": "stdout",
     "output_type": "stream",
     "text": [
      "Error processing track 4014: index can't contain negative values\n",
      "Track 4038 is shorter than expected 30 seconds, skipping.\n",
      "Track 4042 is shorter than expected 30 seconds, skipping.\n",
      "Error processing track 4043: could not broadcast input array from shape (130,13,1) into shape (10,13,1)\n"
     ]
    },
    {
     "name": "stderr",
     "output_type": "stream",
     "text": [
      "Processing tracks:   2%|█▎                                                         | 281/12114 [00:34<14:54, 13.22it/s]"
     ]
    },
    {
     "name": "stdout",
     "output_type": "stream",
     "text": [
      "Track 4044 is shorter than expected 30 seconds, skipping.\n",
      "Track 4045 is shorter than expected 30 seconds, skipping.\n",
      "Track 4084 is shorter than expected 30 seconds, skipping.\n",
      "Track 4119 is shorter than expected 30 seconds, skipping.\n"
     ]
    },
    {
     "name": "stderr",
     "output_type": "stream",
     "text": [
      "Processing tracks:   2%|█▍                                                         | 285/12114 [00:35<13:34, 14.53it/s]"
     ]
    },
    {
     "name": "stdout",
     "output_type": "stream",
     "text": [
      "Error processing track 4125: could not broadcast input array from shape (130,13,1) into shape (10,13,1)\n",
      "Error processing track 4126: could not broadcast input array from shape (130,13,1) into shape (10,13,1)\n",
      "Track 4133 is shorter than expected 30 seconds, skipping.\n",
      "Error processing track 4158: could not broadcast input array from shape (130,13,1) into shape (10,13,1)\n"
     ]
    },
    {
     "name": "stderr",
     "output_type": "stream",
     "text": [
      "Processing tracks:   2%|█▍                                                         | 289/12114 [00:35<12:52, 15.31it/s]"
     ]
    },
    {
     "name": "stdout",
     "output_type": "stream",
     "text": [
      "Track 4159 is shorter than expected 30 seconds, skipping.\n",
      "Track 4160 is shorter than expected 30 seconds, skipping.\n",
      "Error processing track 4161: could not broadcast input array from shape (130,13,1) into shape (10,13,1)\n",
      "Track 4167 is shorter than expected 30 seconds, skipping.\n"
     ]
    },
    {
     "name": "stderr",
     "output_type": "stream",
     "text": [
      "Processing tracks:   2%|█▍                                                         | 293/12114 [00:35<12:43, 15.47it/s]"
     ]
    },
    {
     "name": "stdout",
     "output_type": "stream",
     "text": [
      "Track 4170 is shorter than expected 30 seconds, skipping.\n",
      "Track 4172 is shorter than expected 30 seconds, skipping.\n",
      "Error processing track 4176: could not broadcast input array from shape (130,13,1) into shape (10,13,1)\n",
      "Error processing track 4181: could not broadcast input array from shape (130,13,1) into shape (10,13,1)\n"
     ]
    },
    {
     "name": "stderr",
     "output_type": "stream",
     "text": [
      "Processing tracks:   2%|█▍                                                         | 297/12114 [00:35<12:18, 16.00it/s]"
     ]
    },
    {
     "name": "stdout",
     "output_type": "stream",
     "text": [
      "Track 4186 is shorter than expected 30 seconds, skipping.\n",
      "Error processing track 4193: could not broadcast input array from shape (130,13,1) into shape (10,13,1)\n",
      "Error processing track 4194: could not broadcast input array from shape (130,13,1) into shape (10,13,1)\n",
      "Track 4195 is shorter than expected 30 seconds, skipping.\n"
     ]
    },
    {
     "name": "stderr",
     "output_type": "stream",
     "text": [
      "Processing tracks:   2%|█▍                                                         | 301/12114 [00:36<11:58, 16.43it/s]"
     ]
    },
    {
     "name": "stdout",
     "output_type": "stream",
     "text": [
      "Error processing track 4197: could not broadcast input array from shape (130,13,1) into shape (10,13,1)\n",
      "Error processing track 4198: could not broadcast input array from shape (130,13,1) into shape (10,13,1)\n",
      "Error processing track 4201: could not broadcast input array from shape (130,13,1) into shape (10,13,1)\n",
      "Track 4202 is shorter than expected 30 seconds, skipping.\n"
     ]
    },
    {
     "name": "stderr",
     "output_type": "stream",
     "text": [
      "Processing tracks:   3%|█▍                                                         | 305/12114 [00:36<11:46, 16.71it/s]"
     ]
    },
    {
     "name": "stdout",
     "output_type": "stream",
     "text": [
      "Track 4214 is shorter than expected 30 seconds, skipping.\n",
      "Error processing track 4215: could not broadcast input array from shape (130,13,1) into shape (10,13,1)\n",
      "Error processing track 4216: could not broadcast input array from shape (130,13,1) into shape (10,13,1)\n",
      "Track 4217 is shorter than expected 30 seconds, skipping.\n"
     ]
    },
    {
     "name": "stderr",
     "output_type": "stream",
     "text": [
      "Processing tracks:   3%|█▌                                                         | 309/12114 [00:36<11:51, 16.59it/s]"
     ]
    },
    {
     "name": "stdout",
     "output_type": "stream",
     "text": [
      "Track 4218 is shorter than expected 30 seconds, skipping.\n",
      "Error processing track 4219: could not broadcast input array from shape (130,13,1) into shape (10,13,1)\n",
      "Track 4264 is shorter than expected 30 seconds, skipping.\n",
      "Error processing track 4267: could not broadcast input array from shape (130,13,1) into shape (10,13,1)\n"
     ]
    },
    {
     "name": "stderr",
     "output_type": "stream",
     "text": [
      "Processing tracks:   3%|█▌                                                         | 313/12114 [00:36<12:40, 15.51it/s]"
     ]
    },
    {
     "name": "stdout",
     "output_type": "stream",
     "text": [
      "Error processing track 4275: could not broadcast input array from shape (130,13,1) into shape (10,13,1)\n",
      "Error processing track 4276: could not broadcast input array from shape (130,13,1) into shape (10,13,1)\n",
      "Error processing track 4284: could not broadcast input array from shape (130,13,1) into shape (10,13,1)\n",
      "Track 4285 is shorter than expected 30 seconds, skipping.\n"
     ]
    },
    {
     "name": "stderr",
     "output_type": "stream",
     "text": [
      "Processing tracks:   3%|█▌                                                         | 317/12114 [00:37<13:02, 15.08it/s]"
     ]
    },
    {
     "name": "stdout",
     "output_type": "stream",
     "text": [
      "Error processing track 4297: could not broadcast input array from shape (130,13,1) into shape (10,13,1)\n",
      "Track 4298 is shorter than expected 30 seconds, skipping.\n",
      "Track 4299 is shorter than expected 30 seconds, skipping.\n",
      "Track 4300 is shorter than expected 30 seconds, skipping.\n"
     ]
    },
    {
     "name": "stderr",
     "output_type": "stream",
     "text": [
      "Processing tracks:   3%|█▌                                                         | 321/12114 [00:37<11:51, 16.58it/s]"
     ]
    },
    {
     "name": "stdout",
     "output_type": "stream",
     "text": [
      "Track 4302 is shorter than expected 30 seconds, skipping.\n",
      "Track 4309 is shorter than expected 30 seconds, skipping.\n",
      "Track 4310 is shorter than expected 30 seconds, skipping.\n",
      "Error processing track 4311: could not broadcast input array from shape (130,13,1) into shape (10,13,1)\n",
      "Error processing track 4312: could not broadcast input array from shape (130,13,1) into shape (10,13,1)\n"
     ]
    },
    {
     "name": "stderr",
     "output_type": "stream",
     "text": [
      "Processing tracks:   3%|█▌                                                         | 325/12114 [00:37<11:57, 16.43it/s]"
     ]
    },
    {
     "name": "stdout",
     "output_type": "stream",
     "text": [
      "Error processing track 4313: could not broadcast input array from shape (130,13,1) into shape (10,13,1)\n",
      "Track 4316 is shorter than expected 30 seconds, skipping.\n",
      "Error processing track 4330: could not broadcast input array from shape (130,13,1) into shape (10,13,1)\n",
      "Error processing track 4332: could not broadcast input array from shape (130,13,1) into shape (10,13,1)\n"
     ]
    },
    {
     "name": "stderr",
     "output_type": "stream",
     "text": [
      "Processing tracks:   3%|█▌                                                         | 329/12114 [00:37<12:22, 15.87it/s]"
     ]
    },
    {
     "name": "stdout",
     "output_type": "stream",
     "text": [
      "Track 4333 is shorter than expected 30 seconds, skipping.\n",
      "Error processing track 4346: could not broadcast input array from shape (130,13,1) into shape (10,13,1)\n",
      "Error processing track 4348: could not broadcast input array from shape (130,13,1) into shape (10,13,1)\n",
      "Error processing track 4363: could not broadcast input array from shape (130,13,1) into shape (10,13,1)\n"
     ]
    },
    {
     "name": "stderr",
     "output_type": "stream",
     "text": [
      "Processing tracks:   3%|█▌                                                         | 333/12114 [00:38<12:32, 15.66it/s]"
     ]
    },
    {
     "name": "stdout",
     "output_type": "stream",
     "text": [
      "Track 4368 is shorter than expected 30 seconds, skipping.\n",
      "Error processing track 4391: could not broadcast input array from shape (130,13,1) into shape (10,13,1)\n",
      "Error processing track 4394: could not broadcast input array from shape (130,13,1) into shape (10,13,1)\n",
      "Error processing track 4396: could not broadcast input array from shape (130,13,1) into shape (10,13,1)\n"
     ]
    },
    {
     "name": "stderr",
     "output_type": "stream",
     "text": [
      "Processing tracks:   3%|█▋                                                         | 337/12114 [00:38<11:55, 16.45it/s]"
     ]
    },
    {
     "name": "stdout",
     "output_type": "stream",
     "text": [
      "Track 4400 is shorter than expected 30 seconds, skipping.\n",
      "Track 4401 is shorter than expected 30 seconds, skipping.\n",
      "Track 4403 is shorter than expected 30 seconds, skipping.\n",
      "Error processing track 4407: could not broadcast input array from shape (130,13,1) into shape (10,13,1)\n"
     ]
    },
    {
     "name": "stderr",
     "output_type": "stream",
     "text": [
      "Processing tracks:   3%|█▋                                                         | 341/12114 [00:38<11:59, 16.36it/s]"
     ]
    },
    {
     "name": "stdout",
     "output_type": "stream",
     "text": [
      "Track 4408 is shorter than expected 30 seconds, skipping.\n",
      "Track 4409 is shorter than expected 30 seconds, skipping.\n",
      "Error processing track 4410: could not broadcast input array from shape (130,13,1) into shape (10,13,1)\n",
      "Track 4432 is shorter than expected 30 seconds, skipping.\n"
     ]
    },
    {
     "name": "stderr",
     "output_type": "stream",
     "text": [
      "Processing tracks:   3%|█▋                                                         | 345/12114 [00:38<12:07, 16.19it/s]"
     ]
    },
    {
     "name": "stdout",
     "output_type": "stream",
     "text": [
      "Error processing track 4443: could not broadcast input array from shape (130,13,1) into shape (10,13,1)\n",
      "Error processing track 4444: index can't contain negative values\n",
      "Track 4445 is shorter than expected 30 seconds, skipping.\n",
      "Track 4446 is shorter than expected 30 seconds, skipping.\n"
     ]
    },
    {
     "name": "stderr",
     "output_type": "stream",
     "text": [
      "Processing tracks:   3%|█▋                                                         | 349/12114 [00:39<11:47, 16.62it/s]"
     ]
    },
    {
     "name": "stdout",
     "output_type": "stream",
     "text": [
      "Track 4463 is shorter than expected 30 seconds, skipping.\n",
      "Error processing track 4466: could not broadcast input array from shape (130,13,1) into shape (10,13,1)\n",
      "Track 4468 is shorter than expected 30 seconds, skipping.\n",
      "Track 4469 is shorter than expected 30 seconds, skipping.\n"
     ]
    },
    {
     "name": "stderr",
     "output_type": "stream",
     "text": [
      "Processing tracks:   3%|█▋                                                         | 353/12114 [00:39<12:22, 15.83it/s]"
     ]
    },
    {
     "name": "stdout",
     "output_type": "stream",
     "text": [
      "Track 4484 is shorter than expected 30 seconds, skipping.\n",
      "Error processing track 4490: could not broadcast input array from shape (130,13,1) into shape (10,13,1)\n",
      "Error processing track 4492: could not broadcast input array from shape (130,13,1) into shape (10,13,1)\n",
      "Track 4683 is shorter than expected 30 seconds, skipping.\n"
     ]
    },
    {
     "name": "stderr",
     "output_type": "stream",
     "text": [
      "Processing tracks:   3%|█▋                                                         | 355/12114 [00:39<12:31, 15.66it/s]"
     ]
    },
    {
     "name": "stdout",
     "output_type": "stream",
     "text": [
      "Track 4686 is shorter than expected 30 seconds, skipping.\n",
      "Error processing track 4687: could not broadcast input array from shape (130,13,1) into shape (10,13,1)\n"
     ]
    },
    {
     "name": "stderr",
     "output_type": "stream",
     "text": [
      "Processing tracks:   3%|█▋                                                         | 359/12114 [00:40<21:07,  9.27it/s]"
     ]
    },
    {
     "name": "stdout",
     "output_type": "stream",
     "text": [
      "Error processing track 4691: could not broadcast input array from shape (130,13,1) into shape (10,13,1)\n",
      "Track 4692 is shorter than expected 30 seconds, skipping.\n",
      "Track 4695 is shorter than expected 30 seconds, skipping.\n",
      "Track 4698 is shorter than expected 30 seconds, skipping.\n"
     ]
    },
    {
     "name": "stderr",
     "output_type": "stream",
     "text": [
      "Processing tracks:   3%|█▊                                                         | 363/12114 [00:40<16:27, 11.90it/s]"
     ]
    },
    {
     "name": "stdout",
     "output_type": "stream",
     "text": [
      "Track 4699 is shorter than expected 30 seconds, skipping.\n",
      "Track 4700 is shorter than expected 30 seconds, skipping.\n",
      "Error processing track 4701: could not broadcast input array from shape (130,13,1) into shape (10,13,1)\n",
      "Track 4702 is shorter than expected 30 seconds, skipping.\n"
     ]
    },
    {
     "name": "stderr",
     "output_type": "stream",
     "text": [
      "Processing tracks:   3%|█▊                                                         | 365/12114 [00:41<31:58,  6.12it/s]"
     ]
    },
    {
     "name": "stdout",
     "output_type": "stream",
     "text": [
      "Error processing track 4703: index can't contain negative values\n",
      "Error processing track 4704: index can't contain negative values\n"
     ]
    },
    {
     "name": "stderr",
     "output_type": "stream",
     "text": [
      "Processing tracks:   3%|█▊                                                         | 369/12114 [00:42<43:04,  4.54it/s]"
     ]
    },
    {
     "name": "stdout",
     "output_type": "stream",
     "text": [
      "Error processing track 4705: index can't contain negative values\n",
      "Error processing track 4709: could not broadcast input array from shape (130,13,1) into shape (10,13,1)\n",
      "Track 4712 is shorter than expected 30 seconds, skipping.\n",
      "Error processing track 4752: could not broadcast input array from shape (130,13,1) into shape (10,13,1)\n"
     ]
    },
    {
     "name": "stderr",
     "output_type": "stream",
     "text": [
      "Processing tracks:   3%|█▊                                                         | 371/12114 [00:42<45:48,  4.27it/s]"
     ]
    },
    {
     "name": "stdout",
     "output_type": "stream",
     "text": [
      "Error processing track 4754: could not broadcast input array from shape (130,13,1) into shape (10,13,1)\n",
      "Track 4755 is shorter than expected 30 seconds, skipping.\n"
     ]
    },
    {
     "name": "stderr",
     "output_type": "stream",
     "text": [
      "Processing tracks:   3%|█▊                                                         | 375/12114 [00:43<40:30,  4.83it/s]"
     ]
    },
    {
     "name": "stdout",
     "output_type": "stream",
     "text": [
      "Error processing track 4756: could not broadcast input array from shape (130,13,1) into shape (10,13,1)\n",
      "Track 4757 is shorter than expected 30 seconds, skipping.\n",
      "Track 4759 is shorter than expected 30 seconds, skipping.\n",
      "Error processing track 4760: could not broadcast input array from shape (130,13,1) into shape (10,13,1)\n"
     ]
    },
    {
     "name": "stderr",
     "output_type": "stream",
     "text": [
      "Processing tracks:   3%|█▊                                                         | 379/12114 [00:43<25:36,  7.64it/s]"
     ]
    },
    {
     "name": "stdout",
     "output_type": "stream",
     "text": [
      "Track 4761 is shorter than expected 30 seconds, skipping.\n",
      "Track 4762 is shorter than expected 30 seconds, skipping.\n",
      "Track 4763 is shorter than expected 30 seconds, skipping.\n",
      "Track 4764 is shorter than expected 30 seconds, skipping.\n"
     ]
    },
    {
     "name": "stderr",
     "output_type": "stream",
     "text": [
      "Processing tracks:   3%|█▊                                                         | 383/12114 [00:44<18:15, 10.71it/s]"
     ]
    },
    {
     "name": "stdout",
     "output_type": "stream",
     "text": [
      "Track 4765 is shorter than expected 30 seconds, skipping.\n",
      "Track 4766 is shorter than expected 30 seconds, skipping.\n",
      "Error processing track 4767: could not broadcast input array from shape (130,13,1) into shape (10,13,1)\n",
      "Error processing track 4768: could not broadcast input array from shape (130,13,1) into shape (10,13,1)\n"
     ]
    },
    {
     "name": "stderr",
     "output_type": "stream",
     "text": [
      "Processing tracks:   3%|█▉                                                         | 387/12114 [00:44<15:37, 12.50it/s]"
     ]
    },
    {
     "name": "stdout",
     "output_type": "stream",
     "text": [
      "Track 4769 is shorter than expected 30 seconds, skipping.\n",
      "Error processing track 4771: could not broadcast input array from shape (130,13,1) into shape (10,13,1)\n",
      "Track 4783 is shorter than expected 30 seconds, skipping.\n",
      "Error processing track 4791: could not broadcast input array from shape (130,13,1) into shape (10,13,1)\n"
     ]
    },
    {
     "name": "stderr",
     "output_type": "stream",
     "text": [
      "Processing tracks:   3%|█▉                                                         | 391/12114 [00:44<14:02, 13.92it/s]"
     ]
    },
    {
     "name": "stdout",
     "output_type": "stream",
     "text": [
      "Track 4793 is shorter than expected 30 seconds, skipping.\n",
      "Error processing track 4798: could not broadcast input array from shape (130,13,1) into shape (10,13,1)\n",
      "Track 4800 is shorter than expected 30 seconds, skipping.\n",
      "Track 4801 is shorter than expected 30 seconds, skipping.\n"
     ]
    },
    {
     "name": "stderr",
     "output_type": "stream",
     "text": [
      "Processing tracks:   3%|█▉                                                         | 395/12114 [00:44<13:08, 14.87it/s]"
     ]
    },
    {
     "name": "stdout",
     "output_type": "stream",
     "text": [
      "Track 4802 is shorter than expected 30 seconds, skipping.\n",
      "Error processing track 4803: could not broadcast input array from shape (130,13,1) into shape (10,13,1)\n",
      "Error processing track 4837: could not broadcast input array from shape (130,13,1) into shape (10,13,1)\n",
      "Error processing track 4840: could not broadcast input array from shape (130,13,1) into shape (10,13,1)\n"
     ]
    },
    {
     "name": "stderr",
     "output_type": "stream",
     "text": [
      "Processing tracks:   3%|█▉                                                         | 399/12114 [00:45<12:42, 15.36it/s]"
     ]
    },
    {
     "name": "stdout",
     "output_type": "stream",
     "text": [
      "Track 4841 is shorter than expected 30 seconds, skipping.\n",
      "Track 4996 is shorter than expected 30 seconds, skipping.\n",
      "Track 4999 is shorter than expected 30 seconds, skipping.\n",
      "Error processing track 5002: could not broadcast input array from shape (130,13,1) into shape (10,13,1)\n"
     ]
    },
    {
     "name": "stderr",
     "output_type": "stream",
     "text": [
      "Processing tracks:   3%|█▉                                                         | 403/12114 [00:45<12:11, 16.02it/s]"
     ]
    },
    {
     "name": "stdout",
     "output_type": "stream",
     "text": [
      "Track 5003 is shorter than expected 30 seconds, skipping.\n",
      "Track 5007 is shorter than expected 30 seconds, skipping.\n",
      "Track 5104 is shorter than expected 30 seconds, skipping.\n",
      "Track 5106 is shorter than expected 30 seconds, skipping.\n"
     ]
    },
    {
     "name": "stderr",
     "output_type": "stream",
     "text": [
      "Processing tracks:   3%|█▉                                                         | 409/12114 [00:46<18:31, 10.53it/s]"
     ]
    },
    {
     "name": "stdout",
     "output_type": "stream",
     "text": [
      "Error processing track 5107: index can't contain negative values\n",
      "Track 5119 is shorter than expected 30 seconds, skipping.\n",
      "Track 5120 is shorter than expected 30 seconds, skipping.\n",
      "Track 5140 is shorter than expected 30 seconds, skipping.\n",
      "Track 5141 is shorter than expected 30 seconds, skipping.\n"
     ]
    },
    {
     "name": "stderr",
     "output_type": "stream",
     "text": [
      "Processing tracks:   3%|██                                                         | 413/12114 [00:46<14:26, 13.50it/s]"
     ]
    },
    {
     "name": "stdout",
     "output_type": "stream",
     "text": [
      "Track 5147 is shorter than expected 30 seconds, skipping.\n",
      "Track 5148 is shorter than expected 30 seconds, skipping.\n",
      "Track 5149 is shorter than expected 30 seconds, skipping.\n",
      "Track 5151 is shorter than expected 30 seconds, skipping.\n"
     ]
    },
    {
     "name": "stderr",
     "output_type": "stream",
     "text": [
      "Processing tracks:   3%|██                                                         | 417/12114 [00:46<12:56, 15.07it/s]"
     ]
    },
    {
     "name": "stdout",
     "output_type": "stream",
     "text": [
      "Track 5152 is shorter than expected 30 seconds, skipping.\n",
      "Track 5153 is shorter than expected 30 seconds, skipping.\n",
      "Error processing track 5160: could not broadcast input array from shape (130,13,1) into shape (10,13,1)\n",
      "Error processing track 5162: could not broadcast input array from shape (130,13,1) into shape (10,13,1)\n"
     ]
    },
    {
     "name": "stderr",
     "output_type": "stream",
     "text": [
      "Processing tracks:   3%|██                                                         | 421/12114 [00:46<12:07, 16.08it/s]"
     ]
    },
    {
     "name": "stdout",
     "output_type": "stream",
     "text": [
      "Track 5219 is shorter than expected 30 seconds, skipping.\n",
      "Track 5220 is shorter than expected 30 seconds, skipping.\n",
      "Error processing track 5221: could not broadcast input array from shape (130,13,1) into shape (10,13,1)\n",
      "Track 5222 is shorter than expected 30 seconds, skipping.\n"
     ]
    },
    {
     "name": "stderr",
     "output_type": "stream",
     "text": [
      "Processing tracks:   4%|██                                                         | 425/12114 [00:47<11:49, 16.47it/s]"
     ]
    },
    {
     "name": "stdout",
     "output_type": "stream",
     "text": [
      "Error processing track 5223: could not broadcast input array from shape (130,13,1) into shape (10,13,1)\n",
      "Track 5224 is shorter than expected 30 seconds, skipping.\n",
      "Track 5226 is shorter than expected 30 seconds, skipping.\n",
      "Error processing track 5227: could not broadcast input array from shape (130,13,1) into shape (10,13,1)\n"
     ]
    },
    {
     "name": "stderr",
     "output_type": "stream",
     "text": [
      "Processing tracks:   4%|██                                                         | 427/12114 [00:47<11:50, 16.44it/s]"
     ]
    },
    {
     "name": "stdout",
     "output_type": "stream",
     "text": [
      "Track 5265 is shorter than expected 30 seconds, skipping.\n",
      "Track 5267 is shorter than expected 30 seconds, skipping.\n"
     ]
    },
    {
     "name": "stderr",
     "output_type": "stream",
     "text": [
      "Processing tracks:   4%|██                                                         | 429/12114 [00:47<18:53, 10.31it/s]"
     ]
    },
    {
     "name": "stdout",
     "output_type": "stream",
     "text": [
      "Error processing track 5269: could not broadcast input array from shape (130,13,1) into shape (10,13,1)\n",
      "Track 5270 is shorter than expected 30 seconds, skipping.\n",
      "Error processing track 5273: could not broadcast input array from shape (130,13,1) into shape (10,13,1)\n"
     ]
    },
    {
     "name": "stderr",
     "output_type": "stream",
     "text": [
      "Processing tracks:   4%|██                                                         | 433/12114 [00:47<15:37, 12.47it/s]"
     ]
    },
    {
     "name": "stdout",
     "output_type": "stream",
     "text": [
      "Track 5283 is shorter than expected 30 seconds, skipping.\n",
      "Error processing track 5284: could not broadcast input array from shape (130,13,1) into shape (10,13,1)\n",
      "Track 5285 is shorter than expected 30 seconds, skipping.\n",
      "Error processing track 5286: could not broadcast input array from shape (130,13,1) into shape (10,13,1)\n"
     ]
    },
    {
     "name": "stderr",
     "output_type": "stream",
     "text": [
      "Processing tracks:   4%|██▏                                                        | 437/12114 [00:48<14:03, 13.85it/s]"
     ]
    },
    {
     "name": "stdout",
     "output_type": "stream",
     "text": [
      "Track 5337 is shorter than expected 30 seconds, skipping.\n",
      "Track 5340 is shorter than expected 30 seconds, skipping.\n",
      "Track 5341 is shorter than expected 30 seconds, skipping.\n"
     ]
    },
    {
     "name": "stderr",
     "output_type": "stream",
     "text": [
      "Processing tracks:   4%|██▏                                                        | 441/12114 [00:48<16:03, 12.12it/s]"
     ]
    },
    {
     "name": "stdout",
     "output_type": "stream",
     "text": [
      "Error processing track 5342: could not broadcast input array from shape (130,13,1) into shape (10,13,1)\n",
      "Track 5343 is shorter than expected 30 seconds, skipping.\n",
      "Track 5344 is shorter than expected 30 seconds, skipping.\n",
      "Track 5345 is shorter than expected 30 seconds, skipping.\n"
     ]
    },
    {
     "name": "stderr",
     "output_type": "stream",
     "text": [
      "Processing tracks:   4%|██▏                                                        | 443/12114 [00:48<14:33, 13.36it/s]"
     ]
    },
    {
     "name": "stdout",
     "output_type": "stream",
     "text": [
      "Track 5346 is shorter than expected 30 seconds, skipping.\n",
      "Track 5348 is shorter than expected 30 seconds, skipping.\n",
      "Track 5354 is shorter than expected 30 seconds, skipping.\n"
     ]
    },
    {
     "name": "stderr",
     "output_type": "stream",
     "text": [
      "Processing tracks:   4%|██▏                                                        | 447/12114 [00:49<15:42, 12.38it/s]"
     ]
    },
    {
     "name": "stdout",
     "output_type": "stream",
     "text": [
      "Error processing track 5371: could not broadcast input array from shape (130,13,1) into shape (10,13,1)\n",
      "Track 5377 is shorter than expected 30 seconds, skipping.\n",
      "Track 5378 is shorter than expected 30 seconds, skipping.\n",
      "Error processing track 5379: index can't contain negative values\n"
     ]
    },
    {
     "name": "stderr",
     "output_type": "stream",
     "text": [
      "Processing tracks:   4%|██▏                                                        | 451/12114 [00:50<42:31,  4.57it/s]"
     ]
    },
    {
     "name": "stdout",
     "output_type": "stream",
     "text": [
      "Error processing track 5380: could not broadcast input array from shape (130,13,1) into shape (10,13,1)\n",
      "Track 5399 is shorter than expected 30 seconds, skipping.\n",
      "Track 5440 is shorter than expected 30 seconds, skipping.\n",
      "Error processing track 5531: index can't contain negative values\n"
     ]
    },
    {
     "name": "stderr",
     "output_type": "stream",
     "text": [
      "Processing tracks:   4%|██▏                                                      | 453/12114 [00:52<1:06:59,  2.90it/s]"
     ]
    },
    {
     "name": "stdout",
     "output_type": "stream",
     "text": [
      "Error processing track 5533: could not broadcast input array from shape (130,13,1) into shape (10,13,1)\n",
      "Track 5534 is shorter than expected 30 seconds, skipping.\n"
     ]
    },
    {
     "name": "stderr",
     "output_type": "stream",
     "text": [
      "Processing tracks:   4%|██▏                                                        | 457/12114 [00:52<43:01,  4.52it/s]"
     ]
    },
    {
     "name": "stdout",
     "output_type": "stream",
     "text": [
      "Error processing track 5535: could not broadcast input array from shape (130,13,1) into shape (10,13,1)\n",
      "Track 5939 is shorter than expected 30 seconds, skipping.\n",
      "Error processing track 6274: could not broadcast input array from shape (130,13,1) into shape (10,13,1)\n"
     ]
    },
    {
     "name": "stderr",
     "output_type": "stream",
     "text": [
      "Processing tracks:   4%|██▏                                                        | 461/12114 [00:52<27:22,  7.09it/s]"
     ]
    },
    {
     "name": "stdout",
     "output_type": "stream",
     "text": [
      "Track 6275 is shorter than expected 30 seconds, skipping.\n",
      "Track 6276 is shorter than expected 30 seconds, skipping.\n",
      "Error processing track 6523: index can't contain negative values\n",
      "Track 6524 is shorter than expected 30 seconds, skipping.\n"
     ]
    },
    {
     "name": "stderr",
     "output_type": "stream",
     "text": [
      "Processing tracks:   4%|██▎                                                        | 465/12114 [00:52<18:54, 10.27it/s]"
     ]
    },
    {
     "name": "stdout",
     "output_type": "stream",
     "text": [
      "Track 6525 is shorter than expected 30 seconds, skipping.\n",
      "Track 6527 is shorter than expected 30 seconds, skipping.\n",
      "Track 6528 is shorter than expected 30 seconds, skipping.\n",
      "Error processing track 6529: could not broadcast input array from shape (130,13,1) into shape (10,13,1)\n"
     ]
    },
    {
     "name": "stderr",
     "output_type": "stream",
     "text": [
      "Processing tracks:   4%|██▎                                                        | 467/12114 [00:53<17:25, 11.14it/s]"
     ]
    },
    {
     "name": "stdout",
     "output_type": "stream",
     "text": [
      "Track 6530 is shorter than expected 30 seconds, skipping.\n",
      "Error processing track 6532: could not broadcast input array from shape (130,13,1) into shape (10,13,1)\n",
      "Error processing track 6533: could not broadcast input array from shape (130,13,1) into shape (10,13,1)\n"
     ]
    },
    {
     "name": "stderr",
     "output_type": "stream",
     "text": [
      "Processing tracks:   4%|██▎                                                        | 471/12114 [00:53<15:12, 12.75it/s]"
     ]
    },
    {
     "name": "stdout",
     "output_type": "stream",
     "text": [
      "Error processing track 6534: could not broadcast input array from shape (130,13,1) into shape (10,13,1)\n",
      "Track 6536 is shorter than expected 30 seconds, skipping.\n",
      "Track 6537 is shorter than expected 30 seconds, skipping.\n",
      "Track 6584 is shorter than expected 30 seconds, skipping.\n"
     ]
    },
    {
     "name": "stderr",
     "output_type": "stream",
     "text": [
      "Processing tracks:   4%|██▎                                                        | 475/12114 [00:53<13:02, 14.87it/s]"
     ]
    },
    {
     "name": "stdout",
     "output_type": "stream",
     "text": [
      "Track 6592 is shorter than expected 30 seconds, skipping.\n",
      "Track 6627 is shorter than expected 30 seconds, skipping.\n",
      "Error processing track 6630: could not broadcast input array from shape (130,13,1) into shape (10,13,1)\n",
      "Track 6631 is shorter than expected 30 seconds, skipping.\n"
     ]
    },
    {
     "name": "stderr",
     "output_type": "stream",
     "text": [
      "Processing tracks:   4%|██▎                                                        | 479/12114 [00:53<13:03, 14.85it/s]"
     ]
    },
    {
     "name": "stdout",
     "output_type": "stream",
     "text": [
      "Error processing track 6632: could not broadcast input array from shape (130,13,1) into shape (10,13,1)\n",
      "Track 6633 is shorter than expected 30 seconds, skipping.\n",
      "Error processing track 6635: could not broadcast input array from shape (130,13,1) into shape (10,13,1)\n"
     ]
    },
    {
     "name": "stderr",
     "output_type": "stream",
     "text": [
      "Processing tracks:   4%|██▎                                                        | 483/12114 [00:54<20:09,  9.62it/s]"
     ]
    },
    {
     "name": "stdout",
     "output_type": "stream",
     "text": [
      "Error processing track 6637: index can't contain negative values\n",
      "Track 6640 is shorter than expected 30 seconds, skipping.\n",
      "Track 6654 is shorter than expected 30 seconds, skipping.\n",
      "Track 6655 is shorter than expected 30 seconds, skipping.\n",
      "Track 6656 is shorter than expected 30 seconds, skipping.\n"
     ]
    },
    {
     "name": "stderr",
     "output_type": "stream",
     "text": [
      "Processing tracks:   4%|██▎                                                        | 487/12114 [00:54<16:37, 11.65it/s]"
     ]
    },
    {
     "name": "stdout",
     "output_type": "stream",
     "text": [
      "Error processing track 6657: could not broadcast input array from shape (130,13,1) into shape (10,13,1)\n",
      "Error processing track 6658: could not broadcast input array from shape (130,13,1) into shape (10,13,1)\n",
      "Error processing track 6660: could not broadcast input array from shape (130,13,1) into shape (10,13,1)\n",
      "Error processing track 6661: could not broadcast input array from shape (130,13,1) into shape (10,13,1)\n"
     ]
    },
    {
     "name": "stderr",
     "output_type": "stream",
     "text": [
      "Processing tracks:   4%|██▍                                                        | 491/12114 [00:55<22:52,  8.47it/s]"
     ]
    },
    {
     "name": "stdout",
     "output_type": "stream",
     "text": [
      "Error processing track 6662: could not broadcast input array from shape (130,13,1) into shape (10,13,1)\n",
      "Track 6663 is shorter than expected 30 seconds, skipping.\n",
      "Error processing track 6664: could not broadcast input array from shape (130,13,1) into shape (10,13,1)\n",
      "Track 6666 is shorter than expected 30 seconds, skipping.\n"
     ]
    },
    {
     "name": "stderr",
     "output_type": "stream",
     "text": [
      "Processing tracks:   4%|██▍                                                        | 495/12114 [00:55<17:48, 10.87it/s]"
     ]
    },
    {
     "name": "stdout",
     "output_type": "stream",
     "text": [
      "Track 6669 is shorter than expected 30 seconds, skipping.\n",
      "Error processing track 6671: could not broadcast input array from shape (130,13,1) into shape (10,13,1)\n",
      "Error processing track 6672: could not broadcast input array from shape (130,13,1) into shape (10,13,1)\n",
      "Track 6673 is shorter than expected 30 seconds, skipping.\n"
     ]
    },
    {
     "name": "stderr",
     "output_type": "stream",
     "text": [
      "Processing tracks:   4%|██▍                                                        | 499/12114 [00:55<14:34, 13.29it/s]"
     ]
    },
    {
     "name": "stdout",
     "output_type": "stream",
     "text": [
      "Error processing track 6716: could not broadcast input array from shape (130,13,1) into shape (10,13,1)\n",
      "Track 6717 is shorter than expected 30 seconds, skipping.\n",
      "Track 6718 is shorter than expected 30 seconds, skipping.\n",
      "Track 6719 is shorter than expected 30 seconds, skipping.\n"
     ]
    },
    {
     "name": "stderr",
     "output_type": "stream",
     "text": [
      "Processing tracks:   4%|██▍                                                        | 503/12114 [00:56<14:04, 13.75it/s]"
     ]
    },
    {
     "name": "stdout",
     "output_type": "stream",
     "text": [
      "Error processing track 6734: could not broadcast input array from shape (130,13,1) into shape (10,13,1)\n",
      "Error processing track 6735: could not broadcast input array from shape (130,13,1) into shape (10,13,1)\n",
      "Error processing track 6752: could not broadcast input array from shape (130,13,1) into shape (10,13,1)\n",
      "Track 6753 is shorter than expected 30 seconds, skipping.\n"
     ]
    },
    {
     "name": "stderr",
     "output_type": "stream",
     "text": [
      "Processing tracks:   4%|██▍                                                        | 505/12114 [00:56<19:38,  9.85it/s]"
     ]
    },
    {
     "name": "stdout",
     "output_type": "stream",
     "text": [
      "Error processing track 6755: could not broadcast input array from shape (130,13,1) into shape (10,13,1)\n"
     ]
    },
    {
     "name": "stderr",
     "output_type": "stream",
     "text": [
      "Processing tracks:   4%|██▍                                                        | 509/12114 [00:57<20:26,  9.47it/s]"
     ]
    },
    {
     "name": "stdout",
     "output_type": "stream",
     "text": [
      "Error processing track 6757: could not broadcast input array from shape (130,13,1) into shape (10,13,1)\n",
      "Error processing track 6758: could not broadcast input array from shape (130,13,1) into shape (10,13,1)\n",
      "Error processing track 6759: index can't contain negative values\n",
      "Error processing track 6760: could not broadcast input array from shape (130,13,1) into shape (10,13,1)\n"
     ]
    },
    {
     "name": "stderr",
     "output_type": "stream",
     "text": [
      "Processing tracks:   4%|██▍                                                        | 513/12114 [00:57<20:49,  9.29it/s]"
     ]
    },
    {
     "name": "stdout",
     "output_type": "stream",
     "text": [
      "Error processing track 6761: could not broadcast input array from shape (130,13,1) into shape (10,13,1)\n",
      "Track 6765 is shorter than expected 30 seconds, skipping.\n",
      "Error processing track 6770: could not broadcast input array from shape (130,13,1) into shape (10,13,1)\n",
      "Track 6777 is shorter than expected 30 seconds, skipping.\n"
     ]
    },
    {
     "name": "stderr",
     "output_type": "stream",
     "text": [
      "Processing tracks:   4%|██▌                                                        | 517/12114 [00:57<16:19, 11.84it/s]"
     ]
    },
    {
     "name": "stdout",
     "output_type": "stream",
     "text": [
      "Track 6831 is shorter than expected 30 seconds, skipping.\n",
      "Error processing track 6832: could not broadcast input array from shape (130,13,1) into shape (10,13,1)\n",
      "Track 6850 is shorter than expected 30 seconds, skipping.\n",
      "Error processing track 6859: index can't contain negative values\n",
      "Track 6880 is shorter than expected 30 seconds, skipping.\n"
     ]
    },
    {
     "name": "stderr",
     "output_type": "stream",
     "text": [
      "Processing tracks:   4%|██▌                                                        | 519/12114 [00:58<23:10,  8.34it/s]"
     ]
    },
    {
     "name": "stdout",
     "output_type": "stream",
     "text": [
      "Error processing track 7121: index can't contain negative values\n"
     ]
    },
    {
     "name": "stderr",
     "output_type": "stream",
     "text": [
      "Processing tracks:   4%|██▌                                                        | 523/12114 [00:58<28:20,  6.82it/s]"
     ]
    },
    {
     "name": "stdout",
     "output_type": "stream",
     "text": [
      "Error processing track 7123: index can't contain negative values\n",
      "Track 7208 is shorter than expected 30 seconds, skipping.\n",
      "Track 7210 is shorter than expected 30 seconds, skipping.\n",
      "Error processing track 7211: could not broadcast input array from shape (130,13,1) into shape (10,13,1)\n"
     ]
    },
    {
     "name": "stderr",
     "output_type": "stream",
     "text": [
      "Processing tracks:   4%|██▌                                                        | 527/12114 [00:59<20:23,  9.47it/s]"
     ]
    },
    {
     "name": "stdout",
     "output_type": "stream",
     "text": [
      "Error processing track 7213: could not broadcast input array from shape (130,13,1) into shape (10,13,1)\n",
      "Track 7259 is shorter than expected 30 seconds, skipping.\n",
      "Error processing track 7262: could not broadcast input array from shape (130,13,1) into shape (10,13,1)\n",
      "Track 7450 is shorter than expected 30 seconds, skipping.\n"
     ]
    },
    {
     "name": "stderr",
     "output_type": "stream",
     "text": [
      "Processing tracks:   4%|██▌                                                        | 531/12114 [00:59<15:58, 12.08it/s]"
     ]
    },
    {
     "name": "stdout",
     "output_type": "stream",
     "text": [
      "Track 7451 is shorter than expected 30 seconds, skipping.\n",
      "Error processing track 7452: could not broadcast input array from shape (130,13,1) into shape (10,13,1)\n",
      "Track 7453 is shorter than expected 30 seconds, skipping.\n",
      "Error processing track 7455: could not broadcast input array from shape (130,13,1) into shape (10,13,1)\n"
     ]
    },
    {
     "name": "stderr",
     "output_type": "stream",
     "text": [
      "Processing tracks:   4%|██▌                                                        | 535/12114 [00:59<13:36, 14.19it/s]"
     ]
    },
    {
     "name": "stdout",
     "output_type": "stream",
     "text": [
      "Error processing track 7456: could not broadcast input array from shape (130,13,1) into shape (10,13,1)\n",
      "Error processing track 7457: could not broadcast input array from shape (130,13,1) into shape (10,13,1)\n",
      "Track 7459 is shorter than expected 30 seconds, skipping.\n",
      "Track 7460 is shorter than expected 30 seconds, skipping.\n"
     ]
    },
    {
     "name": "stderr",
     "output_type": "stream",
     "text": [
      "Processing tracks:   4%|██▋                                                        | 539/12114 [00:59<12:02, 16.02it/s]"
     ]
    },
    {
     "name": "stdout",
     "output_type": "stream",
     "text": [
      "Track 7475 is shorter than expected 30 seconds, skipping.\n",
      "Track 7494 is shorter than expected 30 seconds, skipping.\n",
      "Track 7498 is shorter than expected 30 seconds, skipping.\n",
      "Track 7502 is shorter than expected 30 seconds, skipping.\n"
     ]
    },
    {
     "name": "stderr",
     "output_type": "stream",
     "text": [
      "Processing tracks:   4%|██▋                                                        | 541/12114 [01:00<11:41, 16.49it/s]"
     ]
    },
    {
     "name": "stdout",
     "output_type": "stream",
     "text": [
      "Error processing track 7549: index can't contain negative values\n",
      "Track 7550 is shorter than expected 30 seconds, skipping.\n",
      "Track 7551 is shorter than expected 30 seconds, skipping.\n"
     ]
    },
    {
     "name": "stderr",
     "output_type": "stream",
     "text": [
      "Processing tracks:   4%|██▋                                                        | 543/12114 [01:00<16:31, 11.67it/s]"
     ]
    },
    {
     "name": "stdout",
     "output_type": "stream",
     "text": [
      "Error processing track 7552: index can't contain negative values\n"
     ]
    },
    {
     "name": "stderr",
     "output_type": "stream",
     "text": [
      "Processing tracks:   4%|██▋                                                        | 545/12114 [01:00<23:42,  8.13it/s]"
     ]
    },
    {
     "name": "stdout",
     "output_type": "stream",
     "text": [
      "Error processing track 7553: index can't contain negative values\n",
      "Track 7555 is shorter than expected 30 seconds, skipping.\n",
      "Track 7556 is shorter than expected 30 seconds, skipping.\n"
     ]
    },
    {
     "name": "stderr",
     "output_type": "stream",
     "text": [
      "Processing tracks:   5%|██▋                                                        | 549/12114 [01:01<28:46,  6.70it/s]"
     ]
    },
    {
     "name": "stdout",
     "output_type": "stream",
     "text": [
      "Error processing track 7714: could not broadcast input array from shape (130,13,1) into shape (10,13,1)\n",
      "Error processing track 7864: could not broadcast input array from shape (130,13,1) into shape (10,13,1)\n",
      "Error processing track 7865: could not broadcast input array from shape (130,13,1) into shape (10,13,1)\n",
      "Track 7866 is shorter than expected 30 seconds, skipping.\n"
     ]
    },
    {
     "name": "stderr",
     "output_type": "stream",
     "text": [
      "Processing tracks:   5%|██▋                                                        | 553/12114 [01:01<19:54,  9.68it/s]"
     ]
    },
    {
     "name": "stdout",
     "output_type": "stream",
     "text": [
      "Error processing track 7867: could not broadcast input array from shape (130,13,1) into shape (10,13,1)\n",
      "Track 7868 is shorter than expected 30 seconds, skipping.\n",
      "Track 7869 is shorter than expected 30 seconds, skipping.\n",
      "Error processing track 7870: could not broadcast input array from shape (130,13,1) into shape (10,13,1)\n"
     ]
    },
    {
     "name": "stderr",
     "output_type": "stream",
     "text": [
      "Processing tracks:   5%|██▋                                                        | 557/12114 [01:02<16:06, 11.95it/s]"
     ]
    },
    {
     "name": "stdout",
     "output_type": "stream",
     "text": [
      "Error processing track 7871: could not broadcast input array from shape (130,13,1) into shape (10,13,1)\n",
      "Error processing track 7873: could not broadcast input array from shape (130,13,1) into shape (10,13,1)\n",
      "Track 7874 is shorter than expected 30 seconds, skipping.\n",
      "Track 7875 is shorter than expected 30 seconds, skipping.\n"
     ]
    },
    {
     "name": "stderr",
     "output_type": "stream",
     "text": [
      "Processing tracks:   5%|██▋                                                        | 561/12114 [01:02<14:04, 13.69it/s]"
     ]
    },
    {
     "name": "stdout",
     "output_type": "stream",
     "text": [
      "Error processing track 7876: could not broadcast input array from shape (130,13,1) into shape (10,13,1)\n",
      "Error processing track 8017: could not broadcast input array from shape (130,13,1) into shape (10,13,1)\n",
      "Track 8023 is shorter than expected 30 seconds, skipping.\n",
      "Error processing track 8044: could not broadcast input array from shape (130,13,1) into shape (10,13,1)\n"
     ]
    },
    {
     "name": "stderr",
     "output_type": "stream",
     "text": [
      "Processing tracks:   5%|██▊                                                        | 565/12114 [01:02<13:25, 14.33it/s]"
     ]
    },
    {
     "name": "stdout",
     "output_type": "stream",
     "text": [
      "Error processing track 8057: could not broadcast input array from shape (130,13,1) into shape (10,13,1)\n",
      "Error processing track 8058: could not broadcast input array from shape (130,13,1) into shape (10,13,1)\n",
      "Error processing track 8059: could not broadcast input array from shape (130,13,1) into shape (10,13,1)\n",
      "Error processing track 8061: could not broadcast input array from shape (130,13,1) into shape (10,13,1)\n"
     ]
    },
    {
     "name": "stderr",
     "output_type": "stream",
     "text": [
      "Processing tracks:   5%|██▊                                                        | 569/12114 [01:02<12:19, 15.62it/s]"
     ]
    },
    {
     "name": "stdout",
     "output_type": "stream",
     "text": [
      "Error processing track 8064: could not broadcast input array from shape (130,13,1) into shape (10,13,1)\n",
      "Track 8080 is shorter than expected 30 seconds, skipping.\n",
      "Track 8081 is shorter than expected 30 seconds, skipping.\n",
      "Error processing track 8209: could not broadcast input array from shape (130,13,1) into shape (10,13,1)\n"
     ]
    },
    {
     "name": "stderr",
     "output_type": "stream",
     "text": [
      "Processing tracks:   5%|██▊                                                        | 573/12114 [01:03<12:08, 15.85it/s]"
     ]
    },
    {
     "name": "stdout",
     "output_type": "stream",
     "text": [
      "Error processing track 8210: could not broadcast input array from shape (130,13,1) into shape (10,13,1)\n",
      "Track 8211 is shorter than expected 30 seconds, skipping.\n",
      "Error processing track 8212: could not broadcast input array from shape (130,13,1) into shape (10,13,1)\n",
      "Track 8213 is shorter than expected 30 seconds, skipping.\n"
     ]
    },
    {
     "name": "stderr",
     "output_type": "stream",
     "text": [
      "Processing tracks:   5%|██▊                                                        | 577/12114 [01:03<12:13, 15.73it/s]"
     ]
    },
    {
     "name": "stdout",
     "output_type": "stream",
     "text": [
      "Track 8214 is shorter than expected 30 seconds, skipping.\n",
      "Track 8215 is shorter than expected 30 seconds, skipping.\n",
      "Error processing track 8216: could not broadcast input array from shape (130,13,1) into shape (10,13,1)\n",
      "Track 8257 is shorter than expected 30 seconds, skipping.\n"
     ]
    },
    {
     "name": "stderr",
     "output_type": "stream",
     "text": [
      "Processing tracks:   5%|██▊                                                        | 579/12114 [01:03<12:07, 15.85it/s]"
     ]
    },
    {
     "name": "stdout",
     "output_type": "stream",
     "text": [
      "Track 8258 is shorter than expected 30 seconds, skipping.\n",
      "Error processing track 8260: index can't contain negative values\n"
     ]
    },
    {
     "name": "stderr",
     "output_type": "stream",
     "text": [
      "Processing tracks:   5%|██▊                                                        | 583/12114 [01:04<32:01,  6.00it/s]"
     ]
    },
    {
     "name": "stdout",
     "output_type": "stream",
     "text": [
      "Error processing track 8269: could not broadcast input array from shape (130,13,1) into shape (10,13,1)\n",
      "Track 8270 is shorter than expected 30 seconds, skipping.\n",
      "Error processing track 8279: could not broadcast input array from shape (130,13,1) into shape (10,13,1)\n",
      "Track 8280 is shorter than expected 30 seconds, skipping.\n"
     ]
    },
    {
     "name": "stderr",
     "output_type": "stream",
     "text": [
      "Processing tracks:   5%|██▊                                                        | 587/12114 [01:05<26:56,  7.13it/s]"
     ]
    },
    {
     "name": "stdout",
     "output_type": "stream",
     "text": [
      "Error processing track 8339: could not broadcast input array from shape (130,13,1) into shape (10,13,1)\n",
      "Track 8349 is shorter than expected 30 seconds, skipping.\n",
      "Track 8358 is shorter than expected 30 seconds, skipping.\n",
      "Track 8364 is shorter than expected 30 seconds, skipping.\n"
     ]
    },
    {
     "name": "stderr",
     "output_type": "stream",
     "text": [
      "Processing tracks:   5%|██▉                                                        | 591/12114 [01:05<23:29,  8.17it/s]"
     ]
    },
    {
     "name": "stdout",
     "output_type": "stream",
     "text": [
      "Error processing track 8370: index can't contain negative values\n",
      "Track 8375 is shorter than expected 30 seconds, skipping.\n",
      "Error processing track 8376: could not broadcast input array from shape (130,13,1) into shape (10,13,1)\n"
     ]
    },
    {
     "name": "stderr",
     "output_type": "stream",
     "text": [
      "Processing tracks:   5%|██▉                                                        | 595/12114 [01:05<17:31, 10.96it/s]"
     ]
    },
    {
     "name": "stdout",
     "output_type": "stream",
     "text": [
      "Track 8377 is shorter than expected 30 seconds, skipping.\n",
      "Track 8378 is shorter than expected 30 seconds, skipping.\n",
      "Track 8450 is shorter than expected 30 seconds, skipping.\n",
      "Error processing track 8451: could not broadcast input array from shape (130,13,1) into shape (10,13,1)\n"
     ]
    },
    {
     "name": "stderr",
     "output_type": "stream",
     "text": [
      "Processing tracks:   5%|██▉                                                        | 599/12114 [01:06<14:24, 13.31it/s]"
     ]
    },
    {
     "name": "stdout",
     "output_type": "stream",
     "text": [
      "Track 8452 is shorter than expected 30 seconds, skipping.\n",
      "Error processing track 8453: could not broadcast input array from shape (130,13,1) into shape (10,13,1)\n",
      "Track 8454 is shorter than expected 30 seconds, skipping.\n",
      "Track 8455 is shorter than expected 30 seconds, skipping.\n"
     ]
    },
    {
     "name": "stderr",
     "output_type": "stream",
     "text": [
      "Processing tracks:   5%|██▉                                                        | 603/12114 [01:06<13:12, 14.52it/s]"
     ]
    },
    {
     "name": "stdout",
     "output_type": "stream",
     "text": [
      "Track 8489 is shorter than expected 30 seconds, skipping.\n",
      "Error processing track 8490: could not broadcast input array from shape (130,13,1) into shape (10,13,1)\n",
      "Error processing track 8491: could not broadcast input array from shape (130,13,1) into shape (10,13,1)\n",
      "Error processing track 8494: could not broadcast input array from shape (130,13,1) into shape (10,13,1)\n"
     ]
    },
    {
     "name": "stderr",
     "output_type": "stream",
     "text": [
      "Processing tracks:   5%|██▉                                                        | 607/12114 [01:06<11:55, 16.08it/s]"
     ]
    },
    {
     "name": "stdout",
     "output_type": "stream",
     "text": [
      "Track 8497 is shorter than expected 30 seconds, skipping.\n",
      "Track 8514 is shorter than expected 30 seconds, skipping.\n",
      "Error processing track 8531: could not broadcast input array from shape (130,13,1) into shape (10,13,1)\n",
      "Track 8575 is shorter than expected 30 seconds, skipping.\n"
     ]
    },
    {
     "name": "stderr",
     "output_type": "stream",
     "text": [
      "Processing tracks:   5%|██▉                                                        | 611/12114 [01:06<11:25, 16.77it/s]"
     ]
    },
    {
     "name": "stdout",
     "output_type": "stream",
     "text": [
      "Error processing track 8576: could not broadcast input array from shape (130,13,1) into shape (10,13,1)\n",
      "Error processing track 8578: could not broadcast input array from shape (130,13,1) into shape (10,13,1)\n",
      "Error processing track 8914: could not broadcast input array from shape (130,13,1) into shape (10,13,1)\n",
      "Track 8917 is shorter than expected 30 seconds, skipping.\n"
     ]
    },
    {
     "name": "stderr",
     "output_type": "stream",
     "text": [
      "Processing tracks:   5%|██▉                                                        | 615/12114 [01:07<11:12, 17.09it/s]"
     ]
    },
    {
     "name": "stdout",
     "output_type": "stream",
     "text": [
      "Track 8920 is shorter than expected 30 seconds, skipping.\n",
      "Track 8921 is shorter than expected 30 seconds, skipping.\n",
      "Error processing track 8922: could not broadcast input array from shape (130,13,1) into shape (10,13,1)\n",
      "Track 9492 is shorter than expected 30 seconds, skipping.\n"
     ]
    },
    {
     "name": "stderr",
     "output_type": "stream",
     "text": [
      "Processing tracks:   5%|███                                                        | 619/12114 [01:07<10:58, 17.46it/s]"
     ]
    },
    {
     "name": "stdout",
     "output_type": "stream",
     "text": [
      "Track 9514 is shorter than expected 30 seconds, skipping.\n",
      "Track 9516 is shorter than expected 30 seconds, skipping.\n",
      "Error processing track 9517: could not broadcast input array from shape (130,13,1) into shape (10,13,1)\n",
      "Track 9590 is shorter than expected 30 seconds, skipping.\n"
     ]
    },
    {
     "name": "stderr",
     "output_type": "stream",
     "text": [
      "Processing tracks:   5%|███                                                        | 623/12114 [01:07<11:12, 17.09it/s]"
     ]
    },
    {
     "name": "stdout",
     "output_type": "stream",
     "text": [
      "Track 9608 is shorter than expected 30 seconds, skipping.\n",
      "Track 9654 is shorter than expected 30 seconds, skipping.\n",
      "Error processing track 9655: could not broadcast input array from shape (130,13,1) into shape (10,13,1)\n",
      "Error processing track 9656: could not broadcast input array from shape (130,13,1) into shape (10,13,1)\n"
     ]
    },
    {
     "name": "stderr",
     "output_type": "stream",
     "text": [
      "Processing tracks:   5%|███                                                        | 627/12114 [01:07<11:56, 16.04it/s]"
     ]
    },
    {
     "name": "stdout",
     "output_type": "stream",
     "text": [
      "Error processing track 9658: could not broadcast input array from shape (130,13,1) into shape (10,13,1)\n",
      "Error processing track 9659: could not broadcast input array from shape (130,13,1) into shape (10,13,1)\n",
      "Track 9662 is shorter than expected 30 seconds, skipping.\n",
      "Error processing track 9663: could not broadcast input array from shape (130,13,1) into shape (10,13,1)\n"
     ]
    },
    {
     "name": "stderr",
     "output_type": "stream",
     "text": [
      "Processing tracks:   5%|███                                                        | 631/12114 [01:07<11:58, 15.98it/s]"
     ]
    },
    {
     "name": "stdout",
     "output_type": "stream",
     "text": [
      "Track 9664 is shorter than expected 30 seconds, skipping.\n",
      "Track 9666 is shorter than expected 30 seconds, skipping.\n",
      "Error processing track 9677: index can't contain negative values\n",
      "Track 9735 is shorter than expected 30 seconds, skipping.\n"
     ]
    },
    {
     "name": "stderr",
     "output_type": "stream",
     "text": [
      "Processing tracks:   5%|███                                                        | 633/12114 [01:09<39:25,  4.85it/s]"
     ]
    },
    {
     "name": "stdout",
     "output_type": "stream",
     "text": [
      "Error processing track 9747: index can't contain negative values\n",
      "Track 9748 is shorter than expected 30 seconds, skipping.\n",
      "Track 9749 is shorter than expected 30 seconds, skipping.\n"
     ]
    },
    {
     "name": "stderr",
     "output_type": "stream",
     "text": [
      "Processing tracks:   5%|███                                                        | 635/12114 [01:09<42:25,  4.51it/s]"
     ]
    },
    {
     "name": "stdout",
     "output_type": "stream",
     "text": [
      "Error processing track 9750: index can't contain negative values\n"
     ]
    },
    {
     "name": "stderr",
     "output_type": "stream",
     "text": [
      "Processing tracks:   5%|███                                                        | 636/12114 [01:10<55:15,  3.46it/s]"
     ]
    },
    {
     "name": "stdout",
     "output_type": "stream",
     "text": [
      "Error processing track 9751: index can't contain negative values\n"
     ]
    },
    {
     "name": "stderr",
     "output_type": "stream",
     "text": [
      "Processing tracks:   5%|██▉                                                      | 637/12114 [01:10<1:01:00,  3.14it/s]"
     ]
    },
    {
     "name": "stdout",
     "output_type": "stream",
     "text": [
      "Error processing track 9752: index can't contain negative values\n",
      "Track 9753 is shorter than expected 30 seconds, skipping.\n"
     ]
    },
    {
     "name": "stderr",
     "output_type": "stream",
     "text": [
      "Processing tracks:   5%|███                                                        | 641/12114 [01:11<36:29,  5.24it/s]"
     ]
    },
    {
     "name": "stdout",
     "output_type": "stream",
     "text": [
      "Error processing track 9823: could not broadcast input array from shape (130,13,1) into shape (10,13,1)\n",
      "Track 9847 is shorter than expected 30 seconds, skipping.\n",
      "Track 9850 is shorter than expected 30 seconds, skipping.\n",
      "Track 9851 is shorter than expected 30 seconds, skipping.\n"
     ]
    },
    {
     "name": "stderr",
     "output_type": "stream",
     "text": [
      "Processing tracks:   5%|███▏                                                       | 645/12114 [01:11<22:19,  8.56it/s]"
     ]
    },
    {
     "name": "stdout",
     "output_type": "stream",
     "text": [
      "Track 9852 is shorter than expected 30 seconds, skipping.\n",
      "Track 9853 is shorter than expected 30 seconds, skipping.\n",
      "Error processing track 9857: index can't contain negative values\n",
      "Track 9863 is shorter than expected 30 seconds, skipping.\n"
     ]
    },
    {
     "name": "stderr",
     "output_type": "stream",
     "text": [
      "Processing tracks:   5%|███▏                                                       | 647/12114 [01:11<18:46, 10.18it/s]"
     ]
    },
    {
     "name": "stdout",
     "output_type": "stream",
     "text": [
      "Track 9866 is shorter than expected 30 seconds, skipping.\n",
      "Track 9867 is shorter than expected 30 seconds, skipping.\n"
     ]
    },
    {
     "name": "stderr",
     "output_type": "stream",
     "text": [
      "Processing tracks:   5%|███▏                                                       | 651/12114 [01:11<20:21,  9.38it/s]"
     ]
    },
    {
     "name": "stdout",
     "output_type": "stream",
     "text": [
      "Error processing track 9875: could not broadcast input array from shape (130,13,1) into shape (10,13,1)\n",
      "Track 9985 is shorter than expected 30 seconds, skipping.\n",
      "Track 9986 is shorter than expected 30 seconds, skipping.\n",
      "Track 9987 is shorter than expected 30 seconds, skipping.\n"
     ]
    },
    {
     "name": "stderr",
     "output_type": "stream",
     "text": [
      "Processing tracks:   5%|███▏                                                       | 655/12114 [01:12<15:54, 12.01it/s]"
     ]
    },
    {
     "name": "stdout",
     "output_type": "stream",
     "text": [
      "Track 9988 is shorter than expected 30 seconds, skipping.\n",
      "Error processing track 9989: could not broadcast input array from shape (130,13,1) into shape (10,13,1)\n",
      "Track 9990 is shorter than expected 30 seconds, skipping.\n",
      "Track 9991 is shorter than expected 30 seconds, skipping.\n"
     ]
    },
    {
     "name": "stderr",
     "output_type": "stream",
     "text": [
      "Processing tracks:   5%|███▏                                                       | 659/12114 [01:12<13:37, 14.02it/s]"
     ]
    },
    {
     "name": "stdout",
     "output_type": "stream",
     "text": [
      "Track 9992 is shorter than expected 30 seconds, skipping.\n",
      "Track 9993 is shorter than expected 30 seconds, skipping.\n",
      "Error processing track 9994: could not broadcast input array from shape (130,13,1) into shape (10,13,1)\n",
      "Track 9995 is shorter than expected 30 seconds, skipping.\n"
     ]
    },
    {
     "name": "stderr",
     "output_type": "stream",
     "text": [
      "Processing tracks:   5%|███▏                                                       | 663/12114 [01:12<13:02, 14.64it/s]"
     ]
    },
    {
     "name": "stdout",
     "output_type": "stream",
     "text": [
      "Error processing track 9996: could not broadcast input array from shape (130,13,1) into shape (10,13,1)\n",
      "Track 9997 is shorter than expected 30 seconds, skipping.\n",
      "Track 9998 is shorter than expected 30 seconds, skipping.\n",
      "Error processing track 9999: could not broadcast input array from shape (130,13,1) into shape (10,13,1)\n"
     ]
    },
    {
     "name": "stderr",
     "output_type": "stream",
     "text": [
      "Processing tracks:   6%|███▏                                                       | 667/12114 [01:12<12:51, 14.84it/s]"
     ]
    },
    {
     "name": "stdout",
     "output_type": "stream",
     "text": [
      "Track 10000 is shorter than expected 30 seconds, skipping.\n",
      "Track 10001 is shorter than expected 30 seconds, skipping.\n",
      "Error processing track 10002: could not broadcast input array from shape (130,13,1) into shape (10,13,1)\n",
      "Track 10003 is shorter than expected 30 seconds, skipping.\n"
     ]
    },
    {
     "name": "stderr",
     "output_type": "stream",
     "text": [
      "Processing tracks:   6%|███▎                                                       | 671/12114 [01:13<12:07, 15.73it/s]"
     ]
    },
    {
     "name": "stdout",
     "output_type": "stream",
     "text": [
      "Track 10004 is shorter than expected 30 seconds, skipping.\n",
      "Error processing track 10005: could not broadcast input array from shape (130,13,1) into shape (10,13,1)\n",
      "Track 10006 is shorter than expected 30 seconds, skipping.\n",
      "Track 10007 is shorter than expected 30 seconds, skipping.\n",
      "Track 10008 is shorter than expected 30 seconds, skipping.\n"
     ]
    },
    {
     "name": "stderr",
     "output_type": "stream",
     "text": [
      "Processing tracks:   6%|███▎                                                       | 677/12114 [01:13<10:54, 17.47it/s]"
     ]
    },
    {
     "name": "stdout",
     "output_type": "stream",
     "text": [
      "Track 10026 is shorter than expected 30 seconds, skipping.\n",
      "Track 10027 is shorter than expected 30 seconds, skipping.\n",
      "Track 10028 is shorter than expected 30 seconds, skipping.\n",
      "Track 10029 is shorter than expected 30 seconds, skipping.\n"
     ]
    },
    {
     "name": "stderr",
     "output_type": "stream",
     "text": [
      "Processing tracks:   6%|███▎                                                       | 681/12114 [01:13<10:45, 17.70it/s]"
     ]
    },
    {
     "name": "stdout",
     "output_type": "stream",
     "text": [
      "Track 10030 is shorter than expected 30 seconds, skipping.\n",
      "Track 10032 is shorter than expected 30 seconds, skipping.\n",
      "Track 10033 is shorter than expected 30 seconds, skipping.\n",
      "Track 10035 is shorter than expected 30 seconds, skipping.\n"
     ]
    },
    {
     "name": "stderr",
     "output_type": "stream",
     "text": [
      "Processing tracks:   6%|███▎                                                       | 685/12114 [01:13<10:52, 17.51it/s]"
     ]
    },
    {
     "name": "stdout",
     "output_type": "stream",
     "text": [
      "Track 10037 is shorter than expected 30 seconds, skipping.\n",
      "Track 10038 is shorter than expected 30 seconds, skipping.\n",
      "Track 10040 is shorter than expected 30 seconds, skipping.\n",
      "Track 10041 is shorter than expected 30 seconds, skipping.\n"
     ]
    },
    {
     "name": "stderr",
     "output_type": "stream",
     "text": [
      "Processing tracks:   6%|███▎                                                       | 689/12114 [01:14<10:56, 17.40it/s]"
     ]
    },
    {
     "name": "stdout",
     "output_type": "stream",
     "text": [
      "Track 10042 is shorter than expected 30 seconds, skipping.\n",
      "Track 10043 is shorter than expected 30 seconds, skipping.\n",
      "Track 10044 is shorter than expected 30 seconds, skipping.\n",
      "Track 10045 is shorter than expected 30 seconds, skipping.\n"
     ]
    },
    {
     "name": "stderr",
     "output_type": "stream",
     "text": [
      "Processing tracks:   6%|███▍                                                       | 693/12114 [01:14<11:27, 16.61it/s]"
     ]
    },
    {
     "name": "stdout",
     "output_type": "stream",
     "text": [
      "Track 10046 is shorter than expected 30 seconds, skipping.\n",
      "Error processing track 10056: could not broadcast input array from shape (130,13,1) into shape (10,13,1)\n",
      "Error processing track 10062: could not broadcast input array from shape (130,13,1) into shape (10,13,1)\n",
      "Track 10107 is shorter than expected 30 seconds, skipping.\n"
     ]
    },
    {
     "name": "stderr",
     "output_type": "stream",
     "text": [
      "Processing tracks:   6%|███▍                                                       | 697/12114 [01:14<16:03, 11.85it/s]"
     ]
    },
    {
     "name": "stdout",
     "output_type": "stream",
     "text": [
      "Error processing track 10112: could not broadcast input array from shape (130,13,1) into shape (10,13,1)\n",
      "Track 10118 is shorter than expected 30 seconds, skipping.\n",
      "Track 10119 is shorter than expected 30 seconds, skipping.\n",
      "Track 10120 is shorter than expected 30 seconds, skipping.\n"
     ]
    },
    {
     "name": "stderr",
     "output_type": "stream",
     "text": [
      "Processing tracks:   6%|███▍                                                       | 701/12114 [01:15<13:29, 14.10it/s]"
     ]
    },
    {
     "name": "stdout",
     "output_type": "stream",
     "text": [
      "Track 10124 is shorter than expected 30 seconds, skipping.\n",
      "Track 10125 is shorter than expected 30 seconds, skipping.\n",
      "Track 10127 is shorter than expected 30 seconds, skipping.\n",
      "Track 10128 is shorter than expected 30 seconds, skipping.\n"
     ]
    },
    {
     "name": "stderr",
     "output_type": "stream",
     "text": [
      "Processing tracks:   6%|███▍                                                       | 705/12114 [01:15<11:58, 15.87it/s]"
     ]
    },
    {
     "name": "stdout",
     "output_type": "stream",
     "text": [
      "Track 10129 is shorter than expected 30 seconds, skipping.\n",
      "Track 10132 is shorter than expected 30 seconds, skipping.\n",
      "Error processing track 10147: could not broadcast input array from shape (130,13,1) into shape (10,13,1)\n",
      "Track 10148 is shorter than expected 30 seconds, skipping.\n"
     ]
    },
    {
     "name": "stderr",
     "output_type": "stream",
     "text": [
      "Processing tracks:   6%|███▍                                                       | 709/12114 [01:15<11:54, 15.96it/s]"
     ]
    },
    {
     "name": "stdout",
     "output_type": "stream",
     "text": [
      "Error processing track 10149: could not broadcast input array from shape (130,13,1) into shape (10,13,1)\n",
      "Error processing track 10150: could not broadcast input array from shape (130,13,1) into shape (10,13,1)\n",
      "Track 10151 is shorter than expected 30 seconds, skipping.\n",
      "Error processing track 10153: could not broadcast input array from shape (130,13,1) into shape (10,13,1)\n"
     ]
    },
    {
     "name": "stderr",
     "output_type": "stream",
     "text": [
      "Processing tracks:   6%|███▍                                                       | 713/12114 [01:15<11:28, 16.56it/s]"
     ]
    },
    {
     "name": "stdout",
     "output_type": "stream",
     "text": [
      "Track 10155 is shorter than expected 30 seconds, skipping.\n",
      "Error processing track 10157: could not broadcast input array from shape (130,13,1) into shape (10,13,1)\n",
      "Track 10160 is shorter than expected 30 seconds, skipping.\n",
      "Error processing track 10165: could not broadcast input array from shape (130,13,1) into shape (10,13,1)\n"
     ]
    },
    {
     "name": "stderr",
     "output_type": "stream",
     "text": [
      "Processing tracks:   6%|███▍                                                       | 717/12114 [01:16<11:28, 16.56it/s]"
     ]
    },
    {
     "name": "stdout",
     "output_type": "stream",
     "text": [
      "Track 10180 is shorter than expected 30 seconds, skipping.\n",
      "Error processing track 10184: could not broadcast input array from shape (130,13,1) into shape (10,13,1)\n",
      "Track 10213 is shorter than expected 30 seconds, skipping.\n",
      "Error processing track 10214: could not broadcast input array from shape (130,13,1) into shape (10,13,1)\n",
      "Error processing track 10231: index can't contain negative values\n"
     ]
    },
    {
     "name": "stderr",
     "output_type": "stream",
     "text": [
      "Processing tracks:   6%|███▌                                                       | 721/12114 [01:17<42:39,  4.45it/s]"
     ]
    },
    {
     "name": "stdout",
     "output_type": "stream",
     "text": [
      "Error processing track 10234: index can't contain negative values\n",
      "Track 10239 is shorter than expected 30 seconds, skipping.\n",
      "Error processing track 10240: index can't contain negative values\n",
      "Track 10243 is shorter than expected 30 seconds, skipping.\n"
     ]
    },
    {
     "name": "stderr",
     "output_type": "stream",
     "text": [
      "Processing tracks:   6%|███▌                                                       | 725/12114 [01:18<42:24,  4.48it/s]"
     ]
    },
    {
     "name": "stdout",
     "output_type": "stream",
     "text": [
      "Error processing track 10246: index can't contain negative values\n",
      "Track 10247 is shorter than expected 30 seconds, skipping.\n",
      "Track 10279 is shorter than expected 30 seconds, skipping.\n",
      "Track 10286 is shorter than expected 30 seconds, skipping.\n"
     ]
    },
    {
     "name": "stderr",
     "output_type": "stream",
     "text": [
      "Processing tracks:   6%|███▌                                                       | 727/12114 [01:19<32:55,  5.76it/s]"
     ]
    },
    {
     "name": "stdout",
     "output_type": "stream",
     "text": [
      "Track 10287 is shorter than expected 30 seconds, skipping.\n"
     ]
    },
    {
     "name": "stderr",
     "output_type": "stream",
     "text": [
      "Processing tracks:   6%|███▍                                                     | 729/12114 [01:20<1:02:35,  3.03it/s]"
     ]
    },
    {
     "name": "stdout",
     "output_type": "stream",
     "text": [
      "Error processing track 10288: index can't contain negative values\n",
      "Track 10426 is shorter than expected 30 seconds, skipping.\n"
     ]
    },
    {
     "name": "stderr",
     "output_type": "stream",
     "text": [
      "Processing tracks:   6%|███▌                                                       | 731/12114 [01:20<58:07,  3.26it/s]"
     ]
    },
    {
     "name": "stdout",
     "output_type": "stream",
     "text": [
      "Error processing track 10434: could not broadcast input array from shape (130,13,1) into shape (10,13,1)\n",
      "Track 10437 is shorter than expected 30 seconds, skipping.\n",
      "Track 10449 is shorter than expected 30 seconds, skipping.\n"
     ]
    },
    {
     "name": "stderr",
     "output_type": "stream",
     "text": [
      "Processing tracks:   6%|███▍                                                     | 733/12114 [01:21<1:11:26,  2.66it/s]"
     ]
    },
    {
     "name": "stdout",
     "output_type": "stream",
     "text": [
      "Error processing track 10451: could not broadcast input array from shape (130,13,1) into shape (10,13,1)\n"
     ]
    },
    {
     "name": "stderr",
     "output_type": "stream",
     "text": [
      "Processing tracks:   6%|███▍                                                     | 734/12114 [01:23<1:37:11,  1.95it/s]"
     ]
    },
    {
     "name": "stdout",
     "output_type": "stream",
     "text": [
      "Error processing track 10456: index can't contain negative values\n"
     ]
    },
    {
     "name": "stderr",
     "output_type": "stream",
     "text": [
      "Processing tracks:   6%|███▍                                                     | 735/12114 [01:23<1:50:27,  1.72it/s]"
     ]
    },
    {
     "name": "stdout",
     "output_type": "stream",
     "text": [
      "Error processing track 10459: index can't contain negative values\n"
     ]
    },
    {
     "name": "stderr",
     "output_type": "stream",
     "text": [
      "Processing tracks:   6%|███▍                                                     | 736/12114 [01:24<1:36:30,  1.97it/s]"
     ]
    },
    {
     "name": "stdout",
     "output_type": "stream",
     "text": [
      "Error processing track 10460: index can't contain negative values\n",
      "Track 10525 is shorter than expected 30 seconds, skipping.\n"
     ]
    },
    {
     "name": "stderr",
     "output_type": "stream",
     "text": [
      "Processing tracks:   6%|███▍                                                     | 738/12114 [01:24<1:14:38,  2.54it/s]"
     ]
    },
    {
     "name": "stdout",
     "output_type": "stream",
     "text": [
      "Error processing track 10529: could not broadcast input array from shape (130,13,1) into shape (10,13,1)\n"
     ]
    },
    {
     "name": "stderr",
     "output_type": "stream",
     "text": [
      "Processing tracks:   6%|███▍                                                     | 739/12114 [01:25<1:28:50,  2.13it/s]"
     ]
    },
    {
     "name": "stdout",
     "output_type": "stream",
     "text": [
      "Error processing track 10537: could not broadcast input array from shape (130,13,1) into shape (10,13,1)\n",
      "Track 10552 is shorter than expected 30 seconds, skipping.\n"
     ]
    },
    {
     "name": "stderr",
     "output_type": "stream",
     "text": [
      "Processing tracks:   6%|███▌                                                       | 743/12114 [01:25<46:42,  4.06it/s]"
     ]
    },
    {
     "name": "stdout",
     "output_type": "stream",
     "text": [
      "Error processing track 10554: could not broadcast input array from shape (130,13,1) into shape (10,13,1)\n",
      "Track 10556 is shorter than expected 30 seconds, skipping.\n",
      "Track 10558 is shorter than expected 30 seconds, skipping.\n",
      "Error processing track 10567: index can't contain negative values\n"
     ]
    },
    {
     "name": "stderr",
     "output_type": "stream",
     "text": [
      "Processing tracks:   6%|███▋                                                       | 747/12114 [01:26<27:11,  6.97it/s]"
     ]
    },
    {
     "name": "stdout",
     "output_type": "stream",
     "text": [
      "Track 10666 is shorter than expected 30 seconds, skipping.\n",
      "Error processing track 10728: could not broadcast input array from shape (130,13,1) into shape (10,13,1)\n",
      "Track 10737 is shorter than expected 30 seconds, skipping.\n",
      "Error processing track 10739: index can't contain negative values\n"
     ]
    },
    {
     "name": "stderr",
     "output_type": "stream",
     "text": [
      "Processing tracks:   6%|███▌                                                     | 751/12114 [01:28<1:12:17,  2.62it/s]"
     ]
    },
    {
     "name": "stdout",
     "output_type": "stream",
     "text": [
      "Error processing track 10740: could not broadcast input array from shape (130,13,1) into shape (10,13,1)\n",
      "Track 10741 is shorter than expected 30 seconds, skipping.\n",
      "Track 10742 is shorter than expected 30 seconds, skipping.\n"
     ]
    },
    {
     "name": "stderr",
     "output_type": "stream",
     "text": [
      "Processing tracks:   6%|███▋                                                       | 755/12114 [01:29<44:40,  4.24it/s]"
     ]
    },
    {
     "name": "stdout",
     "output_type": "stream",
     "text": [
      "Error processing track 10815: could not broadcast input array from shape (130,13,1) into shape (10,13,1)\n",
      "Track 10824 is shorter than expected 30 seconds, skipping.\n",
      "Error processing track 10826: could not broadcast input array from shape (130,13,1) into shape (10,13,1)\n",
      "Error processing track 10830: could not broadcast input array from shape (130,13,1) into shape (10,13,1)\n"
     ]
    },
    {
     "name": "stderr",
     "output_type": "stream",
     "text": [
      "Processing tracks:   6%|███▋                                                       | 759/12114 [01:29<27:09,  6.97it/s]"
     ]
    },
    {
     "name": "stdout",
     "output_type": "stream",
     "text": [
      "Track 10833 is shorter than expected 30 seconds, skipping.\n",
      "Track 10834 is shorter than expected 30 seconds, skipping.\n",
      "Track 10843 is shorter than expected 30 seconds, skipping.\n",
      "Track 10868 is shorter than expected 30 seconds, skipping.\n"
     ]
    },
    {
     "name": "stderr",
     "output_type": "stream",
     "text": [
      "Processing tracks:   6%|███▋                                                       | 763/12114 [01:29<18:31, 10.21it/s]"
     ]
    },
    {
     "name": "stdout",
     "output_type": "stream",
     "text": [
      "Track 10929 is shorter than expected 30 seconds, skipping.\n",
      "Track 10930 is shorter than expected 30 seconds, skipping.\n",
      "Track 10932 is shorter than expected 30 seconds, skipping.\n",
      "Error processing track 10933: could not broadcast input array from shape (130,13,1) into shape (10,13,1)\n"
     ]
    },
    {
     "name": "stderr",
     "output_type": "stream",
     "text": [
      "Processing tracks:   6%|███▋                                                       | 767/12114 [01:30<14:40, 12.89it/s]"
     ]
    },
    {
     "name": "stdout",
     "output_type": "stream",
     "text": [
      "Error processing track 10934: could not broadcast input array from shape (130,13,1) into shape (10,13,1)\n",
      "Track 10935 is shorter than expected 30 seconds, skipping.\n",
      "Error processing track 10936: could not broadcast input array from shape (130,13,1) into shape (10,13,1)\n",
      "Track 10937 is shorter than expected 30 seconds, skipping.\n"
     ]
    },
    {
     "name": "stderr",
     "output_type": "stream",
     "text": [
      "Processing tracks:   6%|███▋                                                       | 769/12114 [01:30<13:53, 13.60it/s]"
     ]
    },
    {
     "name": "stdout",
     "output_type": "stream",
     "text": [
      "Error processing track 10938: could not broadcast input array from shape (130,13,1) into shape (10,13,1)\n",
      "Track 10942 is shorter than expected 30 seconds, skipping.\n",
      "Track 10943 is shorter than expected 30 seconds, skipping.\n"
     ]
    },
    {
     "name": "stderr",
     "output_type": "stream",
     "text": [
      "Processing tracks:   6%|███▊                                                       | 773/12114 [01:30<20:21,  9.29it/s]"
     ]
    },
    {
     "name": "stdout",
     "output_type": "stream",
     "text": [
      "Error processing track 10945: could not broadcast input array from shape (130,13,1) into shape (10,13,1)\n",
      "Track 10947 is shorter than expected 30 seconds, skipping.\n",
      "Error processing track 10948: index can't contain negative values\n"
     ]
    },
    {
     "name": "stderr",
     "output_type": "stream",
     "text": [
      "Processing tracks:   6%|███▊                                                       | 777/12114 [01:31<28:08,  6.71it/s]"
     ]
    },
    {
     "name": "stdout",
     "output_type": "stream",
     "text": [
      "Error processing track 10951: could not broadcast input array from shape (130,13,1) into shape (10,13,1)\n",
      "Track 10952 is shorter than expected 30 seconds, skipping.\n",
      "Track 10954 is shorter than expected 30 seconds, skipping.\n",
      "Error processing track 10970: index can't contain negative values\n"
     ]
    },
    {
     "name": "stderr",
     "output_type": "stream",
     "text": [
      "Processing tracks:   6%|███▊                                                       | 781/12114 [01:31<19:02,  9.92it/s]"
     ]
    },
    {
     "name": "stdout",
     "output_type": "stream",
     "text": [
      "Track 10971 is shorter than expected 30 seconds, skipping.\n",
      "Error processing track 11030: could not broadcast input array from shape (130,13,1) into shape (10,13,1)\n",
      "Track 11031 is shorter than expected 30 seconds, skipping.\n",
      "Track 11032 is shorter than expected 30 seconds, skipping.\n"
     ]
    },
    {
     "name": "stderr",
     "output_type": "stream",
     "text": [
      "Processing tracks:   6%|███▊                                                       | 785/12114 [01:32<15:18, 12.33it/s]"
     ]
    },
    {
     "name": "stdout",
     "output_type": "stream",
     "text": [
      "Track 11033 is shorter than expected 30 seconds, skipping.\n",
      "Error processing track 11035: could not broadcast input array from shape (130,13,1) into shape (10,13,1)\n",
      "Error processing track 11036: could not broadcast input array from shape (130,13,1) into shape (10,13,1)\n",
      "Error processing track 11037: could not broadcast input array from shape (130,13,1) into shape (10,13,1)\n"
     ]
    },
    {
     "name": "stderr",
     "output_type": "stream",
     "text": [
      "Processing tracks:   7%|███▊                                                       | 789/12114 [01:32<13:36, 13.86it/s]"
     ]
    },
    {
     "name": "stdout",
     "output_type": "stream",
     "text": [
      "Error processing track 11039: could not broadcast input array from shape (130,13,1) into shape (10,13,1)\n",
      "Error processing track 11040: could not broadcast input array from shape (130,13,1) into shape (10,13,1)\n",
      "Error processing track 11080: could not broadcast input array from shape (130,13,1) into shape (10,13,1)\n",
      "Error processing track 11081: could not broadcast input array from shape (130,13,1) into shape (10,13,1)\n"
     ]
    },
    {
     "name": "stderr",
     "output_type": "stream",
     "text": [
      "Processing tracks:   7%|███▊                                                       | 791/12114 [01:32<13:05, 14.41it/s]"
     ]
    },
    {
     "name": "stdout",
     "output_type": "stream",
     "text": [
      "Track 11205 is shorter than expected 30 seconds, skipping.\n",
      "Error processing track 11209: index can't contain negative values\n",
      "Error processing track 11246: could not broadcast input array from shape (130,13,1) into shape (10,13,1)\n"
     ]
    },
    {
     "name": "stderr",
     "output_type": "stream",
     "text": [
      "Processing tracks:   7%|███▊                                                       | 795/12114 [01:32<14:32, 12.98it/s]"
     ]
    },
    {
     "name": "stdout",
     "output_type": "stream",
     "text": [
      "Error processing track 11257: index can't contain negative values\n",
      "Error processing track 11259: index can't contain negative values\n",
      "Track 11285 is shorter than expected 30 seconds, skipping.\n",
      "Track 11293 is shorter than expected 30 seconds, skipping.\n"
     ]
    },
    {
     "name": "stderr",
     "output_type": "stream",
     "text": [
      "Processing tracks:   7%|███▉                                                       | 799/12114 [01:33<12:56, 14.58it/s]"
     ]
    },
    {
     "name": "stdout",
     "output_type": "stream",
     "text": [
      "Error processing track 11301: could not broadcast input array from shape (130,13,1) into shape (10,13,1)\n",
      "Error processing track 11304: could not broadcast input array from shape (130,13,1) into shape (10,13,1)\n",
      "Track 11305 is shorter than expected 30 seconds, skipping.\n"
     ]
    },
    {
     "name": "stderr",
     "output_type": "stream",
     "text": [
      "Processing tracks:   7%|███▉                                                       | 801/12114 [01:33<25:32,  7.38it/s]"
     ]
    },
    {
     "name": "stdout",
     "output_type": "stream",
     "text": [
      "Error processing track 11319: index can't contain negative values\n",
      "Error processing track 11320: index can't contain negative values\n",
      "Error processing track 11321: index can't contain negative values\n"
     ]
    },
    {
     "name": "stderr",
     "output_type": "stream",
     "text": [
      "Processing tracks:   7%|███▉                                                       | 805/12114 [01:34<30:02,  6.27it/s]"
     ]
    },
    {
     "name": "stdout",
     "output_type": "stream",
     "text": [
      "Error processing track 11375: index can't contain negative values\n",
      "Track 11389 is shorter than expected 30 seconds, skipping.\n",
      "Track 11390 is shorter than expected 30 seconds, skipping.\n"
     ]
    },
    {
     "name": "stderr",
     "output_type": "stream",
     "text": [
      "Processing tracks:   7%|███▉                                                       | 809/12114 [01:34<24:27,  7.71it/s]"
     ]
    },
    {
     "name": "stdout",
     "output_type": "stream",
     "text": [
      "Error processing track 11394: index can't contain negative values\n",
      "Track 11396 is shorter than expected 30 seconds, skipping.\n",
      "Track 11397 is shorter than expected 30 seconds, skipping.\n",
      "Error processing track 11398: index can't contain negative values\n",
      "Track 11405 is shorter than expected 30 seconds, skipping.\n"
     ]
    },
    {
     "name": "stderr",
     "output_type": "stream",
     "text": [
      "Processing tracks:   7%|███▉                                                       | 811/12114 [01:35<31:09,  6.05it/s]"
     ]
    },
    {
     "name": "stdout",
     "output_type": "stream",
     "text": [
      "Error processing track 11406: index can't contain negative values\n"
     ]
    },
    {
     "name": "stderr",
     "output_type": "stream",
     "text": [
      "Processing tracks:   7%|███▉                                                       | 816/12114 [01:36<23:31,  8.01it/s]"
     ]
    },
    {
     "name": "stdout",
     "output_type": "stream",
     "text": [
      "Error processing track 11407: index can't contain negative values\n",
      "Track 11410 is shorter than expected 30 seconds, skipping.\n",
      "Track 11412 is shorter than expected 30 seconds, skipping.\n",
      "Error processing track 11417: could not broadcast input array from shape (130,13,1) into shape (10,13,1)\n",
      "Track 11418 is shorter than expected 30 seconds, skipping.\n"
     ]
    },
    {
     "name": "stderr",
     "output_type": "stream",
     "text": [
      "Processing tracks:   7%|███▉                                                       | 820/12114 [01:37<31:45,  5.93it/s]"
     ]
    },
    {
     "name": "stdout",
     "output_type": "stream",
     "text": [
      "Error processing track 11419: index can't contain negative values\n",
      "Track 11420 is shorter than expected 30 seconds, skipping.\n",
      "Track 11423 is shorter than expected 30 seconds, skipping.\n",
      "Track 11425 is shorter than expected 30 seconds, skipping.\n"
     ]
    },
    {
     "name": "stderr",
     "output_type": "stream",
     "text": [
      "Processing tracks:   7%|████                                                       | 824/12114 [01:37<20:30,  9.17it/s]"
     ]
    },
    {
     "name": "stdout",
     "output_type": "stream",
     "text": [
      "Error processing track 11426: index can't contain negative values\n",
      "Track 11427 is shorter than expected 30 seconds, skipping.\n",
      "Track 11428 is shorter than expected 30 seconds, skipping.\n",
      "Track 11429 is shorter than expected 30 seconds, skipping.\n"
     ]
    },
    {
     "name": "stderr",
     "output_type": "stream",
     "text": [
      "Processing tracks:   7%|████                                                       | 828/12114 [01:37<18:37, 10.10it/s]"
     ]
    },
    {
     "name": "stdout",
     "output_type": "stream",
     "text": [
      "Error processing track 11430: index can't contain negative values\n",
      "Error processing track 11431: index can't contain negative values\n",
      "Track 11437 is shorter than expected 30 seconds, skipping.\n",
      "Track 11446 is shorter than expected 30 seconds, skipping.\n"
     ]
    },
    {
     "name": "stderr",
     "output_type": "stream",
     "text": [
      "Processing tracks:   7%|████                                                       | 832/12114 [01:37<14:29, 12.98it/s]"
     ]
    },
    {
     "name": "stdout",
     "output_type": "stream",
     "text": [
      "Error processing track 11447: could not broadcast input array from shape (130,13,1) into shape (10,13,1)\n",
      "Track 11454 is shorter than expected 30 seconds, skipping.\n",
      "Track 11457 is shorter than expected 30 seconds, skipping.\n",
      "Track 11458 is shorter than expected 30 seconds, skipping.\n"
     ]
    },
    {
     "name": "stderr",
     "output_type": "stream",
     "text": [
      "Processing tracks:   7%|████                                                       | 834/12114 [01:37<13:07, 14.33it/s]"
     ]
    },
    {
     "name": "stdout",
     "output_type": "stream",
     "text": [
      "Track 11459 is shorter than expected 30 seconds, skipping.\n",
      "Error processing track 11541: could not broadcast input array from shape (130,13,1) into shape (10,13,1)\n"
     ]
    },
    {
     "name": "stderr",
     "output_type": "stream",
     "text": [
      "Processing tracks:   7%|████                                                       | 838/12114 [01:38<15:36, 12.04it/s]"
     ]
    },
    {
     "name": "stdout",
     "output_type": "stream",
     "text": [
      "Error processing track 11608: could not broadcast input array from shape (130,13,1) into shape (10,13,1)\n",
      "Track 11609 is shorter than expected 30 seconds, skipping.\n",
      "Track 11647 is shorter than expected 30 seconds, skipping.\n",
      "Track 11663 is shorter than expected 30 seconds, skipping.\n"
     ]
    },
    {
     "name": "stderr",
     "output_type": "stream",
     "text": [
      "Processing tracks:   7%|████                                                       | 842/12114 [01:39<38:00,  4.94it/s]"
     ]
    },
    {
     "name": "stdout",
     "output_type": "stream",
     "text": [
      "Error processing track 11695: could not broadcast input array from shape (130,13,1) into shape (10,13,1)\n",
      "Error processing track 11696: index can't contain negative values\n",
      "Track 11711 is shorter than expected 30 seconds, skipping.\n",
      "Error processing track 11712: could not broadcast input array from shape (130,13,1) into shape (10,13,1)\n"
     ]
    },
    {
     "name": "stderr",
     "output_type": "stream",
     "text": [
      "Processing tracks:   7%|████                                                       | 846/12114 [01:40<24:17,  7.73it/s]"
     ]
    },
    {
     "name": "stdout",
     "output_type": "stream",
     "text": [
      "Track 11713 is shorter than expected 30 seconds, skipping.\n",
      "Track 11715 is shorter than expected 30 seconds, skipping.\n",
      "Track 11716 is shorter than expected 30 seconds, skipping.\n",
      "Track 11723 is shorter than expected 30 seconds, skipping.\n"
     ]
    },
    {
     "name": "stderr",
     "output_type": "stream",
     "text": [
      "Processing tracks:   7%|████▏                                                      | 851/12114 [01:40<14:55, 12.57it/s]"
     ]
    },
    {
     "name": "stdout",
     "output_type": "stream",
     "text": [
      "Track 11724 is shorter than expected 30 seconds, skipping.\n",
      "Track 11733 is shorter than expected 30 seconds, skipping.\n",
      "Track 11734 is shorter than expected 30 seconds, skipping.\n",
      "Track 11757 is shorter than expected 30 seconds, skipping.\n",
      "Track 11758 is shorter than expected 30 seconds, skipping.\n",
      "Track 11796 is shorter than expected 30 seconds, skipping.\n"
     ]
    },
    {
     "name": "stderr",
     "output_type": "stream",
     "text": [
      "Processing tracks:   7%|████▏                                                      | 855/12114 [01:40<14:14, 13.18it/s]"
     ]
    },
    {
     "name": "stdout",
     "output_type": "stream",
     "text": [
      "Track 11797 is shorter than expected 30 seconds, skipping.\n",
      "Track 11799 is shorter than expected 30 seconds, skipping.\n",
      "Error processing track 11808: could not broadcast input array from shape (130,13,1) into shape (10,13,1)\n"
     ]
    },
    {
     "name": "stderr",
     "output_type": "stream",
     "text": [
      "Processing tracks:   7%|████▏                                                      | 857/12114 [01:40<19:23,  9.68it/s]"
     ]
    },
    {
     "name": "stdout",
     "output_type": "stream",
     "text": [
      "Error processing track 11812: could not broadcast input array from shape (130,13,1) into shape (10,13,1)\n",
      "Track 11813 is shorter than expected 30 seconds, skipping.\n",
      "Track 11815 is shorter than expected 30 seconds, skipping.\n"
     ]
    },
    {
     "name": "stderr",
     "output_type": "stream",
     "text": [
      "Processing tracks:   7%|████▏                                                      | 859/12114 [01:41<30:41,  6.11it/s]"
     ]
    },
    {
     "name": "stdout",
     "output_type": "stream",
     "text": [
      "Error processing track 11816: could not broadcast input array from shape (130,13,1) into shape (10,13,1)\n"
     ]
    },
    {
     "name": "stderr",
     "output_type": "stream",
     "text": [
      "Processing tracks:   7%|████▏                                                      | 861/12114 [01:42<33:53,  5.53it/s]"
     ]
    },
    {
     "name": "stdout",
     "output_type": "stream",
     "text": [
      "Error processing track 11819: could not broadcast input array from shape (130,13,1) into shape (10,13,1)\n",
      "Track 11824 is shorter than expected 30 seconds, skipping.\n"
     ]
    },
    {
     "name": "stderr",
     "output_type": "stream",
     "text": [
      "Processing tracks:   7%|████▏                                                      | 862/12114 [01:42<47:17,  3.97it/s]"
     ]
    },
    {
     "name": "stdout",
     "output_type": "stream",
     "text": [
      "Error processing track 11826: could not broadcast input array from shape (130,13,1) into shape (10,13,1)\n",
      "Error processing track 11828: index can't contain negative values\n"
     ]
    },
    {
     "name": "stderr",
     "output_type": "stream",
     "text": [
      "Processing tracks:   7%|████▏                                                      | 864/12114 [01:43<59:22,  3.16it/s]"
     ]
    },
    {
     "name": "stdout",
     "output_type": "stream",
     "text": [
      "Error processing track 11829: could not broadcast input array from shape (130,13,1) into shape (10,13,1)\n",
      "Error processing track 11830: index can't contain negative values\n"
     ]
    },
    {
     "name": "stderr",
     "output_type": "stream",
     "text": [
      "Processing tracks:   7%|████                                                     | 866/12114 [01:44<1:14:12,  2.53it/s]"
     ]
    },
    {
     "name": "stdout",
     "output_type": "stream",
     "text": [
      "Error processing track 11831: could not broadcast input array from shape (130,13,1) into shape (10,13,1)\n"
     ]
    },
    {
     "name": "stderr",
     "output_type": "stream",
     "text": [
      "Processing tracks:   7%|████                                                     | 867/12114 [01:45<1:27:55,  2.13it/s]"
     ]
    },
    {
     "name": "stdout",
     "output_type": "stream",
     "text": [
      "Error processing track 11832: could not broadcast input array from shape (130,13,1) into shape (10,13,1)\n"
     ]
    },
    {
     "name": "stderr",
     "output_type": "stream",
     "text": [
      "Processing tracks:   7%|████                                                     | 868/12114 [01:45<1:23:27,  2.25it/s]"
     ]
    },
    {
     "name": "stdout",
     "output_type": "stream",
     "text": [
      "Error processing track 11834: index can't contain negative values\n"
     ]
    },
    {
     "name": "stderr",
     "output_type": "stream",
     "text": [
      "Processing tracks:   7%|████                                                     | 869/12114 [01:46<1:32:20,  2.03it/s]"
     ]
    },
    {
     "name": "stdout",
     "output_type": "stream",
     "text": [
      "Error processing track 11836: could not broadcast input array from shape (130,13,1) into shape (10,13,1)\n"
     ]
    },
    {
     "name": "stderr",
     "output_type": "stream",
     "text": [
      "Processing tracks:   7%|████                                                     | 870/12114 [01:46<1:21:25,  2.30it/s]"
     ]
    },
    {
     "name": "stdout",
     "output_type": "stream",
     "text": [
      "Error processing track 11837: could not broadcast input array from shape (130,13,1) into shape (10,13,1)\n"
     ]
    },
    {
     "name": "stderr",
     "output_type": "stream",
     "text": [
      "Processing tracks:   7%|████▎                                                      | 875/12114 [01:46<30:18,  6.18it/s]"
     ]
    },
    {
     "name": "stdout",
     "output_type": "stream",
     "text": [
      "Error processing track 11838: index can't contain negative values\n",
      "Track 11840 is shorter than expected 30 seconds, skipping.\n",
      "Track 11854 is shorter than expected 30 seconds, skipping.\n",
      "Track 11855 is shorter than expected 30 seconds, skipping.\n",
      "Track 11856 is shorter than expected 30 seconds, skipping.\n"
     ]
    },
    {
     "name": "stderr",
     "output_type": "stream",
     "text": [
      "Processing tracks:   7%|████▎                                                      | 879/12114 [01:47<18:36, 10.06it/s]"
     ]
    },
    {
     "name": "stdout",
     "output_type": "stream",
     "text": [
      "Track 11857 is shorter than expected 30 seconds, skipping.\n",
      "Track 11858 is shorter than expected 30 seconds, skipping.\n",
      "Track 11859 is shorter than expected 30 seconds, skipping.\n",
      "Error processing track 11863: index can't contain negative values\n"
     ]
    },
    {
     "name": "stderr",
     "output_type": "stream",
     "text": [
      "Processing tracks:   7%|████▎                                                      | 881/12114 [01:47<31:32,  5.94it/s]"
     ]
    },
    {
     "name": "stdout",
     "output_type": "stream",
     "text": [
      "Error processing track 11864: could not broadcast input array from shape (130,13,1) into shape (10,13,1)\n",
      "Track 11865 is shorter than expected 30 seconds, skipping.\n",
      "Track 11866 is shorter than expected 30 seconds, skipping.\n"
     ]
    },
    {
     "name": "stderr",
     "output_type": "stream",
     "text": [
      "Processing tracks:   7%|████▎                                                      | 883/12114 [01:48<41:52,  4.47it/s]"
     ]
    },
    {
     "name": "stdout",
     "output_type": "stream",
     "text": [
      "Error processing track 11869: could not broadcast input array from shape (130,13,1) into shape (10,13,1)\n",
      "Track 11875 is shorter than expected 30 seconds, skipping.\n"
     ]
    },
    {
     "name": "stderr",
     "output_type": "stream",
     "text": [
      "Processing tracks:   7%|████▎                                                      | 887/12114 [01:48<29:21,  6.38it/s]"
     ]
    },
    {
     "name": "stdout",
     "output_type": "stream",
     "text": [
      "Error processing track 11879: index can't contain negative values\n",
      "Track 11914 is shorter than expected 30 seconds, skipping.\n",
      "Track 11934 is shorter than expected 30 seconds, skipping.\n",
      "Track 11936 is shorter than expected 30 seconds, skipping.\n"
     ]
    },
    {
     "name": "stderr",
     "output_type": "stream",
     "text": [
      "Processing tracks:   7%|████▎                                                      | 889/12114 [01:48<23:40,  7.90it/s]"
     ]
    },
    {
     "name": "stdout",
     "output_type": "stream",
     "text": [
      "Error processing track 11938: could not broadcast input array from shape (130,13,1) into shape (10,13,1)\n",
      "Track 11940 is shorter than expected 30 seconds, skipping.\n"
     ]
    },
    {
     "name": "stderr",
     "output_type": "stream",
     "text": [
      "Processing tracks:   7%|████▎                                                      | 893/12114 [01:49<24:12,  7.72it/s]"
     ]
    },
    {
     "name": "stdout",
     "output_type": "stream",
     "text": [
      "Error processing track 11941: could not broadcast input array from shape (130,13,1) into shape (10,13,1)\n",
      "Track 11948 is shorter than expected 30 seconds, skipping.\n",
      "Track 11949 is shorter than expected 30 seconds, skipping.\n",
      "Track 11954 is shorter than expected 30 seconds, skipping.\n"
     ]
    },
    {
     "name": "stderr",
     "output_type": "stream",
     "text": [
      "Processing tracks:   7%|████▎                                                      | 897/12114 [01:49<16:55, 11.04it/s]"
     ]
    },
    {
     "name": "stdout",
     "output_type": "stream",
     "text": [
      "Track 11976 is shorter than expected 30 seconds, skipping.\n",
      "Error processing track 11986: index can't contain negative values\n",
      "Track 11987 is shorter than expected 30 seconds, skipping.\n"
     ]
    },
    {
     "name": "stderr",
     "output_type": "stream",
     "text": [
      "Processing tracks:   7%|████▍                                                      | 899/12114 [01:50<19:08,  9.76it/s]"
     ]
    },
    {
     "name": "stdout",
     "output_type": "stream",
     "text": [
      "Error processing track 11988: could not broadcast input array from shape (130,13,1) into shape (10,13,1)\n",
      "Track 11989 is shorter than expected 30 seconds, skipping.\n"
     ]
    },
    {
     "name": "stderr",
     "output_type": "stream",
     "text": [
      "Processing tracks:   7%|████▍                                                      | 903/12114 [01:50<18:34, 10.05it/s]"
     ]
    },
    {
     "name": "stdout",
     "output_type": "stream",
     "text": [
      "Error processing track 11992: could not broadcast input array from shape (130,13,1) into shape (10,13,1)\n",
      "Track 12074 is shorter than expected 30 seconds, skipping.\n",
      "Error processing track 12081: could not broadcast input array from shape (130,13,1) into shape (10,13,1)\n",
      "Track 12083 is shorter than expected 30 seconds, skipping.\n"
     ]
    },
    {
     "name": "stderr",
     "output_type": "stream",
     "text": [
      "Processing tracks:   7%|████▍                                                      | 905/12114 [01:50<16:03, 11.63it/s]"
     ]
    },
    {
     "name": "stdout",
     "output_type": "stream",
     "text": [
      "Track 12084 is shorter than expected 30 seconds, skipping.\n",
      "Error processing track 12090: index can't contain negative values\n",
      "Track 12095 is shorter than expected 30 seconds, skipping.\n"
     ]
    },
    {
     "name": "stderr",
     "output_type": "stream",
     "text": [
      "Processing tracks:   8%|████▍                                                      | 909/12114 [01:51<26:06,  7.15it/s]"
     ]
    },
    {
     "name": "stdout",
     "output_type": "stream",
     "text": [
      "Error processing track 12130: could not broadcast input array from shape (130,13,1) into shape (10,13,1)\n",
      "Track 12171 is shorter than expected 30 seconds, skipping.\n",
      "Track 12175 is shorter than expected 30 seconds, skipping.\n",
      "Error processing track 12182: could not broadcast input array from shape (130,13,1) into shape (10,13,1)\n"
     ]
    },
    {
     "name": "stderr",
     "output_type": "stream",
     "text": [
      "Processing tracks:   8%|████▍                                                      | 913/12114 [01:51<18:15, 10.22it/s]"
     ]
    },
    {
     "name": "stdout",
     "output_type": "stream",
     "text": [
      "Track 12183 is shorter than expected 30 seconds, skipping.\n",
      "Track 12185 is shorter than expected 30 seconds, skipping.\n",
      "Track 12193 is shorter than expected 30 seconds, skipping.\n",
      "Track 12194 is shorter than expected 30 seconds, skipping.\n"
     ]
    },
    {
     "name": "stderr",
     "output_type": "stream",
     "text": [
      "Processing tracks:   8%|████▍                                                      | 917/12114 [01:51<14:10, 13.16it/s]"
     ]
    },
    {
     "name": "stdout",
     "output_type": "stream",
     "text": [
      "Track 12199 is shorter than expected 30 seconds, skipping.\n",
      "Error processing track 12308: could not broadcast input array from shape (130,13,1) into shape (10,13,1)\n",
      "Track 12338 is shorter than expected 30 seconds, skipping.\n",
      "Track 12339 is shorter than expected 30 seconds, skipping.\n"
     ]
    },
    {
     "name": "stderr",
     "output_type": "stream",
     "text": [
      "Processing tracks:   8%|████▍                                                      | 919/12114 [01:52<13:08, 14.19it/s]"
     ]
    },
    {
     "name": "stdout",
     "output_type": "stream",
     "text": [
      "Track 12367 is shorter than expected 30 seconds, skipping.\n"
     ]
    },
    {
     "name": "stderr",
     "output_type": "stream",
     "text": [
      "Processing tracks:   8%|████▍                                                      | 923/12114 [01:52<16:31, 11.29it/s]"
     ]
    },
    {
     "name": "stdout",
     "output_type": "stream",
     "text": [
      "Error processing track 12369: could not broadcast input array from shape (130,13,1) into shape (10,13,1)\n",
      "Track 12372 is shorter than expected 30 seconds, skipping.\n",
      "Track 12375 is shorter than expected 30 seconds, skipping.\n",
      "Track 12378 is shorter than expected 30 seconds, skipping.\n"
     ]
    },
    {
     "name": "stderr",
     "output_type": "stream",
     "text": [
      "Processing tracks:   8%|████▌                                                      | 925/12114 [01:52<14:38, 12.74it/s]"
     ]
    },
    {
     "name": "stdout",
     "output_type": "stream",
     "text": [
      "Track 12381 is shorter than expected 30 seconds, skipping.\n",
      "Track 12388 is shorter than expected 30 seconds, skipping.\n"
     ]
    },
    {
     "name": "stderr",
     "output_type": "stream",
     "text": [
      "Processing tracks:   8%|████▌                                                      | 929/12114 [01:53<16:31, 11.28it/s]"
     ]
    },
    {
     "name": "stdout",
     "output_type": "stream",
     "text": [
      "Error processing track 12396: could not broadcast input array from shape (130,13,1) into shape (10,13,1)\n",
      "Track 12398 is shorter than expected 30 seconds, skipping.\n",
      "Track 12399 is shorter than expected 30 seconds, skipping.\n",
      "Track 12402 is shorter than expected 30 seconds, skipping.\n"
     ]
    },
    {
     "name": "stderr",
     "output_type": "stream",
     "text": [
      "Processing tracks:   8%|████▌                                                      | 933/12114 [01:53<13:20, 13.97it/s]"
     ]
    },
    {
     "name": "stdout",
     "output_type": "stream",
     "text": [
      "Track 12406 is shorter than expected 30 seconds, skipping.\n",
      "Track 12407 is shorter than expected 30 seconds, skipping.\n",
      "Track 12408 is shorter than expected 30 seconds, skipping.\n",
      "Error processing track 12409: could not broadcast input array from shape (130,13,1) into shape (10,13,1)\n",
      "Track 12410 is shorter than expected 30 seconds, skipping.\n"
     ]
    },
    {
     "name": "stderr",
     "output_type": "stream",
     "text": [
      "Processing tracks:   8%|████▌                                                      | 937/12114 [01:53<11:57, 15.58it/s]"
     ]
    },
    {
     "name": "stdout",
     "output_type": "stream",
     "text": [
      "Error processing track 12412: could not broadcast input array from shape (130,13,1) into shape (10,13,1)\n",
      "Track 12413 is shorter than expected 30 seconds, skipping.\n",
      "Track 12419 is shorter than expected 30 seconds, skipping.\n",
      "Track 12420 is shorter than expected 30 seconds, skipping.\n"
     ]
    },
    {
     "name": "stderr",
     "output_type": "stream",
     "text": [
      "Processing tracks:   8%|████▌                                                      | 941/12114 [01:53<11:15, 16.54it/s]"
     ]
    },
    {
     "name": "stdout",
     "output_type": "stream",
     "text": [
      "Track 12421 is shorter than expected 30 seconds, skipping.\n",
      "Error processing track 12422: could not broadcast input array from shape (130,13,1) into shape (10,13,1)\n",
      "Error processing track 12423: could not broadcast input array from shape (130,13,1) into shape (10,13,1)\n",
      "Track 12424 is shorter than expected 30 seconds, skipping.\n"
     ]
    },
    {
     "name": "stderr",
     "output_type": "stream",
     "text": [
      "Processing tracks:   8%|████▌                                                      | 945/12114 [01:53<11:15, 16.54it/s]"
     ]
    },
    {
     "name": "stdout",
     "output_type": "stream",
     "text": [
      "Error processing track 12425: could not broadcast input array from shape (130,13,1) into shape (10,13,1)\n",
      "Track 12447 is shorter than expected 30 seconds, skipping.\n",
      "Track 12448 is shorter than expected 30 seconds, skipping.\n",
      "Track 12449 is shorter than expected 30 seconds, skipping.\n"
     ]
    },
    {
     "name": "stderr",
     "output_type": "stream",
     "text": [
      "Processing tracks:   8%|████▌                                                      | 949/12114 [01:54<10:59, 16.92it/s]"
     ]
    },
    {
     "name": "stdout",
     "output_type": "stream",
     "text": [
      "Error processing track 12451: could not broadcast input array from shape (130,13,1) into shape (10,13,1)\n",
      "Track 12517 is shorter than expected 30 seconds, skipping.\n",
      "Track 12520 is shorter than expected 30 seconds, skipping.\n"
     ]
    },
    {
     "name": "stderr",
     "output_type": "stream",
     "text": [
      "Processing tracks:   8%|████▋                                                      | 951/12114 [01:54<21:13,  8.77it/s]"
     ]
    },
    {
     "name": "stdout",
     "output_type": "stream",
     "text": [
      "Error processing track 12523: could not broadcast input array from shape (130,13,1) into shape (10,13,1)\n",
      "Error processing track 12533: could not broadcast input array from shape (130,13,1) into shape (10,13,1)\n",
      "Track 12534 is shorter than expected 30 seconds, skipping.\n"
     ]
    },
    {
     "name": "stderr",
     "output_type": "stream",
     "text": [
      "Processing tracks:   8%|████▋                                                      | 955/12114 [01:55<19:32,  9.52it/s]"
     ]
    },
    {
     "name": "stdout",
     "output_type": "stream",
     "text": [
      "Error processing track 12535: could not broadcast input array from shape (130,13,1) into shape (10,13,1)\n",
      "Track 12538 is shorter than expected 30 seconds, skipping.\n",
      "Track 12539 is shorter than expected 30 seconds, skipping.\n",
      "Error processing track 12554: could not broadcast input array from shape (130,13,1) into shape (10,13,1)\n"
     ]
    },
    {
     "name": "stderr",
     "output_type": "stream",
     "text": [
      "Processing tracks:   8%|████▋                                                      | 959/12114 [01:55<27:51,  6.68it/s]"
     ]
    },
    {
     "name": "stdout",
     "output_type": "stream",
     "text": [
      "Error processing track 12555: could not broadcast input array from shape (130,13,1) into shape (10,13,1)\n",
      "Error processing track 12556: could not broadcast input array from shape (130,13,1) into shape (10,13,1)\n",
      "Track 12566 is shorter than expected 30 seconds, skipping.\n",
      "Track 12567 is shorter than expected 30 seconds, skipping.\n"
     ]
    },
    {
     "name": "stderr",
     "output_type": "stream",
     "text": [
      "Processing tracks:   8%|████▋                                                      | 965/12114 [01:56<16:20, 11.37it/s]"
     ]
    },
    {
     "name": "stdout",
     "output_type": "stream",
     "text": [
      "Error processing track 12568: index can't contain negative values\n",
      "Track 12569 is shorter than expected 30 seconds, skipping.\n",
      "Track 12570 is shorter than expected 30 seconds, skipping.\n",
      "Error processing track 12571: index can't contain negative values\n",
      "Track 12572 is shorter than expected 30 seconds, skipping.\n"
     ]
    },
    {
     "name": "stderr",
     "output_type": "stream",
     "text": [
      "Processing tracks:   8%|████▋                                                      | 969/12114 [01:56<13:02, 14.24it/s]"
     ]
    },
    {
     "name": "stdout",
     "output_type": "stream",
     "text": [
      "Track 12573 is shorter than expected 30 seconds, skipping.\n",
      "Track 12574 is shorter than expected 30 seconds, skipping.\n",
      "Track 12575 is shorter than expected 30 seconds, skipping.\n",
      "Track 12576 is shorter than expected 30 seconds, skipping.\n",
      "Track 12577 is shorter than expected 30 seconds, skipping.\n"
     ]
    },
    {
     "name": "stderr",
     "output_type": "stream",
     "text": [
      "Processing tracks:   8%|████▋                                                      | 973/12114 [01:56<11:26, 16.23it/s]"
     ]
    },
    {
     "name": "stdout",
     "output_type": "stream",
     "text": [
      "Track 12578 is shorter than expected 30 seconds, skipping.\n",
      "Track 12579 is shorter than expected 30 seconds, skipping.\n",
      "Track 12608 is shorter than expected 30 seconds, skipping.\n",
      "Error processing track 12609: could not broadcast input array from shape (130,13,1) into shape (10,13,1)\n"
     ]
    },
    {
     "name": "stderr",
     "output_type": "stream",
     "text": [
      "Processing tracks:   8%|████▊                                                      | 977/12114 [01:56<11:18, 16.41it/s]"
     ]
    },
    {
     "name": "stdout",
     "output_type": "stream",
     "text": [
      "Track 12610 is shorter than expected 30 seconds, skipping.\n",
      "Track 12611 is shorter than expected 30 seconds, skipping.\n",
      "Track 12614 is shorter than expected 30 seconds, skipping.\n",
      "Track 12673 is shorter than expected 30 seconds, skipping.\n"
     ]
    },
    {
     "name": "stderr",
     "output_type": "stream",
     "text": [
      "Processing tracks:   8%|████▊                                                      | 979/12114 [01:57<10:57, 16.95it/s]"
     ]
    },
    {
     "name": "stdout",
     "output_type": "stream",
     "text": [
      "Track 12674 is shorter than expected 30 seconds, skipping.\n"
     ]
    },
    {
     "name": "stderr",
     "output_type": "stream",
     "text": [
      "Processing tracks:   8%|████▊                                                      | 983/12114 [01:57<19:14,  9.64it/s]"
     ]
    },
    {
     "name": "stdout",
     "output_type": "stream",
     "text": [
      "Error processing track 12675: index can't contain negative values\n",
      "Track 12676 is shorter than expected 30 seconds, skipping.\n",
      "Track 12677 is shorter than expected 30 seconds, skipping.\n",
      "Track 12744 is shorter than expected 30 seconds, skipping.\n",
      "Track 12833 is shorter than expected 30 seconds, skipping.\n"
     ]
    },
    {
     "name": "stderr",
     "output_type": "stream",
     "text": [
      "Processing tracks:   8%|████▊                                                      | 987/12114 [01:58<17:59, 10.30it/s]"
     ]
    },
    {
     "name": "stdout",
     "output_type": "stream",
     "text": [
      "Error processing track 12835: index can't contain negative values\n",
      "Error processing track 12836: index can't contain negative values\n",
      "Track 13014 is shorter than expected 30 seconds, skipping.\n"
     ]
    },
    {
     "name": "stderr",
     "output_type": "stream",
     "text": [
      "Processing tracks:   8%|████▊                                                      | 991/12114 [01:58<25:38,  7.23it/s]"
     ]
    },
    {
     "name": "stdout",
     "output_type": "stream",
     "text": [
      "Error processing track 13190: index can't contain negative values\n",
      "Track 13192 is shorter than expected 30 seconds, skipping.\n",
      "Track 13196 is shorter than expected 30 seconds, skipping.\n",
      "Track 13207 is shorter than expected 30 seconds, skipping.\n"
     ]
    },
    {
     "name": "stderr",
     "output_type": "stream",
     "text": [
      "Processing tracks:   8%|████▊                                                      | 993/12114 [01:59<22:43,  8.16it/s]"
     ]
    },
    {
     "name": "stdout",
     "output_type": "stream",
     "text": [
      "Error processing track 13209: could not broadcast input array from shape (130,13,1) into shape (10,13,1)\n",
      "Track 13225 is shorter than expected 30 seconds, skipping.\n",
      "Error processing track 13326: could not broadcast input array from shape (130,13,1) into shape (10,13,1)\n"
     ]
    },
    {
     "name": "stderr",
     "output_type": "stream",
     "text": [
      "Processing tracks:   8%|████▊                                                      | 997/12114 [01:59<17:16, 10.73it/s]"
     ]
    },
    {
     "name": "stdout",
     "output_type": "stream",
     "text": [
      "Error processing track 13327: could not broadcast input array from shape (130,13,1) into shape (10,13,1)\n",
      "Track 13329 is shorter than expected 30 seconds, skipping.\n",
      "Track 13330 is shorter than expected 30 seconds, skipping.\n"
     ]
    },
    {
     "name": "stderr",
     "output_type": "stream",
     "text": [
      "Processing tracks:   8%|████▊                                                     | 1001/12114 [01:59<14:41, 12.61it/s]"
     ]
    },
    {
     "name": "stdout",
     "output_type": "stream",
     "text": [
      "Error processing track 13331: index can't contain negative values\n",
      "Track 13363 is shorter than expected 30 seconds, skipping.\n",
      "Error processing track 13365: could not broadcast input array from shape (130,13,1) into shape (10,13,1)\n",
      "Error processing track 13366: index can't contain negative values\n"
     ]
    },
    {
     "name": "stderr",
     "output_type": "stream",
     "text": [
      "Processing tracks:   8%|████▊                                                     | 1003/12114 [01:59<18:25, 10.05it/s]"
     ]
    },
    {
     "name": "stdout",
     "output_type": "stream",
     "text": [
      "Error processing track 13367: could not broadcast input array from shape (130,13,1) into shape (10,13,1)\n",
      "Track 13369 is shorter than expected 30 seconds, skipping.\n",
      "Track 13440 is shorter than expected 30 seconds, skipping.\n"
     ]
    },
    {
     "name": "stderr",
     "output_type": "stream",
     "text": [
      "Processing tracks:   8%|████▊                                                     | 1007/12114 [02:00<17:52, 10.36it/s]"
     ]
    },
    {
     "name": "stdout",
     "output_type": "stream",
     "text": [
      "Error processing track 13472: could not broadcast input array from shape (130,13,1) into shape (10,13,1)\n",
      "Track 13551 is shorter than expected 30 seconds, skipping.\n",
      "Error processing track 13555: could not broadcast input array from shape (130,13,1) into shape (10,13,1)\n",
      "Track 13557 is shorter than expected 30 seconds, skipping.\n"
     ]
    },
    {
     "name": "stderr",
     "output_type": "stream",
     "text": [
      "Processing tracks:   8%|████▊                                                     | 1013/12114 [02:00<12:58, 14.27it/s]"
     ]
    },
    {
     "name": "stdout",
     "output_type": "stream",
     "text": [
      "Track 13558 is shorter than expected 30 seconds, skipping.\n",
      "Track 13560 is shorter than expected 30 seconds, skipping.\n",
      "Track 13563 is shorter than expected 30 seconds, skipping.\n",
      "Track 13564 is shorter than expected 30 seconds, skipping.\n",
      "Track 13580 is shorter than expected 30 seconds, skipping.\n"
     ]
    },
    {
     "name": "stderr",
     "output_type": "stream",
     "text": [
      "Processing tracks:   8%|████▊                                                     | 1015/12114 [02:00<12:02, 15.36it/s]"
     ]
    },
    {
     "name": "stdout",
     "output_type": "stream",
     "text": [
      "Track 13581 is shorter than expected 30 seconds, skipping.\n",
      "Error processing track 13582: index can't contain negative values\n",
      "Error processing track 13585: index can't contain negative values\n"
     ]
    },
    {
     "name": "stderr",
     "output_type": "stream",
     "text": [
      "Processing tracks:   8%|████▊                                                     | 1017/12114 [02:01<34:02,  5.43it/s]"
     ]
    },
    {
     "name": "stdout",
     "output_type": "stream",
     "text": [
      "Error processing track 13586: index can't contain negative values\n",
      "Track 13587 is shorter than expected 30 seconds, skipping.\n"
     ]
    },
    {
     "name": "stderr",
     "output_type": "stream",
     "text": [
      "Processing tracks:   8%|████▉                                                     | 1019/12114 [02:01<30:52,  5.99it/s]"
     ]
    },
    {
     "name": "stdout",
     "output_type": "stream",
     "text": [
      "Error processing track 13590: could not broadcast input array from shape (130,13,1) into shape (10,13,1)\n"
     ]
    },
    {
     "name": "stderr",
     "output_type": "stream",
     "text": [
      "Processing tracks:   8%|████▉                                                     | 1023/12114 [02:02<32:10,  5.75it/s]"
     ]
    },
    {
     "name": "stdout",
     "output_type": "stream",
     "text": [
      "Error processing track 13593: could not broadcast input array from shape (130,13,1) into shape (10,13,1)\n",
      "Track 13595 is shorter than expected 30 seconds, skipping.\n",
      "Track 13597 is shorter than expected 30 seconds, skipping.\n",
      "Track 13598 is shorter than expected 30 seconds, skipping.\n",
      "Error processing track 13646: index can't contain negative values\n"
     ]
    },
    {
     "name": "stderr",
     "output_type": "stream",
     "text": [
      "Processing tracks:   8%|████▉                                                     | 1027/12114 [02:03<24:33,  7.52it/s]"
     ]
    },
    {
     "name": "stdout",
     "output_type": "stream",
     "text": [
      "Error processing track 13649: could not broadcast input array from shape (130,13,1) into shape (10,13,1)\n",
      "Error processing track 13661: could not broadcast input array from shape (130,13,1) into shape (10,13,1)\n",
      "Track 13662 is shorter than expected 30 seconds, skipping.\n",
      "Error processing track 13664: could not broadcast input array from shape (130,13,1) into shape (10,13,1)\n"
     ]
    },
    {
     "name": "stderr",
     "output_type": "stream",
     "text": [
      "Processing tracks:   8%|████▉                                                     | 1029/12114 [02:03<20:24,  9.06it/s]"
     ]
    },
    {
     "name": "stdout",
     "output_type": "stream",
     "text": [
      "Track 13671 is shorter than expected 30 seconds, skipping.\n"
     ]
    },
    {
     "name": "stderr",
     "output_type": "stream",
     "text": [
      "Processing tracks:   9%|████▉                                                     | 1031/12114 [02:03<22:48,  8.10it/s]"
     ]
    },
    {
     "name": "stdout",
     "output_type": "stream",
     "text": [
      "Error processing track 13672: could not broadcast input array from shape (130,13,1) into shape (10,13,1)\n",
      "Track 13725 is shorter than expected 30 seconds, skipping.\n",
      "Error processing track 13742: index can't contain negative values\n"
     ]
    },
    {
     "name": "stderr",
     "output_type": "stream",
     "text": [
      "Processing tracks:   9%|████▉                                                     | 1035/12114 [02:04<26:16,  7.03it/s]"
     ]
    },
    {
     "name": "stdout",
     "output_type": "stream",
     "text": [
      "Error processing track 13744: index can't contain negative values\n",
      "Error processing track 13761: could not broadcast input array from shape (130,13,1) into shape (10,13,1)\n",
      "Track 13762 is shorter than expected 30 seconds, skipping.\n",
      "Error processing track 13763: could not broadcast input array from shape (130,13,1) into shape (10,13,1)\n"
     ]
    },
    {
     "name": "stderr",
     "output_type": "stream",
     "text": [
      "Processing tracks:   9%|████▉                                                     | 1039/12114 [02:04<18:22, 10.05it/s]"
     ]
    },
    {
     "name": "stdout",
     "output_type": "stream",
     "text": [
      "Error processing track 13764: could not broadcast input array from shape (130,13,1) into shape (10,13,1)\n",
      "Track 13765 is shorter than expected 30 seconds, skipping.\n",
      "Track 13766 is shorter than expected 30 seconds, skipping.\n",
      "Track 13772 is shorter than expected 30 seconds, skipping.\n"
     ]
    },
    {
     "name": "stderr",
     "output_type": "stream",
     "text": [
      "Processing tracks:   9%|████▉                                                     | 1041/12114 [02:04<16:05, 11.46it/s]"
     ]
    },
    {
     "name": "stdout",
     "output_type": "stream",
     "text": [
      "Error processing track 13776: could not broadcast input array from shape (130,13,1) into shape (10,13,1)\n",
      "Error processing track 13805: could not broadcast input array from shape (130,13,1) into shape (10,13,1)\n"
     ]
    },
    {
     "name": "stderr",
     "output_type": "stream",
     "text": [
      "Processing tracks:   9%|█████                                                     | 1045/12114 [02:05<22:07,  8.34it/s]"
     ]
    },
    {
     "name": "stdout",
     "output_type": "stream",
     "text": [
      "Error processing track 13833: could not broadcast input array from shape (130,13,1) into shape (10,13,1)\n",
      "Error processing track 13834: could not broadcast input array from shape (130,13,1) into shape (10,13,1)\n",
      "Error processing track 13835: could not broadcast input array from shape (130,13,1) into shape (10,13,1)\n",
      "Track 13838 is shorter than expected 30 seconds, skipping.\n"
     ]
    },
    {
     "name": "stderr",
     "output_type": "stream",
     "text": [
      "Processing tracks:   9%|█████                                                     | 1049/12114 [02:05<20:10,  9.14it/s]"
     ]
    },
    {
     "name": "stdout",
     "output_type": "stream",
     "text": [
      "Error processing track 13839: could not broadcast input array from shape (130,13,1) into shape (10,13,1)\n",
      "Track 13863 is shorter than expected 30 seconds, skipping.\n",
      "Track 13864 is shorter than expected 30 seconds, skipping.\n",
      "Error processing track 13867: could not broadcast input array from shape (130,13,1) into shape (10,13,1)\n"
     ]
    },
    {
     "name": "stderr",
     "output_type": "stream",
     "text": [
      "Processing tracks:   9%|█████                                                     | 1053/12114 [02:06<15:41, 11.74it/s]"
     ]
    },
    {
     "name": "stdout",
     "output_type": "stream",
     "text": [
      "Error processing track 13868: could not broadcast input array from shape (130,13,1) into shape (10,13,1)\n",
      "Track 13895 is shorter than expected 30 seconds, skipping.\n",
      "Error processing track 13908: index can't contain negative values\n",
      "Error processing track 13910: index can't contain negative values\n"
     ]
    },
    {
     "name": "stderr",
     "output_type": "stream",
     "text": [
      "Processing tracks:   9%|█████                                                     | 1055/12114 [02:06<13:55, 13.24it/s]"
     ]
    },
    {
     "name": "stdout",
     "output_type": "stream",
     "text": [
      "Track 13911 is shorter than expected 30 seconds, skipping.\n"
     ]
    },
    {
     "name": "stderr",
     "output_type": "stream",
     "text": [
      "Processing tracks:   9%|█████                                                     | 1059/12114 [02:07<39:02,  4.72it/s]"
     ]
    },
    {
     "name": "stdout",
     "output_type": "stream",
     "text": [
      "Error processing track 13912: index can't contain negative values\n",
      "Error processing track 13914: could not broadcast input array from shape (130,13,1) into shape (10,13,1)\n",
      "Track 13976 is shorter than expected 30 seconds, skipping.\n",
      "Track 13978 is shorter than expected 30 seconds, skipping.\n"
     ]
    },
    {
     "name": "stderr",
     "output_type": "stream",
     "text": [
      "Processing tracks:   9%|█████                                                     | 1061/12114 [02:08<57:57,  3.18it/s]"
     ]
    },
    {
     "name": "stdout",
     "output_type": "stream",
     "text": [
      "Error processing track 13979: index can't contain negative values\n",
      "Error processing track 13999: index can't contain negative values\n",
      "Error processing track 14014: index can't contain negative values\n"
     ]
    },
    {
     "name": "stderr",
     "output_type": "stream",
     "text": [
      "Processing tracks:   9%|████▉                                                   | 1063/12114 [02:09<1:03:52,  2.88it/s]"
     ]
    },
    {
     "name": "stdout",
     "output_type": "stream",
     "text": [
      "Error processing track 14016: index can't contain negative values\n",
      "Track 14017 is shorter than expected 30 seconds, skipping.\n"
     ]
    },
    {
     "name": "stderr",
     "output_type": "stream",
     "text": [
      "Processing tracks:   9%|█████                                                     | 1069/12114 [02:10<38:04,  4.84it/s]"
     ]
    },
    {
     "name": "stdout",
     "output_type": "stream",
     "text": [
      "Error processing track 14018: index can't contain negative values\n",
      "Track 14053 is shorter than expected 30 seconds, skipping.\n",
      "Track 14055 is shorter than expected 30 seconds, skipping.\n",
      "Track 14059 is shorter than expected 30 seconds, skipping.\n",
      "Error processing track 14060: index can't contain negative values\n"
     ]
    },
    {
     "name": "stderr",
     "output_type": "stream",
     "text": [
      "Processing tracks:   9%|█████▏                                                    | 1073/12114 [02:10<23:42,  7.76it/s]"
     ]
    },
    {
     "name": "stdout",
     "output_type": "stream",
     "text": [
      "Track 14061 is shorter than expected 30 seconds, skipping.\n",
      "Track 14062 is shorter than expected 30 seconds, skipping.\n",
      "Track 14064 is shorter than expected 30 seconds, skipping.\n",
      "Error processing track 14066: index can't contain negative values\n"
     ]
    },
    {
     "name": "stderr",
     "output_type": "stream",
     "text": [
      "Processing tracks:   9%|█████▏                                                    | 1075/12114 [02:11<19:56,  9.23it/s]"
     ]
    },
    {
     "name": "stdout",
     "output_type": "stream",
     "text": [
      "Track 14067 is shorter than expected 30 seconds, skipping.\n",
      "Track 14068 is shorter than expected 30 seconds, skipping.\n",
      "Track 14069 is shorter than expected 30 seconds, skipping.\n"
     ]
    },
    {
     "name": "stderr",
     "output_type": "stream",
     "text": [
      "Processing tracks:   9%|█████▏                                                    | 1077/12114 [02:11<22:28,  8.18it/s]"
     ]
    },
    {
     "name": "stdout",
     "output_type": "stream",
     "text": [
      "Error processing track 14070: could not broadcast input array from shape (130,13,1) into shape (10,13,1)\n"
     ]
    },
    {
     "name": "stderr",
     "output_type": "stream",
     "text": [
      "Processing tracks:   9%|█████▏                                                    | 1079/12114 [02:11<23:49,  7.72it/s]"
     ]
    },
    {
     "name": "stdout",
     "output_type": "stream",
     "text": [
      "Error processing track 14071: could not broadcast input array from shape (130,13,1) into shape (10,13,1)\n",
      "Track 14072 is shorter than expected 30 seconds, skipping.\n",
      "Track 14073 is shorter than expected 30 seconds, skipping.\n"
     ]
    },
    {
     "name": "stderr",
     "output_type": "stream",
     "text": [
      "Processing tracks:   9%|█████▏                                                    | 1081/12114 [02:12<25:36,  7.18it/s]"
     ]
    },
    {
     "name": "stdout",
     "output_type": "stream",
     "text": [
      "Error processing track 14075: could not broadcast input array from shape (130,13,1) into shape (10,13,1)\n"
     ]
    },
    {
     "name": "stderr",
     "output_type": "stream",
     "text": [
      "Processing tracks:   9%|█████▏                                                    | 1084/12114 [02:12<23:42,  7.75it/s]"
     ]
    },
    {
     "name": "stdout",
     "output_type": "stream",
     "text": [
      "Error processing track 14076: could not broadcast input array from shape (130,13,1) into shape (10,13,1)\n",
      "Track 14077 is shorter than expected 30 seconds, skipping.\n",
      "Track 14078 is shorter than expected 30 seconds, skipping.\n"
     ]
    },
    {
     "name": "stderr",
     "output_type": "stream",
     "text": [
      "Processing tracks:   9%|█████▏                                                    | 1086/12114 [02:12<19:23,  9.48it/s]"
     ]
    },
    {
     "name": "stdout",
     "output_type": "stream",
     "text": [
      "Track 14079 is shorter than expected 30 seconds, skipping.\n",
      "Track 14080 is shorter than expected 30 seconds, skipping.\n",
      "Error processing track 14081: could not broadcast input array from shape (130,13,1) into shape (10,13,1)\n"
     ]
    },
    {
     "name": "stderr",
     "output_type": "stream",
     "text": [
      "Processing tracks:   9%|█████▏                                                    | 1090/12114 [02:12<16:23, 11.21it/s]"
     ]
    },
    {
     "name": "stdout",
     "output_type": "stream",
     "text": [
      "Track 14082 is shorter than expected 30 seconds, skipping.\n",
      "Track 14083 is shorter than expected 30 seconds, skipping.\n",
      "Error processing track 14084: could not broadcast input array from shape (130,13,1) into shape (10,13,1)\n"
     ]
    },
    {
     "name": "stderr",
     "output_type": "stream",
     "text": [
      "Processing tracks:   9%|█████▏                                                    | 1092/12114 [02:12<15:53, 11.56it/s]"
     ]
    },
    {
     "name": "stdout",
     "output_type": "stream",
     "text": [
      "Error processing track 14085: index can't contain negative values\n",
      "Error processing track 14086: could not broadcast input array from shape (130,13,1) into shape (10,13,1)\n"
     ]
    },
    {
     "name": "stderr",
     "output_type": "stream",
     "text": [
      "Processing tracks:   9%|█████▏                                                    | 1096/12114 [02:13<17:51, 10.28it/s]"
     ]
    },
    {
     "name": "stdout",
     "output_type": "stream",
     "text": [
      "Error processing track 14087: could not broadcast input array from shape (130,13,1) into shape (10,13,1)\n",
      "Track 14088 is shorter than expected 30 seconds, skipping.\n",
      "Error processing track 14099: could not broadcast input array from shape (130,13,1) into shape (10,13,1)\n",
      "Track 14100 is shorter than expected 30 seconds, skipping.\n"
     ]
    },
    {
     "name": "stderr",
     "output_type": "stream",
     "text": [
      "Processing tracks:   9%|█████▎                                                    | 1100/12114 [02:13<14:37, 12.55it/s]"
     ]
    },
    {
     "name": "stdout",
     "output_type": "stream",
     "text": [
      "Error processing track 14101: could not broadcast input array from shape (130,13,1) into shape (10,13,1)\n",
      "Error processing track 14102: could not broadcast input array from shape (130,13,1) into shape (10,13,1)\n",
      "Error processing track 14103: could not broadcast input array from shape (130,13,1) into shape (10,13,1)\n",
      "Track 14104 is shorter than expected 30 seconds, skipping.\n"
     ]
    },
    {
     "name": "stderr",
     "output_type": "stream",
     "text": [
      "Processing tracks:   9%|█████▎                                                    | 1102/12114 [02:13<14:43, 12.47it/s]"
     ]
    },
    {
     "name": "stdout",
     "output_type": "stream",
     "text": [
      "Error processing track 14105: could not broadcast input array from shape (130,13,1) into shape (10,13,1)\n",
      "Track 14107 is shorter than expected 30 seconds, skipping.\n",
      "Error processing track 14110: could not broadcast input array from shape (130,13,1) into shape (10,13,1)\n"
     ]
    },
    {
     "name": "stderr",
     "output_type": "stream",
     "text": [
      "Processing tracks:   9%|█████▎                                                    | 1106/12114 [02:14<13:53, 13.20it/s]"
     ]
    },
    {
     "name": "stdout",
     "output_type": "stream",
     "text": [
      "Track 14198 is shorter than expected 30 seconds, skipping.\n",
      "Error processing track 14202: could not broadcast input array from shape (130,13,1) into shape (10,13,1)\n",
      "Track 14204 is shorter than expected 30 seconds, skipping.\n",
      "Error processing track 14207: could not broadcast input array from shape (130,13,1) into shape (10,13,1)\n"
     ]
    },
    {
     "name": "stderr",
     "output_type": "stream",
     "text": [
      "Processing tracks:   9%|█████▎                                                    | 1108/12114 [02:14<17:36, 10.42it/s]"
     ]
    },
    {
     "name": "stdout",
     "output_type": "stream",
     "text": [
      "Error processing track 14209: could not broadcast input array from shape (130,13,1) into shape (10,13,1)\n"
     ]
    },
    {
     "name": "stderr",
     "output_type": "stream",
     "text": [
      "Processing tracks:   9%|█████▎                                                    | 1112/12114 [02:14<17:01, 10.77it/s]"
     ]
    },
    {
     "name": "stdout",
     "output_type": "stream",
     "text": [
      "Error processing track 14210: could not broadcast input array from shape (130,13,1) into shape (10,13,1)\n",
      "Track 14211 is shorter than expected 30 seconds, skipping.\n",
      "Track 14212 is shorter than expected 30 seconds, skipping.\n",
      "Track 14213 is shorter than expected 30 seconds, skipping.\n",
      "Track 14214 is shorter than expected 30 seconds, skipping.\n"
     ]
    },
    {
     "name": "stderr",
     "output_type": "stream",
     "text": [
      "Processing tracks:   9%|█████▎                                                    | 1116/12114 [02:15<14:01, 13.07it/s]"
     ]
    },
    {
     "name": "stdout",
     "output_type": "stream",
     "text": [
      "Error processing track 14215: could not broadcast input array from shape (130,13,1) into shape (10,13,1)\n",
      "Error processing track 14216: could not broadcast input array from shape (130,13,1) into shape (10,13,1)\n",
      "Track 14217 is shorter than expected 30 seconds, skipping.\n",
      "Track 14218 is shorter than expected 30 seconds, skipping.\n"
     ]
    },
    {
     "name": "stderr",
     "output_type": "stream",
     "text": [
      "Processing tracks:   9%|█████▎                                                    | 1120/12114 [02:15<12:09, 15.07it/s]"
     ]
    },
    {
     "name": "stdout",
     "output_type": "stream",
     "text": [
      "Track 14219 is shorter than expected 30 seconds, skipping.\n",
      "Track 14220 is shorter than expected 30 seconds, skipping.\n",
      "Error processing track 14221: could not broadcast input array from shape (130,13,1) into shape (10,13,1)\n",
      "Error processing track 14222: could not broadcast input array from shape (130,13,1) into shape (10,13,1)\n"
     ]
    },
    {
     "name": "stderr",
     "output_type": "stream",
     "text": [
      "Processing tracks:   9%|█████▎                                                    | 1122/12114 [02:15<12:06, 15.13it/s]"
     ]
    },
    {
     "name": "stdout",
     "output_type": "stream",
     "text": [
      "Track 14223 is shorter than expected 30 seconds, skipping.\n",
      "Error processing track 14340: index can't contain negative values\n"
     ]
    },
    {
     "name": "stderr",
     "output_type": "stream",
     "text": [
      "Processing tracks:   9%|█████▍                                                    | 1124/12114 [02:15<17:19, 10.57it/s]"
     ]
    },
    {
     "name": "stdout",
     "output_type": "stream",
     "text": [
      "Error processing track 14341: could not broadcast input array from shape (130,13,1) into shape (10,13,1)\n",
      "Track 14342 is shorter than expected 30 seconds, skipping.\n"
     ]
    },
    {
     "name": "stderr",
     "output_type": "stream",
     "text": [
      "Processing tracks:   9%|█████▍                                                    | 1126/12114 [02:16<19:55,  9.19it/s]"
     ]
    },
    {
     "name": "stdout",
     "output_type": "stream",
     "text": [
      "Error processing track 14343: could not broadcast input array from shape (130,13,1) into shape (10,13,1)\n"
     ]
    },
    {
     "name": "stderr",
     "output_type": "stream",
     "text": [
      "Processing tracks:   9%|█████▍                                                    | 1128/12114 [02:16<24:05,  7.60it/s]"
     ]
    },
    {
     "name": "stdout",
     "output_type": "stream",
     "text": [
      "Error processing track 14345: could not broadcast input array from shape (130,13,1) into shape (10,13,1)\n",
      "Error processing track 14346: could not broadcast input array from shape (130,13,1) into shape (10,13,1)\n"
     ]
    },
    {
     "name": "stderr",
     "output_type": "stream",
     "text": [
      "Processing tracks:   9%|█████▍                                                    | 1129/12114 [02:16<26:54,  6.80it/s]"
     ]
    },
    {
     "name": "stdout",
     "output_type": "stream",
     "text": [
      "Error processing track 14347: could not broadcast input array from shape (130,13,1) into shape (10,13,1)\n"
     ]
    },
    {
     "name": "stderr",
     "output_type": "stream",
     "text": [
      "Processing tracks:   9%|█████▍                                                    | 1130/12114 [02:17<36:40,  4.99it/s]"
     ]
    },
    {
     "name": "stdout",
     "output_type": "stream",
     "text": [
      "Error processing track 14349: could not broadcast input array from shape (130,13,1) into shape (10,13,1)\n"
     ]
    },
    {
     "name": "stderr",
     "output_type": "stream",
     "text": [
      "Processing tracks:   9%|█████▍                                                    | 1133/12114 [02:17<32:54,  5.56it/s]"
     ]
    },
    {
     "name": "stdout",
     "output_type": "stream",
     "text": [
      "Error processing track 14366: could not broadcast input array from shape (130,13,1) into shape (10,13,1)\n",
      "Track 14380 is shorter than expected 30 seconds, skipping.\n",
      "Track 14409 is shorter than expected 30 seconds, skipping.\n",
      "Error processing track 14435: could not broadcast input array from shape (130,13,1) into shape (10,13,1)\n"
     ]
    },
    {
     "name": "stderr",
     "output_type": "stream",
     "text": [
      "Processing tracks:   9%|█████▍                                                    | 1135/12114 [02:17<25:04,  7.30it/s]"
     ]
    },
    {
     "name": "stdout",
     "output_type": "stream",
     "text": [
      "Error processing track 14440: could not broadcast input array from shape (130,13,1) into shape (10,13,1)\n",
      "Track 14477 is shorter than expected 30 seconds, skipping.\n"
     ]
    },
    {
     "name": "stderr",
     "output_type": "stream",
     "text": [
      "Processing tracks:   9%|█████▍                                                    | 1137/12114 [02:18<26:47,  6.83it/s]"
     ]
    },
    {
     "name": "stdout",
     "output_type": "stream",
     "text": [
      "Error processing track 14478: could not broadcast input array from shape (130,13,1) into shape (10,13,1)\n",
      "Track 14479 is shorter than expected 30 seconds, skipping.\n"
     ]
    },
    {
     "name": "stderr",
     "output_type": "stream",
     "text": [
      "Processing tracks:   9%|█████▍                                                    | 1139/12114 [02:18<27:36,  6.63it/s]"
     ]
    },
    {
     "name": "stdout",
     "output_type": "stream",
     "text": [
      "Error processing track 14481: could not broadcast input array from shape (130,13,1) into shape (10,13,1)\n",
      "Track 14494 is shorter than expected 30 seconds, skipping.\n"
     ]
    },
    {
     "name": "stderr",
     "output_type": "stream",
     "text": [
      "Processing tracks:   9%|█████▍                                                    | 1141/12114 [02:18<27:13,  6.72it/s]"
     ]
    },
    {
     "name": "stdout",
     "output_type": "stream",
     "text": [
      "Error processing track 14498: could not broadcast input array from shape (130,13,1) into shape (10,13,1)\n",
      "Track 14540 is shorter than expected 30 seconds, skipping.\n"
     ]
    },
    {
     "name": "stderr",
     "output_type": "stream",
     "text": [
      "Processing tracks:   9%|█████▍                                                    | 1143/12114 [02:19<32:01,  5.71it/s]"
     ]
    },
    {
     "name": "stdout",
     "output_type": "stream",
     "text": [
      "Error processing track 14543: could not broadcast input array from shape (130,13,1) into shape (10,13,1)\n",
      "Track 14566 is shorter than expected 30 seconds, skipping.\n"
     ]
    },
    {
     "name": "stderr",
     "output_type": "stream",
     "text": [
      "Processing tracks:   9%|█████▍                                                    | 1147/12114 [02:19<23:23,  7.82it/s]"
     ]
    },
    {
     "name": "stdout",
     "output_type": "stream",
     "text": [
      "Error processing track 14649: index can't contain negative values\n",
      "Track 14652 is shorter than expected 30 seconds, skipping.\n",
      "Track 14666 is shorter than expected 30 seconds, skipping.\n",
      "Track 14667 is shorter than expected 30 seconds, skipping.\n"
     ]
    },
    {
     "name": "stderr",
     "output_type": "stream",
     "text": [
      "Processing tracks:   9%|█████▌                                                    | 1149/12114 [02:19<19:19,  9.45it/s]"
     ]
    },
    {
     "name": "stdout",
     "output_type": "stream",
     "text": [
      "Track 14668 is shorter than expected 30 seconds, skipping.\n"
     ]
    },
    {
     "name": "stderr",
     "output_type": "stream",
     "text": [
      "Processing tracks:  10%|█████▌                                                    | 1151/12114 [02:19<21:38,  8.44it/s]"
     ]
    },
    {
     "name": "stdout",
     "output_type": "stream",
     "text": [
      "Error processing track 14670: could not broadcast input array from shape (130,13,1) into shape (10,13,1)\n",
      "Track 14671 is shorter than expected 30 seconds, skipping.\n",
      "Error processing track 14672: could not broadcast input array from shape (130,13,1) into shape (10,13,1)\n"
     ]
    },
    {
     "name": "stderr",
     "output_type": "stream",
     "text": [
      "Processing tracks:  10%|█████▌                                                    | 1153/12114 [02:20<19:27,  9.39it/s]"
     ]
    },
    {
     "name": "stdout",
     "output_type": "stream",
     "text": [
      "Track 14673 is shorter than expected 30 seconds, skipping.\n"
     ]
    },
    {
     "name": "stderr",
     "output_type": "stream",
     "text": [
      "Processing tracks:  10%|█████▌                                                    | 1157/12114 [02:20<19:37,  9.31it/s]"
     ]
    },
    {
     "name": "stdout",
     "output_type": "stream",
     "text": [
      "Error processing track 14674: could not broadcast input array from shape (130,13,1) into shape (10,13,1)\n",
      "Track 14675 is shorter than expected 30 seconds, skipping.\n",
      "Error processing track 14676: could not broadcast input array from shape (130,13,1) into shape (10,13,1)\n",
      "Track 14677 is shorter than expected 30 seconds, skipping.\n"
     ]
    },
    {
     "name": "stderr",
     "output_type": "stream",
     "text": [
      "Processing tracks:  10%|█████▌                                                    | 1159/12114 [02:20<16:59, 10.75it/s]"
     ]
    },
    {
     "name": "stdout",
     "output_type": "stream",
     "text": [
      "Track 14678 is shorter than expected 30 seconds, skipping.\n",
      "Track 14679 is shorter than expected 30 seconds, skipping.\n",
      "Error processing track 14680: could not broadcast input array from shape (130,13,1) into shape (10,13,1)\n"
     ]
    },
    {
     "name": "stderr",
     "output_type": "stream",
     "text": [
      "Processing tracks:  10%|█████▌                                                    | 1161/12114 [02:20<15:48, 11.55it/s]"
     ]
    },
    {
     "name": "stdout",
     "output_type": "stream",
     "text": [
      "Track 14773 is shorter than expected 30 seconds, skipping.\n"
     ]
    },
    {
     "name": "stderr",
     "output_type": "stream",
     "text": [
      "Processing tracks:  10%|█████▌                                                    | 1165/12114 [02:23<56:54,  3.21it/s]"
     ]
    },
    {
     "name": "stdout",
     "output_type": "stream",
     "text": [
      "Error processing track 14774: index can't contain negative values\n",
      "Track 14775 is shorter than expected 30 seconds, skipping.\n",
      "Track 14776 is shorter than expected 30 seconds, skipping.\n",
      "Track 14777 is shorter than expected 30 seconds, skipping.\n",
      "Track 14778 is shorter than expected 30 seconds, skipping.\n"
     ]
    },
    {
     "name": "stderr",
     "output_type": "stream",
     "text": [
      "Processing tracks:  10%|█████▍                                                  | 1169/12114 [02:25<1:05:56,  2.77it/s]"
     ]
    },
    {
     "name": "stdout",
     "output_type": "stream",
     "text": [
      "Error processing track 14779: index can't contain negative values\n",
      "Track 14780 is shorter than expected 30 seconds, skipping.\n",
      "Track 14781 is shorter than expected 30 seconds, skipping.\n"
     ]
    },
    {
     "name": "stderr",
     "output_type": "stream",
     "text": [
      "Processing tracks:  10%|█████▌                                                    | 1173/12114 [02:25<40:22,  4.52it/s]"
     ]
    },
    {
     "name": "stdout",
     "output_type": "stream",
     "text": [
      "Error processing track 14783: could not broadcast input array from shape (130,13,1) into shape (10,13,1)\n",
      "Track 14785 is shorter than expected 30 seconds, skipping.\n",
      "Error processing track 14787: could not broadcast input array from shape (130,13,1) into shape (10,13,1)\n",
      "Track 14791 is shorter than expected 30 seconds, skipping.\n",
      "Track 14792 is shorter than expected 30 seconds, skipping.\n"
     ]
    },
    {
     "name": "stderr",
     "output_type": "stream",
     "text": [
      "Processing tracks:  10%|█████▋                                                    | 1177/12114 [02:26<28:26,  6.41it/s]"
     ]
    },
    {
     "name": "stdout",
     "output_type": "stream",
     "text": [
      "Error processing track 14793: could not broadcast input array from shape (130,13,1) into shape (10,13,1)\n",
      "Track 14794 is shorter than expected 30 seconds, skipping.\n",
      "Track 14795 is shorter than expected 30 seconds, skipping.\n",
      "Track 14796 is shorter than expected 30 seconds, skipping.\n"
     ]
    },
    {
     "name": "stderr",
     "output_type": "stream",
     "text": [
      "Processing tracks:  10%|█████▋                                                    | 1181/12114 [02:26<23:09,  7.87it/s]"
     ]
    },
    {
     "name": "stdout",
     "output_type": "stream",
     "text": [
      "Error processing track 14798: could not broadcast input array from shape (130,13,1) into shape (10,13,1)\n",
      "Track 14800 is shorter than expected 30 seconds, skipping.\n",
      "Error processing track 14801: could not broadcast input array from shape (130,13,1) into shape (10,13,1)\n"
     ]
    },
    {
     "name": "stderr",
     "output_type": "stream",
     "text": [
      "Processing tracks:  10%|█████▋                                                    | 1183/12114 [02:26<21:02,  8.66it/s]"
     ]
    },
    {
     "name": "stdout",
     "output_type": "stream",
     "text": [
      "Error processing track 14802: could not broadcast input array from shape (130,13,1) into shape (10,13,1)\n",
      "Error processing track 14803: could not broadcast input array from shape (130,13,1) into shape (10,13,1)\n",
      "Error processing track 14808: could not broadcast input array from shape (130,13,1) into shape (10,13,1)\n"
     ]
    },
    {
     "name": "stderr",
     "output_type": "stream",
     "text": [
      "Processing tracks:  10%|█████▍                                                  | 1185/12114 [02:28<1:05:36,  2.78it/s]"
     ]
    },
    {
     "name": "stdout",
     "output_type": "stream",
     "text": [
      "Error processing track 14812: index can't contain negative values\n",
      "Track 14818 is shorter than expected 30 seconds, skipping.\n"
     ]
    },
    {
     "name": "stderr",
     "output_type": "stream",
     "text": [
      "Processing tracks:  10%|█████▋                                                    | 1187/12114 [02:28<55:07,  3.30it/s]"
     ]
    },
    {
     "name": "stdout",
     "output_type": "stream",
     "text": [
      "Error processing track 14820: could not broadcast input array from shape (130,13,1) into shape (10,13,1)\n",
      "Track 14862 is shorter than expected 30 seconds, skipping.\n"
     ]
    },
    {
     "name": "stderr",
     "output_type": "stream",
     "text": [
      "Processing tracks:  10%|█████▋                                                    | 1191/12114 [02:29<37:13,  4.89it/s]"
     ]
    },
    {
     "name": "stdout",
     "output_type": "stream",
     "text": [
      "Error processing track 14866: could not broadcast input array from shape (130,13,1) into shape (10,13,1)\n",
      "Track 14867 is shorter than expected 30 seconds, skipping.\n",
      "Track 14868 is shorter than expected 30 seconds, skipping.\n",
      "Track 14870 is shorter than expected 30 seconds, skipping.\n"
     ]
    },
    {
     "name": "stderr",
     "output_type": "stream",
     "text": [
      "Processing tracks:  10%|█████▋                                                    | 1195/12114 [02:29<24:09,  7.53it/s]"
     ]
    },
    {
     "name": "stdout",
     "output_type": "stream",
     "text": [
      "Track 14871 is shorter than expected 30 seconds, skipping.\n",
      "Error processing track 14874: could not broadcast input array from shape (130,13,1) into shape (10,13,1)\n",
      "Track 14876 is shorter than expected 30 seconds, skipping.\n",
      "Track 14877 is shorter than expected 30 seconds, skipping.\n"
     ]
    },
    {
     "name": "stderr",
     "output_type": "stream",
     "text": [
      "Processing tracks:  10%|█████▋                                                    | 1197/12114 [02:29<20:10,  9.02it/s]"
     ]
    },
    {
     "name": "stdout",
     "output_type": "stream",
     "text": [
      "Track 14879 is shorter than expected 30 seconds, skipping.\n",
      "Error processing track 14898: index can't contain negative values\n"
     ]
    },
    {
     "name": "stderr",
     "output_type": "stream",
     "text": [
      "Processing tracks:  10%|█████▊                                                    | 1201/12114 [02:30<22:03,  8.25it/s]"
     ]
    },
    {
     "name": "stdout",
     "output_type": "stream",
     "text": [
      "Error processing track 14900: index can't contain negative values\n",
      "Track 14907 is shorter than expected 30 seconds, skipping.\n",
      "Track 14908 is shorter than expected 30 seconds, skipping.\n"
     ]
    },
    {
     "name": "stderr",
     "output_type": "stream",
     "text": [
      "Processing tracks:  10%|█████▊                                                    | 1203/12114 [02:30<24:04,  7.56it/s]"
     ]
    },
    {
     "name": "stdout",
     "output_type": "stream",
     "text": [
      "Error processing track 14909: could not broadcast input array from shape (130,13,1) into shape (10,13,1)\n",
      "Track 14945 is shorter than expected 30 seconds, skipping.\n",
      "Error processing track 14946: could not broadcast input array from shape (130,13,1) into shape (10,13,1)\n"
     ]
    },
    {
     "name": "stderr",
     "output_type": "stream",
     "text": [
      "Processing tracks:  10%|█████▊                                                    | 1207/12114 [02:30<18:13,  9.97it/s]"
     ]
    },
    {
     "name": "stdout",
     "output_type": "stream",
     "text": [
      "Track 14948 is shorter than expected 30 seconds, skipping.\n",
      "Error processing track 14949: index can't contain negative values\n",
      "Track 14956 is shorter than expected 30 seconds, skipping.\n",
      "Error processing track 14961: index can't contain negative values\n"
     ]
    },
    {
     "name": "stderr",
     "output_type": "stream",
     "text": [
      "Processing tracks:  10%|█████▌                                                  | 1209/12114 [02:32<1:02:21,  2.91it/s]"
     ]
    },
    {
     "name": "stdout",
     "output_type": "stream",
     "text": [
      "Error processing track 14971: index can't contain negative values\n"
     ]
    },
    {
     "name": "stderr",
     "output_type": "stream",
     "text": [
      "Processing tracks:  10%|█████▌                                                  | 1210/12114 [02:35<2:14:39,  1.35it/s]"
     ]
    },
    {
     "name": "stdout",
     "output_type": "stream",
     "text": [
      "Error processing track 14972: index can't contain negative values\n"
     ]
    },
    {
     "name": "stderr",
     "output_type": "stream",
     "text": [
      "Processing tracks:  10%|█████▌                                                  | 1213/12114 [02:35<1:17:43,  2.34it/s]"
     ]
    },
    {
     "name": "stdout",
     "output_type": "stream",
     "text": [
      "Error processing track 14973: could not broadcast input array from shape (130,13,1) into shape (10,13,1)\n",
      "Track 14974 is shorter than expected 30 seconds, skipping.\n",
      "Error processing track 14975: could not broadcast input array from shape (130,13,1) into shape (10,13,1)\n",
      "Track 14997 is shorter than expected 30 seconds, skipping.\n"
     ]
    },
    {
     "name": "stderr",
     "output_type": "stream",
     "text": [
      "Processing tracks:  10%|█████▊                                                    | 1215/12114 [02:35<55:12,  3.29it/s]"
     ]
    },
    {
     "name": "stdout",
     "output_type": "stream",
     "text": [
      "Track 15002 is shorter than expected 30 seconds, skipping.\n"
     ]
    },
    {
     "name": "stderr",
     "output_type": "stream",
     "text": [
      "Processing tracks:  10%|█████▊                                                    | 1219/12114 [02:36<35:47,  5.07it/s]"
     ]
    },
    {
     "name": "stdout",
     "output_type": "stream",
     "text": [
      "Error processing track 15010: could not broadcast input array from shape (130,13,1) into shape (10,13,1)\n",
      "Track 15011 is shorter than expected 30 seconds, skipping.\n",
      "Track 15022 is shorter than expected 30 seconds, skipping.\n",
      "Track 15023 is shorter than expected 30 seconds, skipping.\n"
     ]
    },
    {
     "name": "stderr",
     "output_type": "stream",
     "text": [
      "Processing tracks:  10%|█████▊                                                    | 1221/12114 [02:36<32:01,  5.67it/s]"
     ]
    },
    {
     "name": "stdout",
     "output_type": "stream",
     "text": [
      "Track 15105 is shorter than expected 30 seconds, skipping.\n",
      "Error processing track 15106: could not broadcast input array from shape (130,13,1) into shape (10,13,1)\n"
     ]
    },
    {
     "name": "stderr",
     "output_type": "stream",
     "text": [
      "Processing tracks:  10%|█████▊                                                    | 1223/12114 [02:36<25:17,  7.18it/s]"
     ]
    },
    {
     "name": "stdout",
     "output_type": "stream",
     "text": [
      "Track 15108 is shorter than expected 30 seconds, skipping.\n",
      "Error processing track 15124: could not broadcast input array from shape (130,13,1) into shape (10,13,1)\n",
      "Error processing track 15139: index can't contain negative values\n"
     ]
    },
    {
     "name": "stderr",
     "output_type": "stream",
     "text": [
      "Processing tracks:  10%|█████▊                                                    | 1227/12114 [02:37<24:57,  7.27it/s]"
     ]
    },
    {
     "name": "stdout",
     "output_type": "stream",
     "text": [
      "Error processing track 15140: index can't contain negative values\n",
      "Track 15143 is shorter than expected 30 seconds, skipping.\n",
      "Track 15145 is shorter than expected 30 seconds, skipping.\n",
      "Track 15148 is shorter than expected 30 seconds, skipping.\n"
     ]
    },
    {
     "name": "stderr",
     "output_type": "stream",
     "text": [
      "Processing tracks:  10%|█████▉                                                    | 1231/12114 [02:38<30:58,  5.86it/s]"
     ]
    },
    {
     "name": "stdout",
     "output_type": "stream",
     "text": [
      "Error processing track 15149: could not broadcast input array from shape (130,13,1) into shape (10,13,1)\n",
      "Track 15152 is shorter than expected 30 seconds, skipping.\n",
      "Track 15154 is shorter than expected 30 seconds, skipping.\n",
      "Error processing track 15156: could not broadcast input array from shape (130,13,1) into shape (10,13,1)\n"
     ]
    },
    {
     "name": "stderr",
     "output_type": "stream",
     "text": [
      "Processing tracks:  10%|█████▉                                                    | 1235/12114 [02:38<20:34,  8.81it/s]"
     ]
    },
    {
     "name": "stdout",
     "output_type": "stream",
     "text": [
      "Track 15157 is shorter than expected 30 seconds, skipping.\n",
      "Track 15176 is shorter than expected 30 seconds, skipping.\n",
      "Error processing track 15194: could not broadcast input array from shape (130,13,1) into shape (10,13,1)\n",
      "Track 15195 is shorter than expected 30 seconds, skipping.\n"
     ]
    },
    {
     "name": "stderr",
     "output_type": "stream",
     "text": [
      "Processing tracks:  10%|█████▉                                                    | 1239/12114 [02:38<19:51,  9.13it/s]"
     ]
    },
    {
     "name": "stdout",
     "output_type": "stream",
     "text": [
      "Error processing track 15207: could not broadcast input array from shape (130,13,1) into shape (10,13,1)\n",
      "Track 15208 is shorter than expected 30 seconds, skipping.\n",
      "Track 15217 is shorter than expected 30 seconds, skipping.\n",
      "Error processing track 15227: could not broadcast input array from shape (130,13,1) into shape (10,13,1)\n"
     ]
    },
    {
     "name": "stderr",
     "output_type": "stream",
     "text": [
      "Processing tracks:  10%|█████▉                                                    | 1243/12114 [02:39<15:29, 11.70it/s]"
     ]
    },
    {
     "name": "stdout",
     "output_type": "stream",
     "text": [
      "Error processing track 15256: could not broadcast input array from shape (130,13,1) into shape (10,13,1)\n",
      "Track 15257 is shorter than expected 30 seconds, skipping.\n",
      "Error processing track 15258: could not broadcast input array from shape (130,13,1) into shape (10,13,1)\n",
      "Track 15260 is shorter than expected 30 seconds, skipping.\n"
     ]
    },
    {
     "name": "stderr",
     "output_type": "stream",
     "text": [
      "Processing tracks:  10%|█████▉                                                    | 1247/12114 [02:39<13:09, 13.76it/s]"
     ]
    },
    {
     "name": "stdout",
     "output_type": "stream",
     "text": [
      "Track 15261 is shorter than expected 30 seconds, skipping.\n",
      "Track 15263 is shorter than expected 30 seconds, skipping.\n",
      "Error processing track 15265: could not broadcast input array from shape (130,13,1) into shape (10,13,1)\n",
      "Error processing track 15266: could not broadcast input array from shape (130,13,1) into shape (10,13,1)\n"
     ]
    },
    {
     "name": "stderr",
     "output_type": "stream",
     "text": [
      "Processing tracks:  10%|█████▉                                                    | 1249/12114 [02:39<12:44, 14.21it/s]"
     ]
    },
    {
     "name": "stdout",
     "output_type": "stream",
     "text": [
      "Error processing track 15269: could not broadcast input array from shape (130,13,1) into shape (10,13,1)\n"
     ]
    },
    {
     "name": "stderr",
     "output_type": "stream",
     "text": [
      "Processing tracks:  10%|█████▉                                                    | 1251/12114 [02:40<30:40,  5.90it/s]"
     ]
    },
    {
     "name": "stdout",
     "output_type": "stream",
     "text": [
      "Error processing track 15364: index can't contain negative values\n",
      "Track 15366 is shorter than expected 30 seconds, skipping.\n",
      "Track 15369 is shorter than expected 30 seconds, skipping.\n",
      "Track 15370 is shorter than expected 30 seconds, skipping.\n"
     ]
    },
    {
     "name": "stderr",
     "output_type": "stream",
     "text": [
      "Processing tracks:  10%|██████                                                    | 1258/12114 [02:40<16:32, 10.94it/s]"
     ]
    },
    {
     "name": "stdout",
     "output_type": "stream",
     "text": [
      "Error processing track 15372: could not broadcast input array from shape (130,13,1) into shape (10,13,1)\n",
      "Track 15373 is shorter than expected 30 seconds, skipping.\n",
      "Track 15374 is shorter than expected 30 seconds, skipping.\n",
      "Track 15375 is shorter than expected 30 seconds, skipping.\n",
      "Track 15376 is shorter than expected 30 seconds, skipping.\n",
      "Error processing track 15436: index can't contain negative values\n"
     ]
    },
    {
     "name": "stderr",
     "output_type": "stream",
     "text": [
      "Processing tracks:  10%|██████                                                    | 1262/12114 [02:42<36:34,  4.95it/s]"
     ]
    },
    {
     "name": "stdout",
     "output_type": "stream",
     "text": [
      "Error processing track 15439: index can't contain negative values\n",
      "Error processing track 15444: index can't contain negative values\n",
      "Track 15470 is shorter than expected 30 seconds, skipping.\n",
      "Track 15472 is shorter than expected 30 seconds, skipping.\n"
     ]
    },
    {
     "name": "stderr",
     "output_type": "stream",
     "text": [
      "Processing tracks:  10%|██████                                                    | 1266/12114 [02:42<29:30,  6.13it/s]"
     ]
    },
    {
     "name": "stdout",
     "output_type": "stream",
     "text": [
      "Error processing track 15473: index can't contain negative values\n",
      "Track 15474 is shorter than expected 30 seconds, skipping.\n",
      "Error processing track 15496: could not broadcast input array from shape (130,13,1) into shape (10,13,1)\n",
      "Track 15497 is shorter than expected 30 seconds, skipping.\n"
     ]
    },
    {
     "name": "stderr",
     "output_type": "stream",
     "text": [
      "Processing tracks:  10%|██████                                                    | 1270/12114 [02:43<20:22,  8.87it/s]"
     ]
    },
    {
     "name": "stdout",
     "output_type": "stream",
     "text": [
      "Error processing track 15498: could not broadcast input array from shape (130,13,1) into shape (10,13,1)\n",
      "Error processing track 15531: could not broadcast input array from shape (130,13,1) into shape (10,13,1)\n",
      "Track 15544 is shorter than expected 30 seconds, skipping.\n",
      "Error processing track 15607: could not broadcast input array from shape (130,13,1) into shape (10,13,1)\n"
     ]
    },
    {
     "name": "stderr",
     "output_type": "stream",
     "text": [
      "Processing tracks:  11%|██████                                                    | 1274/12114 [02:43<15:28, 11.67it/s]"
     ]
    },
    {
     "name": "stdout",
     "output_type": "stream",
     "text": [
      "Track 15608 is shorter than expected 30 seconds, skipping.\n",
      "Track 15609 is shorter than expected 30 seconds, skipping.\n",
      "Track 15612 is shorter than expected 30 seconds, skipping.\n",
      "Track 15619 is shorter than expected 30 seconds, skipping.\n"
     ]
    },
    {
     "name": "stderr",
     "output_type": "stream",
     "text": [
      "Processing tracks:  11%|██████                                                    | 1276/12114 [02:43<13:58, 12.92it/s]"
     ]
    },
    {
     "name": "stdout",
     "output_type": "stream",
     "text": [
      "Error processing track 15620: could not broadcast input array from shape (130,13,1) into shape (10,13,1)\n",
      "Error processing track 15622: could not broadcast input array from shape (130,13,1) into shape (10,13,1)\n"
     ]
    },
    {
     "name": "stderr",
     "output_type": "stream",
     "text": [
      "Processing tracks:  11%|██████                                                    | 1278/12114 [02:44<30:54,  5.84it/s]"
     ]
    },
    {
     "name": "stdout",
     "output_type": "stream",
     "text": [
      "Error processing track 15623: could not broadcast input array from shape (130,13,1) into shape (10,13,1)\n",
      "Track 15628 is shorter than expected 30 seconds, skipping.\n"
     ]
    },
    {
     "name": "stderr",
     "output_type": "stream",
     "text": [
      "Processing tracks:  11%|██████▏                                                   | 1282/12114 [02:44<28:58,  6.23it/s]"
     ]
    },
    {
     "name": "stdout",
     "output_type": "stream",
     "text": [
      "Error processing track 15629: index can't contain negative values\n",
      "Track 15755 is shorter than expected 30 seconds, skipping.\n",
      "Track 15775 is shorter than expected 30 seconds, skipping.\n"
     ]
    },
    {
     "name": "stderr",
     "output_type": "stream",
     "text": [
      "Processing tracks:  11%|██████▏                                                   | 1286/12114 [02:45<22:59,  7.85it/s]"
     ]
    },
    {
     "name": "stdout",
     "output_type": "stream",
     "text": [
      "Error processing track 15846: index can't contain negative values\n",
      "Track 15985 is shorter than expected 30 seconds, skipping.\n",
      "Track 15986 is shorter than expected 30 seconds, skipping.\n",
      "Track 15988 is shorter than expected 30 seconds, skipping.\n",
      "Track 15989 is shorter than expected 30 seconds, skipping.\n"
     ]
    },
    {
     "name": "stderr",
     "output_type": "stream",
     "text": [
      "Processing tracks:  11%|██████▏                                                   | 1288/12114 [02:45<18:53,  9.55it/s]"
     ]
    },
    {
     "name": "stdout",
     "output_type": "stream",
     "text": [
      "Track 15991 is shorter than expected 30 seconds, skipping.\n",
      "Error processing track 15992: could not broadcast input array from shape (130,13,1) into shape (10,13,1)\n"
     ]
    },
    {
     "name": "stderr",
     "output_type": "stream",
     "text": [
      "Processing tracks:  11%|██████▏                                                   | 1292/12114 [02:46<22:04,  8.17it/s]"
     ]
    },
    {
     "name": "stdout",
     "output_type": "stream",
     "text": [
      "Error processing track 15993: could not broadcast input array from shape (130,13,1) into shape (10,13,1)\n",
      "Track 15994 is shorter than expected 30 seconds, skipping.\n",
      "Error processing track 15995: index can't contain negative values\n",
      "Track 15996 is shorter than expected 30 seconds, skipping.\n"
     ]
    },
    {
     "name": "stderr",
     "output_type": "stream",
     "text": [
      "Processing tracks:  11%|██████▏                                                   | 1296/12114 [02:46<16:41, 10.80it/s]"
     ]
    },
    {
     "name": "stdout",
     "output_type": "stream",
     "text": [
      "Track 15997 is shorter than expected 30 seconds, skipping.\n",
      "Error processing track 16034: could not broadcast input array from shape (130,13,1) into shape (10,13,1)\n",
      "Track 16046 is shorter than expected 30 seconds, skipping.\n",
      "Track 16047 is shorter than expected 30 seconds, skipping.\n"
     ]
    },
    {
     "name": "stderr",
     "output_type": "stream",
     "text": [
      "Processing tracks:  11%|██████▏                                                   | 1300/12114 [02:46<14:37, 12.32it/s]"
     ]
    },
    {
     "name": "stdout",
     "output_type": "stream",
     "text": [
      "Error processing track 16048: could not broadcast input array from shape (130,13,1) into shape (10,13,1)\n",
      "Track 16049 is shorter than expected 30 seconds, skipping.\n",
      "Error processing track 16050: could not broadcast input array from shape (130,13,1) into shape (10,13,1)\n",
      "Track 16051 is shorter than expected 30 seconds, skipping.\n"
     ]
    },
    {
     "name": "stderr",
     "output_type": "stream",
     "text": [
      "Processing tracks:  11%|██████▏                                                   | 1304/12114 [02:46<16:09, 11.15it/s]"
     ]
    },
    {
     "name": "stdout",
     "output_type": "stream",
     "text": [
      "Error processing track 16053: could not broadcast input array from shape (130,13,1) into shape (10,13,1)\n",
      "Track 16054 is shorter than expected 30 seconds, skipping.\n",
      "Track 16055 is shorter than expected 30 seconds, skipping.\n",
      "Track 16056 is shorter than expected 30 seconds, skipping.\n"
     ]
    },
    {
     "name": "stderr",
     "output_type": "stream",
     "text": [
      "Processing tracks:  11%|██████▎                                                   | 1306/12114 [02:47<14:13, 12.66it/s]"
     ]
    },
    {
     "name": "stdout",
     "output_type": "stream",
     "text": [
      "Track 16057 is shorter than expected 30 seconds, skipping.\n",
      "Track 16149 is shorter than expected 30 seconds, skipping.\n"
     ]
    },
    {
     "name": "stderr",
     "output_type": "stream",
     "text": [
      "Processing tracks:  11%|██████▎                                                   | 1310/12114 [02:47<14:40, 12.26it/s]"
     ]
    },
    {
     "name": "stdout",
     "output_type": "stream",
     "text": [
      "Error processing track 16150: index can't contain negative values\n",
      "Track 16151 is shorter than expected 30 seconds, skipping.\n",
      "Track 16157 is shorter than expected 30 seconds, skipping.\n",
      "Track 16159 is shorter than expected 30 seconds, skipping.\n"
     ]
    },
    {
     "name": "stderr",
     "output_type": "stream",
     "text": [
      "Processing tracks:  11%|██████▎                                                   | 1314/12114 [02:47<12:07, 14.84it/s]"
     ]
    },
    {
     "name": "stdout",
     "output_type": "stream",
     "text": [
      "Track 16165 is shorter than expected 30 seconds, skipping.\n",
      "Track 16209 is shorter than expected 30 seconds, skipping.\n",
      "Error processing track 16210: could not broadcast input array from shape (130,13,1) into shape (10,13,1)\n",
      "Track 16232 is shorter than expected 30 seconds, skipping.\n"
     ]
    },
    {
     "name": "stderr",
     "output_type": "stream",
     "text": [
      "Processing tracks:  11%|██████▎                                                   | 1318/12114 [02:48<30:14,  5.95it/s]"
     ]
    },
    {
     "name": "stdout",
     "output_type": "stream",
     "text": [
      "Error processing track 16235: index can't contain negative values\n",
      "Track 16237 is shorter than expected 30 seconds, skipping.\n",
      "Track 16238 is shorter than expected 30 seconds, skipping.\n",
      "Error processing track 16288: could not broadcast input array from shape (130,13,1) into shape (10,13,1)\n"
     ]
    },
    {
     "name": "stderr",
     "output_type": "stream",
     "text": [
      "Processing tracks:  11%|██████▎                                                   | 1322/12114 [02:49<20:25,  8.80it/s]"
     ]
    },
    {
     "name": "stdout",
     "output_type": "stream",
     "text": [
      "Track 16289 is shorter than expected 30 seconds, skipping.\n",
      "Track 16296 is shorter than expected 30 seconds, skipping.\n",
      "Track 16313 is shorter than expected 30 seconds, skipping.\n",
      "Track 16348 is shorter than expected 30 seconds, skipping.\n"
     ]
    },
    {
     "name": "stderr",
     "output_type": "stream",
     "text": [
      "Processing tracks:  11%|██████▎                                                   | 1324/12114 [02:49<34:20,  5.24it/s]"
     ]
    },
    {
     "name": "stdout",
     "output_type": "stream",
     "text": [
      "Error processing track 16365: index can't contain negative values\n",
      "Track 16366 is shorter than expected 30 seconds, skipping.\n",
      "Track 16367 is shorter than expected 30 seconds, skipping.\n"
     ]
    },
    {
     "name": "stderr",
     "output_type": "stream",
     "text": [
      "Processing tracks:  11%|██████▎                                                   | 1327/12114 [02:50<28:46,  6.25it/s]"
     ]
    },
    {
     "name": "stdout",
     "output_type": "stream",
     "text": [
      "Error processing track 16369: index can't contain negative values\n",
      "Track 16370 is shorter than expected 30 seconds, skipping.\n"
     ]
    },
    {
     "name": "stderr",
     "output_type": "stream",
     "text": [
      "Processing tracks:  11%|██████▍                                                   | 1332/12114 [02:51<36:38,  4.90it/s]"
     ]
    },
    {
     "name": "stdout",
     "output_type": "stream",
     "text": [
      "Error processing track 16371: could not broadcast input array from shape (130,13,1) into shape (10,13,1)\n",
      "Track 16372 is shorter than expected 30 seconds, skipping.\n",
      "Error processing track 16373: index can't contain negative values\n",
      "Track 16374 is shorter than expected 30 seconds, skipping.\n",
      "Track 16375 is shorter than expected 30 seconds, skipping.\n",
      "Track 16376 is shorter than expected 30 seconds, skipping.\n"
     ]
    },
    {
     "name": "stderr",
     "output_type": "stream",
     "text": [
      "Processing tracks:  11%|██████▍                                                   | 1337/12114 [02:52<34:24,  5.22it/s]"
     ]
    },
    {
     "name": "stdout",
     "output_type": "stream",
     "text": [
      "Error processing track 16380: index can't contain negative values\n",
      "Track 16381 is shorter than expected 30 seconds, skipping.\n",
      "Track 16382 is shorter than expected 30 seconds, skipping.\n"
     ]
    },
    {
     "name": "stderr",
     "output_type": "stream",
     "text": [
      "Processing tracks:  11%|██████▍                                                   | 1339/12114 [02:53<40:01,  4.49it/s]"
     ]
    },
    {
     "name": "stdout",
     "output_type": "stream",
     "text": [
      "Error processing track 16384: index can't contain negative values\n",
      "Track 16385 is shorter than expected 30 seconds, skipping.\n",
      "Track 16386 is shorter than expected 30 seconds, skipping.\n",
      "Track 16387 is shorter than expected 30 seconds, skipping.\n"
     ]
    },
    {
     "name": "stderr",
     "output_type": "stream",
     "text": [
      "Processing tracks:  11%|██████▍                                                   | 1342/12114 [02:53<31:47,  5.65it/s]"
     ]
    },
    {
     "name": "stdout",
     "output_type": "stream",
     "text": [
      "Error processing track 16388: index can't contain negative values\n"
     ]
    },
    {
     "name": "stderr",
     "output_type": "stream",
     "text": [
      "Processing tracks:  11%|██████▍                                                   | 1345/12114 [02:54<45:08,  3.98it/s]"
     ]
    },
    {
     "name": "stdout",
     "output_type": "stream",
     "text": [
      "Error processing track 16389: could not broadcast input array from shape (130,13,1) into shape (10,13,1)\n",
      "Track 16390 is shorter than expected 30 seconds, skipping.\n",
      "Track 16391 is shorter than expected 30 seconds, skipping.\n",
      "Track 16392 is shorter than expected 30 seconds, skipping.\n"
     ]
    },
    {
     "name": "stderr",
     "output_type": "stream",
     "text": [
      "Processing tracks:  11%|██████▍                                                   | 1349/12114 [02:55<42:15,  4.25it/s]"
     ]
    },
    {
     "name": "stdout",
     "output_type": "stream",
     "text": [
      "Error processing track 16393: index can't contain negative values\n",
      "Error processing track 16433: could not broadcast input array from shape (130,13,1) into shape (10,13,1)\n",
      "Error processing track 16434: could not broadcast input array from shape (130,13,1) into shape (10,13,1)\n",
      "Track 16435 is shorter than expected 30 seconds, skipping.\n"
     ]
    },
    {
     "name": "stderr",
     "output_type": "stream",
     "text": [
      "Processing tracks:  11%|██████▍                                                   | 1353/12114 [02:56<26:43,  6.71it/s]"
     ]
    },
    {
     "name": "stdout",
     "output_type": "stream",
     "text": [
      "Track 16436 is shorter than expected 30 seconds, skipping.\n",
      "Error processing track 16437: could not broadcast input array from shape (130,13,1) into shape (10,13,1)\n",
      "Error processing track 16438: could not broadcast input array from shape (130,13,1) into shape (10,13,1)\n",
      "Error processing track 16439: could not broadcast input array from shape (130,13,1) into shape (10,13,1)\n"
     ]
    },
    {
     "name": "stderr",
     "output_type": "stream",
     "text": [
      "Processing tracks:  11%|██████▎                                                 | 1355/12114 [02:58<1:19:18,  2.26it/s]"
     ]
    },
    {
     "name": "stdout",
     "output_type": "stream",
     "text": [
      "Error processing track 16521: index can't contain negative values\n",
      "Track 16522 is shorter than expected 30 seconds, skipping.\n"
     ]
    },
    {
     "name": "stderr",
     "output_type": "stream",
     "text": [
      "Processing tracks:  11%|██████▎                                                 | 1357/12114 [02:59<1:21:15,  2.21it/s]"
     ]
    },
    {
     "name": "stdout",
     "output_type": "stream",
     "text": [
      "Error processing track 16523: index can't contain negative values\n"
     ]
    },
    {
     "name": "stderr",
     "output_type": "stream",
     "text": [
      "Processing tracks:  11%|██████▎                                                 | 1358/12114 [03:00<1:25:54,  2.09it/s]"
     ]
    },
    {
     "name": "stdout",
     "output_type": "stream",
     "text": [
      "Error processing track 16524: index can't contain negative values\n",
      "Error processing track 16525: index can't contain negative values\n"
     ]
    },
    {
     "name": "stderr",
     "output_type": "stream",
     "text": [
      "Processing tracks:  11%|██████▌                                                   | 1362/12114 [03:00<49:14,  3.64it/s]"
     ]
    },
    {
     "name": "stdout",
     "output_type": "stream",
     "text": [
      "Error processing track 16526: index can't contain negative values\n",
      "Track 16527 is shorter than expected 30 seconds, skipping.\n",
      "Track 16528 is shorter than expected 30 seconds, skipping.\n",
      "Track 16529 is shorter than expected 30 seconds, skipping.\n"
     ]
    },
    {
     "name": "stderr",
     "output_type": "stream",
     "text": [
      "Processing tracks:  11%|██████▌                                                   | 1364/12114 [03:00<42:06,  4.25it/s]"
     ]
    },
    {
     "name": "stdout",
     "output_type": "stream",
     "text": [
      "Error processing track 16530: index can't contain negative values\n"
     ]
    },
    {
     "name": "stderr",
     "output_type": "stream",
     "text": [
      "Processing tracks:  11%|██████▌                                                   | 1365/12114 [03:01<47:24,  3.78it/s]"
     ]
    },
    {
     "name": "stdout",
     "output_type": "stream",
     "text": [
      "Error processing track 16531: index can't contain negative values\n",
      "Track 16532 is shorter than expected 30 seconds, skipping.\n"
     ]
    },
    {
     "name": "stderr",
     "output_type": "stream",
     "text": [
      "Processing tracks:  11%|██████▌                                                   | 1367/12114 [03:01<40:04,  4.47it/s]"
     ]
    },
    {
     "name": "stdout",
     "output_type": "stream",
     "text": [
      "Error processing track 16533: index can't contain negative values\n",
      "Track 16546 is shorter than expected 30 seconds, skipping.\n"
     ]
    },
    {
     "name": "stderr",
     "output_type": "stream",
     "text": [
      "Processing tracks:  11%|██████▌                                                   | 1371/12114 [03:01<27:01,  6.62it/s]"
     ]
    },
    {
     "name": "stdout",
     "output_type": "stream",
     "text": [
      "Error processing track 16554: could not broadcast input array from shape (130,13,1) into shape (10,13,1)\n",
      "Track 16556 is shorter than expected 30 seconds, skipping.\n",
      "Track 16562 is shorter than expected 30 seconds, skipping.\n"
     ]
    },
    {
     "name": "stderr",
     "output_type": "stream",
     "text": [
      "Processing tracks:  11%|██████▌                                                   | 1374/12114 [03:02<25:10,  7.11it/s]"
     ]
    },
    {
     "name": "stdout",
     "output_type": "stream",
     "text": [
      "Error processing track 16563: could not broadcast input array from shape (130,13,1) into shape (10,13,1)\n",
      "Track 16564 is shorter than expected 30 seconds, skipping.\n",
      "Error processing track 16565: could not broadcast input array from shape (130,13,1) into shape (10,13,1)\n"
     ]
    },
    {
     "name": "stderr",
     "output_type": "stream",
     "text": [
      "Processing tracks:  11%|██████▌                                                   | 1377/12114 [03:02<22:16,  8.04it/s]"
     ]
    },
    {
     "name": "stdout",
     "output_type": "stream",
     "text": [
      "Error processing track 16566: could not broadcast input array from shape (130,13,1) into shape (10,13,1)\n",
      "Track 16690 is shorter than expected 30 seconds, skipping.\n",
      "Track 16691 is shorter than expected 30 seconds, skipping.\n",
      "Track 16692 is shorter than expected 30 seconds, skipping.\n"
     ]
    },
    {
     "name": "stderr",
     "output_type": "stream",
     "text": [
      "Processing tracks:  11%|██████▌                                                   | 1381/12114 [03:02<15:41, 11.41it/s]"
     ]
    },
    {
     "name": "stdout",
     "output_type": "stream",
     "text": [
      "Track 16693 is shorter than expected 30 seconds, skipping.\n",
      "Error processing track 16694: could not broadcast input array from shape (130,13,1) into shape (10,13,1)\n",
      "Error processing track 16695: could not broadcast input array from shape (130,13,1) into shape (10,13,1)\n",
      "Error processing track 16696: could not broadcast input array from shape (130,13,1) into shape (10,13,1)\n"
     ]
    },
    {
     "name": "stderr",
     "output_type": "stream",
     "text": [
      "Processing tracks:  11%|██████▋                                                   | 1385/12114 [03:03<13:01, 13.73it/s]"
     ]
    },
    {
     "name": "stdout",
     "output_type": "stream",
     "text": [
      "Track 16698 is shorter than expected 30 seconds, skipping.\n",
      "Error processing track 16699: could not broadcast input array from shape (130,13,1) into shape (10,13,1)\n",
      "Track 16700 is shorter than expected 30 seconds, skipping.\n",
      "Track 16701 is shorter than expected 30 seconds, skipping.\n"
     ]
    },
    {
     "name": "stderr",
     "output_type": "stream",
     "text": [
      "Processing tracks:  11%|██████▋                                                   | 1389/12114 [03:03<11:42, 15.27it/s]"
     ]
    },
    {
     "name": "stdout",
     "output_type": "stream",
     "text": [
      "Track 16703 is shorter than expected 30 seconds, skipping.\n",
      "Error processing track 16731: could not broadcast input array from shape (130,13,1) into shape (10,13,1)\n",
      "Track 16733 is shorter than expected 30 seconds, skipping.\n",
      "Error processing track 16736: could not broadcast input array from shape (130,13,1) into shape (10,13,1)\n"
     ]
    },
    {
     "name": "stderr",
     "output_type": "stream",
     "text": [
      "Processing tracks:  11%|██████▋                                                   | 1393/12114 [03:03<11:17, 15.81it/s]"
     ]
    },
    {
     "name": "stdout",
     "output_type": "stream",
     "text": [
      "Track 16737 is shorter than expected 30 seconds, skipping.\n",
      "Track 16810 is shorter than expected 30 seconds, skipping.\n",
      "Track 16823 is shorter than expected 30 seconds, skipping.\n"
     ]
    },
    {
     "name": "stderr",
     "output_type": "stream",
     "text": [
      "Processing tracks:  12%|██████▋                                                   | 1397/12114 [03:04<14:17, 12.50it/s]"
     ]
    },
    {
     "name": "stdout",
     "output_type": "stream",
     "text": [
      "Error processing track 16824: could not broadcast input array from shape (130,13,1) into shape (10,13,1)\n",
      "Track 16825 is shorter than expected 30 seconds, skipping.\n",
      "Track 16826 is shorter than expected 30 seconds, skipping.\n",
      "Track 16827 is shorter than expected 30 seconds, skipping.\n",
      "Track 16828 is shorter than expected 30 seconds, skipping.\n"
     ]
    },
    {
     "name": "stderr",
     "output_type": "stream",
     "text": [
      "Processing tracks:  12%|██████▋                                                   | 1401/12114 [03:04<16:05, 11.10it/s]"
     ]
    },
    {
     "name": "stdout",
     "output_type": "stream",
     "text": [
      "Error processing track 16829: could not broadcast input array from shape (130,13,1) into shape (10,13,1)\n",
      "Error processing track 16843: could not broadcast input array from shape (130,13,1) into shape (10,13,1)\n",
      "Error processing track 16848: could not broadcast input array from shape (130,13,1) into shape (10,13,1)\n",
      "Track 16937 is shorter than expected 30 seconds, skipping.\n"
     ]
    },
    {
     "name": "stderr",
     "output_type": "stream",
     "text": [
      "Processing tracks:  12%|██████▋                                                   | 1405/12114 [03:04<14:53, 11.99it/s]"
     ]
    },
    {
     "name": "stdout",
     "output_type": "stream",
     "text": [
      "Error processing track 16982: index can't contain negative values\n",
      "Track 16983 is shorter than expected 30 seconds, skipping.\n",
      "Error processing track 17130: could not broadcast input array from shape (130,13,1) into shape (10,13,1)\n",
      "Track 17131 is shorter than expected 30 seconds, skipping.\n"
     ]
    },
    {
     "name": "stderr",
     "output_type": "stream",
     "text": [
      "Processing tracks:  12%|██████▋                                                   | 1409/12114 [03:05<12:30, 14.26it/s]"
     ]
    },
    {
     "name": "stdout",
     "output_type": "stream",
     "text": [
      "Track 17259 is shorter than expected 30 seconds, skipping.\n",
      "Track 17321 is shorter than expected 30 seconds, skipping.\n",
      "Track 17322 is shorter than expected 30 seconds, skipping.\n",
      "Error processing track 17323: could not broadcast input array from shape (130,13,1) into shape (10,13,1)\n"
     ]
    },
    {
     "name": "stderr",
     "output_type": "stream",
     "text": [
      "Processing tracks:  12%|██████▊                                                   | 1413/12114 [03:05<11:33, 15.43it/s]"
     ]
    },
    {
     "name": "stdout",
     "output_type": "stream",
     "text": [
      "Error processing track 17324: could not broadcast input array from shape (130,13,1) into shape (10,13,1)\n",
      "Track 17325 is shorter than expected 30 seconds, skipping.\n",
      "Track 17334 is shorter than expected 30 seconds, skipping.\n",
      "Track 17341 is shorter than expected 30 seconds, skipping.\n"
     ]
    },
    {
     "name": "stderr",
     "output_type": "stream",
     "text": [
      "Processing tracks:  12%|██████▊                                                   | 1417/12114 [03:05<11:16, 15.82it/s]"
     ]
    },
    {
     "name": "stdout",
     "output_type": "stream",
     "text": [
      "Track 17342 is shorter than expected 30 seconds, skipping.\n",
      "Error processing track 17343: could not broadcast input array from shape (130,13,1) into shape (10,13,1)\n",
      "Error processing track 17347: could not broadcast input array from shape (130,13,1) into shape (10,13,1)\n",
      "Error processing track 17351: could not broadcast input array from shape (130,13,1) into shape (10,13,1)\n"
     ]
    },
    {
     "name": "stderr",
     "output_type": "stream",
     "text": [
      "Processing tracks:  12%|██████▊                                                   | 1419/12114 [03:05<11:04, 16.10it/s]"
     ]
    },
    {
     "name": "stdout",
     "output_type": "stream",
     "text": [
      "Track 17422 is shorter than expected 30 seconds, skipping.\n",
      "Track 17426 is shorter than expected 30 seconds, skipping.\n"
     ]
    },
    {
     "name": "stderr",
     "output_type": "stream",
     "text": [
      "Processing tracks:  12%|██████▊                                                   | 1423/12114 [03:06<16:25, 10.85it/s]"
     ]
    },
    {
     "name": "stdout",
     "output_type": "stream",
     "text": [
      "Error processing track 17439: index can't contain negative values\n",
      "Error processing track 17444: could not broadcast input array from shape (130,13,1) into shape (10,13,1)\n",
      "Error processing track 17445: could not broadcast input array from shape (130,13,1) into shape (10,13,1)\n",
      "Track 17446 is shorter than expected 30 seconds, skipping.\n"
     ]
    },
    {
     "name": "stderr",
     "output_type": "stream",
     "text": [
      "Processing tracks:  12%|██████▊                                                   | 1427/12114 [03:06<12:54, 13.79it/s]"
     ]
    },
    {
     "name": "stdout",
     "output_type": "stream",
     "text": [
      "Error processing track 17447: could not broadcast input array from shape (130,13,1) into shape (10,13,1)\n",
      "Error processing track 17449: could not broadcast input array from shape (130,13,1) into shape (10,13,1)\n",
      "Track 17450 is shorter than expected 30 seconds, skipping.\n",
      "Error processing track 17451: could not broadcast input array from shape (130,13,1) into shape (10,13,1)\n"
     ]
    },
    {
     "name": "stderr",
     "output_type": "stream",
     "text": [
      "Processing tracks:  12%|██████▊                                                   | 1431/12114 [03:06<11:32, 15.43it/s]"
     ]
    },
    {
     "name": "stdout",
     "output_type": "stream",
     "text": [
      "Track 17452 is shorter than expected 30 seconds, skipping.\n",
      "Track 17453 is shorter than expected 30 seconds, skipping.\n",
      "Error processing track 17454: could not broadcast input array from shape (130,13,1) into shape (10,13,1)\n",
      "Track 17455 is shorter than expected 30 seconds, skipping.\n"
     ]
    },
    {
     "name": "stderr",
     "output_type": "stream",
     "text": [
      "Processing tracks:  12%|██████▊                                                   | 1435/12114 [03:06<10:49, 16.43it/s]"
     ]
    },
    {
     "name": "stdout",
     "output_type": "stream",
     "text": [
      "Track 17456 is shorter than expected 30 seconds, skipping.\n",
      "Track 17457 is shorter than expected 30 seconds, skipping.\n",
      "Error processing track 17460: could not broadcast input array from shape (130,13,1) into shape (10,13,1)\n",
      "Track 17461 is shorter than expected 30 seconds, skipping.\n"
     ]
    },
    {
     "name": "stderr",
     "output_type": "stream",
     "text": [
      "Processing tracks:  12%|██████▉                                                   | 1439/12114 [03:07<10:39, 16.69it/s]"
     ]
    },
    {
     "name": "stdout",
     "output_type": "stream",
     "text": [
      "Track 17463 is shorter than expected 30 seconds, skipping.\n",
      "Track 17464 is shorter than expected 30 seconds, skipping.\n",
      "Track 17467 is shorter than expected 30 seconds, skipping.\n",
      "Error processing track 17468: could not broadcast input array from shape (130,13,1) into shape (10,13,1)\n"
     ]
    },
    {
     "name": "stderr",
     "output_type": "stream",
     "text": [
      "Processing tracks:  12%|██████▉                                                   | 1443/12114 [03:07<18:32,  9.59it/s]"
     ]
    },
    {
     "name": "stdout",
     "output_type": "stream",
     "text": [
      "Error processing track 17488: index can't contain negative values\n",
      "Track 17489 is shorter than expected 30 seconds, skipping.\n",
      "Error processing track 17490: index can't contain negative values\n"
     ]
    },
    {
     "name": "stderr",
     "output_type": "stream",
     "text": [
      "Processing tracks:  12%|██████▉                                                   | 1447/12114 [03:08<21:11,  8.39it/s]"
     ]
    },
    {
     "name": "stdout",
     "output_type": "stream",
     "text": [
      "Error processing track 17492: could not broadcast input array from shape (130,13,1) into shape (10,13,1)\n",
      "Track 17493 is shorter than expected 30 seconds, skipping.\n",
      "Track 17494 is shorter than expected 30 seconds, skipping.\n",
      "Track 17495 is shorter than expected 30 seconds, skipping.\n"
     ]
    },
    {
     "name": "stderr",
     "output_type": "stream",
     "text": [
      "Processing tracks:  12%|██████▉                                                   | 1451/12114 [03:08<15:25, 11.52it/s]"
     ]
    },
    {
     "name": "stdout",
     "output_type": "stream",
     "text": [
      "Track 17497 is shorter than expected 30 seconds, skipping.\n",
      "Track 17498 is shorter than expected 30 seconds, skipping.\n",
      "Track 17576 is shorter than expected 30 seconds, skipping.\n",
      "Error processing track 17579: could not broadcast input array from shape (130,13,1) into shape (10,13,1)\n",
      "Error processing track 17580: could not broadcast input array from shape (130,13,1) into shape (10,13,1)\n"
     ]
    },
    {
     "name": "stderr",
     "output_type": "stream",
     "text": [
      "Processing tracks:  12%|██████▉                                                   | 1453/12114 [03:09<22:54,  7.76it/s]"
     ]
    },
    {
     "name": "stdout",
     "output_type": "stream",
     "text": [
      "Error processing track 17584: index can't contain negative values\n"
     ]
    },
    {
     "name": "stderr",
     "output_type": "stream",
     "text": [
      "Processing tracks:  12%|██████▉                                                   | 1455/12114 [03:09<23:35,  7.53it/s]"
     ]
    },
    {
     "name": "stdout",
     "output_type": "stream",
     "text": [
      "Error processing track 17586: could not broadcast input array from shape (130,13,1) into shape (10,13,1)\n",
      "Track 17587 is shorter than expected 30 seconds, skipping.\n"
     ]
    },
    {
     "name": "stderr",
     "output_type": "stream",
     "text": [
      "Processing tracks:  12%|██████▉                                                   | 1457/12114 [03:09<24:43,  7.18it/s]"
     ]
    },
    {
     "name": "stdout",
     "output_type": "stream",
     "text": [
      "Error processing track 17589: could not broadcast input array from shape (130,13,1) into shape (10,13,1)\n",
      "Error processing track 17590: could not broadcast input array from shape (130,13,1) into shape (10,13,1)\n",
      "Track 17591 is shorter than expected 30 seconds, skipping.\n"
     ]
    },
    {
     "name": "stderr",
     "output_type": "stream",
     "text": [
      "Processing tracks:  12%|██████▉                                                   | 1461/12114 [03:09<17:29, 10.15it/s]"
     ]
    },
    {
     "name": "stdout",
     "output_type": "stream",
     "text": [
      "Track 17601 is shorter than expected 30 seconds, skipping.\n",
      "Track 17602 is shorter than expected 30 seconds, skipping.\n",
      "Error processing track 17603: could not broadcast input array from shape (130,13,1) into shape (10,13,1)\n",
      "Track 17623 is shorter than expected 30 seconds, skipping.\n"
     ]
    },
    {
     "name": "stderr",
     "output_type": "stream",
     "text": [
      "Processing tracks:  12%|███████                                                   | 1465/12114 [03:10<13:53, 12.77it/s]"
     ]
    },
    {
     "name": "stdout",
     "output_type": "stream",
     "text": [
      "Track 17624 is shorter than expected 30 seconds, skipping.\n",
      "Track 17625 is shorter than expected 30 seconds, skipping.\n",
      "Track 17627 is shorter than expected 30 seconds, skipping.\n",
      "Track 17629 is shorter than expected 30 seconds, skipping.\n"
     ]
    },
    {
     "name": "stderr",
     "output_type": "stream",
     "text": [
      "Processing tracks:  12%|███████                                                   | 1469/12114 [03:10<12:08, 14.61it/s]"
     ]
    },
    {
     "name": "stdout",
     "output_type": "stream",
     "text": [
      "Error processing track 17643: index can't contain negative values\n",
      "Error processing track 17657: could not broadcast input array from shape (130,13,1) into shape (10,13,1)\n",
      "Error processing track 17702: index can't contain negative values\n",
      "Error processing track 17729: could not broadcast input array from shape (130,13,1) into shape (10,13,1)\n"
     ]
    },
    {
     "name": "stderr",
     "output_type": "stream",
     "text": [
      "Processing tracks:  12%|███████                                                   | 1471/12114 [03:10<11:41, 15.17it/s]"
     ]
    },
    {
     "name": "stdout",
     "output_type": "stream",
     "text": [
      "Track 17734 is shorter than expected 30 seconds, skipping.\n",
      "Track 17788 is shorter than expected 30 seconds, skipping.\n"
     ]
    },
    {
     "name": "stderr",
     "output_type": "stream",
     "text": [
      "Processing tracks:  12%|███████                                                   | 1473/12114 [03:10<16:21, 10.84it/s]"
     ]
    },
    {
     "name": "stdout",
     "output_type": "stream",
     "text": [
      "Error processing track 17824: could not broadcast input array from shape (130,13,1) into shape (10,13,1)\n",
      "Track 17825 is shorter than expected 30 seconds, skipping.\n"
     ]
    },
    {
     "name": "stderr",
     "output_type": "stream",
     "text": [
      "Processing tracks:  12%|███████                                                   | 1477/12114 [03:11<17:57,  9.87it/s]"
     ]
    },
    {
     "name": "stdout",
     "output_type": "stream",
     "text": [
      "Error processing track 17826: could not broadcast input array from shape (130,13,1) into shape (10,13,1)\n",
      "Error processing track 17827: could not broadcast input array from shape (130,13,1) into shape (10,13,1)\n",
      "Error processing track 17828: could not broadcast input array from shape (130,13,1) into shape (10,13,1)\n",
      "Track 17880 is shorter than expected 30 seconds, skipping.\n"
     ]
    },
    {
     "name": "stderr",
     "output_type": "stream",
     "text": [
      "Processing tracks:  12%|███████                                                   | 1481/12114 [03:11<17:33, 10.09it/s]"
     ]
    },
    {
     "name": "stdout",
     "output_type": "stream",
     "text": [
      "Error processing track 17881: could not broadcast input array from shape (130,13,1) into shape (10,13,1)\n",
      "Track 17882 is shorter than expected 30 seconds, skipping.\n",
      "Error processing track 17883: could not broadcast input array from shape (130,13,1) into shape (10,13,1)\n",
      "Track 17885 is shorter than expected 30 seconds, skipping.\n"
     ]
    },
    {
     "name": "stderr",
     "output_type": "stream",
     "text": [
      "Processing tracks:  12%|███████                                                   | 1485/12114 [03:11<14:24, 12.30it/s]"
     ]
    },
    {
     "name": "stdout",
     "output_type": "stream",
     "text": [
      "Error processing track 17891: could not broadcast input array from shape (130,13,1) into shape (10,13,1)\n",
      "Track 17892 is shorter than expected 30 seconds, skipping.\n",
      "Error processing track 17893: could not broadcast input array from shape (130,13,1) into shape (10,13,1)\n",
      "Track 17895 is shorter than expected 30 seconds, skipping.\n"
     ]
    },
    {
     "name": "stderr",
     "output_type": "stream",
     "text": [
      "Processing tracks:  12%|███████▏                                                  | 1489/12114 [03:12<12:50, 13.78it/s]"
     ]
    },
    {
     "name": "stdout",
     "output_type": "stream",
     "text": [
      "Error processing track 17900: could not broadcast input array from shape (130,13,1) into shape (10,13,1)\n",
      "Track 17908 is shorter than expected 30 seconds, skipping.\n",
      "Track 17909 is shorter than expected 30 seconds, skipping.\n",
      "Error processing track 17910: could not broadcast input array from shape (130,13,1) into shape (10,13,1)\n"
     ]
    },
    {
     "name": "stderr",
     "output_type": "stream",
     "text": [
      "Processing tracks:  12%|███████▏                                                  | 1493/12114 [03:12<11:47, 15.01it/s]"
     ]
    },
    {
     "name": "stdout",
     "output_type": "stream",
     "text": [
      "Error processing track 17911: could not broadcast input array from shape (130,13,1) into shape (10,13,1)\n",
      "Track 17912 is shorter than expected 30 seconds, skipping.\n",
      "Error processing track 17913: could not broadcast input array from shape (130,13,1) into shape (10,13,1)\n",
      "Track 17914 is shorter than expected 30 seconds, skipping.\n"
     ]
    },
    {
     "name": "stderr",
     "output_type": "stream",
     "text": [
      "Processing tracks:  12%|███████▏                                                  | 1495/12114 [03:12<11:27, 15.44it/s]"
     ]
    },
    {
     "name": "stdout",
     "output_type": "stream",
     "text": [
      "Error processing track 17915: could not broadcast input array from shape (130,13,1) into shape (10,13,1)\n",
      "Track 17987 is shorter than expected 30 seconds, skipping.\n",
      "Track 17988 is shorter than expected 30 seconds, skipping.\n"
     ]
    },
    {
     "name": "stderr",
     "output_type": "stream",
     "text": [
      "Processing tracks:  12%|███████▏                                                  | 1502/12114 [03:12<09:46, 18.08it/s]"
     ]
    },
    {
     "name": "stdout",
     "output_type": "stream",
     "text": [
      "Error processing track 17989: index can't contain negative values\n",
      "Track 17992 is shorter than expected 30 seconds, skipping.\n",
      "Track 17993 is shorter than expected 30 seconds, skipping.\n",
      "Track 17994 is shorter than expected 30 seconds, skipping.\n",
      "Track 17995 is shorter than expected 30 seconds, skipping.\n",
      "Track 17996 is shorter than expected 30 seconds, skipping.\n",
      "Track 17997 is shorter than expected 30 seconds, skipping.\n"
     ]
    },
    {
     "name": "stderr",
     "output_type": "stream",
     "text": [
      "Processing tracks:  12%|███████▏                                                  | 1506/12114 [03:13<08:05, 21.87it/s]"
     ]
    },
    {
     "name": "stdout",
     "output_type": "stream",
     "text": [
      "Track 17998 is shorter than expected 30 seconds, skipping.\n",
      "Track 18000 is shorter than expected 30 seconds, skipping.\n",
      "Track 18001 is shorter than expected 30 seconds, skipping.\n"
     ]
    },
    {
     "name": "stderr",
     "output_type": "stream",
     "text": [
      "Processing tracks:  12%|███████▏                                                  | 1509/12114 [03:13<22:09,  7.98it/s]"
     ]
    },
    {
     "name": "stdout",
     "output_type": "stream",
     "text": [
      "Error processing track 18003: index can't contain negative values\n",
      "Track 18004 is shorter than expected 30 seconds, skipping.\n",
      "Track 18005 is shorter than expected 30 seconds, skipping.\n"
     ]
    },
    {
     "name": "stderr",
     "output_type": "stream",
     "text": [
      "Processing tracks:  12%|███████▏                                                  | 1511/12114 [03:15<40:44,  4.34it/s]"
     ]
    },
    {
     "name": "stdout",
     "output_type": "stream",
     "text": [
      "Error processing track 18006: index can't contain negative values\n"
     ]
    },
    {
     "name": "stderr",
     "output_type": "stream",
     "text": [
      "Processing tracks:  13%|███████▎                                                  | 1516/12114 [03:15<31:28,  5.61it/s]"
     ]
    },
    {
     "name": "stdout",
     "output_type": "stream",
     "text": [
      "Error processing track 18007: index can't contain negative values\n",
      "Track 18008 is shorter than expected 30 seconds, skipping.\n",
      "Track 18009 is shorter than expected 30 seconds, skipping.\n",
      "Track 18010 is shorter than expected 30 seconds, skipping.\n",
      "Track 18012 is shorter than expected 30 seconds, skipping.\n",
      "Track 18013 is shorter than expected 30 seconds, skipping.\n",
      "Track 18014 is shorter than expected 30 seconds, skipping.\n"
     ]
    },
    {
     "name": "stderr",
     "output_type": "stream",
     "text": [
      "Processing tracks:  13%|███████▎                                                  | 1519/12114 [03:16<35:48,  4.93it/s]"
     ]
    },
    {
     "name": "stdout",
     "output_type": "stream",
     "text": [
      "Error processing track 18015: index can't contain negative values\n"
     ]
    },
    {
     "name": "stderr",
     "output_type": "stream",
     "text": [
      "Processing tracks:  13%|███████▎                                                  | 1521/12114 [03:17<46:49,  3.77it/s]"
     ]
    },
    {
     "name": "stdout",
     "output_type": "stream",
     "text": [
      "Error processing track 18016: index can't contain negative values\n",
      "Track 18017 is shorter than expected 30 seconds, skipping.\n",
      "Track 18018 is shorter than expected 30 seconds, skipping.\n",
      "Track 18019 is shorter than expected 30 seconds, skipping.\n"
     ]
    },
    {
     "name": "stderr",
     "output_type": "stream",
     "text": [
      "Processing tracks:  13%|███████▎                                                  | 1524/12114 [03:18<49:58,  3.53it/s]"
     ]
    },
    {
     "name": "stdout",
     "output_type": "stream",
     "text": [
      "Error processing track 18020: index can't contain negative values\n",
      "Track 18021 is shorter than expected 30 seconds, skipping.\n"
     ]
    },
    {
     "name": "stderr",
     "output_type": "stream",
     "text": [
      "Processing tracks:  13%|███████▎                                                  | 1529/12114 [03:19<31:41,  5.57it/s]"
     ]
    },
    {
     "name": "stdout",
     "output_type": "stream",
     "text": [
      "Error processing track 18024: index can't contain negative values\n",
      "Track 18026 is shorter than expected 30 seconds, skipping.\n",
      "Track 18027 is shorter than expected 30 seconds, skipping.\n",
      "Error processing track 18028: index can't contain negative values\n",
      "Error processing track 18029: index can't contain negative values\n"
     ]
    },
    {
     "name": "stderr",
     "output_type": "stream",
     "text": [
      "Processing tracks:  13%|███████▎                                                  | 1531/12114 [03:20<52:41,  3.35it/s]"
     ]
    },
    {
     "name": "stdout",
     "output_type": "stream",
     "text": [
      "Error processing track 18045: index can't contain negative values\n"
     ]
    },
    {
     "name": "stderr",
     "output_type": "stream",
     "text": [
      "Processing tracks:  13%|███████▎                                                  | 1534/12114 [03:20<41:03,  4.29it/s]"
     ]
    },
    {
     "name": "stdout",
     "output_type": "stream",
     "text": [
      "Error processing track 18085: could not broadcast input array from shape (130,13,1) into shape (10,13,1)\n",
      "Track 18135 is shorter than expected 30 seconds, skipping.\n",
      "Track 18198 is shorter than expected 30 seconds, skipping.\n",
      "Track 18199 is shorter than expected 30 seconds, skipping.\n"
     ]
    },
    {
     "name": "stderr",
     "output_type": "stream",
     "text": [
      "Processing tracks:  13%|███████▎                                                  | 1538/12114 [03:21<25:43,  6.85it/s]"
     ]
    },
    {
     "name": "stdout",
     "output_type": "stream",
     "text": [
      "Error processing track 18200: could not broadcast input array from shape (130,13,1) into shape (10,13,1)\n",
      "Track 18201 is shorter than expected 30 seconds, skipping.\n",
      "Error processing track 18237: index can't contain negative values\n"
     ]
    },
    {
     "name": "stderr",
     "output_type": "stream",
     "text": [
      "Processing tracks:  13%|███████▎                                                  | 1540/12114 [03:21<21:34,  8.17it/s]"
     ]
    },
    {
     "name": "stdout",
     "output_type": "stream",
     "text": [
      "Error processing track 18322: could not broadcast input array from shape (130,13,1) into shape (10,13,1)\n",
      "Track 18323 is shorter than expected 30 seconds, skipping.\n",
      "Error processing track 18325: could not broadcast input array from shape (130,13,1) into shape (10,13,1)\n"
     ]
    },
    {
     "name": "stderr",
     "output_type": "stream",
     "text": [
      "Processing tracks:  13%|███████▍                                                  | 1544/12114 [03:21<19:48,  8.89it/s]"
     ]
    },
    {
     "name": "stdout",
     "output_type": "stream",
     "text": [
      "Error processing track 18326: could not broadcast input array from shape (130,13,1) into shape (10,13,1)\n",
      "Track 18327 is shorter than expected 30 seconds, skipping.\n",
      "Track 18386 is shorter than expected 30 seconds, skipping.\n",
      "Error processing track 18412: could not broadcast input array from shape (130,13,1) into shape (10,13,1)\n"
     ]
    },
    {
     "name": "stderr",
     "output_type": "stream",
     "text": [
      "Processing tracks:  13%|███████▍                                                  | 1548/12114 [03:21<15:35, 11.29it/s]"
     ]
    },
    {
     "name": "stdout",
     "output_type": "stream",
     "text": [
      "Error processing track 18444: could not broadcast input array from shape (130,13,1) into shape (10,13,1)\n",
      "Track 18446 is shorter than expected 30 seconds, skipping.\n",
      "Track 18606 is shorter than expected 30 seconds, skipping.\n",
      "Track 18608 is shorter than expected 30 seconds, skipping.\n"
     ]
    },
    {
     "name": "stderr",
     "output_type": "stream",
     "text": [
      "Processing tracks:  13%|███████▍                                                  | 1552/12114 [03:22<12:41, 13.88it/s]"
     ]
    },
    {
     "name": "stdout",
     "output_type": "stream",
     "text": [
      "Error processing track 18609: could not broadcast input array from shape (130,13,1) into shape (10,13,1)\n",
      "Track 18610 is shorter than expected 30 seconds, skipping.\n",
      "Error processing track 18612: could not broadcast input array from shape (130,13,1) into shape (10,13,1)\n",
      "Track 18613 is shorter than expected 30 seconds, skipping.\n"
     ]
    },
    {
     "name": "stderr",
     "output_type": "stream",
     "text": [
      "Processing tracks:  13%|███████▍                                                  | 1556/12114 [03:22<11:35, 15.17it/s]"
     ]
    },
    {
     "name": "stdout",
     "output_type": "stream",
     "text": [
      "Error processing track 18614: could not broadcast input array from shape (130,13,1) into shape (10,13,1)\n",
      "Track 18636 is shorter than expected 30 seconds, skipping.\n",
      "Track 18641 is shorter than expected 30 seconds, skipping.\n",
      "Track 18654 is shorter than expected 30 seconds, skipping.\n"
     ]
    },
    {
     "name": "stderr",
     "output_type": "stream",
     "text": [
      "Processing tracks:  13%|███████▍                                                  | 1558/12114 [03:22<20:34,  8.55it/s]"
     ]
    },
    {
     "name": "stdout",
     "output_type": "stream",
     "text": [
      "Error processing track 18656: could not broadcast input array from shape (130,13,1) into shape (10,13,1)\n"
     ]
    },
    {
     "name": "stderr",
     "output_type": "stream",
     "text": [
      "Processing tracks:  13%|███████▍                                                  | 1562/12114 [03:23<19:18,  9.11it/s]"
     ]
    },
    {
     "name": "stdout",
     "output_type": "stream",
     "text": [
      "Error processing track 18659: could not broadcast input array from shape (130,13,1) into shape (10,13,1)\n",
      "Error processing track 18681: could not broadcast input array from shape (130,13,1) into shape (10,13,1)\n",
      "Error processing track 18683: could not broadcast input array from shape (130,13,1) into shape (10,13,1)\n",
      "Track 18684 is shorter than expected 30 seconds, skipping.\n"
     ]
    },
    {
     "name": "stderr",
     "output_type": "stream",
     "text": [
      "Processing tracks:  13%|███████▍                                                  | 1566/12114 [03:23<14:46, 11.90it/s]"
     ]
    },
    {
     "name": "stdout",
     "output_type": "stream",
     "text": [
      "Error processing track 18685: could not broadcast input array from shape (130,13,1) into shape (10,13,1)\n",
      "Track 18686 is shorter than expected 30 seconds, skipping.\n",
      "Track 18687 is shorter than expected 30 seconds, skipping.\n",
      "Track 18759 is shorter than expected 30 seconds, skipping.\n"
     ]
    },
    {
     "name": "stderr",
     "output_type": "stream",
     "text": [
      "Processing tracks:  13%|███████▌                                                  | 1568/12114 [03:23<18:15,  9.63it/s]"
     ]
    },
    {
     "name": "stdout",
     "output_type": "stream",
     "text": [
      "Error processing track 18760: could not broadcast input array from shape (130,13,1) into shape (10,13,1)\n",
      "Track 18761 is shorter than expected 30 seconds, skipping.\n",
      "Track 18762 is shorter than expected 30 seconds, skipping.\n"
     ]
    },
    {
     "name": "stderr",
     "output_type": "stream",
     "text": [
      "Processing tracks:  13%|███████▌                                                  | 1572/12114 [03:24<17:52,  9.83it/s]"
     ]
    },
    {
     "name": "stdout",
     "output_type": "stream",
     "text": [
      "Error processing track 18763: could not broadcast input array from shape (130,13,1) into shape (10,13,1)\n",
      "Error processing track 18764: index can't contain negative values\n",
      "Track 18782 is shorter than expected 30 seconds, skipping.\n",
      "Track 18802 is shorter than expected 30 seconds, skipping.\n"
     ]
    },
    {
     "name": "stderr",
     "output_type": "stream",
     "text": [
      "Processing tracks:  13%|███████▌                                                  | 1576/12114 [03:24<13:54, 12.62it/s]"
     ]
    },
    {
     "name": "stdout",
     "output_type": "stream",
     "text": [
      "Track 18803 is shorter than expected 30 seconds, skipping.\n",
      "Track 18804 is shorter than expected 30 seconds, skipping.\n",
      "Track 18805 is shorter than expected 30 seconds, skipping.\n",
      "Track 18806 is shorter than expected 30 seconds, skipping.\n"
     ]
    },
    {
     "name": "stderr",
     "output_type": "stream",
     "text": [
      "Processing tracks:  13%|███████▌                                                  | 1580/12114 [03:24<15:51, 11.07it/s]"
     ]
    },
    {
     "name": "stdout",
     "output_type": "stream",
     "text": [
      "Error processing track 18822: index can't contain negative values\n",
      "Track 18823 is shorter than expected 30 seconds, skipping.\n",
      "Error processing track 18888: could not broadcast input array from shape (130,13,1) into shape (10,13,1)\n",
      "Track 18891 is shorter than expected 30 seconds, skipping.\n"
     ]
    },
    {
     "name": "stderr",
     "output_type": "stream",
     "text": [
      "Processing tracks:  13%|███████▌                                                  | 1582/12114 [03:25<14:26, 12.15it/s]"
     ]
    },
    {
     "name": "stdout",
     "output_type": "stream",
     "text": [
      "Track 18973 is shorter than expected 30 seconds, skipping.\n",
      "Track 18974 is shorter than expected 30 seconds, skipping.\n"
     ]
    },
    {
     "name": "stderr",
     "output_type": "stream",
     "text": [
      "Processing tracks:  13%|███████▌                                                  | 1586/12114 [03:25<15:07, 11.60it/s]"
     ]
    },
    {
     "name": "stdout",
     "output_type": "stream",
     "text": [
      "Error processing track 18975: index can't contain negative values\n",
      "Track 18976 is shorter than expected 30 seconds, skipping.\n",
      "Track 19072 is shorter than expected 30 seconds, skipping.\n",
      "Error processing track 19125: index can't contain negative values\n"
     ]
    },
    {
     "name": "stderr",
     "output_type": "stream",
     "text": [
      "Processing tracks:  13%|███████▌                                                  | 1588/12114 [03:25<13:37, 12.88it/s]"
     ]
    },
    {
     "name": "stdout",
     "output_type": "stream",
     "text": [
      "Track 19126 is shorter than expected 30 seconds, skipping.\n",
      "Track 19128 is shorter than expected 30 seconds, skipping.\n"
     ]
    },
    {
     "name": "stderr",
     "output_type": "stream",
     "text": [
      "Processing tracks:  13%|███████▌                                                  | 1592/12114 [03:27<44:23,  3.95it/s]"
     ]
    },
    {
     "name": "stdout",
     "output_type": "stream",
     "text": [
      "Error processing track 19129: index can't contain negative values\n",
      "Error processing track 19130: index can't contain negative values\n",
      "Track 19131 is shorter than expected 30 seconds, skipping.\n",
      "Track 19132 is shorter than expected 30 seconds, skipping.\n"
     ]
    },
    {
     "name": "stderr",
     "output_type": "stream",
     "text": [
      "Processing tracks:  13%|███████▋                                                  | 1594/12114 [03:28<47:56,  3.66it/s]"
     ]
    },
    {
     "name": "stdout",
     "output_type": "stream",
     "text": [
      "Error processing track 19133: index can't contain negative values\n"
     ]
    },
    {
     "name": "stderr",
     "output_type": "stream",
     "text": [
      "Processing tracks:  13%|███████▋                                                  | 1598/12114 [03:28<31:42,  5.53it/s]"
     ]
    },
    {
     "name": "stdout",
     "output_type": "stream",
     "text": [
      "Error processing track 19134: index can't contain negative values\n",
      "Track 19135 is shorter than expected 30 seconds, skipping.\n",
      "Track 19137 is shorter than expected 30 seconds, skipping.\n",
      "Error processing track 19175: could not broadcast input array from shape (130,13,1) into shape (10,13,1)\n"
     ]
    },
    {
     "name": "stderr",
     "output_type": "stream",
     "text": [
      "Processing tracks:  13%|███████▋                                                  | 1602/12114 [03:28<20:50,  8.41it/s]"
     ]
    },
    {
     "name": "stdout",
     "output_type": "stream",
     "text": [
      "Error processing track 19178: could not broadcast input array from shape (130,13,1) into shape (10,13,1)\n",
      "Track 19180 is shorter than expected 30 seconds, skipping.\n",
      "Error processing track 19181: could not broadcast input array from shape (130,13,1) into shape (10,13,1)\n",
      "Track 19186 is shorter than expected 30 seconds, skipping.\n",
      "Track 19188 is shorter than expected 30 seconds, skipping.\n"
     ]
    },
    {
     "name": "stderr",
     "output_type": "stream",
     "text": [
      "Processing tracks:  13%|███████▋                                                  | 1604/12114 [03:29<36:03,  4.86it/s]"
     ]
    },
    {
     "name": "stdout",
     "output_type": "stream",
     "text": [
      "Error processing track 19222: index can't contain negative values\n"
     ]
    },
    {
     "name": "stderr",
     "output_type": "stream",
     "text": [
      "Processing tracks:  13%|███████▋                                                  | 1608/12114 [03:31<52:56,  3.31it/s]"
     ]
    },
    {
     "name": "stdout",
     "output_type": "stream",
     "text": [
      "Error processing track 19224: index can't contain negative values\n",
      "Track 19228 is shorter than expected 30 seconds, skipping.\n",
      "Error processing track 19229: index can't contain negative values\n",
      "Error processing track 19236: could not broadcast input array from shape (130,13,1) into shape (10,13,1)\n"
     ]
    },
    {
     "name": "stderr",
     "output_type": "stream",
     "text": [
      "Processing tracks:  13%|███████▋                                                  | 1612/12114 [03:31<31:13,  5.60it/s]"
     ]
    },
    {
     "name": "stdout",
     "output_type": "stream",
     "text": [
      "Track 19328 is shorter than expected 30 seconds, skipping.\n",
      "Error processing track 19330: index can't contain negative values\n",
      "Track 19331 is shorter than expected 30 seconds, skipping.\n",
      "Track 19332 is shorter than expected 30 seconds, skipping.\n"
     ]
    },
    {
     "name": "stderr",
     "output_type": "stream",
     "text": [
      "Processing tracks:  13%|███████▋                                                  | 1616/12114 [03:32<20:35,  8.50it/s]"
     ]
    },
    {
     "name": "stdout",
     "output_type": "stream",
     "text": [
      "Track 19333 is shorter than expected 30 seconds, skipping.\n",
      "Error processing track 19348: could not broadcast input array from shape (130,13,1) into shape (10,13,1)\n",
      "Track 19349 is shorter than expected 30 seconds, skipping.\n",
      "Track 19350 is shorter than expected 30 seconds, skipping.\n"
     ]
    },
    {
     "name": "stderr",
     "output_type": "stream",
     "text": [
      "Processing tracks:  13%|███████▊                                                  | 1620/12114 [03:32<15:22, 11.37it/s]"
     ]
    },
    {
     "name": "stdout",
     "output_type": "stream",
     "text": [
      "Error processing track 19351: could not broadcast input array from shape (130,13,1) into shape (10,13,1)\n",
      "Track 19352 is shorter than expected 30 seconds, skipping.\n",
      "Error processing track 19353: could not broadcast input array from shape (130,13,1) into shape (10,13,1)\n",
      "Track 19354 is shorter than expected 30 seconds, skipping.\n"
     ]
    },
    {
     "name": "stderr",
     "output_type": "stream",
     "text": [
      "Processing tracks:  13%|███████▊                                                  | 1624/12114 [03:32<12:25, 14.07it/s]"
     ]
    },
    {
     "name": "stdout",
     "output_type": "stream",
     "text": [
      "Track 19355 is shorter than expected 30 seconds, skipping.\n",
      "Track 19383 is shorter than expected 30 seconds, skipping.\n",
      "Error processing track 19390: could not broadcast input array from shape (130,13,1) into shape (10,13,1)\n",
      "Track 19391 is shorter than expected 30 seconds, skipping.\n"
     ]
    },
    {
     "name": "stderr",
     "output_type": "stream",
     "text": [
      "Processing tracks:  13%|███████▊                                                  | 1628/12114 [03:32<11:44, 14.87it/s]"
     ]
    },
    {
     "name": "stdout",
     "output_type": "stream",
     "text": [
      "Error processing track 19392: could not broadcast input array from shape (130,13,1) into shape (10,13,1)\n",
      "Error processing track 19393: could not broadcast input array from shape (130,13,1) into shape (10,13,1)\n",
      "Error processing track 19401: could not broadcast input array from shape (130,13,1) into shape (10,13,1)\n",
      "Error processing track 19403: could not broadcast input array from shape (130,13,1) into shape (10,13,1)\n"
     ]
    },
    {
     "name": "stderr",
     "output_type": "stream",
     "text": [
      "Processing tracks:  13%|███████▊                                                  | 1630/12114 [03:33<20:58,  8.33it/s]"
     ]
    },
    {
     "name": "stdout",
     "output_type": "stream",
     "text": [
      "Error processing track 19419: index can't contain negative values\n",
      "Track 19421 is shorter than expected 30 seconds, skipping.\n"
     ]
    },
    {
     "name": "stderr",
     "output_type": "stream",
     "text": [
      "Processing tracks:  13%|███████▊                                                  | 1634/12114 [03:33<21:59,  7.94it/s]"
     ]
    },
    {
     "name": "stdout",
     "output_type": "stream",
     "text": [
      "Error processing track 19427: index can't contain negative values\n",
      "Error processing track 19457: could not broadcast input array from shape (130,13,1) into shape (10,13,1)\n",
      "Track 19458 is shorter than expected 30 seconds, skipping.\n",
      "Track 19461 is shorter than expected 30 seconds, skipping.\n"
     ]
    },
    {
     "name": "stderr",
     "output_type": "stream",
     "text": [
      "Processing tracks:  14%|███████▊                                                  | 1638/12114 [03:34<16:18, 10.70it/s]"
     ]
    },
    {
     "name": "stdout",
     "output_type": "stream",
     "text": [
      "Error processing track 19462: could not broadcast input array from shape (130,13,1) into shape (10,13,1)\n",
      "Track 19464 is shorter than expected 30 seconds, skipping.\n",
      "Track 19465 is shorter than expected 30 seconds, skipping.\n",
      "Error processing track 19466: could not broadcast input array from shape (130,13,1) into shape (10,13,1)\n",
      "Error processing track 19470: could not broadcast input array from shape (130,13,1) into shape (10,13,1)\n"
     ]
    },
    {
     "name": "stderr",
     "output_type": "stream",
     "text": [
      "Processing tracks:  14%|███████▊                                                  | 1642/12114 [03:35<42:03,  4.15it/s]"
     ]
    },
    {
     "name": "stdout",
     "output_type": "stream",
     "text": [
      "Error processing track 19481: index can't contain negative values\n",
      "Track 19482 is shorter than expected 30 seconds, skipping.\n",
      "Track 19484 is shorter than expected 30 seconds, skipping.\n",
      "Track 19485 is shorter than expected 30 seconds, skipping.\n"
     ]
    },
    {
     "name": "stderr",
     "output_type": "stream",
     "text": [
      "Processing tracks:  14%|███████▊                                                  | 1644/12114 [03:36<56:26,  3.09it/s]"
     ]
    },
    {
     "name": "stdout",
     "output_type": "stream",
     "text": [
      "Error processing track 19486: index can't contain negative values\n",
      "Track 19487 is shorter than expected 30 seconds, skipping.\n"
     ]
    },
    {
     "name": "stderr",
     "output_type": "stream",
     "text": [
      "Processing tracks:  14%|███████▌                                                | 1648/12114 [03:38<1:03:15,  2.76it/s]"
     ]
    },
    {
     "name": "stdout",
     "output_type": "stream",
     "text": [
      "Error processing track 19488: could not broadcast input array from shape (130,13,1) into shape (10,13,1)\n",
      "Track 19489 is shorter than expected 30 seconds, skipping.\n",
      "Track 19492 is shorter than expected 30 seconds, skipping.\n",
      "Track 19493 is shorter than expected 30 seconds, skipping.\n"
     ]
    },
    {
     "name": "stderr",
     "output_type": "stream",
     "text": [
      "Processing tracks:  14%|███████▉                                                  | 1650/12114 [03:38<47:10,  3.70it/s]"
     ]
    },
    {
     "name": "stdout",
     "output_type": "stream",
     "text": [
      "Track 19494 is shorter than expected 30 seconds, skipping.\n",
      "Error processing track 19530: index can't contain negative values\n"
     ]
    },
    {
     "name": "stderr",
     "output_type": "stream",
     "text": [
      "Processing tracks:  14%|███████▉                                                  | 1654/12114 [03:40<48:39,  3.58it/s]"
     ]
    },
    {
     "name": "stdout",
     "output_type": "stream",
     "text": [
      "Error processing track 19532: index can't contain negative values\n",
      "Error processing track 19550: could not broadcast input array from shape (130,13,1) into shape (10,13,1)\n",
      "Track 19582 is shorter than expected 30 seconds, skipping.\n",
      "Error processing track 19583: could not broadcast input array from shape (130,13,1) into shape (10,13,1)\n"
     ]
    },
    {
     "name": "stderr",
     "output_type": "stream",
     "text": [
      "Processing tracks:  14%|███████▋                                                | 1656/12114 [03:43<2:04:16,  1.40it/s]"
     ]
    },
    {
     "name": "stdout",
     "output_type": "stream",
     "text": [
      "Error processing track 19585: could not broadcast input array from shape (130,13,1) into shape (10,13,1)\n"
     ]
    },
    {
     "name": "stderr",
     "output_type": "stream",
     "text": [
      "Processing tracks:  14%|███████▋                                                | 1657/12114 [03:44<2:16:56,  1.27it/s]"
     ]
    },
    {
     "name": "stdout",
     "output_type": "stream",
     "text": [
      "Error processing track 19586: index can't contain negative values\n",
      "Track 19587 is shorter than expected 30 seconds, skipping.\n"
     ]
    },
    {
     "name": "stderr",
     "output_type": "stream",
     "text": [
      "Processing tracks:  14%|███████▋                                                | 1659/12114 [03:45<1:40:55,  1.73it/s]"
     ]
    },
    {
     "name": "stdout",
     "output_type": "stream",
     "text": [
      "Error processing track 19588: index can't contain negative values\n"
     ]
    },
    {
     "name": "stderr",
     "output_type": "stream",
     "text": [
      "Processing tracks:  14%|███████▋                                                | 1660/12114 [03:46<1:54:03,  1.53it/s]"
     ]
    },
    {
     "name": "stdout",
     "output_type": "stream",
     "text": [
      "Error processing track 19589: index can't contain negative values\n"
     ]
    },
    {
     "name": "stderr",
     "output_type": "stream",
     "text": [
      "Processing tracks:  14%|███████▋                                                | 1661/12114 [03:46<1:44:41,  1.66it/s]"
     ]
    },
    {
     "name": "stdout",
     "output_type": "stream",
     "text": [
      "Error processing track 19591: index can't contain negative values\n"
     ]
    },
    {
     "name": "stderr",
     "output_type": "stream",
     "text": [
      "Processing tracks:  14%|███████▋                                                | 1664/12114 [03:47<1:01:15,  2.84it/s]"
     ]
    },
    {
     "name": "stdout",
     "output_type": "stream",
     "text": [
      "Error processing track 19592: index can't contain negative values\n",
      "Track 19601 is shorter than expected 30 seconds, skipping.\n",
      "Track 19602 is shorter than expected 30 seconds, skipping.\n",
      "Track 19603 is shorter than expected 30 seconds, skipping.\n"
     ]
    },
    {
     "name": "stderr",
     "output_type": "stream",
     "text": [
      "Processing tracks:  14%|███████▉                                                  | 1668/12114 [03:47<31:49,  5.47it/s]"
     ]
    },
    {
     "name": "stdout",
     "output_type": "stream",
     "text": [
      "Error processing track 19604: index can't contain negative values\n",
      "Track 19606 is shorter than expected 30 seconds, skipping.\n",
      "Track 19607 is shorter than expected 30 seconds, skipping.\n"
     ]
    },
    {
     "name": "stderr",
     "output_type": "stream",
     "text": [
      "Processing tracks:  14%|███████▉                                                  | 1670/12114 [03:47<29:48,  5.84it/s]"
     ]
    },
    {
     "name": "stdout",
     "output_type": "stream",
     "text": [
      "Error processing track 19608: index can't contain negative values\n",
      "Error processing track 19609: index can't contain negative values\n",
      "Error processing track 19621: index can't contain negative values\n"
     ]
    },
    {
     "name": "stderr",
     "output_type": "stream",
     "text": [
      "Processing tracks:  14%|███████▋                                                | 1672/12114 [03:49<1:26:06,  2.02it/s]"
     ]
    },
    {
     "name": "stdout",
     "output_type": "stream",
     "text": [
      "Error processing track 19622: index can't contain negative values\n"
     ]
    },
    {
     "name": "stderr",
     "output_type": "stream",
     "text": [
      "Processing tracks:  14%|███████▋                                                | 1675/12114 [03:50<1:00:46,  2.86it/s]"
     ]
    },
    {
     "name": "stdout",
     "output_type": "stream",
     "text": [
      "Error processing track 19623: index can't contain negative values\n",
      "Track 19626 is shorter than expected 30 seconds, skipping.\n",
      "Error processing track 19627: index can't contain negative values\n",
      "Track 19628 is shorter than expected 30 seconds, skipping.\n",
      "Track 19629 is shorter than expected 30 seconds, skipping.\n"
     ]
    },
    {
     "name": "stderr",
     "output_type": "stream",
     "text": [
      "Processing tracks:  14%|████████                                                  | 1681/12114 [03:51<30:51,  5.63it/s]"
     ]
    },
    {
     "name": "stdout",
     "output_type": "stream",
     "text": [
      "Error processing track 19631: index can't contain negative values\n",
      "Track 19632 is shorter than expected 30 seconds, skipping.\n",
      "Track 19633 is shorter than expected 30 seconds, skipping.\n",
      "Error processing track 19644: could not broadcast input array from shape (130,13,1) into shape (10,13,1)\n"
     ]
    },
    {
     "name": "stderr",
     "output_type": "stream",
     "text": [
      "Processing tracks:  14%|████████                                                  | 1685/12114 [03:51<21:18,  8.16it/s]"
     ]
    },
    {
     "name": "stdout",
     "output_type": "stream",
     "text": [
      "Track 19647 is shorter than expected 30 seconds, skipping.\n",
      "Track 19648 is shorter than expected 30 seconds, skipping.\n",
      "Track 19649 is shorter than expected 30 seconds, skipping.\n",
      "Error processing track 19657: could not broadcast input array from shape (130,13,1) into shape (10,13,1)\n"
     ]
    },
    {
     "name": "stderr",
     "output_type": "stream",
     "text": [
      "Processing tracks:  14%|████████                                                  | 1689/12114 [03:51<16:06, 10.79it/s]"
     ]
    },
    {
     "name": "stdout",
     "output_type": "stream",
     "text": [
      "Track 19658 is shorter than expected 30 seconds, skipping.\n",
      "Track 19663 is shorter than expected 30 seconds, skipping.\n",
      "Track 19664 is shorter than expected 30 seconds, skipping.\n",
      "Error processing track 19668: could not broadcast input array from shape (130,13,1) into shape (10,13,1)\n"
     ]
    },
    {
     "name": "stderr",
     "output_type": "stream",
     "text": [
      "Processing tracks:  14%|████████                                                  | 1693/12114 [03:51<13:10, 13.18it/s]"
     ]
    },
    {
     "name": "stdout",
     "output_type": "stream",
     "text": [
      "Error processing track 19669: could not broadcast input array from shape (130,13,1) into shape (10,13,1)\n",
      "Track 19670 is shorter than expected 30 seconds, skipping.\n",
      "Error processing track 19671: could not broadcast input array from shape (130,13,1) into shape (10,13,1)\n",
      "Track 19682 is shorter than expected 30 seconds, skipping.\n"
     ]
    },
    {
     "name": "stderr",
     "output_type": "stream",
     "text": [
      "Processing tracks:  14%|████████                                                  | 1697/12114 [03:52<20:27,  8.49it/s]"
     ]
    },
    {
     "name": "stdout",
     "output_type": "stream",
     "text": [
      "Error processing track 19761: index can't contain negative values\n",
      "Error processing track 19790: could not broadcast input array from shape (130,13,1) into shape (10,13,1)\n",
      "Error processing track 19791: could not broadcast input array from shape (130,13,1) into shape (10,13,1)\n",
      "Error processing track 19793: could not broadcast input array from shape (130,13,1) into shape (10,13,1)\n"
     ]
    },
    {
     "name": "stderr",
     "output_type": "stream",
     "text": [
      "Processing tracks:  14%|████████▏                                                 | 1701/12114 [03:52<15:32, 11.16it/s]"
     ]
    },
    {
     "name": "stdout",
     "output_type": "stream",
     "text": [
      "Track 19794 is shorter than expected 30 seconds, skipping.\n",
      "Track 19816 is shorter than expected 30 seconds, skipping.\n",
      "Track 19817 is shorter than expected 30 seconds, skipping.\n",
      "Track 19818 is shorter than expected 30 seconds, skipping.\n"
     ]
    },
    {
     "name": "stderr",
     "output_type": "stream",
     "text": [
      "Processing tracks:  14%|████████▏                                                 | 1703/12114 [03:52<13:49, 12.55it/s]"
     ]
    },
    {
     "name": "stdout",
     "output_type": "stream",
     "text": [
      "Track 19975 is shorter than expected 30 seconds, skipping.\n",
      "Track 19976 is shorter than expected 30 seconds, skipping.\n"
     ]
    },
    {
     "name": "stderr",
     "output_type": "stream",
     "text": [
      "Processing tracks:  14%|████████▏                                                 | 1707/12114 [03:54<27:44,  6.25it/s]"
     ]
    },
    {
     "name": "stdout",
     "output_type": "stream",
     "text": [
      "Error processing track 19978: could not broadcast input array from shape (130,13,1) into shape (10,13,1)\n",
      "Track 19986 is shorter than expected 30 seconds, skipping.\n",
      "Track 19989 is shorter than expected 30 seconds, skipping.\n",
      "Error processing track 20051: could not broadcast input array from shape (130,13,1) into shape (10,13,1)\n"
     ]
    },
    {
     "name": "stderr",
     "output_type": "stream",
     "text": [
      "Processing tracks:  14%|████████▏                                                 | 1711/12114 [03:54<18:56,  9.15it/s]"
     ]
    },
    {
     "name": "stdout",
     "output_type": "stream",
     "text": [
      "Error processing track 20053: could not broadcast input array from shape (130,13,1) into shape (10,13,1)\n",
      "Track 20054 is shorter than expected 30 seconds, skipping.\n",
      "Track 20055 is shorter than expected 30 seconds, skipping.\n",
      "Error processing track 20057: could not broadcast input array from shape (130,13,1) into shape (10,13,1)\n"
     ]
    },
    {
     "name": "stderr",
     "output_type": "stream",
     "text": [
      "Processing tracks:  14%|████████▏                                                 | 1715/12114 [03:54<14:40, 11.81it/s]"
     ]
    },
    {
     "name": "stdout",
     "output_type": "stream",
     "text": [
      "Track 20058 is shorter than expected 30 seconds, skipping.\n",
      "Error processing track 20059: could not broadcast input array from shape (130,13,1) into shape (10,13,1)\n",
      "Track 20084 is shorter than expected 30 seconds, skipping.\n",
      "Track 20085 is shorter than expected 30 seconds, skipping.\n",
      "Track 20086 is shorter than expected 30 seconds, skipping.\n"
     ]
    },
    {
     "name": "stderr",
     "output_type": "stream",
     "text": [
      "Processing tracks:  14%|████████▏                                                 | 1717/12114 [03:56<52:36,  3.29it/s]"
     ]
    },
    {
     "name": "stdout",
     "output_type": "stream",
     "text": [
      "Error processing track 20088: index can't contain negative values\n",
      "Track 20089 is shorter than expected 30 seconds, skipping.\n"
     ]
    },
    {
     "name": "stderr",
     "output_type": "stream",
     "text": [
      "Processing tracks:  14%|████████▏                                                 | 1721/12114 [03:56<36:52,  4.70it/s]"
     ]
    },
    {
     "name": "stdout",
     "output_type": "stream",
     "text": [
      "Error processing track 20090: index can't contain negative values\n",
      "Track 20091 is shorter than expected 30 seconds, skipping.\n",
      "Error processing track 20092: index can't contain negative values\n",
      "Error processing track 20093: could not broadcast input array from shape (130,13,1) into shape (10,13,1)\n"
     ]
    },
    {
     "name": "stderr",
     "output_type": "stream",
     "text": [
      "Processing tracks:  14%|███████▉                                                | 1723/12114 [03:58<1:24:31,  2.05it/s]"
     ]
    },
    {
     "name": "stdout",
     "output_type": "stream",
     "text": [
      "Error processing track 20096: could not broadcast input array from shape (130,13,1) into shape (10,13,1)\n"
     ]
    },
    {
     "name": "stderr",
     "output_type": "stream",
     "text": [
      "Processing tracks:  14%|███████▉                                                | 1726/12114 [04:00<1:10:14,  2.46it/s]"
     ]
    },
    {
     "name": "stdout",
     "output_type": "stream",
     "text": [
      "Error processing track 20097: could not broadcast input array from shape (130,13,1) into shape (10,13,1)\n",
      "Track 20098 is shorter than expected 30 seconds, skipping.\n",
      "Track 20099 is shorter than expected 30 seconds, skipping.\n",
      "Track 20100 is shorter than expected 30 seconds, skipping.\n"
     ]
    },
    {
     "name": "stderr",
     "output_type": "stream",
     "text": [
      "Processing tracks:  14%|████████▎                                                 | 1730/12114 [04:00<37:42,  4.59it/s]"
     ]
    },
    {
     "name": "stdout",
     "output_type": "stream",
     "text": [
      "Track 20101 is shorter than expected 30 seconds, skipping.\n",
      "Track 20128 is shorter than expected 30 seconds, skipping.\n",
      "Track 20129 is shorter than expected 30 seconds, skipping.\n"
     ]
    },
    {
     "name": "stderr",
     "output_type": "stream",
     "text": [
      "Processing tracks:  14%|████████▎                                                 | 1732/12114 [04:00<37:39,  4.60it/s]"
     ]
    },
    {
     "name": "stdout",
     "output_type": "stream",
     "text": [
      "Error processing track 20130: index can't contain negative values\n",
      "Error processing track 20134: index can't contain negative values\n",
      "Error processing track 20135: index can't contain negative values\n"
     ]
    },
    {
     "name": "stderr",
     "output_type": "stream",
     "text": [
      "Processing tracks:  14%|████████▎                                                 | 1736/12114 [04:02<45:22,  3.81it/s]"
     ]
    },
    {
     "name": "stdout",
     "output_type": "stream",
     "text": [
      "Error processing track 20136: index can't contain negative values\n",
      "Track 20137 is shorter than expected 30 seconds, skipping.\n",
      "Track 20138 is shorter than expected 30 seconds, skipping.\n",
      "Track 20139 is shorter than expected 30 seconds, skipping.\n"
     ]
    },
    {
     "name": "stderr",
     "output_type": "stream",
     "text": [
      "Processing tracks:  14%|████████▎                                                 | 1740/12114 [04:03<42:43,  4.05it/s]"
     ]
    },
    {
     "name": "stdout",
     "output_type": "stream",
     "text": [
      "Error processing track 20142: index can't contain negative values\n",
      "Track 20143 is shorter than expected 30 seconds, skipping.\n",
      "Track 20144 is shorter than expected 30 seconds, skipping.\n"
     ]
    },
    {
     "name": "stderr",
     "output_type": "stream",
     "text": [
      "Processing tracks:  14%|████████                                                | 1742/12114 [04:05<1:16:49,  2.25it/s]"
     ]
    },
    {
     "name": "stdout",
     "output_type": "stream",
     "text": [
      "Error processing track 20145: index can't contain negative values\n",
      "Track 20146 is shorter than expected 30 seconds, skipping.\n"
     ]
    },
    {
     "name": "stderr",
     "output_type": "stream",
     "text": [
      "Processing tracks:  14%|████████                                                | 1743/12114 [04:05<1:16:24,  2.26it/s]"
     ]
    },
    {
     "name": "stdout",
     "output_type": "stream",
     "text": [
      "Error processing track 20147: index can't contain negative values\n"
     ]
    },
    {
     "name": "stderr",
     "output_type": "stream",
     "text": [
      "Processing tracks:  14%|████████                                                | 1744/12114 [04:06<1:34:51,  1.82it/s]"
     ]
    },
    {
     "name": "stdout",
     "output_type": "stream",
     "text": [
      "Error processing track 20149: index can't contain negative values\n"
     ]
    },
    {
     "name": "stderr",
     "output_type": "stream",
     "text": [
      "Processing tracks:  14%|████████                                                | 1745/12114 [04:07<2:01:56,  1.42it/s]"
     ]
    },
    {
     "name": "stdout",
     "output_type": "stream",
     "text": [
      "Error processing track 20152: could not broadcast input array from shape (130,13,1) into shape (10,13,1)\n",
      "Error processing track 20153: index can't contain negative values\n"
     ]
    },
    {
     "name": "stderr",
     "output_type": "stream",
     "text": [
      "Processing tracks:  14%|████████                                                | 1747/12114 [04:08<1:24:10,  2.05it/s]"
     ]
    },
    {
     "name": "stdout",
     "output_type": "stream",
     "text": [
      "Error processing track 20155: index can't contain negative values\n"
     ]
    },
    {
     "name": "stderr",
     "output_type": "stream",
     "text": [
      "Processing tracks:  14%|████████                                                | 1748/12114 [04:08<1:16:01,  2.27it/s]"
     ]
    },
    {
     "name": "stdout",
     "output_type": "stream",
     "text": [
      "Error processing track 20156: index can't contain negative values\n",
      "Track 20157 is shorter than expected 30 seconds, skipping.\n"
     ]
    },
    {
     "name": "stderr",
     "output_type": "stream",
     "text": [
      "Processing tracks:  14%|████████                                                | 1750/12114 [04:09<1:18:57,  2.19it/s]"
     ]
    },
    {
     "name": "stdout",
     "output_type": "stream",
     "text": [
      "Error processing track 20158: index can't contain negative values\n",
      "Track 20159 is shorter than expected 30 seconds, skipping.\n",
      "Track 20160 is shorter than expected 30 seconds, skipping.\n"
     ]
    },
    {
     "name": "stderr",
     "output_type": "stream",
     "text": [
      "Processing tracks:  14%|████████                                                | 1753/12114 [04:10<1:18:47,  2.19it/s]"
     ]
    },
    {
     "name": "stdout",
     "output_type": "stream",
     "text": [
      "Error processing track 20161: index can't contain negative values\n",
      "Track 20162 is shorter than expected 30 seconds, skipping.\n"
     ]
    },
    {
     "name": "stderr",
     "output_type": "stream",
     "text": [
      "Processing tracks:  14%|████████                                                | 1755/12114 [04:11<1:14:05,  2.33it/s]"
     ]
    },
    {
     "name": "stdout",
     "output_type": "stream",
     "text": [
      "Error processing track 20163: index can't contain negative values\n"
     ]
    },
    {
     "name": "stderr",
     "output_type": "stream",
     "text": [
      "Processing tracks:  15%|████████▍                                                 | 1759/12114 [04:12<46:58,  3.67it/s]"
     ]
    },
    {
     "name": "stdout",
     "output_type": "stream",
     "text": [
      "Error processing track 20165: index can't contain negative values\n",
      "Track 20167 is shorter than expected 30 seconds, skipping.\n",
      "Track 20168 is shorter than expected 30 seconds, skipping.\n",
      "Track 20181 is shorter than expected 30 seconds, skipping.\n"
     ]
    },
    {
     "name": "stderr",
     "output_type": "stream",
     "text": [
      "Processing tracks:  15%|████████▍                                                 | 1762/12114 [04:12<35:57,  4.80it/s]"
     ]
    },
    {
     "name": "stdout",
     "output_type": "stream",
     "text": [
      "Error processing track 20197: index can't contain negative values\n",
      "Track 20199 is shorter than expected 30 seconds, skipping.\n",
      "Track 20200 is shorter than expected 30 seconds, skipping.\n",
      "Track 20201 is shorter than expected 30 seconds, skipping.\n",
      "Track 20202 is shorter than expected 30 seconds, skipping.\n"
     ]
    },
    {
     "name": "stderr",
     "output_type": "stream",
     "text": [
      "Processing tracks:  15%|████████▍                                                 | 1769/12114 [04:13<19:33,  8.82it/s]"
     ]
    },
    {
     "name": "stdout",
     "output_type": "stream",
     "text": [
      "Error processing track 20203: index can't contain negative values\n",
      "Track 20205 is shorter than expected 30 seconds, skipping.\n",
      "Track 20206 is shorter than expected 30 seconds, skipping.\n",
      "Track 20209 is shorter than expected 30 seconds, skipping.\n",
      "Track 20231 is shorter than expected 30 seconds, skipping.\n"
     ]
    },
    {
     "name": "stderr",
     "output_type": "stream",
     "text": [
      "Processing tracks:  15%|████████▍                                                 | 1773/12114 [04:13<14:36, 11.79it/s]"
     ]
    },
    {
     "name": "stdout",
     "output_type": "stream",
     "text": [
      "Track 20234 is shorter than expected 30 seconds, skipping.\n",
      "Track 20264 is shorter than expected 30 seconds, skipping.\n",
      "Track 20277 is shorter than expected 30 seconds, skipping.\n",
      "Error processing track 20280: could not broadcast input array from shape (130,13,1) into shape (10,13,1)\n"
     ]
    },
    {
     "name": "stderr",
     "output_type": "stream",
     "text": [
      "Processing tracks:  15%|████████▌                                                 | 1777/12114 [04:13<12:20, 13.96it/s]"
     ]
    },
    {
     "name": "stdout",
     "output_type": "stream",
     "text": [
      "Error processing track 20341: could not broadcast input array from shape (130,13,1) into shape (10,13,1)\n",
      "Track 20342 is shorter than expected 30 seconds, skipping.\n",
      "Track 20344 is shorter than expected 30 seconds, skipping.\n",
      "Error processing track 20345: could not broadcast input array from shape (130,13,1) into shape (10,13,1)\n",
      "Track 20347 is shorter than expected 30 seconds, skipping.\n"
     ]
    },
    {
     "name": "stderr",
     "output_type": "stream",
     "text": [
      "Processing tracks:  15%|████████▏                                               | 1779/12114 [04:15<1:06:33,  2.59it/s]"
     ]
    },
    {
     "name": "stdout",
     "output_type": "stream",
     "text": [
      "Error processing track 20368: could not broadcast input array from shape (130,13,1) into shape (10,13,1)\n"
     ]
    },
    {
     "name": "stderr",
     "output_type": "stream",
     "text": [
      "Processing tracks:  15%|████████▌                                                 | 1781/12114 [04:16<58:44,  2.93it/s]"
     ]
    },
    {
     "name": "stdout",
     "output_type": "stream",
     "text": [
      "Error processing track 20395: could not broadcast input array from shape (130,13,1) into shape (10,13,1)\n",
      "Track 20428 is shorter than expected 30 seconds, skipping.\n"
     ]
    },
    {
     "name": "stderr",
     "output_type": "stream",
     "text": [
      "Processing tracks:  15%|████████▏                                               | 1784/12114 [04:18<1:20:23,  2.14it/s]"
     ]
    },
    {
     "name": "stdout",
     "output_type": "stream",
     "text": [
      "Error processing track 20449: could not broadcast input array from shape (130,13,1) into shape (10,13,1)\n",
      "Track 20450 is shorter than expected 30 seconds, skipping.\n",
      "Track 20452 is shorter than expected 30 seconds, skipping.\n",
      "Track 20462 is shorter than expected 30 seconds, skipping.\n"
     ]
    },
    {
     "name": "stderr",
     "output_type": "stream",
     "text": [
      "Processing tracks:  15%|████████▎                                               | 1788/12114 [04:20<1:06:20,  2.59it/s]"
     ]
    },
    {
     "name": "stdout",
     "output_type": "stream",
     "text": [
      "Error processing track 20463: index can't contain negative values\n",
      "Error processing track 20464: index can't contain negative values\n",
      "Track 20465 is shorter than expected 30 seconds, skipping.\n",
      "Track 20484 is shorter than expected 30 seconds, skipping.\n"
     ]
    },
    {
     "name": "stderr",
     "output_type": "stream",
     "text": [
      "Processing tracks:  15%|████████▌                                                 | 1792/12114 [04:20<36:37,  4.70it/s]"
     ]
    },
    {
     "name": "stdout",
     "output_type": "stream",
     "text": [
      "Error processing track 20485: could not broadcast input array from shape (130,13,1) into shape (10,13,1)\n",
      "Error processing track 20486: could not broadcast input array from shape (130,13,1) into shape (10,13,1)\n",
      "Track 20487 is shorter than expected 30 seconds, skipping.\n",
      "Track 20489 is shorter than expected 30 seconds, skipping.\n"
     ]
    },
    {
     "name": "stderr",
     "output_type": "stream",
     "text": [
      "Processing tracks:  15%|████████▌                                                 | 1794/12114 [04:20<28:32,  6.03it/s]"
     ]
    },
    {
     "name": "stdout",
     "output_type": "stream",
     "text": [
      "Track 20490 is shorter than expected 30 seconds, skipping.\n",
      "Track 20491 is shorter than expected 30 seconds, skipping.\n"
     ]
    },
    {
     "name": "stderr",
     "output_type": "stream",
     "text": [
      "Processing tracks:  15%|████████▌                                                 | 1800/12114 [04:21<26:02,  6.60it/s]"
     ]
    },
    {
     "name": "stdout",
     "output_type": "stream",
     "text": [
      "Error processing track 20576: index can't contain negative values\n",
      "Track 20577 is shorter than expected 30 seconds, skipping.\n",
      "Track 20686 is shorter than expected 30 seconds, skipping.\n",
      "Track 20692 is shorter than expected 30 seconds, skipping.\n",
      "Track 20695 is shorter than expected 30 seconds, skipping.\n",
      "Error processing track 20696: index can't contain negative values\n"
     ]
    },
    {
     "name": "stderr",
     "output_type": "stream",
     "text": [
      "Processing tracks:  15%|████████▋                                                 | 1802/12114 [04:22<41:55,  4.10it/s]"
     ]
    },
    {
     "name": "stdout",
     "output_type": "stream",
     "text": [
      "Error processing track 20705: index can't contain negative values\n",
      "Track 20707 is shorter than expected 30 seconds, skipping.\n"
     ]
    },
    {
     "name": "stderr",
     "output_type": "stream",
     "text": [
      "Processing tracks:  15%|████████▋                                                 | 1806/12114 [04:22<29:33,  5.81it/s]"
     ]
    },
    {
     "name": "stdout",
     "output_type": "stream",
     "text": [
      "Error processing track 20709: could not broadcast input array from shape (130,13,1) into shape (10,13,1)\n",
      "Track 20729 is shorter than expected 30 seconds, skipping.\n",
      "Track 20730 is shorter than expected 30 seconds, skipping.\n",
      "Track 20731 is shorter than expected 30 seconds, skipping.\n"
     ]
    },
    {
     "name": "stderr",
     "output_type": "stream",
     "text": [
      "Processing tracks:  15%|████████▋                                                 | 1810/12114 [04:23<19:34,  8.77it/s]"
     ]
    },
    {
     "name": "stdout",
     "output_type": "stream",
     "text": [
      "Track 20732 is shorter than expected 30 seconds, skipping.\n",
      "Track 20733 is shorter than expected 30 seconds, skipping.\n",
      "Track 20734 is shorter than expected 30 seconds, skipping.\n",
      "Track 20735 is shorter than expected 30 seconds, skipping.\n"
     ]
    },
    {
     "name": "stderr",
     "output_type": "stream",
     "text": [
      "Processing tracks:  15%|████████▋                                                 | 1812/12114 [04:23<16:38, 10.32it/s]"
     ]
    },
    {
     "name": "stdout",
     "output_type": "stream",
     "text": [
      "Track 20736 is shorter than expected 30 seconds, skipping.\n",
      "Track 20737 is shorter than expected 30 seconds, skipping.\n"
     ]
    },
    {
     "name": "stderr",
     "output_type": "stream",
     "text": [
      "Processing tracks:  15%|████████▋                                                 | 1816/12114 [04:24<26:56,  6.37it/s]"
     ]
    },
    {
     "name": "stdout",
     "output_type": "stream",
     "text": [
      "Error processing track 20738: could not broadcast input array from shape (130,13,1) into shape (10,13,1)\n",
      "Error processing track 20740: index can't contain negative values\n",
      "Track 20741 is shorter than expected 30 seconds, skipping.\n"
     ]
    },
    {
     "name": "stderr",
     "output_type": "stream",
     "text": [
      "Processing tracks:  15%|████████▋                                                 | 1818/12114 [04:24<27:24,  6.26it/s]"
     ]
    },
    {
     "name": "stdout",
     "output_type": "stream",
     "text": [
      "Error processing track 20742: index can't contain negative values\n",
      "Track 20743 is shorter than expected 30 seconds, skipping.\n"
     ]
    },
    {
     "name": "stderr",
     "output_type": "stream",
     "text": [
      "Processing tracks:  15%|████████▋                                                 | 1820/12114 [04:24<26:07,  6.57it/s]"
     ]
    },
    {
     "name": "stdout",
     "output_type": "stream",
     "text": [
      "Error processing track 20745: index can't contain negative values\n",
      "Track 20746 is shorter than expected 30 seconds, skipping.\n",
      "Track 20748 is shorter than expected 30 seconds, skipping.\n"
     ]
    },
    {
     "name": "stderr",
     "output_type": "stream",
     "text": [
      "Processing tracks:  15%|████████▋                                                 | 1824/12114 [04:25<26:06,  6.57it/s]"
     ]
    },
    {
     "name": "stdout",
     "output_type": "stream",
     "text": [
      "Error processing track 20749: index can't contain negative values\n",
      "Track 20750 is shorter than expected 30 seconds, skipping.\n",
      "Track 20751 is shorter than expected 30 seconds, skipping.\n",
      "Track 21006 is shorter than expected 30 seconds, skipping.\n"
     ]
    },
    {
     "name": "stderr",
     "output_type": "stream",
     "text": [
      "Processing tracks:  15%|████████▊                                                 | 1828/12114 [04:25<18:40,  9.18it/s]"
     ]
    },
    {
     "name": "stdout",
     "output_type": "stream",
     "text": [
      "Error processing track 21007: could not broadcast input array from shape (130,13,1) into shape (10,13,1)\n",
      "Track 21011 is shorter than expected 30 seconds, skipping.\n",
      "Track 21013 is shorter than expected 30 seconds, skipping.\n",
      "Track 21083 is shorter than expected 30 seconds, skipping.\n"
     ]
    },
    {
     "name": "stderr",
     "output_type": "stream",
     "text": [
      "Processing tracks:  15%|████████▊                                                 | 1830/12114 [04:25<16:04, 10.66it/s]"
     ]
    },
    {
     "name": "stdout",
     "output_type": "stream",
     "text": [
      "Track 21084 is shorter than expected 30 seconds, skipping.\n"
     ]
    },
    {
     "name": "stderr",
     "output_type": "stream",
     "text": [
      "Processing tracks:  15%|████████▊                                                 | 1834/12114 [04:26<16:30, 10.38it/s]"
     ]
    },
    {
     "name": "stdout",
     "output_type": "stream",
     "text": [
      "Error processing track 21086: could not broadcast input array from shape (130,13,1) into shape (10,13,1)\n",
      "Track 21130 is shorter than expected 30 seconds, skipping.\n",
      "Track 21131 is shorter than expected 30 seconds, skipping.\n",
      "Track 21132 is shorter than expected 30 seconds, skipping.\n"
     ]
    },
    {
     "name": "stderr",
     "output_type": "stream",
     "text": [
      "Processing tracks:  15%|████████▊                                                 | 1838/12114 [04:27<22:37,  7.57it/s]"
     ]
    },
    {
     "name": "stdout",
     "output_type": "stream",
     "text": [
      "Error processing track 21134: index can't contain negative values\n",
      "Error processing track 21135: index can't contain negative values\n",
      "Track 21136 is shorter than expected 30 seconds, skipping.\n",
      "Track 21137 is shorter than expected 30 seconds, skipping.\n"
     ]
    },
    {
     "name": "stderr",
     "output_type": "stream",
     "text": [
      "Processing tracks:  15%|████████▊                                                 | 1842/12114 [04:27<15:46, 10.86it/s]"
     ]
    },
    {
     "name": "stdout",
     "output_type": "stream",
     "text": [
      "Track 21158 is shorter than expected 30 seconds, skipping.\n",
      "Track 21161 is shorter than expected 30 seconds, skipping.\n",
      "Track 21164 is shorter than expected 30 seconds, skipping.\n",
      "Error processing track 21184: could not broadcast input array from shape (130,13,1) into shape (10,13,1)\n"
     ]
    },
    {
     "name": "stderr",
     "output_type": "stream",
     "text": [
      "Processing tracks:  15%|████████▊                                                 | 1846/12114 [04:27<12:53, 13.28it/s]"
     ]
    },
    {
     "name": "stdout",
     "output_type": "stream",
     "text": [
      "Error processing track 21185: could not broadcast input array from shape (130,13,1) into shape (10,13,1)\n",
      "Error processing track 21186: could not broadcast input array from shape (130,13,1) into shape (10,13,1)\n",
      "Track 21187 is shorter than expected 30 seconds, skipping.\n",
      "Track 21188 is shorter than expected 30 seconds, skipping.\n"
     ]
    },
    {
     "name": "stderr",
     "output_type": "stream",
     "text": [
      "Processing tracks:  15%|████████▊                                                 | 1850/12114 [04:27<11:28, 14.92it/s]"
     ]
    },
    {
     "name": "stdout",
     "output_type": "stream",
     "text": [
      "Error processing track 21189: could not broadcast input array from shape (130,13,1) into shape (10,13,1)\n",
      "Track 21190 is shorter than expected 30 seconds, skipping.\n",
      "Track 21191 is shorter than expected 30 seconds, skipping.\n",
      "Track 21192 is shorter than expected 30 seconds, skipping.\n"
     ]
    },
    {
     "name": "stderr",
     "output_type": "stream",
     "text": [
      "Processing tracks:  15%|████████▉                                                 | 1854/12114 [04:28<10:51, 15.75it/s]"
     ]
    },
    {
     "name": "stdout",
     "output_type": "stream",
     "text": [
      "Error processing track 21193: could not broadcast input array from shape (130,13,1) into shape (10,13,1)\n",
      "Track 21226 is shorter than expected 30 seconds, skipping.\n",
      "Track 21227 is shorter than expected 30 seconds, skipping.\n",
      "Track 21230 is shorter than expected 30 seconds, skipping.\n"
     ]
    },
    {
     "name": "stderr",
     "output_type": "stream",
     "text": [
      "Processing tracks:  15%|████████▉                                                 | 1856/12114 [04:28<11:03, 15.45it/s]"
     ]
    },
    {
     "name": "stdout",
     "output_type": "stream",
     "text": [
      "Track 21234 is shorter than expected 30 seconds, skipping.\n",
      "Error processing track 21275: could not broadcast input array from shape (130,13,1) into shape (10,13,1)\n"
     ]
    },
    {
     "name": "stderr",
     "output_type": "stream",
     "text": [
      "Processing tracks:  15%|████████▉                                                 | 1860/12114 [04:28<15:43, 10.87it/s]"
     ]
    },
    {
     "name": "stdout",
     "output_type": "stream",
     "text": [
      "Error processing track 21279: could not broadcast input array from shape (130,13,1) into shape (10,13,1)\n",
      "Error processing track 21282: could not broadcast input array from shape (130,13,1) into shape (10,13,1)\n",
      "Track 21302 is shorter than expected 30 seconds, skipping.\n",
      "Track 21345 is shorter than expected 30 seconds, skipping.\n"
     ]
    },
    {
     "name": "stderr",
     "output_type": "stream",
     "text": [
      "Processing tracks:  15%|████████▉                                                 | 1862/12114 [04:28<14:15, 11.98it/s]"
     ]
    },
    {
     "name": "stdout",
     "output_type": "stream",
     "text": [
      "Track 21349 is shorter than expected 30 seconds, skipping.\n",
      "Error processing track 21351: could not broadcast input array from shape (130,13,1) into shape (10,13,1)\n"
     ]
    },
    {
     "name": "stderr",
     "output_type": "stream",
     "text": [
      "Processing tracks:  15%|████████▉                                                 | 1866/12114 [04:29<15:37, 10.93it/s]"
     ]
    },
    {
     "name": "stdout",
     "output_type": "stream",
     "text": [
      "Error processing track 21352: could not broadcast input array from shape (130,13,1) into shape (10,13,1)\n",
      "Error processing track 21353: index can't contain negative values\n",
      "Track 21363 is shorter than expected 30 seconds, skipping.\n",
      "Track 21405 is shorter than expected 30 seconds, skipping.\n"
     ]
    },
    {
     "name": "stderr",
     "output_type": "stream",
     "text": [
      "Processing tracks:  15%|████████▉                                                 | 1868/12114 [04:29<19:39,  8.69it/s]"
     ]
    },
    {
     "name": "stdout",
     "output_type": "stream",
     "text": [
      "Error processing track 21410: index can't contain negative values\n",
      "Track 21414 is shorter than expected 30 seconds, skipping.\n"
     ]
    },
    {
     "name": "stderr",
     "output_type": "stream",
     "text": [
      "Processing tracks:  15%|████████▉                                                 | 1870/12114 [04:29<22:27,  7.60it/s]"
     ]
    },
    {
     "name": "stdout",
     "output_type": "stream",
     "text": [
      "Error processing track 21415: could not broadcast input array from shape (130,13,1) into shape (10,13,1)\n",
      "Error processing track 21416: could not broadcast input array from shape (130,13,1) into shape (10,13,1)\n",
      "Track 21418 is shorter than expected 30 seconds, skipping.\n"
     ]
    },
    {
     "name": "stderr",
     "output_type": "stream",
     "text": [
      "Processing tracks:  15%|████████▉                                                 | 1874/12114 [04:30<19:29,  8.76it/s]"
     ]
    },
    {
     "name": "stdout",
     "output_type": "stream",
     "text": [
      "Error processing track 21419: could not broadcast input array from shape (130,13,1) into shape (10,13,1)\n",
      "Error processing track 21420: could not broadcast input array from shape (130,13,1) into shape (10,13,1)\n",
      "Track 21423 is shorter than expected 30 seconds, skipping.\n",
      "Error processing track 21424: could not broadcast input array from shape (130,13,1) into shape (10,13,1)\n"
     ]
    },
    {
     "name": "stderr",
     "output_type": "stream",
     "text": [
      "Processing tracks:  16%|████████▉                                                 | 1878/12114 [04:30<19:28,  8.76it/s]"
     ]
    },
    {
     "name": "stdout",
     "output_type": "stream",
     "text": [
      "Error processing track 21426: could not broadcast input array from shape (130,13,1) into shape (10,13,1)\n",
      "Track 21555 is shorter than expected 30 seconds, skipping.\n",
      "Track 21556 is shorter than expected 30 seconds, skipping.\n",
      "Track 21557 is shorter than expected 30 seconds, skipping.\n"
     ]
    },
    {
     "name": "stderr",
     "output_type": "stream",
     "text": [
      "Processing tracks:  16%|█████████                                                 | 1882/12114 [04:31<17:42,  9.63it/s]"
     ]
    },
    {
     "name": "stdout",
     "output_type": "stream",
     "text": [
      "Error processing track 21558: could not broadcast input array from shape (130,13,1) into shape (10,13,1)\n",
      "Track 21559 is shorter than expected 30 seconds, skipping.\n",
      "Track 21678 is shorter than expected 30 seconds, skipping.\n",
      "Error processing track 21679: could not broadcast input array from shape (130,13,1) into shape (10,13,1)\n"
     ]
    },
    {
     "name": "stderr",
     "output_type": "stream",
     "text": [
      "Processing tracks:  16%|█████████                                                 | 1886/12114 [04:31<13:46, 12.38it/s]"
     ]
    },
    {
     "name": "stdout",
     "output_type": "stream",
     "text": [
      "Track 21680 is shorter than expected 30 seconds, skipping.\n",
      "Track 21682 is shorter than expected 30 seconds, skipping.\n",
      "Track 21683 is shorter than expected 30 seconds, skipping.\n",
      "Error processing track 21689: could not broadcast input array from shape (130,13,1) into shape (10,13,1)\n"
     ]
    },
    {
     "name": "stderr",
     "output_type": "stream",
     "text": [
      "Processing tracks:  16%|█████████                                                 | 1890/12114 [04:32<30:01,  5.67it/s]"
     ]
    },
    {
     "name": "stdout",
     "output_type": "stream",
     "text": [
      "Error processing track 21695: index can't contain negative values\n",
      "Track 21697 is shorter than expected 30 seconds, skipping.\n",
      "Track 21701 is shorter than expected 30 seconds, skipping.\n",
      "Track 21708 is shorter than expected 30 seconds, skipping.\n"
     ]
    },
    {
     "name": "stderr",
     "output_type": "stream",
     "text": [
      "Processing tracks:  16%|█████████                                                 | 1892/12114 [04:32<23:46,  7.16it/s]"
     ]
    },
    {
     "name": "stdout",
     "output_type": "stream",
     "text": [
      "Track 21743 is shorter than expected 30 seconds, skipping.\n"
     ]
    },
    {
     "name": "stderr",
     "output_type": "stream",
     "text": [
      "Processing tracks:  16%|█████████                                                 | 1896/12114 [04:33<27:28,  6.20it/s]"
     ]
    },
    {
     "name": "stdout",
     "output_type": "stream",
     "text": [
      "Error processing track 21776: could not broadcast input array from shape (130,13,1) into shape (10,13,1)\n",
      "Track 21798 is shorter than expected 30 seconds, skipping.\n",
      "Track 21799 is shorter than expected 30 seconds, skipping.\n",
      "Track 21800 is shorter than expected 30 seconds, skipping.\n"
     ]
    },
    {
     "name": "stderr",
     "output_type": "stream",
     "text": [
      "Processing tracks:  16%|█████████                                                 | 1898/12114 [04:33<22:10,  7.68it/s]"
     ]
    },
    {
     "name": "stdout",
     "output_type": "stream",
     "text": [
      "Error processing track 21839: index can't contain negative values\n",
      "Error processing track 21843: could not broadcast input array from shape (130,13,1) into shape (10,13,1)\n",
      "Track 21844 is shorter than expected 30 seconds, skipping.\n"
     ]
    },
    {
     "name": "stderr",
     "output_type": "stream",
     "text": [
      "Processing tracks:  16%|█████████                                                 | 1900/12114 [04:34<22:16,  7.64it/s]"
     ]
    },
    {
     "name": "stdout",
     "output_type": "stream",
     "text": [
      "Error processing track 21845: could not broadcast input array from shape (130,13,1) into shape (10,13,1)\n",
      "Error processing track 21847: could not broadcast input array from shape (130,13,1) into shape (10,13,1)\n"
     ]
    },
    {
     "name": "stderr",
     "output_type": "stream",
     "text": [
      "Processing tracks:  16%|█████████                                                 | 1904/12114 [04:34<21:50,  7.79it/s]"
     ]
    },
    {
     "name": "stdout",
     "output_type": "stream",
     "text": [
      "Error processing track 21848: could not broadcast input array from shape (130,13,1) into shape (10,13,1)\n",
      "Track 21849 is shorter than expected 30 seconds, skipping.\n",
      "Track 21855 is shorter than expected 30 seconds, skipping.\n"
     ]
    },
    {
     "name": "stderr",
     "output_type": "stream",
     "text": [
      "Processing tracks:  16%|█████████▏                                                | 1906/12114 [04:34<19:37,  8.67it/s]"
     ]
    },
    {
     "name": "stdout",
     "output_type": "stream",
     "text": [
      "Error processing track 21856: could not broadcast input array from shape (130,13,1) into shape (10,13,1)\n",
      "Error processing track 21857: could not broadcast input array from shape (130,13,1) into shape (10,13,1)\n",
      "Track 21858 is shorter than expected 30 seconds, skipping.\n"
     ]
    },
    {
     "name": "stderr",
     "output_type": "stream",
     "text": [
      "Processing tracks:  16%|█████████▏                                                | 1908/12114 [04:34<17:09,  9.92it/s]"
     ]
    },
    {
     "name": "stdout",
     "output_type": "stream",
     "text": [
      "Track 21861 is shorter than expected 30 seconds, skipping.\n"
     ]
    },
    {
     "name": "stderr",
     "output_type": "stream",
     "text": [
      "Processing tracks:  16%|█████████▏                                                | 1912/12114 [04:35<16:47, 10.13it/s]"
     ]
    },
    {
     "name": "stdout",
     "output_type": "stream",
     "text": [
      "Error processing track 21885: could not broadcast input array from shape (130,13,1) into shape (10,13,1)\n",
      "Error processing track 21886: could not broadcast input array from shape (130,13,1) into shape (10,13,1)\n",
      "Track 21887 is shorter than expected 30 seconds, skipping.\n",
      "Track 21888 is shorter than expected 30 seconds, skipping.\n"
     ]
    },
    {
     "name": "stderr",
     "output_type": "stream",
     "text": [
      "Processing tracks:  16%|█████████▏                                                | 1914/12114 [04:35<15:11, 11.19it/s]"
     ]
    },
    {
     "name": "stdout",
     "output_type": "stream",
     "text": [
      "Track 21889 is shorter than expected 30 seconds, skipping.\n",
      "Track 21890 is shorter than expected 30 seconds, skipping.\n",
      "Error processing track 21892: could not broadcast input array from shape (130,13,1) into shape (10,13,1)\n"
     ]
    },
    {
     "name": "stderr",
     "output_type": "stream",
     "text": [
      "Processing tracks:  16%|█████████▏                                                | 1918/12114 [04:36<19:24,  8.76it/s]"
     ]
    },
    {
     "name": "stdout",
     "output_type": "stream",
     "text": [
      "Error processing track 21893: could not broadcast input array from shape (130,13,1) into shape (10,13,1)\n",
      "Error processing track 21894: could not broadcast input array from shape (130,13,1) into shape (10,13,1)\n",
      "Track 21896 is shorter than expected 30 seconds, skipping.\n",
      "Error processing track 21897: could not broadcast input array from shape (130,13,1) into shape (10,13,1)\n"
     ]
    },
    {
     "name": "stderr",
     "output_type": "stream",
     "text": [
      "Processing tracks:  16%|█████████▏                                                | 1922/12114 [04:36<18:08,  9.36it/s]"
     ]
    },
    {
     "name": "stdout",
     "output_type": "stream",
     "text": [
      "Error processing track 21898: could not broadcast input array from shape (130,13,1) into shape (10,13,1)\n",
      "Track 21899 is shorter than expected 30 seconds, skipping.\n",
      "Track 21912 is shorter than expected 30 seconds, skipping.\n",
      "Track 21926 is shorter than expected 30 seconds, skipping.\n"
     ]
    },
    {
     "name": "stderr",
     "output_type": "stream",
     "text": [
      "Processing tracks:  16%|█████████▏                                                | 1924/12114 [04:36<15:30, 10.96it/s]"
     ]
    },
    {
     "name": "stdout",
     "output_type": "stream",
     "text": [
      "Error processing track 21931: index can't contain negative values\n"
     ]
    },
    {
     "name": "stderr",
     "output_type": "stream",
     "text": [
      "Processing tracks:  16%|█████████▏                                                | 1926/12114 [04:36<18:37,  9.12it/s]"
     ]
    },
    {
     "name": "stdout",
     "output_type": "stream",
     "text": [
      "Error processing track 21932: could not broadcast input array from shape (130,13,1) into shape (10,13,1)\n",
      "Error processing track 21953: could not broadcast input array from shape (130,13,1) into shape (10,13,1)\n",
      "Track 21954 is shorter than expected 30 seconds, skipping.\n"
     ]
    },
    {
     "name": "stderr",
     "output_type": "stream",
     "text": [
      "Processing tracks:  16%|█████████▏                                                | 1930/12114 [04:37<18:12,  9.32it/s]"
     ]
    },
    {
     "name": "stdout",
     "output_type": "stream",
     "text": [
      "Error processing track 21956: could not broadcast input array from shape (130,13,1) into shape (10,13,1)\n",
      "Track 21957 is shorter than expected 30 seconds, skipping.\n",
      "Track 21958 is shorter than expected 30 seconds, skipping.\n"
     ]
    },
    {
     "name": "stderr",
     "output_type": "stream",
     "text": [
      "Processing tracks:  16%|█████████▎                                                | 1932/12114 [04:37<15:52, 10.69it/s]"
     ]
    },
    {
     "name": "stdout",
     "output_type": "stream",
     "text": [
      "Track 21959 is shorter than expected 30 seconds, skipping.\n",
      "Track 21960 is shorter than expected 30 seconds, skipping.\n"
     ]
    },
    {
     "name": "stderr",
     "output_type": "stream",
     "text": [
      "Processing tracks:  16%|█████████▎                                                | 1936/12114 [04:38<18:23,  9.23it/s]"
     ]
    },
    {
     "name": "stdout",
     "output_type": "stream",
     "text": [
      "Error processing track 21991: index can't contain negative values\n",
      "Error processing track 22021: index can't contain negative values\n",
      "Error processing track 22022: index can't contain negative values\n",
      "Track 22023 is shorter than expected 30 seconds, skipping.\n"
     ]
    },
    {
     "name": "stderr",
     "output_type": "stream",
     "text": [
      "Processing tracks:  16%|█████████▎                                                | 1940/12114 [04:38<16:21, 10.37it/s]"
     ]
    },
    {
     "name": "stdout",
     "output_type": "stream",
     "text": [
      "Error processing track 22024: index can't contain negative values\n",
      "Track 22029 is shorter than expected 30 seconds, skipping.\n",
      "Error processing track 22031: could not broadcast input array from shape (130,13,1) into shape (10,13,1)\n",
      "Track 22032 is shorter than expected 30 seconds, skipping.\n",
      "Error processing track 22033: could not broadcast input array from shape (130,13,1) into shape (10,13,1)\n"
     ]
    },
    {
     "name": "stderr",
     "output_type": "stream",
     "text": [
      "Processing tracks:  16%|█████████▎                                                | 1944/12114 [04:38<16:27, 10.30it/s]"
     ]
    },
    {
     "name": "stdout",
     "output_type": "stream",
     "text": [
      "Error processing track 22038: could not broadcast input array from shape (130,13,1) into shape (10,13,1)\n",
      "Track 22039 is shorter than expected 30 seconds, skipping.\n",
      "Track 22040 is shorter than expected 30 seconds, skipping.\n",
      "Track 22048 is shorter than expected 30 seconds, skipping.\n"
     ]
    },
    {
     "name": "stderr",
     "output_type": "stream",
     "text": [
      "Processing tracks:  16%|█████████▎                                                | 1948/12114 [04:39<13:25, 12.63it/s]"
     ]
    },
    {
     "name": "stdout",
     "output_type": "stream",
     "text": [
      "Track 22049 is shorter than expected 30 seconds, skipping.\n",
      "Error processing track 22050: could not broadcast input array from shape (130,13,1) into shape (10,13,1)\n",
      "Error processing track 22084: index can't contain negative values\n",
      "Error processing track 22096: could not broadcast input array from shape (130,13,1) into shape (10,13,1)\n"
     ]
    },
    {
     "name": "stderr",
     "output_type": "stream",
     "text": [
      "Processing tracks:  16%|█████████▎                                                | 1952/12114 [04:39<12:02, 14.06it/s]"
     ]
    },
    {
     "name": "stdout",
     "output_type": "stream",
     "text": [
      "Track 22126 is shorter than expected 30 seconds, skipping.\n",
      "Track 22127 is shorter than expected 30 seconds, skipping.\n",
      "Track 22128 is shorter than expected 30 seconds, skipping.\n",
      "Track 22129 is shorter than expected 30 seconds, skipping.\n"
     ]
    },
    {
     "name": "stderr",
     "output_type": "stream",
     "text": [
      "Processing tracks:  16%|█████████▎                                                | 1956/12114 [04:39<10:31, 16.07it/s]"
     ]
    },
    {
     "name": "stdout",
     "output_type": "stream",
     "text": [
      "Track 22130 is shorter than expected 30 seconds, skipping.\n",
      "Track 22131 is shorter than expected 30 seconds, skipping.\n",
      "Error processing track 22132: index can't contain negative values\n",
      "Track 22134 is shorter than expected 30 seconds, skipping.\n"
     ]
    },
    {
     "name": "stderr",
     "output_type": "stream",
     "text": [
      "Processing tracks:  16%|█████████▍                                                | 1960/12114 [04:39<10:22, 16.31it/s]"
     ]
    },
    {
     "name": "stdout",
     "output_type": "stream",
     "text": [
      "Error processing track 22135: could not broadcast input array from shape (130,13,1) into shape (10,13,1)\n",
      "Track 22136 is shorter than expected 30 seconds, skipping.\n",
      "Track 22137 is shorter than expected 30 seconds, skipping.\n",
      "Track 22138 is shorter than expected 30 seconds, skipping.\n"
     ]
    },
    {
     "name": "stderr",
     "output_type": "stream",
     "text": [
      "Processing tracks:  16%|█████████▍                                                | 1964/12114 [04:40<10:39, 15.86it/s]"
     ]
    },
    {
     "name": "stdout",
     "output_type": "stream",
     "text": [
      "Track 22139 is shorter than expected 30 seconds, skipping.\n",
      "Track 22140 is shorter than expected 30 seconds, skipping.\n",
      "Error processing track 22141: could not broadcast input array from shape (130,13,1) into shape (10,13,1)\n",
      "Track 22142 is shorter than expected 30 seconds, skipping.\n"
     ]
    },
    {
     "name": "stderr",
     "output_type": "stream",
     "text": [
      "Processing tracks:  16%|█████████▍                                                | 1966/12114 [04:40<10:38, 15.90it/s]"
     ]
    },
    {
     "name": "stdout",
     "output_type": "stream",
     "text": [
      "Track 22143 is shorter than expected 30 seconds, skipping.\n"
     ]
    },
    {
     "name": "stderr",
     "output_type": "stream",
     "text": [
      "Processing tracks:  16%|█████████▍                                                | 1968/12114 [04:40<14:35, 11.58it/s]"
     ]
    },
    {
     "name": "stdout",
     "output_type": "stream",
     "text": [
      "Error processing track 22144: could not broadcast input array from shape (130,13,1) into shape (10,13,1)\n",
      "Track 22152 is shorter than expected 30 seconds, skipping.\n",
      "Track 22290 is shorter than expected 30 seconds, skipping.\n"
     ]
    },
    {
     "name": "stderr",
     "output_type": "stream",
     "text": [
      "Processing tracks:  16%|█████████▍                                                | 1972/12114 [04:41<22:12,  7.61it/s]"
     ]
    },
    {
     "name": "stdout",
     "output_type": "stream",
     "text": [
      "Error processing track 22292: index can't contain negative values\n",
      "Track 22298 is shorter than expected 30 seconds, skipping.\n",
      "Error processing track 22299: index can't contain negative values\n",
      "Track 22302 is shorter than expected 30 seconds, skipping.\n"
     ]
    },
    {
     "name": "stderr",
     "output_type": "stream",
     "text": [
      "Processing tracks:  16%|█████████▍                                                | 1976/12114 [04:41<15:34, 10.84it/s]"
     ]
    },
    {
     "name": "stdout",
     "output_type": "stream",
     "text": [
      "Track 22305 is shorter than expected 30 seconds, skipping.\n",
      "Track 22306 is shorter than expected 30 seconds, skipping.\n",
      "Track 22307 is shorter than expected 30 seconds, skipping.\n",
      "Track 22332 is shorter than expected 30 seconds, skipping.\n"
     ]
    },
    {
     "name": "stderr",
     "output_type": "stream",
     "text": [
      "Processing tracks:  16%|█████████▍                                                | 1980/12114 [04:41<12:08, 13.91it/s]"
     ]
    },
    {
     "name": "stdout",
     "output_type": "stream",
     "text": [
      "Track 22334 is shorter than expected 30 seconds, skipping.\n",
      "Track 22336 is shorter than expected 30 seconds, skipping.\n",
      "Track 22339 is shorter than expected 30 seconds, skipping.\n",
      "Track 22342 is shorter than expected 30 seconds, skipping.\n"
     ]
    },
    {
     "name": "stderr",
     "output_type": "stream",
     "text": [
      "Processing tracks:  16%|█████████▍                                                | 1984/12114 [04:41<10:22, 16.27it/s]"
     ]
    },
    {
     "name": "stdout",
     "output_type": "stream",
     "text": [
      "Track 22346 is shorter than expected 30 seconds, skipping.\n",
      "Track 22347 is shorter than expected 30 seconds, skipping.\n",
      "Track 22349 is shorter than expected 30 seconds, skipping.\n",
      "Track 22351 is shorter than expected 30 seconds, skipping.\n"
     ]
    },
    {
     "name": "stderr",
     "output_type": "stream",
     "text": [
      "Processing tracks:  16%|█████████▌                                                | 1988/12114 [04:42<10:02, 16.81it/s]"
     ]
    },
    {
     "name": "stdout",
     "output_type": "stream",
     "text": [
      "Track 22354 is shorter than expected 30 seconds, skipping.\n",
      "Track 22355 is shorter than expected 30 seconds, skipping.\n",
      "Track 22356 is shorter than expected 30 seconds, skipping.\n",
      "Track 22357 is shorter than expected 30 seconds, skipping.\n"
     ]
    },
    {
     "name": "stderr",
     "output_type": "stream",
     "text": [
      "Processing tracks:  16%|█████████▌                                                | 1992/12114 [04:42<09:44, 17.31it/s]"
     ]
    },
    {
     "name": "stdout",
     "output_type": "stream",
     "text": [
      "Error processing track 22358: could not broadcast input array from shape (130,13,1) into shape (10,13,1)\n",
      "Track 22367 is shorter than expected 30 seconds, skipping.\n",
      "Track 22368 is shorter than expected 30 seconds, skipping.\n",
      "Error processing track 22369: could not broadcast input array from shape (130,13,1) into shape (10,13,1)\n"
     ]
    },
    {
     "name": "stderr",
     "output_type": "stream",
     "text": [
      "Processing tracks:  16%|█████████▌                                                | 1996/12114 [04:42<10:46, 15.64it/s]"
     ]
    },
    {
     "name": "stdout",
     "output_type": "stream",
     "text": [
      "Error processing track 22370: could not broadcast input array from shape (130,13,1) into shape (10,13,1)\n",
      "Error processing track 22371: could not broadcast input array from shape (130,13,1) into shape (10,13,1)\n",
      "Error processing track 22372: could not broadcast input array from shape (130,13,1) into shape (10,13,1)\n",
      "Track 22373 is shorter than expected 30 seconds, skipping.\n"
     ]
    },
    {
     "name": "stderr",
     "output_type": "stream",
     "text": [
      "Processing tracks:  17%|█████████▌                                                | 2000/12114 [04:42<11:58, 14.08it/s]"
     ]
    },
    {
     "name": "stdout",
     "output_type": "stream",
     "text": [
      "Error processing track 22374: could not broadcast input array from shape (130,13,1) into shape (10,13,1)\n",
      "Error processing track 22375: could not broadcast input array from shape (130,13,1) into shape (10,13,1)\n",
      "Track 22376 is shorter than expected 30 seconds, skipping.\n"
     ]
    },
    {
     "name": "stderr",
     "output_type": "stream",
     "text": [
      "Processing tracks:  17%|█████████▌                                                | 2002/12114 [04:43<11:56, 14.11it/s]"
     ]
    },
    {
     "name": "stdout",
     "output_type": "stream",
     "text": [
      "Error processing track 22377: could not broadcast input array from shape (130,13,1) into shape (10,13,1)\n",
      "Track 22378 is shorter than expected 30 seconds, skipping.\n"
     ]
    },
    {
     "name": "stderr",
     "output_type": "stream",
     "text": [
      "Processing tracks:  17%|█████████▌                                                | 2004/12114 [04:43<15:12, 11.08it/s]"
     ]
    },
    {
     "name": "stdout",
     "output_type": "stream",
     "text": [
      "Error processing track 22379: could not broadcast input array from shape (130,13,1) into shape (10,13,1)\n",
      "Track 22432 is shorter than expected 30 seconds, skipping.\n",
      "Error processing track 22433: could not broadcast input array from shape (130,13,1) into shape (10,13,1)\n"
     ]
    },
    {
     "name": "stderr",
     "output_type": "stream",
     "text": [
      "Processing tracks:  17%|█████████▌                                                | 2008/12114 [04:43<16:53,  9.97it/s]"
     ]
    },
    {
     "name": "stdout",
     "output_type": "stream",
     "text": [
      "Error processing track 22434: could not broadcast input array from shape (130,13,1) into shape (10,13,1)\n",
      "Track 22435 is shorter than expected 30 seconds, skipping.\n",
      "Track 22436 is shorter than expected 30 seconds, skipping.\n",
      "Error processing track 22437: index can't contain negative values\n"
     ]
    },
    {
     "name": "stderr",
     "output_type": "stream",
     "text": [
      "Processing tracks:  17%|█████████▋                                                | 2012/12114 [04:44<13:28, 12.50it/s]"
     ]
    },
    {
     "name": "stdout",
     "output_type": "stream",
     "text": [
      "Track 22438 is shorter than expected 30 seconds, skipping.\n",
      "Track 22439 is shorter than expected 30 seconds, skipping.\n",
      "Error processing track 22440: could not broadcast input array from shape (130,13,1) into shape (10,13,1)\n",
      "Error processing track 22443: index can't contain negative values\n"
     ]
    },
    {
     "name": "stderr",
     "output_type": "stream",
     "text": [
      "Processing tracks:  17%|█████████▋                                                | 2016/12114 [04:44<14:57, 11.26it/s]"
     ]
    },
    {
     "name": "stdout",
     "output_type": "stream",
     "text": [
      "Error processing track 22445: could not broadcast input array from shape (130,13,1) into shape (10,13,1)\n",
      "Track 22454 is shorter than expected 30 seconds, skipping.\n",
      "Error processing track 22455: could not broadcast input array from shape (130,13,1) into shape (10,13,1)\n",
      "Track 22456 is shorter than expected 30 seconds, skipping.\n"
     ]
    },
    {
     "name": "stderr",
     "output_type": "stream",
     "text": [
      "Processing tracks:  17%|█████████▋                                                | 2020/12114 [04:44<15:31, 10.84it/s]"
     ]
    },
    {
     "name": "stdout",
     "output_type": "stream",
     "text": [
      "Error processing track 22457: could not broadcast input array from shape (130,13,1) into shape (10,13,1)\n",
      "Error processing track 22458: could not broadcast input array from shape (130,13,1) into shape (10,13,1)\n",
      "Track 22459 is shorter than expected 30 seconds, skipping.\n",
      "Error processing track 22550: could not broadcast input array from shape (130,13,1) into shape (10,13,1)\n"
     ]
    },
    {
     "name": "stderr",
     "output_type": "stream",
     "text": [
      "Processing tracks:  17%|█████████▋                                                | 2024/12114 [04:45<15:59, 10.51it/s]"
     ]
    },
    {
     "name": "stdout",
     "output_type": "stream",
     "text": [
      "Error processing track 22584: could not broadcast input array from shape (130,13,1) into shape (10,13,1)\n",
      "Track 22592 is shorter than expected 30 seconds, skipping.\n",
      "Error processing track 22596: could not broadcast input array from shape (130,13,1) into shape (10,13,1)\n",
      "Error processing track 22597: could not broadcast input array from shape (130,13,1) into shape (10,13,1)\n"
     ]
    },
    {
     "name": "stderr",
     "output_type": "stream",
     "text": [
      "Processing tracks:  17%|█████████▋                                                | 2028/12114 [04:45<13:15, 12.68it/s]"
     ]
    },
    {
     "name": "stdout",
     "output_type": "stream",
     "text": [
      "Error processing track 22598: could not broadcast input array from shape (130,13,1) into shape (10,13,1)\n",
      "Track 22599 is shorter than expected 30 seconds, skipping.\n",
      "Error processing track 22601: could not broadcast input array from shape (130,13,1) into shape (10,13,1)\n",
      "Track 22602 is shorter than expected 30 seconds, skipping.\n"
     ]
    },
    {
     "name": "stderr",
     "output_type": "stream",
     "text": [
      "Processing tracks:  17%|█████████▋                                                | 2032/12114 [04:45<11:45, 14.30it/s]"
     ]
    },
    {
     "name": "stdout",
     "output_type": "stream",
     "text": [
      "Error processing track 22603: could not broadcast input array from shape (130,13,1) into shape (10,13,1)\n",
      "Track 22982 is shorter than expected 30 seconds, skipping.\n",
      "Track 22984 is shorter than expected 30 seconds, skipping.\n",
      "Track 22985 is shorter than expected 30 seconds, skipping.\n"
     ]
    },
    {
     "name": "stderr",
     "output_type": "stream",
     "text": [
      "Processing tracks:  17%|█████████▋                                                | 2036/12114 [04:46<10:35, 15.86it/s]"
     ]
    },
    {
     "name": "stdout",
     "output_type": "stream",
     "text": [
      "Track 23034 is shorter than expected 30 seconds, skipping.\n",
      "Track 23035 is shorter than expected 30 seconds, skipping.\n",
      "Track 23038 is shorter than expected 30 seconds, skipping.\n",
      "Track 23042 is shorter than expected 30 seconds, skipping.\n"
     ]
    },
    {
     "name": "stderr",
     "output_type": "stream",
     "text": [
      "Processing tracks:  17%|█████████▊                                                | 2040/12114 [04:46<10:03, 16.68it/s]"
     ]
    },
    {
     "name": "stdout",
     "output_type": "stream",
     "text": [
      "Error processing track 23070: index can't contain negative values\n",
      "Track 23071 is shorter than expected 30 seconds, skipping.\n",
      "Track 23072 is shorter than expected 30 seconds, skipping.\n",
      "Track 23073 is shorter than expected 30 seconds, skipping.\n"
     ]
    },
    {
     "name": "stderr",
     "output_type": "stream",
     "text": [
      "Processing tracks:  17%|█████████▊                                                | 2044/12114 [04:46<09:43, 17.25it/s]"
     ]
    },
    {
     "name": "stdout",
     "output_type": "stream",
     "text": [
      "Track 23074 is shorter than expected 30 seconds, skipping.\n",
      "Track 23075 is shorter than expected 30 seconds, skipping.\n",
      "Track 23077 is shorter than expected 30 seconds, skipping.\n",
      "Track 23078 is shorter than expected 30 seconds, skipping.\n"
     ]
    },
    {
     "name": "stderr",
     "output_type": "stream",
     "text": [
      "Processing tracks:  17%|█████████▊                                                | 2046/12114 [04:47<25:18,  6.63it/s]"
     ]
    },
    {
     "name": "stdout",
     "output_type": "stream",
     "text": [
      "Error processing track 23081: index can't contain negative values\n"
     ]
    },
    {
     "name": "stderr",
     "output_type": "stream",
     "text": [
      "Processing tracks:  17%|█████████▊                                                | 2050/12114 [04:48<36:10,  4.64it/s]"
     ]
    },
    {
     "name": "stdout",
     "output_type": "stream",
     "text": [
      "Error processing track 23082: index can't contain negative values\n",
      "Track 23150 is shorter than expected 30 seconds, skipping.\n",
      "Error processing track 23151: index can't contain negative values\n",
      "Track 23152 is shorter than expected 30 seconds, skipping.\n"
     ]
    },
    {
     "name": "stderr",
     "output_type": "stream",
     "text": [
      "Processing tracks:  17%|█████████▊                                                | 2054/12114 [04:49<33:33,  5.00it/s]"
     ]
    },
    {
     "name": "stdout",
     "output_type": "stream",
     "text": [
      "Error processing track 23160: could not broadcast input array from shape (130,13,1) into shape (10,13,1)\n",
      "Track 23161 is shorter than expected 30 seconds, skipping.\n",
      "Track 23186 is shorter than expected 30 seconds, skipping.\n",
      "Track 23188 is shorter than expected 30 seconds, skipping.\n"
     ]
    },
    {
     "name": "stderr",
     "output_type": "stream",
     "text": [
      "Processing tracks:  17%|█████████▊                                                | 2058/12114 [04:51<52:58,  3.16it/s]"
     ]
    },
    {
     "name": "stdout",
     "output_type": "stream",
     "text": [
      "Error processing track 23190: index can't contain negative values\n",
      "Track 23256 is shorter than expected 30 seconds, skipping.\n",
      "Track 23257 is shorter than expected 30 seconds, skipping.\n",
      "Track 23339 is shorter than expected 30 seconds, skipping.\n"
     ]
    },
    {
     "name": "stderr",
     "output_type": "stream",
     "text": [
      "Processing tracks:  17%|█████████▊                                                | 2060/12114 [04:51<39:47,  4.21it/s]"
     ]
    },
    {
     "name": "stdout",
     "output_type": "stream",
     "text": [
      "Track 23349 is shorter than expected 30 seconds, skipping.\n",
      "Track 23481 is shorter than expected 30 seconds, skipping.\n",
      "Track 23482 is shorter than expected 30 seconds, skipping.\n"
     ]
    },
    {
     "name": "stderr",
     "output_type": "stream",
     "text": [
      "Processing tracks:  17%|█████████▉                                                | 2064/12114 [04:51<26:58,  6.21it/s]"
     ]
    },
    {
     "name": "stdout",
     "output_type": "stream",
     "text": [
      "Error processing track 23483: could not broadcast input array from shape (130,13,1) into shape (10,13,1)\n",
      "Track 23504 is shorter than expected 30 seconds, skipping.\n",
      "Error processing track 23506: index can't contain negative values\n",
      "Error processing track 23507: could not broadcast input array from shape (130,13,1) into shape (10,13,1)\n"
     ]
    },
    {
     "name": "stderr",
     "output_type": "stream",
     "text": [
      "Processing tracks:  17%|█████████▉                                                | 2068/12114 [04:52<19:28,  8.59it/s]"
     ]
    },
    {
     "name": "stdout",
     "output_type": "stream",
     "text": [
      "Track 23508 is shorter than expected 30 seconds, skipping.\n",
      "Track 23509 is shorter than expected 30 seconds, skipping.\n",
      "Error processing track 23510: could not broadcast input array from shape (130,13,1) into shape (10,13,1)\n"
     ]
    },
    {
     "name": "stderr",
     "output_type": "stream",
     "text": [
      "Processing tracks:  17%|█████████▉                                                | 2072/12114 [04:52<18:23,  9.10it/s]"
     ]
    },
    {
     "name": "stdout",
     "output_type": "stream",
     "text": [
      "Error processing track 23511: could not broadcast input array from shape (130,13,1) into shape (10,13,1)\n",
      "Track 23512 is shorter than expected 30 seconds, skipping.\n",
      "Track 23513 is shorter than expected 30 seconds, skipping.\n",
      "Track 23514 is shorter than expected 30 seconds, skipping.\n"
     ]
    },
    {
     "name": "stderr",
     "output_type": "stream",
     "text": [
      "Processing tracks:  17%|█████████▉                                                | 2077/12114 [04:52<12:38, 13.23it/s]"
     ]
    },
    {
     "name": "stdout",
     "output_type": "stream",
     "text": [
      "Track 23515 is shorter than expected 30 seconds, skipping.\n",
      "Track 23516 is shorter than expected 30 seconds, skipping.\n",
      "Track 23518 is shorter than expected 30 seconds, skipping.\n",
      "Track 23524 is shorter than expected 30 seconds, skipping.\n",
      "Track 23525 is shorter than expected 30 seconds, skipping.\n"
     ]
    },
    {
     "name": "stderr",
     "output_type": "stream",
     "text": [
      "Processing tracks:  17%|█████████▉                                                | 2079/12114 [04:53<14:53, 11.24it/s]"
     ]
    },
    {
     "name": "stdout",
     "output_type": "stream",
     "text": [
      "Track 23527 is shorter than expected 30 seconds, skipping.\n",
      "Error processing track 23528: could not broadcast input array from shape (130,13,1) into shape (10,13,1)\n"
     ]
    },
    {
     "name": "stderr",
     "output_type": "stream",
     "text": [
      "Processing tracks:  17%|█████████▉                                                | 2083/12114 [04:53<12:08, 13.76it/s]"
     ]
    },
    {
     "name": "stdout",
     "output_type": "stream",
     "text": [
      "Track 23529 is shorter than expected 30 seconds, skipping.\n",
      "Track 23530 is shorter than expected 30 seconds, skipping.\n",
      "Error processing track 23532: index can't contain negative values\n",
      "Track 23535 is shorter than expected 30 seconds, skipping.\n"
     ]
    },
    {
     "name": "stderr",
     "output_type": "stream",
     "text": [
      "Processing tracks:  17%|█████████▉                                                | 2085/12114 [04:53<11:10, 14.96it/s]"
     ]
    },
    {
     "name": "stdout",
     "output_type": "stream",
     "text": [
      "Track 23537 is shorter than expected 30 seconds, skipping.\n",
      "Error processing track 23538: index can't contain negative values\n",
      "Error processing track 23539: index can't contain negative values\n"
     ]
    },
    {
     "name": "stderr",
     "output_type": "stream",
     "text": [
      "Processing tracks:  17%|█████████▋                                              | 2089/12114 [04:57<1:09:59,  2.39it/s]"
     ]
    },
    {
     "name": "stdout",
     "output_type": "stream",
     "text": [
      "Error processing track 23540: index can't contain negative values\n",
      "Error processing track 23541: index can't contain negative values\n",
      "Track 23544 is shorter than expected 30 seconds, skipping.\n",
      "Track 23545 is shorter than expected 30 seconds, skipping.\n"
     ]
    },
    {
     "name": "stderr",
     "output_type": "stream",
     "text": [
      "Processing tracks:  17%|██████████                                                | 2093/12114 [04:57<38:59,  4.28it/s]"
     ]
    },
    {
     "name": "stdout",
     "output_type": "stream",
     "text": [
      "Track 23546 is shorter than expected 30 seconds, skipping.\n",
      "Track 23669 is shorter than expected 30 seconds, skipping.\n",
      "Track 23678 is shorter than expected 30 seconds, skipping.\n",
      "Track 23764 is shorter than expected 30 seconds, skipping.\n",
      "Track 23765 is shorter than expected 30 seconds, skipping.\n"
     ]
    },
    {
     "name": "stderr",
     "output_type": "stream",
     "text": [
      "Processing tracks:  17%|██████████                                                | 2096/12114 [04:57<27:02,  6.18it/s]"
     ]
    },
    {
     "name": "stdout",
     "output_type": "stream",
     "text": [
      "Track 23766 is shorter than expected 30 seconds, skipping.\n"
     ]
    },
    {
     "name": "stderr",
     "output_type": "stream",
     "text": [
      "Processing tracks:  17%|██████████                                                | 2098/12114 [04:57<26:10,  6.38it/s]"
     ]
    },
    {
     "name": "stdout",
     "output_type": "stream",
     "text": [
      "Error processing track 23786: could not broadcast input array from shape (130,13,1) into shape (10,13,1)\n",
      "Track 23787 is shorter than expected 30 seconds, skipping.\n"
     ]
    },
    {
     "name": "stderr",
     "output_type": "stream",
     "text": [
      "Processing tracks:  17%|██████████                                                | 2102/12114 [04:58<21:14,  7.85it/s]"
     ]
    },
    {
     "name": "stdout",
     "output_type": "stream",
     "text": [
      "Error processing track 23788: could not broadcast input array from shape (130,13,1) into shape (10,13,1)\n",
      "Track 23789 is shorter than expected 30 seconds, skipping.\n",
      "Track 23790 is shorter than expected 30 seconds, skipping.\n",
      "Track 23878 is shorter than expected 30 seconds, skipping.\n"
     ]
    },
    {
     "name": "stderr",
     "output_type": "stream",
     "text": [
      "Processing tracks:  17%|██████████                                                | 2106/12114 [04:58<15:12, 10.97it/s]"
     ]
    },
    {
     "name": "stdout",
     "output_type": "stream",
     "text": [
      "Track 23879 is shorter than expected 30 seconds, skipping.\n",
      "Track 23880 is shorter than expected 30 seconds, skipping.\n",
      "Track 23881 is shorter than expected 30 seconds, skipping.\n",
      "Track 23882 is shorter than expected 30 seconds, skipping.\n"
     ]
    },
    {
     "name": "stderr",
     "output_type": "stream",
     "text": [
      "Processing tracks:  17%|██████████                                                | 2110/12114 [04:58<15:47, 10.56it/s]"
     ]
    },
    {
     "name": "stdout",
     "output_type": "stream",
     "text": [
      "Error processing track 23883: could not broadcast input array from shape (130,13,1) into shape (10,13,1)\n",
      "Track 23884 is shorter than expected 30 seconds, skipping.\n",
      "Track 23885 is shorter than expected 30 seconds, skipping.\n",
      "Track 23886 is shorter than expected 30 seconds, skipping.\n"
     ]
    },
    {
     "name": "stderr",
     "output_type": "stream",
     "text": [
      "Processing tracks:  17%|██████████                                                | 2112/12114 [04:59<19:46,  8.43it/s]"
     ]
    },
    {
     "name": "stdout",
     "output_type": "stream",
     "text": [
      "Error processing track 23888: could not broadcast input array from shape (130,13,1) into shape (10,13,1)\n",
      "Error processing track 23889: could not broadcast input array from shape (130,13,1) into shape (10,13,1)\n",
      "Track 23890 is shorter than expected 30 seconds, skipping.\n"
     ]
    },
    {
     "name": "stderr",
     "output_type": "stream",
     "text": [
      "Processing tracks:  17%|██████████                                                | 2114/12114 [04:59<16:43,  9.96it/s]"
     ]
    },
    {
     "name": "stdout",
     "output_type": "stream",
     "text": [
      "Track 23892 is shorter than expected 30 seconds, skipping.\n"
     ]
    },
    {
     "name": "stderr",
     "output_type": "stream",
     "text": [
      "Processing tracks:  17%|██████████▏                                               | 2118/12114 [04:59<16:16, 10.24it/s]"
     ]
    },
    {
     "name": "stdout",
     "output_type": "stream",
     "text": [
      "Error processing track 23893: could not broadcast input array from shape (130,13,1) into shape (10,13,1)\n",
      "Track 24051 is shorter than expected 30 seconds, skipping.\n",
      "Track 24053 is shorter than expected 30 seconds, skipping.\n",
      "Track 24173 is shorter than expected 30 seconds, skipping.\n",
      "Track 24174 is shorter than expected 30 seconds, skipping.\n"
     ]
    },
    {
     "name": "stderr",
     "output_type": "stream",
     "text": [
      "Processing tracks:  18%|██████████▏                                               | 2120/12114 [04:59<14:15, 11.68it/s]"
     ]
    },
    {
     "name": "stdout",
     "output_type": "stream",
     "text": [
      "Error processing track 24175: index can't contain negative values\n",
      "Error processing track 24176: could not broadcast input array from shape (130,13,1) into shape (10,13,1)\n"
     ]
    },
    {
     "name": "stderr",
     "output_type": "stream",
     "text": [
      "Processing tracks:  18%|██████████▏                                               | 2122/12114 [05:00<16:39, 10.00it/s]"
     ]
    },
    {
     "name": "stdout",
     "output_type": "stream",
     "text": [
      "Track 24177 is shorter than expected 30 seconds, skipping.\n",
      "Track 24178 is shorter than expected 30 seconds, skipping.\n"
     ]
    },
    {
     "name": "stderr",
     "output_type": "stream",
     "text": [
      "Processing tracks:  18%|██████████▏                                               | 2124/12114 [05:00<23:33,  7.07it/s]"
     ]
    },
    {
     "name": "stdout",
     "output_type": "stream",
     "text": [
      "Error processing track 24460: could not broadcast input array from shape (130,13,1) into shape (10,13,1)\n",
      "Track 24513 is shorter than expected 30 seconds, skipping.\n"
     ]
    },
    {
     "name": "stderr",
     "output_type": "stream",
     "text": [
      "Processing tracks:  18%|██████████▏                                               | 2126/12114 [05:00<24:09,  6.89it/s]"
     ]
    },
    {
     "name": "stdout",
     "output_type": "stream",
     "text": [
      "Error processing track 24514: index can't contain negative values\n",
      "Track 24516 is shorter than expected 30 seconds, skipping.\n"
     ]
    },
    {
     "name": "stderr",
     "output_type": "stream",
     "text": [
      "Processing tracks:  18%|██████████▏                                               | 2130/12114 [05:01<22:31,  7.39it/s]"
     ]
    },
    {
     "name": "stdout",
     "output_type": "stream",
     "text": [
      "Error processing track 24517: index can't contain negative values\n",
      "Error processing track 24520: index can't contain negative values\n",
      "Track 24523 is shorter than expected 30 seconds, skipping.\n",
      "Error processing track 24544: could not broadcast input array from shape (130,13,1) into shape (10,13,1)\n"
     ]
    },
    {
     "name": "stderr",
     "output_type": "stream",
     "text": [
      "Processing tracks:  18%|█████████▊                                              | 2132/12114 [05:03<1:17:49,  2.14it/s]"
     ]
    },
    {
     "name": "stdout",
     "output_type": "stream",
     "text": [
      "Error processing track 24545: index can't contain negative values\n",
      "Track 24546 is shorter than expected 30 seconds, skipping.\n"
     ]
    },
    {
     "name": "stderr",
     "output_type": "stream",
     "text": [
      "Processing tracks:  18%|█████████▊                                              | 2134/12114 [05:04<1:00:44,  2.74it/s]"
     ]
    },
    {
     "name": "stdout",
     "output_type": "stream",
     "text": [
      "Error processing track 24547: index can't contain negative values\n",
      "Track 24548 is shorter than expected 30 seconds, skipping.\n",
      "Track 24549 is shorter than expected 30 seconds, skipping.\n"
     ]
    },
    {
     "name": "stderr",
     "output_type": "stream",
     "text": [
      "Processing tracks:  18%|██████████▏                                               | 2139/12114 [05:04<34:54,  4.76it/s]"
     ]
    },
    {
     "name": "stdout",
     "output_type": "stream",
     "text": [
      "Error processing track 24550: index can't contain negative values\n",
      "Error processing track 24551: index can't contain negative values\n",
      "Track 24552 is shorter than expected 30 seconds, skipping.\n",
      "Track 24553 is shorter than expected 30 seconds, skipping.\n"
     ]
    },
    {
     "name": "stderr",
     "output_type": "stream",
     "text": [
      "Processing tracks:  18%|██████████▎                                               | 2141/12114 [05:05<48:37,  3.42it/s]"
     ]
    },
    {
     "name": "stdout",
     "output_type": "stream",
     "text": [
      "Error processing track 24554: index can't contain negative values\n"
     ]
    },
    {
     "name": "stderr",
     "output_type": "stream",
     "text": [
      "Processing tracks:  18%|██████████▎                                               | 2144/12114 [05:06<52:32,  3.16it/s]"
     ]
    },
    {
     "name": "stdout",
     "output_type": "stream",
     "text": [
      "Error processing track 24555: index can't contain negative values\n",
      "Error processing track 24640: could not broadcast input array from shape (130,13,1) into shape (10,13,1)\n",
      "Error processing track 24641: could not broadcast input array from shape (130,13,1) into shape (10,13,1)\n"
     ]
    },
    {
     "name": "stderr",
     "output_type": "stream",
     "text": [
      "Processing tracks:  18%|██████████▎                                               | 2148/12114 [05:07<29:59,  5.54it/s]"
     ]
    },
    {
     "name": "stdout",
     "output_type": "stream",
     "text": [
      "Error processing track 24654: could not broadcast input array from shape (130,13,1) into shape (10,13,1)\n",
      "Error processing track 24655: could not broadcast input array from shape (130,13,1) into shape (10,13,1)\n",
      "Track 24712 is shorter than expected 30 seconds, skipping.\n",
      "Track 24744 is shorter than expected 30 seconds, skipping.\n"
     ]
    },
    {
     "name": "stderr",
     "output_type": "stream",
     "text": [
      "Processing tracks:  18%|██████████▎                                               | 2150/12114 [05:07<24:41,  6.72it/s]"
     ]
    },
    {
     "name": "stdout",
     "output_type": "stream",
     "text": [
      "Error processing track 24750: could not broadcast input array from shape (130,13,1) into shape (10,13,1)\n",
      "Track 24792 is shorter than expected 30 seconds, skipping.\n",
      "Track 24793 is shorter than expected 30 seconds, skipping.\n"
     ]
    },
    {
     "name": "stderr",
     "output_type": "stream",
     "text": [
      "Processing tracks:  18%|██████████▎                                               | 2154/12114 [05:07<23:04,  7.19it/s]"
     ]
    },
    {
     "name": "stdout",
     "output_type": "stream",
     "text": [
      "Error processing track 24794: could not broadcast input array from shape (130,13,1) into shape (10,13,1)\n",
      "Error processing track 24795: could not broadcast input array from shape (130,13,1) into shape (10,13,1)\n",
      "Error processing track 24796: could not broadcast input array from shape (130,13,1) into shape (10,13,1)\n"
     ]
    },
    {
     "name": "stderr",
     "output_type": "stream",
     "text": [
      "Processing tracks:  18%|██████████▎                                               | 2156/12114 [05:08<19:21,  8.57it/s]"
     ]
    },
    {
     "name": "stdout",
     "output_type": "stream",
     "text": [
      "Track 24797 is shorter than expected 30 seconds, skipping.\n",
      "Error processing track 24798: index can't contain negative values\n",
      "Track 24799 is shorter than expected 30 seconds, skipping.\n"
     ]
    },
    {
     "name": "stderr",
     "output_type": "stream",
     "text": [
      "Processing tracks:  18%|██████████▎                                               | 2160/12114 [05:08<17:32,  9.45it/s]"
     ]
    },
    {
     "name": "stdout",
     "output_type": "stream",
     "text": [
      "Error processing track 24800: could not broadcast input array from shape (130,13,1) into shape (10,13,1)\n",
      "Track 24801 is shorter than expected 30 seconds, skipping.\n",
      "Track 24802 is shorter than expected 30 seconds, skipping.\n"
     ]
    },
    {
     "name": "stderr",
     "output_type": "stream",
     "text": [
      "Processing tracks:  18%|██████████▎                                               | 2162/12114 [05:08<16:03, 10.33it/s]"
     ]
    },
    {
     "name": "stdout",
     "output_type": "stream",
     "text": [
      "Error processing track 24803: could not broadcast input array from shape (130,13,1) into shape (10,13,1)\n",
      "Track 24805 is shorter than expected 30 seconds, skipping.\n",
      "Track 24806 is shorter than expected 30 seconds, skipping.\n"
     ]
    },
    {
     "name": "stderr",
     "output_type": "stream",
     "text": [
      "Processing tracks:  18%|██████████▎                                               | 2166/12114 [05:08<13:24, 12.37it/s]"
     ]
    },
    {
     "name": "stdout",
     "output_type": "stream",
     "text": [
      "Error processing track 24807: could not broadcast input array from shape (130,13,1) into shape (10,13,1)\n",
      "Error processing track 24809: could not broadcast input array from shape (130,13,1) into shape (10,13,1)\n",
      "Track 24811 is shorter than expected 30 seconds, skipping.\n",
      "Track 24812 is shorter than expected 30 seconds, skipping.\n"
     ]
    },
    {
     "name": "stderr",
     "output_type": "stream",
     "text": [
      "Processing tracks:  18%|██████████▍                                               | 2168/12114 [05:08<12:17, 13.49it/s]"
     ]
    },
    {
     "name": "stdout",
     "output_type": "stream",
     "text": [
      "Track 24813 is shorter than expected 30 seconds, skipping.\n",
      "Error processing track 24814: could not broadcast input array from shape (130,13,1) into shape (10,13,1)\n"
     ]
    },
    {
     "name": "stderr",
     "output_type": "stream",
     "text": [
      "Processing tracks:  18%|██████████▍                                               | 2172/12114 [05:09<15:40, 10.57it/s]"
     ]
    },
    {
     "name": "stdout",
     "output_type": "stream",
     "text": [
      "Error processing track 24815: could not broadcast input array from shape (130,13,1) into shape (10,13,1)\n",
      "Track 24816 is shorter than expected 30 seconds, skipping.\n",
      "Error processing track 24817: could not broadcast input array from shape (130,13,1) into shape (10,13,1)\n"
     ]
    },
    {
     "name": "stderr",
     "output_type": "stream",
     "text": [
      "Processing tracks:  18%|██████████▍                                               | 2174/12114 [05:09<14:10, 11.68it/s]"
     ]
    },
    {
     "name": "stdout",
     "output_type": "stream",
     "text": [
      "Track 24818 is shorter than expected 30 seconds, skipping.\n",
      "Track 24820 is shorter than expected 30 seconds, skipping.\n"
     ]
    },
    {
     "name": "stderr",
     "output_type": "stream",
     "text": [
      "Processing tracks:  18%|██████████▍                                               | 2176/12114 [05:09<17:24,  9.52it/s]"
     ]
    },
    {
     "name": "stdout",
     "output_type": "stream",
     "text": [
      "Error processing track 24843: could not broadcast input array from shape (130,13,1) into shape (10,13,1)\n",
      "Track 24844 is shorter than expected 30 seconds, skipping.\n"
     ]
    },
    {
     "name": "stderr",
     "output_type": "stream",
     "text": [
      "Processing tracks:  18%|██████████▍                                               | 2180/12114 [05:10<16:59,  9.74it/s]"
     ]
    },
    {
     "name": "stdout",
     "output_type": "stream",
     "text": [
      "Error processing track 24855: could not broadcast input array from shape (130,13,1) into shape (10,13,1)\n",
      "Track 24876 is shorter than expected 30 seconds, skipping.\n",
      "Track 24896 is shorter than expected 30 seconds, skipping.\n",
      "Track 24902 is shorter than expected 30 seconds, skipping.\n"
     ]
    },
    {
     "name": "stderr",
     "output_type": "stream",
     "text": [
      "Processing tracks:  18%|██████████▍                                               | 2184/12114 [05:10<13:14, 12.49it/s]"
     ]
    },
    {
     "name": "stdout",
     "output_type": "stream",
     "text": [
      "Track 24903 is shorter than expected 30 seconds, skipping.\n",
      "Track 24904 is shorter than expected 30 seconds, skipping.\n",
      "Track 24908 is shorter than expected 30 seconds, skipping.\n",
      "Track 24909 is shorter than expected 30 seconds, skipping.\n",
      "Track 24913 is shorter than expected 30 seconds, skipping.\n"
     ]
    },
    {
     "name": "stderr",
     "output_type": "stream",
     "text": [
      "Processing tracks:  18%|██████████▍                                               | 2188/12114 [05:11<20:58,  7.89it/s]"
     ]
    },
    {
     "name": "stdout",
     "output_type": "stream",
     "text": [
      "Error processing track 24914: could not broadcast input array from shape (130,13,1) into shape (10,13,1)\n",
      "Error processing track 24919: could not broadcast input array from shape (130,13,1) into shape (10,13,1)\n",
      "Track 24920 is shorter than expected 30 seconds, skipping.\n",
      "Track 24922 is shorter than expected 30 seconds, skipping.\n"
     ]
    },
    {
     "name": "stderr",
     "output_type": "stream",
     "text": [
      "Processing tracks:  18%|██████████▍                                               | 2192/12114 [05:11<15:22, 10.76it/s]"
     ]
    },
    {
     "name": "stdout",
     "output_type": "stream",
     "text": [
      "Track 24923 is shorter than expected 30 seconds, skipping.\n",
      "Track 24926 is shorter than expected 30 seconds, skipping.\n",
      "Track 24927 is shorter than expected 30 seconds, skipping.\n",
      "Track 24928 is shorter than expected 30 seconds, skipping.\n"
     ]
    },
    {
     "name": "stderr",
     "output_type": "stream",
     "text": [
      "Processing tracks:  18%|██████████▌                                               | 2196/12114 [05:11<13:01, 12.70it/s]"
     ]
    },
    {
     "name": "stdout",
     "output_type": "stream",
     "text": [
      "Error processing track 24929: could not broadcast input array from shape (130,13,1) into shape (10,13,1)\n",
      "Track 24945 is shorter than expected 30 seconds, skipping.\n",
      "Track 24946 is shorter than expected 30 seconds, skipping.\n",
      "Track 24949 is shorter than expected 30 seconds, skipping.\n"
     ]
    },
    {
     "name": "stderr",
     "output_type": "stream",
     "text": [
      "Processing tracks:  18%|██████████▌                                               | 2198/12114 [05:11<12:00, 13.76it/s]"
     ]
    },
    {
     "name": "stdout",
     "output_type": "stream",
     "text": [
      "Track 24950 is shorter than expected 30 seconds, skipping.\n"
     ]
    },
    {
     "name": "stderr",
     "output_type": "stream",
     "text": [
      "Processing tracks:  18%|██████████▌                                               | 2202/12114 [05:12<14:09, 11.67it/s]"
     ]
    },
    {
     "name": "stdout",
     "output_type": "stream",
     "text": [
      "Error processing track 24952: could not broadcast input array from shape (130,13,1) into shape (10,13,1)\n",
      "Track 24957 is shorter than expected 30 seconds, skipping.\n",
      "Track 24960 is shorter than expected 30 seconds, skipping.\n",
      "Error processing track 24966: index can't contain negative values\n",
      "Error processing track 24971: could not broadcast input array from shape (130,13,1) into shape (10,13,1)\n"
     ]
    },
    {
     "name": "stderr",
     "output_type": "stream",
     "text": [
      "Processing tracks:  18%|██████████▌                                               | 2204/12114 [05:13<37:27,  4.41it/s]"
     ]
    },
    {
     "name": "stdout",
     "output_type": "stream",
     "text": [
      "Error processing track 24977: could not broadcast input array from shape (130,13,1) into shape (10,13,1)\n",
      "Error processing track 24979: could not broadcast input array from shape (130,13,1) into shape (10,13,1)\n"
     ]
    },
    {
     "name": "stderr",
     "output_type": "stream",
     "text": [
      "Processing tracks:  18%|██████████▌                                               | 2208/12114 [05:14<42:33,  3.88it/s]"
     ]
    },
    {
     "name": "stdout",
     "output_type": "stream",
     "text": [
      "Error processing track 24984: could not broadcast input array from shape (130,13,1) into shape (10,13,1)\n",
      "Track 24985 is shorter than expected 30 seconds, skipping.\n",
      "Track 24987 is shorter than expected 30 seconds, skipping.\n"
     ]
    },
    {
     "name": "stderr",
     "output_type": "stream",
     "text": [
      "Processing tracks:  18%|██████████▌                                               | 2212/12114 [05:15<29:29,  5.59it/s]"
     ]
    },
    {
     "name": "stdout",
     "output_type": "stream",
     "text": [
      "Error processing track 24988: could not broadcast input array from shape (130,13,1) into shape (10,13,1)\n",
      "Track 24990 is shorter than expected 30 seconds, skipping.\n",
      "Error processing track 24992: index can't contain negative values\n",
      "Track 24993 is shorter than expected 30 seconds, skipping.\n",
      "Track 24994 is shorter than expected 30 seconds, skipping.\n"
     ]
    },
    {
     "name": "stderr",
     "output_type": "stream",
     "text": [
      "Processing tracks:  18%|██████████▌                                               | 2214/12114 [05:15<37:13,  4.43it/s]"
     ]
    },
    {
     "name": "stdout",
     "output_type": "stream",
     "text": [
      "Error processing track 24995: could not broadcast input array from shape (130,13,1) into shape (10,13,1)\n"
     ]
    },
    {
     "name": "stderr",
     "output_type": "stream",
     "text": [
      "Processing tracks:  18%|██████████▌                                               | 2215/12114 [05:16<48:53,  3.37it/s]"
     ]
    },
    {
     "name": "stdout",
     "output_type": "stream",
     "text": [
      "Error processing track 24999: could not broadcast input array from shape (130,13,1) into shape (10,13,1)\n",
      "Track 25000 is shorter than expected 30 seconds, skipping.\n"
     ]
    },
    {
     "name": "stderr",
     "output_type": "stream",
     "text": [
      "Processing tracks:  18%|██████████▌                                               | 2219/12114 [05:17<31:13,  5.28it/s]"
     ]
    },
    {
     "name": "stdout",
     "output_type": "stream",
     "text": [
      "Error processing track 25004: could not broadcast input array from shape (130,13,1) into shape (10,13,1)\n",
      "Track 25005 is shorter than expected 30 seconds, skipping.\n",
      "Error processing track 25007: could not broadcast input array from shape (130,13,1) into shape (10,13,1)\n",
      "Error processing track 25008: could not broadcast input array from shape (130,13,1) into shape (10,13,1)\n"
     ]
    },
    {
     "name": "stderr",
     "output_type": "stream",
     "text": [
      "Processing tracks:  18%|██████████▋                                               | 2221/12114 [05:17<29:13,  5.64it/s]"
     ]
    },
    {
     "name": "stdout",
     "output_type": "stream",
     "text": [
      "Error processing track 25009: could not broadcast input array from shape (130,13,1) into shape (10,13,1)\n"
     ]
    },
    {
     "name": "stderr",
     "output_type": "stream",
     "text": [
      "Processing tracks:  18%|██████████▋                                               | 2222/12114 [05:17<36:54,  4.47it/s]"
     ]
    },
    {
     "name": "stdout",
     "output_type": "stream",
     "text": [
      "Error processing track 25067: index can't contain negative values\n",
      "Track 25111 is shorter than expected 30 seconds, skipping.\n"
     ]
    },
    {
     "name": "stderr",
     "output_type": "stream",
     "text": [
      "Processing tracks:  18%|██████████▋                                               | 2226/12114 [05:18<34:59,  4.71it/s]"
     ]
    },
    {
     "name": "stdout",
     "output_type": "stream",
     "text": [
      "Error processing track 25123: index can't contain negative values\n",
      "Track 25168 is shorter than expected 30 seconds, skipping.\n",
      "Error processing track 25170: index can't contain negative values\n"
     ]
    },
    {
     "name": "stderr",
     "output_type": "stream",
     "text": [
      "Processing tracks:  18%|██████████▋                                               | 2231/12114 [05:20<37:24,  4.40it/s]"
     ]
    },
    {
     "name": "stdout",
     "output_type": "stream",
     "text": [
      "Error processing track 25177: index can't contain negative values\n",
      "Track 25178 is shorter than expected 30 seconds, skipping.\n",
      "Track 25179 is shorter than expected 30 seconds, skipping.\n",
      "Track 25236 is shorter than expected 30 seconds, skipping.\n",
      "Error processing track 25237: could not broadcast input array from shape (130,13,1) into shape (10,13,1)\n"
     ]
    },
    {
     "name": "stderr",
     "output_type": "stream",
     "text": [
      "Processing tracks:  18%|██████████▋                                               | 2233/12114 [05:20<28:48,  5.72it/s]"
     ]
    },
    {
     "name": "stdout",
     "output_type": "stream",
     "text": [
      "Error processing track 25238: could not broadcast input array from shape (130,13,1) into shape (10,13,1)\n",
      "Track 25363 is shorter than expected 30 seconds, skipping.\n",
      "Track 25364 is shorter than expected 30 seconds, skipping.\n"
     ]
    },
    {
     "name": "stderr",
     "output_type": "stream",
     "text": [
      "Processing tracks:  18%|██████████▋                                               | 2237/12114 [05:20<19:13,  8.56it/s]"
     ]
    },
    {
     "name": "stdout",
     "output_type": "stream",
     "text": [
      "Track 25365 is shorter than expected 30 seconds, skipping.\n",
      "Track 25367 is shorter than expected 30 seconds, skipping.\n",
      "Track 25370 is shorter than expected 30 seconds, skipping.\n",
      "Track 25371 is shorter than expected 30 seconds, skipping.\n"
     ]
    },
    {
     "name": "stderr",
     "output_type": "stream",
     "text": [
      "Processing tracks:  18%|██████████▋                                               | 2241/12114 [05:21<14:18, 11.50it/s]"
     ]
    },
    {
     "name": "stdout",
     "output_type": "stream",
     "text": [
      "Track 25372 is shorter than expected 30 seconds, skipping.\n",
      "Track 25373 is shorter than expected 30 seconds, skipping.\n",
      "Track 25374 is shorter than expected 30 seconds, skipping.\n",
      "Track 25376 is shorter than expected 30 seconds, skipping.\n"
     ]
    },
    {
     "name": "stderr",
     "output_type": "stream",
     "text": [
      "Processing tracks:  19%|██████████▋                                               | 2245/12114 [05:21<12:01, 13.68it/s]"
     ]
    },
    {
     "name": "stdout",
     "output_type": "stream",
     "text": [
      "Track 25377 is shorter than expected 30 seconds, skipping.\n",
      "Track 25379 is shorter than expected 30 seconds, skipping.\n",
      "Track 25380 is shorter than expected 30 seconds, skipping.\n",
      "Track 25381 is shorter than expected 30 seconds, skipping.\n"
     ]
    },
    {
     "name": "stderr",
     "output_type": "stream",
     "text": [
      "Processing tracks:  19%|██████████▊                                               | 2249/12114 [05:21<10:57, 15.00it/s]"
     ]
    },
    {
     "name": "stdout",
     "output_type": "stream",
     "text": [
      "Track 25382 is shorter than expected 30 seconds, skipping.\n",
      "Track 25384 is shorter than expected 30 seconds, skipping.\n",
      "Track 25387 is shorter than expected 30 seconds, skipping.\n",
      "Track 25735 is shorter than expected 30 seconds, skipping.\n"
     ]
    },
    {
     "name": "stderr",
     "output_type": "stream",
     "text": [
      "Processing tracks:  19%|██████████▊                                               | 2253/12114 [05:21<10:47, 15.22it/s]"
     ]
    },
    {
     "name": "stdout",
     "output_type": "stream",
     "text": [
      "Error processing track 25902: could not broadcast input array from shape (130,13,1) into shape (10,13,1)\n",
      "Track 25903 is shorter than expected 30 seconds, skipping.\n",
      "Track 25996 is shorter than expected 30 seconds, skipping.\n"
     ]
    },
    {
     "name": "stderr",
     "output_type": "stream",
     "text": [
      "Processing tracks:  19%|██████████▊                                               | 2257/12114 [05:22<16:14, 10.12it/s]"
     ]
    },
    {
     "name": "stdout",
     "output_type": "stream",
     "text": [
      "Error processing track 26015: could not broadcast input array from shape (130,13,1) into shape (10,13,1)\n",
      "Track 26018 is shorter than expected 30 seconds, skipping.\n",
      "Track 26019 is shorter than expected 30 seconds, skipping.\n",
      "Track 26023 is shorter than expected 30 seconds, skipping.\n"
     ]
    },
    {
     "name": "stderr",
     "output_type": "stream",
     "text": [
      "Processing tracks:  19%|██████████▊                                               | 2259/12114 [05:22<14:01, 11.71it/s]"
     ]
    },
    {
     "name": "stdout",
     "output_type": "stream",
     "text": [
      "Track 26024 is shorter than expected 30 seconds, skipping.\n",
      "Track 26062 is shorter than expected 30 seconds, skipping.\n"
     ]
    },
    {
     "name": "stderr",
     "output_type": "stream",
     "text": [
      "Processing tracks:  19%|██████████▊                                               | 2263/12114 [05:22<14:29, 11.33it/s]"
     ]
    },
    {
     "name": "stdout",
     "output_type": "stream",
     "text": [
      "Error processing track 26064: could not broadcast input array from shape (130,13,1) into shape (10,13,1)\n",
      "Error processing track 26065: index can't contain negative values\n",
      "Track 26181 is shorter than expected 30 seconds, skipping.\n",
      "Track 26182 is shorter than expected 30 seconds, skipping.\n"
     ]
    },
    {
     "name": "stderr",
     "output_type": "stream",
     "text": [
      "Processing tracks:  19%|██████████▊                                               | 2266/12114 [05:23<12:04, 13.59it/s]"
     ]
    },
    {
     "name": "stdout",
     "output_type": "stream",
     "text": [
      "Track 26183 is shorter than expected 30 seconds, skipping.\n",
      "Track 26184 is shorter than expected 30 seconds, skipping.\n",
      "Track 26186 is shorter than expected 30 seconds, skipping.\n",
      "Error processing track 26187: could not broadcast input array from shape (130,13,1) into shape (10,13,1)\n"
     ]
    },
    {
     "name": "stderr",
     "output_type": "stream",
     "text": [
      "Processing tracks:  19%|██████████▊                                               | 2270/12114 [05:23<11:16, 14.55it/s]"
     ]
    },
    {
     "name": "stdout",
     "output_type": "stream",
     "text": [
      "Track 26244 is shorter than expected 30 seconds, skipping.\n",
      "Error processing track 26310: could not broadcast input array from shape (130,13,1) into shape (10,13,1)\n",
      "Track 26324 is shorter than expected 30 seconds, skipping.\n",
      "Track 26325 is shorter than expected 30 seconds, skipping.\n"
     ]
    },
    {
     "name": "stderr",
     "output_type": "stream",
     "text": [
      "Processing tracks:  19%|██████████▉                                               | 2274/12114 [05:23<10:27, 15.68it/s]"
     ]
    },
    {
     "name": "stdout",
     "output_type": "stream",
     "text": [
      "Error processing track 26327: could not broadcast input array from shape (130,13,1) into shape (10,13,1)\n",
      "Track 26409 is shorter than expected 30 seconds, skipping.\n",
      "Track 26484 is shorter than expected 30 seconds, skipping.\n",
      "Error processing track 26485: could not broadcast input array from shape (130,13,1) into shape (10,13,1)\n"
     ]
    },
    {
     "name": "stderr",
     "output_type": "stream",
     "text": [
      "Processing tracks:  19%|██████████▉                                               | 2278/12114 [05:23<10:37, 15.44it/s]"
     ]
    },
    {
     "name": "stdout",
     "output_type": "stream",
     "text": [
      "Error processing track 26486: could not broadcast input array from shape (130,13,1) into shape (10,13,1)\n",
      "Error processing track 26487: could not broadcast input array from shape (130,13,1) into shape (10,13,1)\n",
      "Error processing track 26490: could not broadcast input array from shape (130,13,1) into shape (10,13,1)\n",
      "Track 26529 is shorter than expected 30 seconds, skipping.\n"
     ]
    },
    {
     "name": "stderr",
     "output_type": "stream",
     "text": [
      "Processing tracks:  19%|██████████▉                                               | 2282/12114 [05:24<10:33, 15.51it/s]"
     ]
    },
    {
     "name": "stdout",
     "output_type": "stream",
     "text": [
      "Error processing track 26530: index can't contain negative values\n",
      "Track 26531 is shorter than expected 30 seconds, skipping.\n",
      "Track 26532 is shorter than expected 30 seconds, skipping.\n",
      "Error processing track 26542: could not broadcast input array from shape (130,13,1) into shape (10,13,1)\n"
     ]
    },
    {
     "name": "stderr",
     "output_type": "stream",
     "text": [
      "Processing tracks:  19%|██████████▉                                               | 2284/12114 [05:24<10:38, 15.40it/s]"
     ]
    },
    {
     "name": "stdout",
     "output_type": "stream",
     "text": [
      "Error processing track 26546: could not broadcast input array from shape (130,13,1) into shape (10,13,1)\n",
      "Error processing track 26585: index can't contain negative values\n"
     ]
    },
    {
     "name": "stderr",
     "output_type": "stream",
     "text": [
      "Processing tracks:  19%|██████████▉                                               | 2288/12114 [05:25<21:35,  7.58it/s]"
     ]
    },
    {
     "name": "stdout",
     "output_type": "stream",
     "text": [
      "Error processing track 26586: could not broadcast input array from shape (130,13,1) into shape (10,13,1)\n",
      "Track 26591 is shorter than expected 30 seconds, skipping.\n",
      "Track 26593 is shorter than expected 30 seconds, skipping.\n",
      "Track 26595 is shorter than expected 30 seconds, skipping.\n"
     ]
    },
    {
     "name": "stderr",
     "output_type": "stream",
     "text": [
      "Processing tracks:  19%|██████████▉                                               | 2290/12114 [05:25<32:11,  5.09it/s]"
     ]
    },
    {
     "name": "stdout",
     "output_type": "stream",
     "text": [
      "Error processing track 26601: could not broadcast input array from shape (130,13,1) into shape (10,13,1)\n",
      "Error processing track 26612: index can't contain negative values\n"
     ]
    },
    {
     "name": "stderr",
     "output_type": "stream",
     "text": [
      "Processing tracks:  19%|██████████▉                                               | 2294/12114 [05:26<24:17,  6.74it/s]"
     ]
    },
    {
     "name": "stdout",
     "output_type": "stream",
     "text": [
      "Error processing track 26626: could not broadcast input array from shape (130,13,1) into shape (10,13,1)\n",
      "Error processing track 26627: could not broadcast input array from shape (130,13,1) into shape (10,13,1)\n",
      "Track 26628 is shorter than expected 30 seconds, skipping.\n",
      "Track 26630 is shorter than expected 30 seconds, skipping.\n"
     ]
    },
    {
     "name": "stderr",
     "output_type": "stream",
     "text": [
      "Processing tracks:  19%|██████████▉                                               | 2296/12114 [05:26<19:57,  8.20it/s]"
     ]
    },
    {
     "name": "stdout",
     "output_type": "stream",
     "text": [
      "Track 26631 is shorter than expected 30 seconds, skipping.\n",
      "Track 26632 is shorter than expected 30 seconds, skipping.\n"
     ]
    },
    {
     "name": "stderr",
     "output_type": "stream",
     "text": [
      "Processing tracks:  19%|███████████                                               | 2300/12114 [05:26<18:01,  9.07it/s]"
     ]
    },
    {
     "name": "stdout",
     "output_type": "stream",
     "text": [
      "Error processing track 26633: could not broadcast input array from shape (130,13,1) into shape (10,13,1)\n",
      "Track 26634 is shorter than expected 30 seconds, skipping.\n",
      "Error processing track 26635: could not broadcast input array from shape (130,13,1) into shape (10,13,1)\n",
      "Error processing track 26636: could not broadcast input array from shape (130,13,1) into shape (10,13,1)\n"
     ]
    },
    {
     "name": "stderr",
     "output_type": "stream",
     "text": [
      "Processing tracks:  19%|███████████                                               | 2304/12114 [05:27<20:21,  8.03it/s]"
     ]
    },
    {
     "name": "stdout",
     "output_type": "stream",
     "text": [
      "Error processing track 26669: index can't contain negative values\n",
      "Track 26670 is shorter than expected 30 seconds, skipping.\n",
      "Track 26673 is shorter than expected 30 seconds, skipping.\n",
      "Track 26675 is shorter than expected 30 seconds, skipping.\n"
     ]
    },
    {
     "name": "stderr",
     "output_type": "stream",
     "text": [
      "Processing tracks:  19%|███████████                                               | 2308/12114 [05:27<14:23, 11.36it/s]"
     ]
    },
    {
     "name": "stdout",
     "output_type": "stream",
     "text": [
      "Track 26676 is shorter than expected 30 seconds, skipping.\n",
      "Track 26677 is shorter than expected 30 seconds, skipping.\n",
      "Track 26678 is shorter than expected 30 seconds, skipping.\n",
      "Error processing track 26679: could not broadcast input array from shape (130,13,1) into shape (10,13,1)\n"
     ]
    },
    {
     "name": "stderr",
     "output_type": "stream",
     "text": [
      "Processing tracks:  19%|███████████                                               | 2310/12114 [05:27<12:54, 12.66it/s]"
     ]
    },
    {
     "name": "stdout",
     "output_type": "stream",
     "text": [
      "Error processing track 26680: could not broadcast input array from shape (130,13,1) into shape (10,13,1)\n",
      "Error processing track 26682: could not broadcast input array from shape (130,13,1) into shape (10,13,1)\n"
     ]
    },
    {
     "name": "stderr",
     "output_type": "stream",
     "text": [
      "Processing tracks:  19%|███████████                                               | 2314/12114 [05:28<21:33,  7.58it/s]"
     ]
    },
    {
     "name": "stdout",
     "output_type": "stream",
     "text": [
      "Error processing track 26693: index can't contain negative values\n",
      "Track 26729 is shorter than expected 30 seconds, skipping.\n",
      "Error processing track 26730: could not broadcast input array from shape (130,13,1) into shape (10,13,1)\n"
     ]
    },
    {
     "name": "stderr",
     "output_type": "stream",
     "text": [
      "Processing tracks:  19%|███████████                                               | 2318/12114 [05:29<31:19,  5.21it/s]"
     ]
    },
    {
     "name": "stdout",
     "output_type": "stream",
     "text": [
      "Error processing track 26764: index can't contain negative values\n",
      "Error processing track 26804: could not broadcast input array from shape (130,13,1) into shape (10,13,1)\n",
      "Track 26805 is shorter than expected 30 seconds, skipping.\n",
      "Track 26868 is shorter than expected 30 seconds, skipping.\n"
     ]
    },
    {
     "name": "stderr",
     "output_type": "stream",
     "text": [
      "Processing tracks:  19%|███████████                                               | 2322/12114 [05:29<20:58,  7.78it/s]"
     ]
    },
    {
     "name": "stdout",
     "output_type": "stream",
     "text": [
      "Error processing track 26869: index can't contain negative values\n",
      "Track 26870 is shorter than expected 30 seconds, skipping.\n",
      "Error processing track 26871: could not broadcast input array from shape (130,13,1) into shape (10,13,1)\n",
      "Track 26907 is shorter than expected 30 seconds, skipping.\n"
     ]
    },
    {
     "name": "stderr",
     "output_type": "stream",
     "text": [
      "Processing tracks:  19%|███████████▏                                              | 2326/12114 [05:30<15:45, 10.35it/s]"
     ]
    },
    {
     "name": "stdout",
     "output_type": "stream",
     "text": [
      "Track 26921 is shorter than expected 30 seconds, skipping.\n",
      "Track 26927 is shorter than expected 30 seconds, skipping.\n",
      "Error processing track 26930: could not broadcast input array from shape (130,13,1) into shape (10,13,1)\n",
      "Track 26932 is shorter than expected 30 seconds, skipping.\n"
     ]
    },
    {
     "name": "stderr",
     "output_type": "stream",
     "text": [
      "Processing tracks:  19%|███████████▏                                              | 2330/12114 [05:31<35:32,  4.59it/s]"
     ]
    },
    {
     "name": "stdout",
     "output_type": "stream",
     "text": [
      "Error processing track 27107: index can't contain negative values\n",
      "Track 27141 is shorter than expected 30 seconds, skipping.\n",
      "Error processing track 27148: could not broadcast input array from shape (130,13,1) into shape (10,13,1)\n",
      "Track 27150 is shorter than expected 30 seconds, skipping.\n"
     ]
    },
    {
     "name": "stderr",
     "output_type": "stream",
     "text": [
      "Processing tracks:  19%|███████████▏                                              | 2332/12114 [05:31<27:58,  5.83it/s]"
     ]
    },
    {
     "name": "stdout",
     "output_type": "stream",
     "text": [
      "Track 27175 is shorter than expected 30 seconds, skipping.\n",
      "Track 27176 is shorter than expected 30 seconds, skipping.\n"
     ]
    },
    {
     "name": "stderr",
     "output_type": "stream",
     "text": [
      "Processing tracks:  19%|███████████▏                                              | 2334/12114 [05:32<26:50,  6.07it/s]"
     ]
    },
    {
     "name": "stdout",
     "output_type": "stream",
     "text": [
      "Error processing track 27178: could not broadcast input array from shape (130,13,1) into shape (10,13,1)\n",
      "Track 27179 is shorter than expected 30 seconds, skipping.\n",
      "Error processing track 27180: could not broadcast input array from shape (130,13,1) into shape (10,13,1)\n"
     ]
    },
    {
     "name": "stderr",
     "output_type": "stream",
     "text": [
      "Processing tracks:  19%|███████████▏                                              | 2338/12114 [05:32<24:06,  6.76it/s]"
     ]
    },
    {
     "name": "stdout",
     "output_type": "stream",
     "text": [
      "Error processing track 27181: could not broadcast input array from shape (130,13,1) into shape (10,13,1)\n",
      "Error processing track 27182: index can't contain negative values\n",
      "Track 27183 is shorter than expected 30 seconds, skipping.\n",
      "Error processing track 27184: could not broadcast input array from shape (130,13,1) into shape (10,13,1)\n"
     ]
    },
    {
     "name": "stderr",
     "output_type": "stream",
     "text": [
      "Processing tracks:  19%|███████████▏                                              | 2342/12114 [05:33<23:30,  6.93it/s]"
     ]
    },
    {
     "name": "stdout",
     "output_type": "stream",
     "text": [
      "Error processing track 27185: could not broadcast input array from shape (130,13,1) into shape (10,13,1)\n",
      "Track 27186 is shorter than expected 30 seconds, skipping.\n",
      "Error processing track 27187: could not broadcast input array from shape (130,13,1) into shape (10,13,1)\n"
     ]
    },
    {
     "name": "stderr",
     "output_type": "stream",
     "text": [
      "Processing tracks:  19%|███████████▏                                              | 2346/12114 [05:33<19:43,  8.26it/s]"
     ]
    },
    {
     "name": "stdout",
     "output_type": "stream",
     "text": [
      "Error processing track 27188: could not broadcast input array from shape (130,13,1) into shape (10,13,1)\n",
      "Error processing track 27189: index can't contain negative values\n",
      "Track 27213 is shorter than expected 30 seconds, skipping.\n",
      "Track 27216 is shorter than expected 30 seconds, skipping.\n"
     ]
    },
    {
     "name": "stderr",
     "output_type": "stream",
     "text": [
      "Processing tracks:  19%|███████████▎                                              | 2350/12114 [05:34<14:29, 11.23it/s]"
     ]
    },
    {
     "name": "stdout",
     "output_type": "stream",
     "text": [
      "Track 27222 is shorter than expected 30 seconds, skipping.\n",
      "Track 27224 is shorter than expected 30 seconds, skipping.\n",
      "Track 27225 is shorter than expected 30 seconds, skipping.\n",
      "Error processing track 27227: could not broadcast input array from shape (130,13,1) into shape (10,13,1)\n"
     ]
    },
    {
     "name": "stderr",
     "output_type": "stream",
     "text": [
      "Processing tracks:  19%|███████████▎                                              | 2354/12114 [05:34<12:14, 13.29it/s]"
     ]
    },
    {
     "name": "stdout",
     "output_type": "stream",
     "text": [
      "Track 27235 is shorter than expected 30 seconds, skipping.\n",
      "Track 27340 is shorter than expected 30 seconds, skipping.\n",
      "Error processing track 27341: could not broadcast input array from shape (130,13,1) into shape (10,13,1)\n",
      "Track 27349 is shorter than expected 30 seconds, skipping.\n",
      "Error processing track 27350: could not broadcast input array from shape (130,13,1) into shape (10,13,1)\n"
     ]
    },
    {
     "name": "stderr",
     "output_type": "stream",
     "text": [
      "Processing tracks:  19%|███████████▎                                              | 2358/12114 [05:34<14:22, 11.31it/s]"
     ]
    },
    {
     "name": "stdout",
     "output_type": "stream",
     "text": [
      "Error processing track 27379: could not broadcast input array from shape (130,13,1) into shape (10,13,1)\n",
      "Error processing track 27389: could not broadcast input array from shape (130,13,1) into shape (10,13,1)\n",
      "Track 27404 is shorter than expected 30 seconds, skipping.\n"
     ]
    },
    {
     "name": "stderr",
     "output_type": "stream",
     "text": [
      "Processing tracks:  19%|███████████▎                                              | 2360/12114 [05:34<13:00, 12.49it/s]"
     ]
    },
    {
     "name": "stdout",
     "output_type": "stream",
     "text": [
      "Track 27405 is shorter than expected 30 seconds, skipping.\n",
      "Track 27407 is shorter than expected 30 seconds, skipping.\n",
      "Error processing track 27408: could not broadcast input array from shape (130,13,1) into shape (10,13,1)\n"
     ]
    },
    {
     "name": "stderr",
     "output_type": "stream",
     "text": [
      "Processing tracks:  19%|██████████▉                                             | 2362/12114 [05:38<1:34:47,  1.71it/s]"
     ]
    },
    {
     "name": "stdout",
     "output_type": "stream",
     "text": [
      "Error processing track 27431: index can't contain negative values\n"
     ]
    },
    {
     "name": "stderr",
     "output_type": "stream",
     "text": [
      "Processing tracks:  20%|███████████▎                                              | 2366/12114 [05:38<56:56,  2.85it/s]"
     ]
    },
    {
     "name": "stdout",
     "output_type": "stream",
     "text": [
      "Error processing track 27435: index can't contain negative values\n",
      "Error processing track 27462: index can't contain negative values\n",
      "Track 27463 is shorter than expected 30 seconds, skipping.\n",
      "Error processing track 27464: could not broadcast input array from shape (130,13,1) into shape (10,13,1)\n"
     ]
    },
    {
     "name": "stderr",
     "output_type": "stream",
     "text": [
      "Processing tracks:  20%|███████████▎                                              | 2370/12114 [05:39<32:59,  4.92it/s]"
     ]
    },
    {
     "name": "stdout",
     "output_type": "stream",
     "text": [
      "Error processing track 27565: index can't contain negative values\n",
      "Track 27566 is shorter than expected 30 seconds, skipping.\n",
      "Track 27567 is shorter than expected 30 seconds, skipping.\n",
      "Track 27568 is shorter than expected 30 seconds, skipping.\n"
     ]
    },
    {
     "name": "stderr",
     "output_type": "stream",
     "text": [
      "Processing tracks:  20%|███████████▎                                              | 2372/12114 [05:39<26:15,  6.19it/s]"
     ]
    },
    {
     "name": "stdout",
     "output_type": "stream",
     "text": [
      "Track 27569 is shorter than expected 30 seconds, skipping.\n",
      "Error processing track 27570: could not broadcast input array from shape (130,13,1) into shape (10,13,1)\n",
      "Track 27571 is shorter than expected 30 seconds, skipping.\n"
     ]
    },
    {
     "name": "stderr",
     "output_type": "stream",
     "text": [
      "Processing tracks:  20%|███████████▎                                              | 2374/12114 [05:39<25:56,  6.26it/s]"
     ]
    },
    {
     "name": "stdout",
     "output_type": "stream",
     "text": [
      "Error processing track 27573: could not broadcast input array from shape (130,13,1) into shape (10,13,1)\n",
      "Error processing track 27574: index can't contain negative values\n"
     ]
    },
    {
     "name": "stderr",
     "output_type": "stream",
     "text": [
      "Processing tracks:  20%|███████████▍                                              | 2378/12114 [05:40<20:40,  7.85it/s]"
     ]
    },
    {
     "name": "stdout",
     "output_type": "stream",
     "text": [
      "Error processing track 27575: could not broadcast input array from shape (130,13,1) into shape (10,13,1)\n",
      "Track 27576 is shorter than expected 30 seconds, skipping.\n",
      "Error processing track 27604: could not broadcast input array from shape (130,13,1) into shape (10,13,1)\n",
      "Track 27605 is shorter than expected 30 seconds, skipping.\n"
     ]
    },
    {
     "name": "stderr",
     "output_type": "stream",
     "text": [
      "Processing tracks:  20%|███████████▍                                              | 2382/12114 [05:40<15:33, 10.43it/s]"
     ]
    },
    {
     "name": "stdout",
     "output_type": "stream",
     "text": [
      "Error processing track 27606: could not broadcast input array from shape (130,13,1) into shape (10,13,1)\n",
      "Track 27607 is shorter than expected 30 seconds, skipping.\n",
      "Error processing track 27608: could not broadcast input array from shape (130,13,1) into shape (10,13,1)\n"
     ]
    },
    {
     "name": "stderr",
     "output_type": "stream",
     "text": [
      "Processing tracks:  20%|███████████▍                                              | 2384/12114 [05:40<14:45, 10.99it/s]"
     ]
    },
    {
     "name": "stdout",
     "output_type": "stream",
     "text": [
      "Error processing track 27752: could not broadcast input array from shape (130,13,1) into shape (10,13,1)\n",
      "Error processing track 27754: index can't contain negative values\n"
     ]
    },
    {
     "name": "stderr",
     "output_type": "stream",
     "text": [
      "Processing tracks:  20%|███████████▍                                              | 2386/12114 [05:40<17:50,  9.09it/s]"
     ]
    },
    {
     "name": "stdout",
     "output_type": "stream",
     "text": [
      "Error processing track 27785: could not broadcast input array from shape (130,13,1) into shape (10,13,1)\n",
      "Track 27787 is shorter than expected 30 seconds, skipping.\n",
      "Track 27841 is shorter than expected 30 seconds, skipping.\n"
     ]
    },
    {
     "name": "stderr",
     "output_type": "stream",
     "text": [
      "Processing tracks:  20%|███████████▍                                              | 2390/12114 [05:41<16:27,  9.85it/s]"
     ]
    },
    {
     "name": "stdout",
     "output_type": "stream",
     "text": [
      "Error processing track 27842: could not broadcast input array from shape (130,13,1) into shape (10,13,1)\n",
      "Track 27851 is shorter than expected 30 seconds, skipping.\n",
      "Track 28085 is shorter than expected 30 seconds, skipping.\n",
      "Error processing track 28086: index can't contain negative values\n"
     ]
    },
    {
     "name": "stderr",
     "output_type": "stream",
     "text": [
      "Processing tracks:  20%|███████████▍                                              | 2392/12114 [05:42<39:47,  4.07it/s]"
     ]
    },
    {
     "name": "stdout",
     "output_type": "stream",
     "text": [
      "Error processing track 28087: index can't contain negative values\n",
      "Track 28088 is shorter than expected 30 seconds, skipping.\n"
     ]
    },
    {
     "name": "stderr",
     "output_type": "stream",
     "text": [
      "Processing tracks:  20%|███████████▍                                              | 2394/12114 [05:42<33:41,  4.81it/s]"
     ]
    },
    {
     "name": "stdout",
     "output_type": "stream",
     "text": [
      "Error processing track 28089: index can't contain negative values\n"
     ]
    },
    {
     "name": "stderr",
     "output_type": "stream",
     "text": [
      "Processing tracks:  20%|███████████▍                                              | 2397/12114 [05:43<32:47,  4.94it/s]"
     ]
    },
    {
     "name": "stdout",
     "output_type": "stream",
     "text": [
      "Error processing track 28124: could not broadcast input array from shape (130,13,1) into shape (10,13,1)\n",
      "Track 28126 is shorter than expected 30 seconds, skipping.\n",
      "Track 28199 is shorter than expected 30 seconds, skipping.\n",
      "Track 28201 is shorter than expected 30 seconds, skipping.\n"
     ]
    },
    {
     "name": "stderr",
     "output_type": "stream",
     "text": [
      "Processing tracks:  20%|███████████▍                                              | 2401/12114 [05:43<19:58,  8.10it/s]"
     ]
    },
    {
     "name": "stdout",
     "output_type": "stream",
     "text": [
      "Track 28259 is shorter than expected 30 seconds, skipping.\n",
      "Track 28261 is shorter than expected 30 seconds, skipping.\n",
      "Track 28262 is shorter than expected 30 seconds, skipping.\n",
      "Track 28264 is shorter than expected 30 seconds, skipping.\n"
     ]
    },
    {
     "name": "stderr",
     "output_type": "stream",
     "text": [
      "Processing tracks:  20%|███████████▌                                              | 2403/12114 [05:43<16:33,  9.78it/s]"
     ]
    },
    {
     "name": "stdout",
     "output_type": "stream",
     "text": [
      "Track 28265 is shorter than expected 30 seconds, skipping.\n"
     ]
    },
    {
     "name": "stderr",
     "output_type": "stream",
     "text": [
      "Processing tracks:  20%|███████████▌                                              | 2407/12114 [05:44<21:50,  7.41it/s]"
     ]
    },
    {
     "name": "stdout",
     "output_type": "stream",
     "text": [
      "Error processing track 28276: index can't contain negative values\n",
      "Track 28278 is shorter than expected 30 seconds, skipping.\n",
      "Track 28279 is shorter than expected 30 seconds, skipping.\n",
      "Track 28426 is shorter than expected 30 seconds, skipping.\n"
     ]
    },
    {
     "name": "stderr",
     "output_type": "stream",
     "text": [
      "Processing tracks:  20%|███████████▌                                              | 2411/12114 [05:44<15:14, 10.60it/s]"
     ]
    },
    {
     "name": "stdout",
     "output_type": "stream",
     "text": [
      "Track 28499 is shorter than expected 30 seconds, skipping.\n",
      "Track 28525 is shorter than expected 30 seconds, skipping.\n",
      "Track 28526 is shorter than expected 30 seconds, skipping.\n",
      "Track 28527 is shorter than expected 30 seconds, skipping.\n"
     ]
    },
    {
     "name": "stderr",
     "output_type": "stream",
     "text": [
      "Processing tracks:  20%|███████████▌                                              | 2413/12114 [05:44<13:56, 11.60it/s]"
     ]
    },
    {
     "name": "stdout",
     "output_type": "stream",
     "text": [
      "Error processing track 28528: could not broadcast input array from shape (130,13,1) into shape (10,13,1)\n",
      "Track 28529 is shorter than expected 30 seconds, skipping.\n",
      "Track 28530 is shorter than expected 30 seconds, skipping.\n"
     ]
    },
    {
     "name": "stderr",
     "output_type": "stream",
     "text": [
      "Processing tracks:  20%|███████████▌                                              | 2417/12114 [05:45<15:42, 10.29it/s]"
     ]
    },
    {
     "name": "stdout",
     "output_type": "stream",
     "text": [
      "Error processing track 28534: could not broadcast input array from shape (130,13,1) into shape (10,13,1)\n",
      "Track 28535 is shorter than expected 30 seconds, skipping.\n",
      "Track 28536 is shorter than expected 30 seconds, skipping.\n",
      "Track 28549 is shorter than expected 30 seconds, skipping.\n"
     ]
    },
    {
     "name": "stderr",
     "output_type": "stream",
     "text": [
      "Processing tracks:  20%|███████████▌                                              | 2419/12114 [05:46<30:11,  5.35it/s]"
     ]
    },
    {
     "name": "stdout",
     "output_type": "stream",
     "text": [
      "Error processing track 28594: index can't contain negative values\n",
      "Error processing track 28595: index can't contain negative values\n"
     ]
    },
    {
     "name": "stderr",
     "output_type": "stream",
     "text": [
      "Processing tracks:  20%|███████████▌                                              | 2421/12114 [05:47<50:16,  3.21it/s]"
     ]
    },
    {
     "name": "stdout",
     "output_type": "stream",
     "text": [
      "Error processing track 28596: index can't contain negative values\n"
     ]
    },
    {
     "name": "stderr",
     "output_type": "stream",
     "text": [
      "Processing tracks:  20%|███████████▌                                              | 2422/12114 [05:47<47:51,  3.38it/s]"
     ]
    },
    {
     "name": "stdout",
     "output_type": "stream",
     "text": [
      "Error processing track 28597: index can't contain negative values\n"
     ]
    },
    {
     "name": "stderr",
     "output_type": "stream",
     "text": [
      "Processing tracks:  20%|███████████▌                                              | 2425/12114 [05:47<35:30,  4.55it/s]"
     ]
    },
    {
     "name": "stdout",
     "output_type": "stream",
     "text": [
      "Error processing track 28598: index can't contain negative values\n",
      "Track 28600 is shorter than expected 30 seconds, skipping.\n",
      "Track 28601 is shorter than expected 30 seconds, skipping.\n",
      "Track 28606 is shorter than expected 30 seconds, skipping.\n"
     ]
    },
    {
     "name": "stderr",
     "output_type": "stream",
     "text": [
      "Processing tracks:  20%|███████████▋                                              | 2429/12114 [05:48<20:23,  7.91it/s]"
     ]
    },
    {
     "name": "stdout",
     "output_type": "stream",
     "text": [
      "Track 28607 is shorter than expected 30 seconds, skipping.\n",
      "Track 28609 is shorter than expected 30 seconds, skipping.\n",
      "Track 28702 is shorter than expected 30 seconds, skipping.\n",
      "Track 28898 is shorter than expected 30 seconds, skipping.\n"
     ]
    },
    {
     "name": "stderr",
     "output_type": "stream",
     "text": [
      "Processing tracks:  20%|███████████▋                                              | 2431/12114 [05:48<16:38,  9.70it/s]"
     ]
    },
    {
     "name": "stdout",
     "output_type": "stream",
     "text": [
      "Track 28901 is shorter than expected 30 seconds, skipping.\n",
      "Track 28902 is shorter than expected 30 seconds, skipping.\n"
     ]
    },
    {
     "name": "stderr",
     "output_type": "stream",
     "text": [
      "Processing tracks:  20%|███████████▋                                              | 2433/12114 [05:48<19:05,  8.45it/s]"
     ]
    },
    {
     "name": "stdout",
     "output_type": "stream",
     "text": [
      "Error processing track 29046: index can't contain negative values\n"
     ]
    },
    {
     "name": "stderr",
     "output_type": "stream",
     "text": [
      "Processing tracks:  20%|███████████▋                                              | 2437/12114 [05:49<27:29,  5.87it/s]"
     ]
    },
    {
     "name": "stdout",
     "output_type": "stream",
     "text": [
      "Error processing track 29047: index can't contain negative values\n",
      "Track 29261 is shorter than expected 30 seconds, skipping.\n",
      "Track 29262 is shorter than expected 30 seconds, skipping.\n",
      "Track 29263 is shorter than expected 30 seconds, skipping.\n",
      "Track 29265 is shorter than expected 30 seconds, skipping.\n"
     ]
    },
    {
     "name": "stderr",
     "output_type": "stream",
     "text": [
      "Processing tracks:  20%|███████████▋                                              | 2441/12114 [05:49<20:50,  7.73it/s]"
     ]
    },
    {
     "name": "stdout",
     "output_type": "stream",
     "text": [
      "Error processing track 29267: index can't contain negative values\n",
      "Error processing track 29447: could not broadcast input array from shape (130,13,1) into shape (10,13,1)\n",
      "Error processing track 29448: could not broadcast input array from shape (130,13,1) into shape (10,13,1)\n",
      "Error processing track 29451: could not broadcast input array from shape (130,13,1) into shape (10,13,1)\n"
     ]
    },
    {
     "name": "stderr",
     "output_type": "stream",
     "text": [
      "Processing tracks:  20%|███████████▋                                              | 2443/12114 [05:50<17:36,  9.15it/s]"
     ]
    },
    {
     "name": "stdout",
     "output_type": "stream",
     "text": [
      "Track 29452 is shorter than expected 30 seconds, skipping.\n",
      "Error processing track 29453: could not broadcast input array from shape (130,13,1) into shape (10,13,1)\n"
     ]
    },
    {
     "name": "stderr",
     "output_type": "stream",
     "text": [
      "Processing tracks:  20%|███████████▋                                              | 2447/12114 [05:50<22:13,  7.25it/s]"
     ]
    },
    {
     "name": "stdout",
     "output_type": "stream",
     "text": [
      "Error processing track 29466: could not broadcast input array from shape (130,13,1) into shape (10,13,1)\n",
      "Track 29469 is shorter than expected 30 seconds, skipping.\n",
      "Track 29470 is shorter than expected 30 seconds, skipping.\n",
      "Track 29476 is shorter than expected 30 seconds, skipping.\n"
     ]
    },
    {
     "name": "stderr",
     "output_type": "stream",
     "text": [
      "Processing tracks:  20%|███████████▋                                              | 2451/12114 [05:51<18:20,  8.78it/s]"
     ]
    },
    {
     "name": "stdout",
     "output_type": "stream",
     "text": [
      "Error processing track 29478: index can't contain negative values\n",
      "Error processing track 29496: could not broadcast input array from shape (130,13,1) into shape (10,13,1)\n",
      "Error processing track 29498: could not broadcast input array from shape (130,13,1) into shape (10,13,1)\n",
      "Error processing track 29501: could not broadcast input array from shape (130,13,1) into shape (10,13,1)\n"
     ]
    },
    {
     "name": "stderr",
     "output_type": "stream",
     "text": [
      "Processing tracks:  20%|███████████▋                                              | 2453/12114 [05:51<23:04,  6.98it/s]\n"
     ]
    },
    {
     "name": "stdout",
     "output_type": "stream",
     "text": [
      "Track 29505 is shorter than expected 30 seconds, skipping.\n"
     ]
    },
    {
     "ename": "KeyboardInterrupt",
     "evalue": "",
     "output_type": "error",
     "traceback": [
      "\u001b[1;31m---------------------------------------------------------------------------\u001b[0m",
      "\u001b[1;31mKeyboardInterrupt\u001b[0m                         Traceback (most recent call last)",
      "Cell \u001b[1;32mIn[1], line 167\u001b[0m\n\u001b[0;32m    165\u001b[0m \u001b[38;5;66;03m# Process each dataset\u001b[39;00m\n\u001b[0;32m    166\u001b[0m \u001b[38;5;28mprint\u001b[39m(\u001b[38;5;124m\"\u001b[39m\u001b[38;5;130;01m\\n\u001b[39;00m\u001b[38;5;124mProcessing training data with augmentation...\u001b[39m\u001b[38;5;124m\"\u001b[39m)\n\u001b[1;32m--> 167\u001b[0m process_tracks(df_train, AUDIO_DIR, dict_genres_final, versions_per_track, X_train, y_train)\n\u001b[0;32m    168\u001b[0m \u001b[38;5;28mprint\u001b[39m(\u001b[38;5;124m\"\u001b[39m\u001b[38;5;130;01m\\n\u001b[39;00m\u001b[38;5;124mProcessing validation data...\u001b[39m\u001b[38;5;124m\"\u001b[39m)\n\u001b[0;32m    169\u001b[0m process_tracks(df_valid, AUDIO_DIR, dict_genres_final, {}, X_valid, y_valid)\n",
      "Cell \u001b[1;32mIn[1], line 122\u001b[0m, in \u001b[0;36mprocess_tracks\u001b[1;34m(df, audio_dir, dict_genres_final, versions_per_track, X_memmap, y_memmap, num_segments, n_mfcc, n_fft, hop_length)\u001b[0m\n\u001b[0;32m    119\u001b[0m     \u001b[38;5;28;01mcontinue\u001b[39;00m\n\u001b[0;32m    120\u001b[0m \u001b[38;5;28;01mtry\u001b[39;00m:\n\u001b[0;32m    121\u001b[0m     \u001b[38;5;66;03m# Load the audio file with consistent sampling rate\u001b[39;00m\n\u001b[1;32m--> 122\u001b[0m     y_full, sr \u001b[38;5;241m=\u001b[39m librosa\u001b[38;5;241m.\u001b[39mload(filepath, sr\u001b[38;5;241m=\u001b[39mSAMPLE_RATE)\n\u001b[0;32m    123\u001b[0m     genre \u001b[38;5;241m=\u001b[39m df\u001b[38;5;241m.\u001b[39mloc[track_id][(\u001b[38;5;124m'\u001b[39m\u001b[38;5;124mtrack\u001b[39m\u001b[38;5;124m'\u001b[39m, \u001b[38;5;124m'\u001b[39m\u001b[38;5;124mgenre_top\u001b[39m\u001b[38;5;124m'\u001b[39m)]\n\u001b[0;32m    124\u001b[0m     y_label \u001b[38;5;241m=\u001b[39m dict_genres_final\u001b[38;5;241m.\u001b[39mget(genre)\n",
      "File \u001b[1;32m~\\AppData\\Roaming\\Python\\Python312\\site-packages\\librosa\\core\\audio.py:190\u001b[0m, in \u001b[0;36mload\u001b[1;34m(path, sr, mono, offset, duration, dtype, res_type)\u001b[0m\n\u001b[0;32m    188\u001b[0m \u001b[38;5;66;03m# Final cleanup for dtype and contiguity\u001b[39;00m\n\u001b[0;32m    189\u001b[0m \u001b[38;5;28;01mif\u001b[39;00m mono:\n\u001b[1;32m--> 190\u001b[0m     y \u001b[38;5;241m=\u001b[39m to_mono(y)\n\u001b[0;32m    192\u001b[0m \u001b[38;5;28;01mif\u001b[39;00m sr \u001b[38;5;129;01mis\u001b[39;00m \u001b[38;5;129;01mnot\u001b[39;00m \u001b[38;5;28;01mNone\u001b[39;00m:\n\u001b[0;32m    193\u001b[0m     y \u001b[38;5;241m=\u001b[39m resample(y, orig_sr\u001b[38;5;241m=\u001b[39msr_native, target_sr\u001b[38;5;241m=\u001b[39msr, res_type\u001b[38;5;241m=\u001b[39mres_type)\n",
      "File \u001b[1;32m~\\AppData\\Roaming\\Python\\Python312\\site-packages\\librosa\\core\\audio.py:508\u001b[0m, in \u001b[0;36mto_mono\u001b[1;34m(y)\u001b[0m\n\u001b[0;32m    505\u001b[0m util\u001b[38;5;241m.\u001b[39mvalid_audio(y, mono\u001b[38;5;241m=\u001b[39m\u001b[38;5;28;01mFalse\u001b[39;00m)\n\u001b[0;32m    507\u001b[0m \u001b[38;5;28;01mif\u001b[39;00m y\u001b[38;5;241m.\u001b[39mndim \u001b[38;5;241m>\u001b[39m \u001b[38;5;241m1\u001b[39m:\n\u001b[1;32m--> 508\u001b[0m     y \u001b[38;5;241m=\u001b[39m np\u001b[38;5;241m.\u001b[39mmean(y, axis\u001b[38;5;241m=\u001b[39m\u001b[38;5;28mtuple\u001b[39m(\u001b[38;5;28mrange\u001b[39m(y\u001b[38;5;241m.\u001b[39mndim \u001b[38;5;241m-\u001b[39m \u001b[38;5;241m1\u001b[39m)))\n\u001b[0;32m    510\u001b[0m \u001b[38;5;28;01mreturn\u001b[39;00m y\n",
      "File \u001b[1;32mC:\\ProgramData\\anaconda3\\Lib\\site-packages\\numpy\\core\\fromnumeric.py:3504\u001b[0m, in \u001b[0;36mmean\u001b[1;34m(a, axis, dtype, out, keepdims, where)\u001b[0m\n\u001b[0;32m   3501\u001b[0m     \u001b[38;5;28;01melse\u001b[39;00m:\n\u001b[0;32m   3502\u001b[0m         \u001b[38;5;28;01mreturn\u001b[39;00m mean(axis\u001b[38;5;241m=\u001b[39maxis, dtype\u001b[38;5;241m=\u001b[39mdtype, out\u001b[38;5;241m=\u001b[39mout, \u001b[38;5;241m*\u001b[39m\u001b[38;5;241m*\u001b[39mkwargs)\n\u001b[1;32m-> 3504\u001b[0m \u001b[38;5;28;01mreturn\u001b[39;00m _methods\u001b[38;5;241m.\u001b[39m_mean(a, axis\u001b[38;5;241m=\u001b[39maxis, dtype\u001b[38;5;241m=\u001b[39mdtype,\n\u001b[0;32m   3505\u001b[0m                       out\u001b[38;5;241m=\u001b[39mout, \u001b[38;5;241m*\u001b[39m\u001b[38;5;241m*\u001b[39mkwargs)\n",
      "File \u001b[1;32mC:\\ProgramData\\anaconda3\\Lib\\site-packages\\numpy\\core\\_methods.py:118\u001b[0m, in \u001b[0;36m_mean\u001b[1;34m(a, axis, dtype, out, keepdims, where)\u001b[0m\n\u001b[0;32m    115\u001b[0m         dtype \u001b[38;5;241m=\u001b[39m mu\u001b[38;5;241m.\u001b[39mdtype(\u001b[38;5;124m'\u001b[39m\u001b[38;5;124mf4\u001b[39m\u001b[38;5;124m'\u001b[39m)\n\u001b[0;32m    116\u001b[0m         is_float16_result \u001b[38;5;241m=\u001b[39m \u001b[38;5;28;01mTrue\u001b[39;00m\n\u001b[1;32m--> 118\u001b[0m ret \u001b[38;5;241m=\u001b[39m umr_sum(arr, axis, dtype, out, keepdims, where\u001b[38;5;241m=\u001b[39mwhere)\n\u001b[0;32m    119\u001b[0m \u001b[38;5;28;01mif\u001b[39;00m \u001b[38;5;28misinstance\u001b[39m(ret, mu\u001b[38;5;241m.\u001b[39mndarray):\n\u001b[0;32m    120\u001b[0m     \u001b[38;5;28;01mwith\u001b[39;00m _no_nep50_warning():\n",
      "\u001b[1;31mKeyboardInterrupt\u001b[0m: "
     ]
    }
   ],
   "source": [
    "# Imports\n",
    "import os\n",
    "import numpy as np\n",
    "import pandas as pd\n",
    "import librosa\n",
    "import librosa.display\n",
    "from tqdm import tqdm\n",
    "from tensorflow.keras.utils import to_categorical\n",
    "import matplotlib.pyplot as plt\n",
    "import math\n",
    "\n",
    "# Paths\n",
    "AUDIO_DIR = 'C:/Users/HASSAN/Desktop/Master Thesis/ClasificacionGeneroMusical_DL-master/ClasificacionGeneroMusical_DL-master/fma_medium/fma_medium'\n",
    "DATA_DIR = 'C:/Users/HASSAN/Desktop/Master Thesis/ClasificacionGeneroMusical_DL-master/ClasificacionGeneroMusical_DL-master/fma_metadata/fma_metadata'\n",
    "\n",
    "# Function Definitions\n",
    "def get_audio_path(audio_dir, track_id):\n",
    "    tid_str = '{:06d}'.format(track_id)\n",
    "    return os.path.join(audio_dir, tid_str[:3], tid_str + '.mp3')\n",
    "\n",
    "def filter_by_size(df, audio_dir, min_size=700000):\n",
    "    correct_tracks = []\n",
    "    for track_id in tqdm(df.index, desc='Filtering tracks by size'):\n",
    "        fpath = get_audio_path(audio_dir, track_id)\n",
    "        if os.path.exists(fpath):\n",
    "            size = os.path.getsize(fpath)\n",
    "            if size > min_size:\n",
    "                correct_tracks.append(track_id)\n",
    "            else:\n",
    "                print(f'Track {track_id} is too small (size: {size})')\n",
    "        else:\n",
    "            print(f'Track {track_id} not found')\n",
    "    return df.loc[correct_tracks]\n",
    "\n",
    "# Load metadata\n",
    "filepath = os.path.join(DATA_DIR, 'tracks.csv')\n",
    "tracks = pd.read_csv(filepath, index_col=0, header=[0, 1])\n",
    "\n",
    "# Selection of columns from the dataframe\n",
    "cols = [('set', 'split'), ('set', 'subset'), ('track', 'genre_top')]\n",
    "\n",
    "# Filtering the columns\n",
    "df_medium = tracks[cols]\n",
    "df_medium = df_medium[df_medium[('set', 'subset')] == 'medium']\n",
    "\n",
    "# Apply size filter\n",
    "df_filtered = filter_by_size(df_medium, AUDIO_DIR)\n",
    "\n",
    "# Get unique genres and create genre mapping\n",
    "genres = df_filtered[('track', 'genre_top')].unique()\n",
    "dict_genres_final = {genre: idx for idx, genre in enumerate(genres)}\n",
    "CANT_genres = len(dict_genres_final)\n",
    "\n",
    "# Split the data\n",
    "df_train = df_filtered[df_filtered[('set', 'split')] == 'training']\n",
    "df_valid = df_filtered[df_filtered[('set', 'split')] == 'validation']\n",
    "df_test = df_filtered[df_filtered[('set', 'split')] == 'test']\n",
    "\n",
    "# Access the genre column correctly using the MultiIndex\n",
    "train_genre_distribution = df_train[('track', 'genre_top')].value_counts()\n",
    "print(\"Training Set Genre Distribution:\")\n",
    "print(train_genre_distribution)\n",
    "\n",
    "# Validation set\n",
    "valid_genre_distribution = df_valid[('track', 'genre_top')].value_counts()\n",
    "print(\"\\nValidation Set Genre Distribution:\")\n",
    "print(valid_genre_distribution)\n",
    "\n",
    "# Test set\n",
    "test_genre_distribution = df_test[('track', 'genre_top')].value_counts()\n",
    "print(\"\\nTesting Set Genre Distribution:\")\n",
    "print(test_genre_distribution)\n",
    "\n",
    "print(f\"Training samples: {df_train.shape[0]}, Validation samples: {df_valid.shape[0]}, Test samples: {df_test.shape[0]}\")\n",
    "\n",
    "# Adjusted Parameters\n",
    "N_MFCC = 13\n",
    "N_FFT = 2048             # FFT window size\n",
    "HOP_LENGTH = 512         # Number of samples between successive frames\n",
    "SAMPLE_RATE = 22050      # Default sample rate\n",
    "NUM_SEGMENTS = 10        # Number of segments per track\n",
    "TARGET_SEGMENTS_PER_GENRE = 40000\n",
    "SEGMENTS_PER_TRACK = NUM_SEGMENTS  # 10 segments per track\n",
    "\n",
    "# Get the number of tracks per genre in the training set\n",
    "train_genre_counts = df_train[('track', 'genre_top')].value_counts()\n",
    "print(\"Training Set Genre Counts:\")\n",
    "print(train_genre_counts)\n",
    "\n",
    "# Calculate versions per track for each genre\n",
    "versions_per_track = {}\n",
    "max_versions_per_track = 50  # Set a reasonable maximum to prevent impractical augmentation\n",
    "\n",
    "for genre, num_tracks in train_genre_counts.items():\n",
    "    # Skip Rock and Electronic genres\n",
    "    if genre in ['Rock', 'Electronic']:\n",
    "        versions_per_track[genre] = 1\n",
    "        continue\n",
    "    vpt = math.ceil(TARGET_SEGMENTS_PER_GENRE / (num_tracks * SEGMENTS_PER_TRACK))\n",
    "    vpt = min(vpt, max_versions_per_track)\n",
    "    versions_per_track[genre] = vpt\n",
    "\n",
    "print(\"\\nVersions per track per genre (excluding Rock and Electronic):\")\n",
    "for genre, vpt in versions_per_track.items():\n",
    "    if genre not in ['Rock', 'Electronic']:\n",
    "        print(f\"{genre}: {vpt}\")\n",
    "\n",
    "\n",
    "def fixed_length_time_stretch(y, rate, desired_length):\n",
    "    \"\"\"\n",
    "    Applies time stretching and fixes the length of the audio signal.\n",
    "    \"\"\"\n",
    "    y_stretched = librosa.effects.time_stretch(y=y, rate=rate)\n",
    "\n",
    "    if len(y_stretched) > desired_length:\n",
    "        y_stretched = y_stretched[:desired_length]\n",
    "    else:\n",
    "        y_stretched = np.pad(y_stretched, (0, max(0, desired_length - len(y_stretched))), mode='constant')\n",
    "    return y_stretched\n",
    "\n",
    "def fixed_length_pitch_shift(y, sr, n_steps, desired_length):\n",
    "    \"\"\"\n",
    "    Applies pitch shifting and fixes the length of the audio signal.\n",
    "    \"\"\"\n",
    "    y_shifted = librosa.effects.pitch_shift(y=y, sr=sr, n_steps=n_steps)\n",
    "\n",
    "    y_shifted = librosa.util.fix_length(y_shifted, size=desired_length)\n",
    "    return y_shifted\n",
    "\n",
    "def time_shift_audio(y, shift_max):\n",
    "    \"\"\"\n",
    "    Shifts the audio signal in time without wrapping around.\n",
    "    \"\"\"\n",
    "    shift = np.random.randint(-shift_max, shift_max)\n",
    "    if shift > 0:\n",
    "        y_shifted = np.pad(y, (shift, 0), mode='constant')[:len(y)]\n",
    "    elif shift < 0:\n",
    "        y_shifted = np.pad(y, (0, -shift), mode='constant')[-shift:]\n",
    "    else:\n",
    "        y_shifted = y\n",
    "    return y_shifted\n",
    "\n",
    "def get_pitch_shift_steps():\n",
    "    \"\"\"\n",
    "    Returns a random number of pitch shift steps, excluding zero.\n",
    "    \"\"\"\n",
    "    return np.random.choice([-5, -4, -3, -2, -1, 1, 2, 3, 4])\n",
    "\n",
    "\n",
    "\n",
    "def augment_audio(y, sr, num_augmented_versions, desired_length):\n",
    "    \"\"\"\n",
    "    Generates augmented versions of the audio signal.\n",
    "    Each augmented version undergoes one random augmentation to prevent over-distortion.\n",
    "    \"\"\"\n",
    "    augmented_signals = []\n",
    "    for _ in range(num_augmented_versions):\n",
    "        try:\n",
    "            y_aug = y.copy()\n",
    "            # Apply one random augmentation per version\n",
    "            augmentation = np.random.choice(['time_stretch', 'pitch_shift', 'add_noise', 'time_shift'])\n",
    "            if augmentation == 'time_stretch':\n",
    "                rate = np.random.uniform(0.8, 1.2)\n",
    "                y_aug = fixed_length_time_stretch(y_aug, rate, desired_length)\n",
    "            elif augmentation == 'pitch_shift':\n",
    "                n_steps = get_pitch_shift_steps()\n",
    "                y_aug = fixed_length_pitch_shift(y_aug, sr, n_steps, desired_length)\n",
    "            elif augmentation == 'add_noise':\n",
    "                noise_amp = 0.005 * np.random.uniform() * np.max(np.abs(y_aug))\n",
    "                y_aug += noise_amp * np.random.normal(size=y_aug.shape[0])\n",
    "                y_aug = librosa.util.fix_length(y_aug, size=desired_length)\n",
    "            elif augmentation == 'time_shift':\n",
    "                y_aug = time_shift_audio(y_aug, shift_max=int(0.1 * len(y_aug)))\n",
    "                y_aug = librosa.util.fix_length(y_aug, size=desired_length)\n",
    "            # Normalize the augmented signal\n",
    "            y_aug = (y_aug - np.mean(y_aug)) / (np.std(y_aug) + 1e-6)\n",
    "            augmented_signals.append(y_aug)\n",
    "        except Exception as e:\n",
    "            print(f\"Augmentation failed: {e}\")\n",
    "            continue\n",
    "    return augmented_signals\n",
    "\n",
    "\n",
    "\n",
    "# Function to process tracks and extract MFCCs\n",
    "def process_tracks(df, audio_dir, dict_genres_final, versions_per_track, num_segments=NUM_SEGMENTS, n_mfcc=N_MFCC, n_fft=N_FFT, hop_length=HOP_LENGTH):\n",
    "    \"\"\"\n",
    "    Processes tracks from a DataFrame, extracting MFCC segments for each track.\n",
    "    Includes data augmentation for specified genres.\n",
    "    \"\"\"\n",
    "    X = []\n",
    "    y = []\n",
    "    for track_id in tqdm(df.index, desc='Processing tracks'):\n",
    "        filepath = get_audio_path(audio_dir, track_id)\n",
    "        if not os.path.exists(filepath):\n",
    "            print(f\"Audio file not found at path {filepath}\")\n",
    "            continue\n",
    "        try:\n",
    "            # Load audio file\n",
    "            y_full, sr = librosa.load(filepath, sr=SAMPLE_RATE)\n",
    "            genre = df.loc[track_id][('track', 'genre_top')]\n",
    "            y_label = dict_genres_final.get(genre)\n",
    "            # Determine number of versions per track\n",
    "            vpt = versions_per_track.get(genre, 1)\n",
    "            num_augmentations = vpt - 1  # Exclude original\n",
    "\n",
    "            # Generate augmented versions\n",
    "            desired_length = len(y_full)\n",
    "            augmented_signals = [y_full]  # Include original\n",
    "            if num_augmentations > 0:\n",
    "                augmented_signals.extend(augment_audio(y_full, sr, num_augmentations, desired_length))\n",
    "\n",
    "            # Process each version\n",
    "            for y_version in augmented_signals:\n",
    "                # Split into segments\n",
    "                samples_per_segment = int(desired_length / num_segments)\n",
    "                num_mfcc_vectors_per_segment = math.ceil(samples_per_segment / hop_length)\n",
    "\n",
    "                for d in range(num_segments):\n",
    "                    # Calculate start and finish sample for current segment\n",
    "                    start = samples_per_segment * d\n",
    "                    finish = start + samples_per_segment\n",
    "\n",
    "                    # Ensure segment is within bounds\n",
    "                    if finish > len(y_version):\n",
    "                        finish = len(y_version)\n",
    "                        start = finish - samples_per_segment\n",
    "                        if start < 0:\n",
    "                            continue  # Skip if segment is too short\n",
    "\n",
    "                    y_segment = y_version[start:finish]\n",
    "                    mfcc = librosa.feature.mfcc(y=y_segment, sr=sr, n_mfcc=n_mfcc, n_fft=n_fft, hop_length=hop_length)\n",
    "                    mfcc = mfcc.T  # Transpose to shape (time_frames, n_mfcc)\n",
    "\n",
    "                    # Store MFCCs if they have the expected length\n",
    "                    if len(mfcc) == num_mfcc_vectors_per_segment:\n",
    "                        X.append(mfcc.tolist())\n",
    "                        y.append(y_label)\n",
    "                        print(f\"Processed track {track_id}, segment {d+1}/{num_segments}\")\n",
    "                    else:\n",
    "                        print(f\"Segment {d+1} of track {track_id} has unexpected length: {len(mfcc)} (expected {num_mfcc_vectors_per_segment})\")\n",
    "        except Exception as e:\n",
    "            print(f\"Error processing track {track_id}: {e}\")\n",
    "            continue\n",
    "    return np.array(X), np.array(y)\n",
    "\n",
    "# Process training data with augmentation\n",
    "print(\"\\nProcessing training data with augmentation...\")\n",
    "X_train, y_train = process_tracks(\n",
    "    df_train,\n",
    "    AUDIO_DIR,\n",
    "    dict_genres_final,\n",
    "    versions_per_track,  # Include versions per track for augmentation\n",
    "    num_segments=NUM_SEGMENTS,\n",
    "    n_mfcc=N_MFCC,\n",
    "    n_fft=N_FFT,\n",
    "    hop_length=HOP_LENGTH\n",
    ")\n",
    "\n",
    "# Process validation data without augmentation\n",
    "print(\"\\nProcessing validation data...\")\n",
    "X_valid, y_valid = process_tracks(\n",
    "    df_valid,\n",
    "    AUDIO_DIR,\n",
    "    dict_genres_final,\n",
    "    versions_per_track={},  # No augmentation\n",
    "    num_segments=NUM_SEGMENTS,\n",
    "    n_mfcc=N_MFCC,\n",
    "    n_fft=N_FFT,\n",
    "    hop_length=HOP_LENGTH\n",
    ")\n",
    "\n",
    "# Process test data without augmentation\n",
    "print(\"\\nProcessing test data...\")\n",
    "X_test, y_test = process_tracks(\n",
    "    df_test,\n",
    "    AUDIO_DIR,\n",
    "    dict_genres_final,\n",
    "    versions_per_track={},  # No augmentation\n",
    "    num_segments=NUM_SEGMENTS,\n",
    "    n_mfcc=N_MFCC,\n",
    "    n_fft=N_FFT,\n",
    "    hop_length=HOP_LENGTH\n",
    ")\n",
    "\n",
    "\n",
    "\n",
    "\n",
    "# Convert lists to numpy arrays and reshape if necessary\n",
    "X_train = np.array(X_train)\n",
    "X_valid = np.array(X_valid)\n",
    "X_test = np.array(X_test)\n",
    "\n",
    "# If necessary, add a channel dimension (e.g., for CNN input)\n",
    "X_train = X_train[..., np.newaxis]  # Shape: (num_samples, time_frames, n_mfcc, 1)\n",
    "X_valid = X_valid[..., np.newaxis]\n",
    "X_test = X_test[..., np.newaxis]\n",
    "\n",
    "# Convert labels to categorical\n",
    "y_train = to_categorical(y_train, num_classes=CANT_genres)\n",
    "y_valid = to_categorical(y_valid, num_classes=CANT_genres)\n",
    "y_test = to_categorical(y_test, num_classes=CANT_genres)\n",
    "\n",
    "# Verify data shapes\n",
    "print(f\"\\nData shapes:\")\n",
    "print(f\"X_train shape: {X_train.shape}\")\n",
    "print(f\"y_train shape: {y_train.shape}\")\n",
    "print(f\"X_valid shape: {X_valid.shape}\")\n",
    "print(f\"y_valid shape: {y_valid.shape}\")\n",
    "print(f\"X_test shape: {X_test.shape}\")\n",
    "print(f\"y_test shape: {y_test.shape}\")\n",
    "\n",
    "\n",
    "from collections import Counter\n",
    "genre_indices = {v: k for k, v in dict_genres_final.items()}\n",
    "y_train_genres = [genre_indices[np.argmax(label)] for label in y_train]\n",
    "segment_counts = Counter(y_train_genres)\n",
    "print(\"\\nSegment counts per genre in training data after augmentation:\")\n",
    "for genre, count in segment_counts.items():\n",
    "    print(f\"{genre}: {count}\")"
   ]
  },
  {
   "cell_type": "code",
   "execution_count": null,
   "id": "89fbf5d0-0ba6-41d3-9948-642ac0c660bb",
   "metadata": {},
   "outputs": [],
   "source": [
    "def plot_history(history):\n",
    "    \"\"\"Plots accuracy/loss for training/validation set as a function of the epochs\n",
    "\n",
    "        :param history: Training history of model\n",
    "        :return:\n",
    "    \"\"\"\n",
    "\n",
    "    fig, axs = plt.subplots(2)\n",
    "\n",
    "    # create accuracy sublpot\n",
    "    axs[0].plot(history.history[\"accuracy\"], label=\"train accuracy\")\n",
    "    axs[0].plot(history.history[\"val_accuracy\"], label=\"test accuracy\")\n",
    "    axs[0].set_ylabel(\"Accuracy\")\n",
    "    axs[0].legend(loc=\"lower right\")\n",
    "    axs[0].set_title(\"Accuracy eval\")\n",
    "\n",
    "    # create error sublpot\n",
    "    axs[1].plot(history.history[\"loss\"], label=\"train error\")\n",
    "    axs[1].plot(history.history[\"val_loss\"], label=\"test error\")\n",
    "    axs[1].set_ylabel(\"Error\")\n",
    "    axs[1].set_xlabel(\"Epoch\")\n",
    "    axs[1].legend(loc=\"upper right\")\n",
    "    axs[1].set_title(\"Error eval\")\n",
    "\n",
    "    plt.show()\n",
    "\n",
    "\n",
    "\n",
    "# Imports (ensure you have all necessary imports)\n",
    "import numpy as np\n",
    "from tensorflow.keras.models import Sequential\n",
    "from tensorflow.keras.layers import Conv2D, MaxPooling2D, BatchNormalization, Dropout, Flatten, Dense\n",
    "from tensorflow.keras.optimizers import Adam\n",
    "from tensorflow.keras.callbacks import ModelCheckpoint, ReduceLROnPlateau\n",
    "\n",
    "# Adjust input shape for the model\n",
    "input_shape = (expected_frames, N_MFCC, 1)\n",
    "\n",
    "# Reshape the data to include the channel dimension\n",
    "X_train = X_train[..., np.newaxis]  # Shape: (num_samples, TIME_FRAMES, N_MFCC, 1)\n",
    "X_valid = X_valid[..., np.newaxis]\n",
    "X_test = X_test[..., np.newaxis]\n",
    "\n",
    "# Build the CNN model\n",
    "model = Sequential()\n",
    "\n",
    "# First Convolutional Block\n",
    "model.add(Conv2D(32, kernel_size=(3, 3), activation='relu', input_shape=input_shape))\n",
    "model.add(MaxPooling2D(pool_size=(3, 3), strides=(2, 2), padding='same'))\n",
    "model.add(BatchNormalization())\n",
    "\n",
    "# Second Convolutional Block\n",
    "model.add(Conv2D(32, kernel_size=(3, 3), activation='relu'))\n",
    "model.add(MaxPooling2D(pool_size=(3, 3), strides=(2, 2), padding='same'))\n",
    "model.add(BatchNormalization())\n",
    "\n",
    "# Third Convolutional Block\n",
    "model.add(Conv2D(32, kernel_size=(2, 2), activation='relu'))\n",
    "model.add(MaxPooling2D(pool_size=(2, 2), strides=(2, 2), padding='same'))\n",
    "model.add(BatchNormalization())\n",
    "\n",
    "# Flatten and Fully Connected Layer\n",
    "model.add(Flatten())\n",
    "model.add(Dense(64, activation='relu'))\n",
    "model.add(Dropout(0.3))\n",
    "\n",
    "# Output Layer with softmax activation for classification\n",
    "model.add(Dense(16, activation='softmax'))\n",
    "\n",
    "# Compile the model\n",
    "opt = Adam(learning_rate=0.0001)\n",
    "model.compile(loss='categorical_crossentropy',\n",
    "              optimizer=opt,\n",
    "              metrics=['accuracy'])\n",
    "\n",
    "# Callbacks\n",
    "checkpoint_callback = ModelCheckpoint('./best_weight_CNN2D_mfcc.keras',\n",
    "                                      monitor='val_accuracy', verbose=1, save_best_only=True, mode='max')\n",
    "reducelr_callback = ReduceLROnPlateau(monitor='val_accuracy', factor=0.5, patience=5, min_delta=0.01)\n",
    "callbacks = [checkpoint_callback, reducelr_callback]\n",
    "\n",
    "# Training the model\n",
    "history = model.fit(\n",
    "    X_train,\n",
    "    y_train,\n",
    "    batch_size=64,\n",
    "    epochs=20,\n",
    "    verbose=1,\n",
    "    validation_data=(X_valid, y_valid),\n",
    "    shuffle=True,\n",
    "    callbacks=callbacks\n",
    ")\n",
    "\n",
    "plot_history(history)"
   ]
  },
  {
   "cell_type": "code",
   "execution_count": null,
   "id": "e009ea88-d9b8-4cb8-b971-5357897229d7",
   "metadata": {},
   "outputs": [],
   "source": []
  },
  {
   "cell_type": "code",
   "execution_count": null,
   "id": "b7108f69-360d-4356-8ae6-b1b8e68dbe7c",
   "metadata": {
    "scrolled": true
   },
   "outputs": [],
   "source": [
    "# from sklearn.metrics import accuracy_score, classification_report, confusion_matrix\n",
    "\n",
    "# # Evaluate the model on the test set\n",
    "# y_true = []\n",
    "# y_pred = []\n",
    "\n",
    "# for track_id in tqdm(df_test.index, desc='Processing test tracks'):\n",
    "#     genre = df_test[('track', 'genre_top')].loc[track_id]\n",
    "#     y_true_label = dict_genres_final.get(genre)\n",
    "#     y_true.append(y_true_label)\n",
    "\n",
    "#     # Get overlapping MFCC segments\n",
    "#     segments = get_overlapping_mfcc_segments(track_id)\n",
    "\n",
    "#     if not segments:\n",
    "#         print(f\"No segments generated for track {track_id}\")\n",
    "#         continue\n",
    "\n",
    "#     # Convert segments to numpy array and add channel dimension\n",
    "#     X_segments = np.array(segments)\n",
    "#     X_segments = X_segments.reshape(-1, TIME_FRAMES, N_MFCC, 1)\n",
    "\n",
    "#     # Predict probabilities for each segment\n",
    "#     y_probs = model.predict(X_segments, batch_size=64)\n",
    "      \n",
    "#     # Average the probabilities across all segments\n",
    "#     avg_probs = np.mean(y_probs, axis=0)\n",
    "\n",
    "#     # Determine the predicted genre\n",
    "#     y_pred_label = np.argmax(avg_probs)\n",
    "#     y_pred.append(y_pred_label)\n",
    "\n",
    "# # Convert lists to numpy arrays\n",
    "# y_true = np.array(y_true)\n",
    "# y_pred = np.array(y_pred)\n",
    "\n",
    "# # Calculate accuracy\n",
    "# accuracy = accuracy_score(y_true, y_pred)\n",
    "# print(f\"Overall Accuracy: {accuracy:.4f}\")\n",
    "\n",
    "# # Generate classification report\n",
    "# target_names = list(dict_genres_final.keys())\n",
    "# report = classification_report(y_true, y_pred, target_names=target_names, zero_division=0)\n",
    "# print(report)\n",
    "\n",
    "# # Plot confusion matrix\n",
    "# mat = confusion_matrix(y_true, y_pred)\n",
    "# plt.figure(figsize=(10, 8))\n",
    "# sns.heatmap(mat, annot=True, fmt='d', cbar=False,\n",
    "#             xticklabels=target_names,\n",
    "#             yticklabels=target_names)\n",
    "# plt.xlabel('Predicted Label')\n",
    "# plt.ylabel('True Label')\n",
    "# plt.title('Confusion Matrix')\n",
    "# plt.show()"
   ]
  },
  {
   "cell_type": "code",
   "execution_count": null,
   "id": "7c5ff24b-d98d-4030-9e63-2a987466e730",
   "metadata": {},
   "outputs": [
    {
     "name": "stdout",
     "output_type": "stream",
     "text": [
      "Loading metadata...\n",
      "Filtering tracks by size...\n"
     ]
    },
    {
     "name": "stderr",
     "output_type": "stream",
     "text": [
      "Filtering tracks by size:  13%|██████▎                                         | 2234/17000 [00:00<00:01, 11173.28it/s]"
     ]
    },
    {
     "name": "stdout",
     "output_type": "stream",
     "text": [
      "Track 139 is too small (size: 480953)\n",
      "Track 512 is too small (size: 601401)\n",
      "Track 535 is too small (size: 480817)\n",
      "Track 536 is too small (size: 480818)\n",
      "Track 537 is too small (size: 481258)\n",
      "Track 590 is too small (size: 600638)\n",
      "Track 591 is too small (size: 601170)\n",
      "Track 592 is too small (size: 601161)\n",
      "Track 593 is too small (size: 600646)\n",
      "Track 603 is too small (size: 480559)\n",
      "Track 605 is too small (size: 420801)\n",
      "Track 608 is too small (size: 420775)\n",
      "Track 633 is too small (size: 481004)\n",
      "Track 635 is too small (size: 480594)\n",
      "Track 664 is too small (size: 600576)\n",
      "Track 819 is too small (size: 479711)\n",
      "Track 820 is too small (size: 479294)\n",
      "Track 826 is too small (size: 479663)\n",
      "Track 829 is too small (size: 479668)\n",
      "Track 831 is too small (size: 601213)\n",
      "Track 832 is too small (size: 600705)\n",
      "Track 833 is too small (size: 600695)\n",
      "Track 834 is too small (size: 600698)\n",
      "Track 835 is too small (size: 600689)\n",
      "Track 878 is too small (size: 480627)\n",
      "Track 881 is too small (size: 480911)\n",
      "Track 889 is too small (size: 480618)\n",
      "Track 896 is too small (size: 600640)\n",
      "Track 1042 is too small (size: 601510)\n",
      "Track 1043 is too small (size: 600988)\n",
      "Track 1044 is too small (size: 600998)\n",
      "Track 1045 is too small (size: 600994)\n",
      "Track 1046 is too small (size: 600972)\n",
      "Track 1047 is too small (size: 600986)\n",
      "Track 1048 is too small (size: 600994)\n",
      "Track 1121 is too small (size: 600720)\n",
      "Track 1138 is too small (size: 601272)\n",
      "Track 1151 is too small (size: 481012)\n",
      "Track 1152 is too small (size: 480616)\n",
      "Track 1153 is too small (size: 480601)\n",
      "Track 1154 is too small (size: 481020)\n",
      "Track 1155 is too small (size: 480601)\n",
      "Track 1356 is too small (size: 480896)\n",
      "Track 1358 is too small (size: 480852)\n",
      "Track 1360 is too small (size: 480423)\n",
      "Track 1361 is too small (size: 480897)\n",
      "Track 1363 is too small (size: 480427)\n",
      "Track 1366 is too small (size: 481402)\n",
      "Track 1486 is too small (size: 1061)\n",
      "Track 1634 is too small (size: 601486)\n",
      "Track 1635 is too small (size: 601537)\n",
      "Track 1638 is too small (size: 601541)\n",
      "Track 1640 is too small (size: 600947)\n",
      "Track 1884 is too small (size: 600536)\n",
      "Track 1894 is too small (size: 459545)\n",
      "Track 1896 is too small (size: 463239)\n",
      "Track 1916 is too small (size: 480996)\n",
      "Track 1926 is too small (size: 480940)\n",
      "Track 1963 is too small (size: 600691)\n",
      "Track 1964 is too small (size: 601224)\n",
      "Track 1965 is too small (size: 600703)\n",
      "Track 1966 is too small (size: 600701)\n",
      "Track 1967 is too small (size: 601226)\n",
      "Track 1995 is too small (size: 600773)\n",
      "Track 3501 is too small (size: 481087)\n",
      "Track 3502 is too small (size: 481064)\n",
      "Track 3503 is too small (size: 480654)\n",
      "Track 3504 is too small (size: 481066)\n",
      "Track 3505 is too small (size: 480647)\n",
      "Track 3626 is too small (size: 481425)\n",
      "Track 3723 is too small (size: 480894)\n",
      "Track 4499 is too small (size: 481016)\n",
      "Track 4536 is too small (size: 480556)\n",
      "Track 4537 is too small (size: 480543)\n",
      "Track 4538 is too small (size: 480967)\n",
      "Track 4539 is too small (size: 480541)\n",
      "Track 4540 is too small (size: 480542)\n",
      "Track 5009 is too small (size: 481413)\n",
      "Track 5012 is too small (size: 480981)\n",
      "Track 5013 is too small (size: 480930)\n",
      "Track 5014 is too small (size: 481399)\n",
      "Track 5015 is too small (size: 481068)\n",
      "Track 5016 is too small (size: 481448)\n",
      "Track 5017 is too small (size: 480910)\n",
      "Track 5018 is too small (size: 481019)\n",
      "Track 5019 is too small (size: 481488)\n",
      "Track 5020 is too small (size: 481467)\n",
      "Track 5021 is too small (size: 481042)\n",
      "Track 5022 is too small (size: 481428)\n",
      "Track 5023 is too small (size: 481016)\n",
      "Track 5024 is too small (size: 481519)\n",
      "Track 5026 is too small (size: 481494)\n",
      "Track 5029 is too small (size: 481451)\n",
      "Track 5030 is too small (size: 481049)\n",
      "Track 5031 is too small (size: 481117)\n",
      "Track 5032 is too small (size: 481453)\n",
      "Track 5033 is too small (size: 481438)\n",
      "Track 5034 is too small (size: 481474)\n",
      "Track 5036 is too small (size: 481042)\n",
      "Track 5038 is too small (size: 481406)\n",
      "Track 5043 is too small (size: 481461)\n",
      "Track 5044 is too small (size: 481126)\n",
      "Track 5319 is too small (size: 479396)\n",
      "Track 5320 is too small (size: 479813)\n",
      "Track 5321 is too small (size: 479822)\n",
      "Track 5325 is too small (size: 479392)\n",
      "Track 5574 is too small (size: 1209)\n",
      "Track 6520 is too small (size: 480722)\n",
      "Track 6522 is too small (size: 480726)\n",
      "Track 7484 is too small (size: 481231)\n",
      "Track 7485 is too small (size: 480810)\n",
      "Track 7777 is too small (size: 601408)\n",
      "Track 7778 is too small (size: 600891)\n",
      "Track 7779 is too small (size: 600872)\n",
      "Track 7780 is too small (size: 600885)\n",
      "Track 7781 is too small (size: 601410)\n",
      "Track 7782 is too small (size: 600878)\n",
      "Track 8188 is too small (size: 601205)\n",
      "Track 8201 is too small (size: 601709)\n",
      "Track 8204 is too small (size: 601731)\n",
      "Track 8205 is too small (size: 601727)\n",
      "Track 9490 is too small (size: 601422)\n",
      "Track 9493 is too small (size: 616104)\n",
      "Track 9552 is too small (size: 540250)\n",
      "Track 9640 is too small (size: 600369)\n",
      "Track 9793 is too small (size: 601417)\n",
      "Track 9798 is too small (size: 601468)\n",
      "Track 9800 is too small (size: 600908)\n",
      "Track 9811 is too small (size: 481279)\n",
      "Track 9956 is too small (size: 480872)\n",
      "Track 9958 is too small (size: 480855)\n",
      "Track 9960 is too small (size: 480874)\n",
      "Track 9961 is too small (size: 481294)\n",
      "Track 9967 is too small (size: 480860)\n",
      "Track 9968 is too small (size: 480868)\n",
      "Track 10086 is too small (size: 480993)\n",
      "Track 10089 is too small (size: 481065)\n",
      "Track 10094 is too small (size: 481062)\n",
      "Track 10099 is too small (size: 481508)\n",
      "Track 10104 is too small (size: 481507)\n",
      "Track 10187 is too small (size: 480200)\n",
      "Track 10189 is too small (size: 480753)\n",
      "Track 10190 is too small (size: 481570)\n",
      "Track 10357 is too small (size: 481046)\n",
      "Track 10358 is too small (size: 481081)\n",
      "Track 10360 is too small (size: 481474)\n",
      "Track 10363 is too small (size: 481497)\n",
      "Track 10364 is too small (size: 481084)\n",
      "Track 10366 is too small (size: 481503)\n",
      "Track 10367 is too small (size: 481446)\n",
      "Track 10368 is too small (size: 481023)\n",
      "Track 10568 is too small (size: 480929)\n",
      "Track 10978 is too small (size: 481284)\n",
      "Track 10979 is too small (size: 480856)\n",
      "Track 10980 is too small (size: 481282)\n",
      "Track 11266 is too small (size: 485033)\n",
      "Track 11432 is too small (size: 601605)\n",
      "Track 11433 is too small (size: 601066)\n",
      "Track 11626 is too small (size: 600902)\n",
      "Track 11627 is too small (size: 600934)\n",
      "Track 11628 is too small (size: 600934)\n",
      "Track 11629 is too small (size: 600926)\n",
      "Track 11631 is too small (size: 600931)\n",
      "Track 11632 is too small (size: 601438)\n",
      "Track 11633 is too small (size: 600921)\n",
      "Track 11634 is too small (size: 601446)\n",
      "Track 11635 is too small (size: 600906)\n",
      "Track 11636 is too small (size: 601493)\n",
      "Track 11639 is too small (size: 601014)\n",
      "Track 11640 is too small (size: 601522)\n",
      "Track 11641 is too small (size: 601046)\n",
      "Track 11643 is too small (size: 600997)\n",
      "Track 11644 is too small (size: 601552)\n",
      "Track 11719 is too small (size: 601622)\n",
      "Track 11720 is too small (size: 601102)\n",
      "Track 11721 is too small (size: 601134)\n",
      "Track 11722 is too small (size: 601053)\n",
      "Track 11737 is too small (size: 481363)\n",
      "Track 11738 is too small (size: 481322)\n",
      "Track 11748 is too small (size: 481322)\n",
      "Track 11750 is too small (size: 481394)\n",
      "Track 11752 is too small (size: 484735)\n",
      "Track 11753 is too small (size: 496402)\n",
      "Track 11957 is too small (size: 481296)\n",
      "Track 12602 is too small (size: 596420)\n",
      "Track 12672 is too small (size: 661958)\n",
      "Track 12922 is too small (size: 480994)\n",
      "Track 12923 is too small (size: 480961)\n",
      "Track 12924 is too small (size: 480972)\n",
      "Track 12926 is too small (size: 480971)\n",
      "Track 12927 is too small (size: 480948)\n",
      "Track 12987 is too small (size: 601463)\n",
      "Track 12988 is too small (size: 601457)\n",
      "Track 12989 is too small (size: 601479)\n",
      "Track 12990 is too small (size: 601499)\n",
      "Track 12991 is too small (size: 600980)\n",
      "Track 12993 is too small (size: 600984)\n",
      "Track 12994 is too small (size: 600976)\n",
      "Track 12995 is too small (size: 601454)\n",
      "Track 12996 is too small (size: 601504)\n",
      "Track 12997 is too small (size: 601511)\n",
      "Track 13370 is too small (size: 600915)\n",
      "Track 13371 is too small (size: 601478)\n",
      "Track 13372 is too small (size: 600937)\n",
      "Track 13376 is too small (size: 601456)\n",
      "Track 13760 is too small (size: 481448)\n",
      "Track 13879 is too small (size: 691825)\n",
      "Track 13891 is too small (size: 673714)\n",
      "Track 13909 is too small (size: 481483)\n",
      "Track 13913 is too small (size: 601058)\n",
      "Track 14015 is too small (size: 481318)\n",
      "Track 14019 is too small (size: 481326)\n",
      "Track 14359 is too small (size: 480858)\n",
      "Track 14360 is too small (size: 481286)\n",
      "Track 14361 is too small (size: 601444)\n",
      "Track 14364 is too small (size: 480228)\n",
      "Track 14379 is too small (size: 480233)\n",
      "Track 14387 is too small (size: 600972)\n",
      "Track 14388 is too small (size: 600964)\n",
      "Track 14389 is too small (size: 600933)\n",
      "Track 14390 is too small (size: 600945)\n",
      "Track 14394 is too small (size: 313187)\n",
      "Track 14899 is too small (size: 481405)\n",
      "Track 14901 is too small (size: 481018)\n",
      "Track 14941 is too small (size: 480942)\n",
      "Track 14942 is too small (size: 600988)\n",
      "Track 14952 is too small (size: 601031)\n",
      "Track 14954 is too small (size: 601548)\n",
      "Track 14955 is too small (size: 480991)\n",
      "Track 14957 is too small (size: 601559)\n",
      "Track 14958 is too small (size: 601027)\n",
      "Track 14959 is too small (size: 601040)\n",
      "Track 14964 is too small (size: 481330)\n",
      "Track 14967 is too small (size: 480958)\n",
      "Track 14969 is too small (size: 481346)\n",
      "Track 14970 is too small (size: 601009)\n",
      "Track 15130 is too small (size: 600478)\n",
      "Track 15201 is too small (size: 480905)\n",
      "Track 15202 is too small (size: 480895)\n",
      "Track 15203 is too small (size: 481286)\n",
      "Track 15204 is too small (size: 480226)\n",
      "Track 15209 is too small (size: 481276)\n",
      "Track 15211 is too small (size: 480865)\n",
      "Track 15213 is too small (size: 480868)\n",
      "Track 15304 is too small (size: 480279)\n",
      "Track 15307 is too small (size: 480279)\n",
      "Track 15913 is too small (size: 600922)\n",
      "Track 16023 is too small (size: 601209)\n",
      "Track 16024 is too small (size: 601209)\n",
      "Track 16025 is too small (size: 480912)\n",
      "Track 16036 is too small (size: 601031)\n",
      "Track 16045 is too small (size: 547464)\n",
      "Track 16152 is too small (size: 480857)\n",
      "Track 16342 is too small (size: 481338)\n",
      "Track 16343 is too small (size: 480919)\n",
      "Track 16351 is too small (size: 480916)\n",
      "Track 16352 is too small (size: 601500)\n",
      "Track 16353 is too small (size: 601529)\n",
      "Track 16398 is too small (size: 480903)\n",
      "Track 16399 is too small (size: 480946)\n",
      "Track 16400 is too small (size: 481330)\n",
      "Track 16401 is too small (size: 481319)\n",
      "Track 16402 is too small (size: 481386)\n",
      "Track 16403 is too small (size: 480900)\n",
      "Track 16404 is too small (size: 480908)\n",
      "Track 16405 is too small (size: 480906)\n",
      "Track 16406 is too small (size: 480908)\n",
      "Track 16421 is too small (size: 481351)\n",
      "Track 16422 is too small (size: 480982)\n",
      "Track 16423 is too small (size: 481379)\n",
      "Track 16424 is too small (size: 481455)\n",
      "Track 16425 is too small (size: 480933)\n",
      "Track 16426 is too small (size: 480981)\n",
      "Track 16427 is too small (size: 481386)\n",
      "Track 16428 is too small (size: 481343)\n",
      "Track 16429 is too small (size: 481372)\n",
      "Track 16430 is too small (size: 481343)\n",
      "Track 16431 is too small (size: 480976)\n",
      "Track 16432 is too small (size: 480944)\n",
      "Track 16441 is too small (size: 480955)\n",
      "Track 16442 is too small (size: 481375)\n",
      "Track 16443 is too small (size: 481329)\n",
      "Track 16444 is too small (size: 481385)\n",
      "Track 16445 is too small (size: 481369)\n",
      "Track 16448 is too small (size: 420853)\n",
      "Track 16452 is too small (size: 420905)\n",
      "Track 16702 is too small (size: 659496)\n",
      "Track 16876 is too small (size: 481008)\n",
      "Track 16938 is too small (size: 481354)\n",
      "Track 16940 is too small (size: 480913)\n",
      "Track 16943 is too small (size: 601486)\n",
      "Track 16985 is too small (size: 240382)\n",
      "Track 16989 is too small (size: 241045)\n",
      "Track 16992 is too small (size: 481348)\n",
      "Track 17678 is too small (size: 481410)\n",
      "Track 17781 is too small (size: 481001)\n",
      "Track 17794 is too small (size: 480546)\n",
      "Track 17839 is too small (size: 600972)\n",
      "Track 17840 is too small (size: 601556)\n",
      "Track 17841 is too small (size: 601598)\n",
      "Track 17842 is too small (size: 601553)\n",
      "Track 17843 is too small (size: 601590)\n",
      "Track 17854 is too small (size: 601008)\n",
      "Track 17855 is too small (size: 601552)\n",
      "Track 17856 is too small (size: 601026)\n",
      "Track 17857 is too small (size: 601029)\n",
      "Track 17858 is too small (size: 601546)\n",
      "Track 17859 is too small (size: 601538)\n"
     ]
    },
    {
     "name": "stderr",
     "output_type": "stream",
     "text": [
      "Filtering tracks by size:  20%|█████████▌                                      | 3386/17000 [00:00<00:01, 11330.38it/s]"
     ]
    },
    {
     "name": "stdout",
     "output_type": "stream",
     "text": [
      "Track 17860 is too small (size: 601005)\n",
      "Track 18388 is too small (size: 480928)\n",
      "Track 18390 is too small (size: 480904)\n",
      "Track 18391 is too small (size: 480960)\n",
      "Track 18393 is too small (size: 480704)\n",
      "Track 18577 is too small (size: 601463)\n",
      "Track 18578 is too small (size: 600943)\n",
      "Track 18579 is too small (size: 600945)\n",
      "Track 18580 is too small (size: 601460)\n",
      "Track 18690 is too small (size: 481121)\n",
      "Track 18692 is too small (size: 480608)\n",
      "Track 18694 is too small (size: 480627)\n",
      "Track 18712 is too small (size: 481045)\n",
      "Track 18787 is too small (size: 480906)\n",
      "Track 18788 is too small (size: 480925)\n",
      "Track 19226 is too small (size: 590337)\n",
      "Track 19227 is too small (size: 681362)\n",
      "Track 19262 is too small (size: 481314)\n",
      "Track 19263 is too small (size: 481285)\n",
      "Track 19264 is too small (size: 480824)\n",
      "Track 19265 is too small (size: 481300)\n",
      "Track 19266 is too small (size: 481293)\n",
      "Track 19267 is too small (size: 480861)\n",
      "Track 19268 is too small (size: 480833)\n",
      "Track 19269 is too small (size: 480866)\n",
      "Track 19270 is too small (size: 480863)\n",
      "Track 19271 is too small (size: 480883)\n",
      "Track 19272 is too small (size: 480875)\n",
      "Track 20010 is too small (size: 480901)\n",
      "Track 20011 is too small (size: 480892)\n",
      "Track 20012 is too small (size: 481303)\n",
      "Track 20013 is too small (size: 481318)\n",
      "Track 20014 is too small (size: 480891)\n",
      "Track 20226 is too small (size: 480189)\n",
      "Track 20227 is too small (size: 479776)\n",
      "Track 20443 is too small (size: 419985)\n",
      "Track 20444 is too small (size: 424181)\n",
      "Track 20445 is too small (size: 475425)\n",
      "Track 20446 is too small (size: 445370)\n",
      "Track 20447 is too small (size: 451597)\n",
      "Track 20448 is too small (size: 452154)\n",
      "Track 20457 is too small (size: 585565)\n",
      "Track 20458 is too small (size: 638001)\n",
      "Track 20461 is too small (size: 642549)\n",
      "Track 20466 is too small (size: 643936)\n",
      "Track 20662 is too small (size: 481359)\n",
      "Track 20663 is too small (size: 481396)\n",
      "Track 20664 is too small (size: 480898)\n",
      "Track 20665 is too small (size: 480919)\n",
      "Track 20666 is too small (size: 481322)\n",
      "Track 20668 is too small (size: 481342)\n",
      "Track 20669 is too small (size: 480907)\n",
      "Track 20670 is too small (size: 481316)\n",
      "Track 20671 is too small (size: 480888)\n",
      "Track 20672 is too small (size: 480910)\n",
      "Track 20673 is too small (size: 480896)\n",
      "Track 20675 is too small (size: 481327)\n",
      "Track 20676 is too small (size: 481374)\n",
      "Track 20677 is too small (size: 480903)\n",
      "Track 20678 is too small (size: 480935)\n",
      "Track 20920 is too small (size: 555260)\n",
      "Track 20926 is too small (size: 432872)\n",
      "Track 20961 is too small (size: 480935)\n",
      "Track 20962 is too small (size: 480912)\n",
      "Track 20963 is too small (size: 480914)\n",
      "Track 20964 is too small (size: 480926)\n",
      "Track 20965 is too small (size: 480947)\n",
      "Track 20966 is too small (size: 480912)\n",
      "Track 21159 is too small (size: 676767)\n",
      "Track 21160 is too small (size: 657824)\n",
      "Track 21162 is too small (size: 696266)\n",
      "Track 21163 is too small (size: 588614)\n",
      "Track 21165 is too small (size: 665916)\n",
      "Track 21166 is too small (size: 577019)\n",
      "Track 21168 is too small (size: 561076)\n",
      "Track 21169 is too small (size: 602255)\n",
      "Track 21527 is too small (size: 600975)\n",
      "Track 21528 is too small (size: 600974)\n",
      "Track 21529 is too small (size: 600973)\n",
      "Track 21530 is too small (size: 600973)\n",
      "Track 21532 is too small (size: 600987)\n",
      "Track 21533 is too small (size: 600990)\n",
      "Track 21542 is too small (size: 601505)\n",
      "Track 21652 is too small (size: 480972)\n",
      "Track 22100 is too small (size: 479795)\n",
      "Track 22104 is too small (size: 480236)\n",
      "Track 22110 is too small (size: 480237)\n",
      "Track 22113 is too small (size: 480243)\n",
      "Track 22116 is too small (size: 479824)\n",
      "Track 22453 is too small (size: 639264)\n",
      "Track 23141 is too small (size: 600959)\n",
      "Track 23142 is too small (size: 600971)\n",
      "Track 23143 is too small (size: 601472)\n",
      "Track 23144 is too small (size: 601466)\n",
      "Track 23145 is too small (size: 600939)\n",
      "Track 23146 is too small (size: 601462)\n",
      "Track 23147 is too small (size: 601508)\n",
      "Track 23148 is too small (size: 601487)\n",
      "Track 23149 is too small (size: 601464)\n",
      "Track 23191 is too small (size: 480851)\n",
      "Track 23192 is too small (size: 480870)\n",
      "Track 23356 is too small (size: 481346)\n",
      "Track 23358 is too small (size: 481302)\n",
      "Track 23359 is too small (size: 481296)\n",
      "Track 23360 is too small (size: 481322)\n",
      "Track 23361 is too small (size: 480906)\n",
      "Track 23362 is too small (size: 481330)\n",
      "Track 23363 is too small (size: 481341)\n",
      "Track 23364 is too small (size: 481341)\n",
      "Track 23365 is too small (size: 480910)\n",
      "Track 23448 is too small (size: 544013)\n",
      "Track 23449 is too small (size: 513658)\n",
      "Track 23450 is too small (size: 534919)\n",
      "Track 23451 is too small (size: 594837)\n",
      "Track 23452 is too small (size: 597243)\n",
      "Track 23453 is too small (size: 515114)\n",
      "Track 23454 is too small (size: 578269)\n",
      "Track 23455 is too small (size: 560543)\n",
      "Track 23456 is too small (size: 549419)\n",
      "Track 23457 is too small (size: 573443)\n",
      "Track 23458 is too small (size: 528518)\n",
      "Track 23459 is too small (size: 527423)\n",
      "Track 23460 is too small (size: 595189)\n",
      "Track 23461 is too small (size: 535317)\n",
      "Track 23817 is too small (size: 480441)\n",
      "Track 23818 is too small (size: 452480)\n",
      "Track 23820 is too small (size: 480863)\n",
      "Track 23821 is too small (size: 480450)\n",
      "Track 23822 is too small (size: 480881)\n",
      "Track 23824 is too small (size: 480463)\n",
      "Track 23826 is too small (size: 480462)\n",
      "Track 23853 is too small (size: 463091)\n",
      "Track 23854 is too small (size: 450720)\n",
      "Track 23855 is too small (size: 479159)\n",
      "Track 23856 is too small (size: 483844)\n",
      "Track 23857 is too small (size: 481199)\n",
      "Track 23859 is too small (size: 496737)\n",
      "Track 23860 is too small (size: 437135)\n",
      "Track 23861 is too small (size: 472796)\n",
      "Track 24138 is too small (size: 481351)\n",
      "Track 24141 is too small (size: 480983)\n",
      "Track 24142 is too small (size: 480931)\n",
      "Track 24144 is too small (size: 481364)\n",
      "Track 24831 is too small (size: 614473)\n",
      "Track 24832 is too small (size: 606563)\n",
      "Track 25010 is too small (size: 481079)\n",
      "Track 25011 is too small (size: 480675)\n",
      "Track 25012 is too small (size: 481088)\n",
      "Track 25013 is too small (size: 480654)\n",
      "Track 25014 is too small (size: 480882)\n",
      "Track 25015 is too small (size: 480686)\n",
      "Track 25016 is too small (size: 481089)\n",
      "Track 25140 is too small (size: 481373)\n",
      "Track 25142 is too small (size: 481371)\n",
      "Track 25143 is too small (size: 480946)\n",
      "Track 25144 is too small (size: 480935)\n",
      "Track 25145 is too small (size: 481311)\n",
      "Track 25147 is too small (size: 481345)\n",
      "Track 25148 is too small (size: 480904)\n",
      "Track 25149 is too small (size: 480914)\n",
      "Track 25150 is too small (size: 480898)\n",
      "Track 25151 is too small (size: 481310)\n",
      "Track 25152 is too small (size: 480908)\n",
      "Track 25153 is too small (size: 480904)\n",
      "Track 25154 is too small (size: 481329)\n",
      "Track 25855 is too small (size: 666488)\n",
      "Track 25922 is too small (size: 481239)\n",
      "Track 25928 is too small (size: 481239)\n",
      "Track 26171 is too small (size: 481317)\n",
      "Track 26176 is too small (size: 480886)\n",
      "Track 26177 is too small (size: 480469)\n",
      "Track 26178 is too small (size: 480450)\n",
      "Track 26179 is too small (size: 480461)\n",
      "Track 26297 is too small (size: 600979)\n",
      "Track 26429 is too small (size: 600707)\n",
      "Track 26430 is too small (size: 601224)\n",
      "Track 26431 is too small (size: 601225)\n",
      "Track 26432 is too small (size: 600703)\n",
      "Track 26433 is too small (size: 600696)\n",
      "Track 26434 is too small (size: 600712)\n",
      "Track 26435 is too small (size: 601223)\n",
      "Track 26437 is too small (size: 600743)\n",
      "Track 26440 is too small (size: 601223)\n",
      "Track 26469 is too small (size: 481160)\n",
      "Track 26476 is too small (size: 481342)\n",
      "Track 26477 is too small (size: 481320)\n",
      "Track 26478 is too small (size: 481337)\n",
      "Track 26479 is too small (size: 480914)\n",
      "Track 26480 is too small (size: 480921)\n",
      "Track 26482 is too small (size: 481353)\n",
      "Track 26483 is too small (size: 480921)\n",
      "Track 26740 is too small (size: 481221)\n",
      "Track 26744 is too small (size: 480807)\n",
      "Track 26851 is too small (size: 480891)\n",
      "Track 26853 is too small (size: 481317)\n",
      "Track 26854 is too small (size: 481308)\n",
      "Track 26855 is too small (size: 480912)\n",
      "Track 27303 is too small (size: 480883)\n",
      "Track 27305 is too small (size: 481286)\n",
      "Track 27457 is too small (size: 600964)\n",
      "Track 27572 is too small (size: 611346)\n",
      "Track 27668 is too small (size: 601277)\n",
      "Track 27669 is too small (size: 601254)\n",
      "Track 27670 is too small (size: 600730)\n",
      "Track 27671 is too small (size: 601224)\n",
      "Track 27674 is too small (size: 601225)\n",
      "Track 27675 is too small (size: 600713)\n",
      "Track 27946 is too small (size: 481214)\n",
      "Track 27949 is too small (size: 480763)\n",
      "Track 27950 is too small (size: 480723)\n",
      "Track 28467 is too small (size: 480855)\n",
      "Track 28468 is too small (size: 480857)\n",
      "Track 28469 is too small (size: 480857)\n",
      "Track 28471 is too small (size: 480851)\n",
      "Track 28472 is too small (size: 481268)\n",
      "Track 28473 is too small (size: 481277)\n",
      "Track 28474 is too small (size: 481261)\n",
      "Track 28475 is too small (size: 480857)\n",
      "Track 28476 is too small (size: 480850)\n",
      "Track 28551 is too small (size: 600927)\n",
      "Track 28577 is too small (size: 481342)\n",
      "Track 28578 is too small (size: 480958)\n",
      "Track 28691 is too small (size: 479768)\n",
      "Track 28765 is too small (size: 600832)\n",
      "Track 28774 is too small (size: 600876)\n",
      "Track 28781 is too small (size: 600844)\n",
      "Track 28783 is too small (size: 601365)\n",
      "Track 28916 is too small (size: 480939)\n",
      "Track 28917 is too small (size: 481344)\n",
      "Track 28918 is too small (size: 480913)\n",
      "Track 29184 is too small (size: 600947)\n",
      "Track 29187 is too small (size: 601479)\n",
      "Track 29244 is too small (size: 480943)\n",
      "Track 29253 is too small (size: 481333)\n",
      "Track 29324 is too small (size: 479772)\n",
      "Track 29334 is too small (size: 600922)\n",
      "Track 29396 is too small (size: 600956)\n",
      "Track 29397 is too small (size: 601504)\n",
      "Track 29398 is too small (size: 600984)\n",
      "Track 29401 is too small (size: 600956)\n",
      "Track 29529 is too small (size: 601002)\n",
      "Track 29626 is too small (size: 615629)\n",
      "Track 29627 is too small (size: 619353)\n",
      "Track 29628 is too small (size: 631455)\n",
      "Track 29837 is too small (size: 481283)\n",
      "Track 30003 is too small (size: 480992)\n",
      "Track 30004 is too small (size: 601049)\n",
      "Track 30199 is too small (size: 626942)\n",
      "Track 30397 is too small (size: 600702)\n",
      "Track 30410 is too small (size: 601212)\n",
      "Track 30727 is too small (size: 600471)\n",
      "Track 30730 is too small (size: 601507)\n",
      "Track 30735 is too small (size: 601545)\n",
      "Track 30736 is too small (size: 601514)\n",
      "Track 30927 is too small (size: 481423)\n",
      "Track 30928 is too small (size: 480958)\n",
      "Track 30929 is too small (size: 480972)\n",
      "Track 30930 is too small (size: 481435)\n",
      "Track 31257 is too small (size: 481331)\n",
      "Track 31260 is too small (size: 481411)\n",
      "Track 31261 is too small (size: 481362)\n",
      "Track 31455 is too small (size: 480979)\n",
      "Track 31457 is too small (size: 480917)\n",
      "Track 31458 is too small (size: 481339)\n",
      "Track 31459 is too small (size: 481322)\n",
      "Track 31460 is too small (size: 480983)\n",
      "Track 31618 is too small (size: 606282)\n",
      "Track 31621 is too small (size: 485579)\n",
      "Track 31622 is too small (size: 622317)\n",
      "Track 31623 is too small (size: 631569)\n",
      "Track 31627 is too small (size: 566964)\n",
      "Track 31645 is too small (size: 600548)\n",
      "Track 31898 is too small (size: 670738)\n",
      "Track 32370 is too small (size: 601517)\n",
      "Track 32371 is too small (size: 600993)\n",
      "Track 32407 is too small (size: 481338)\n",
      "Track 32410 is too small (size: 480914)\n",
      "Track 32743 is too small (size: 521444)\n",
      "Track 32744 is too small (size: 555757)\n",
      "Track 32745 is too small (size: 538217)\n",
      "Track 32747 is too small (size: 550288)\n",
      "Track 32748 is too small (size: 650399)\n",
      "Track 32792 is too small (size: 645764)\n",
      "Track 32915 is too small (size: 480923)\n",
      "Track 34457 is too small (size: 507184)\n",
      "Track 34458 is too small (size: 500875)\n",
      "Track 34459 is too small (size: 518407)\n",
      "Track 34460 is too small (size: 513640)\n",
      "Track 34461 is too small (size: 523090)\n",
      "Track 34462 is too small (size: 516905)\n",
      "Track 34463 is too small (size: 517927)\n",
      "Track 34465 is too small (size: 506217)\n",
      "Track 34466 is too small (size: 532471)\n",
      "Track 34467 is too small (size: 532110)\n",
      "Track 35160 is too small (size: 481262)\n",
      "Track 35161 is too small (size: 600903)\n",
      "Track 35162 is too small (size: 600909)\n",
      "Track 35163 is too small (size: 480840)\n",
      "Track 35391 is too small (size: 673278)\n",
      "Track 35586 is too small (size: 481336)\n",
      "Track 35945 is too small (size: 481265)\n",
      "Track 35946 is too small (size: 480847)\n"
     ]
    },
    {
     "name": "stderr",
     "output_type": "stream",
     "text": [
      "Filtering tracks by size:  33%|████████████████                                 | 5564/17000 [00:00<00:01, 9760.69it/s]"
     ]
    },
    {
     "name": "stdout",
     "output_type": "stream",
     "text": [
      "Track 36516 is too small (size: 481081)\n",
      "Track 36518 is too small (size: 481479)\n",
      "Track 36520 is too small (size: 481484)\n",
      "Track 36521 is too small (size: 481065)\n",
      "Track 36523 is too small (size: 481119)\n",
      "Track 36525 is too small (size: 481503)\n",
      "Track 36527 is too small (size: 481489)\n",
      "Track 36572 is too small (size: 480782)\n",
      "Track 36575 is too small (size: 480770)\n",
      "Track 36576 is too small (size: 481180)\n",
      "Track 36834 is too small (size: 601513)\n",
      "Track 36836 is too small (size: 480908)\n",
      "Track 37014 is too small (size: 686045)\n",
      "Track 37018 is too small (size: 643501)\n",
      "Track 37078 is too small (size: 481369)\n",
      "Track 37079 is too small (size: 481317)\n",
      "Track 37145 is too small (size: 481237)\n",
      "Track 37148 is too small (size: 461389)\n",
      "Track 37149 is too small (size: 659445)\n",
      "Track 37153 is too small (size: 676090)\n",
      "Track 37155 is too small (size: 589233)\n",
      "Track 37158 is too small (size: 625077)\n",
      "Track 37159 is too small (size: 681469)\n",
      "Track 37160 is too small (size: 598745)\n",
      "Track 37162 is too small (size: 528133)\n",
      "Track 37976 is too small (size: 663491)\n",
      "Track 37977 is too small (size: 653037)\n",
      "Track 37978 is too small (size: 635320)\n",
      "Track 37979 is too small (size: 656944)\n",
      "Track 38421 is too small (size: 600920)\n",
      "Track 38422 is too small (size: 601442)\n",
      "Track 38423 is too small (size: 600917)\n",
      "Track 38866 is too small (size: 460988)\n",
      "Track 39186 is too small (size: 481363)\n",
      "Track 39196 is too small (size: 481406)\n",
      "Track 39199 is too small (size: 481407)\n",
      "Track 39377 is too small (size: 480983)\n",
      "Track 40077 is too small (size: 601423)\n",
      "Track 40078 is too small (size: 600907)\n",
      "Track 40079 is too small (size: 601419)\n",
      "Track 40080 is too small (size: 601427)\n",
      "Track 40081 is too small (size: 601415)\n",
      "Track 40136 is too small (size: 480892)\n",
      "Track 40140 is too small (size: 601486)\n",
      "Track 40173 is too small (size: 480901)\n",
      "Track 40174 is too small (size: 481323)\n",
      "Track 40175 is too small (size: 480893)\n",
      "Track 40176 is too small (size: 481317)\n",
      "Track 40177 is too small (size: 480901)\n",
      "Track 40178 is too small (size: 481313)\n",
      "Track 40179 is too small (size: 481331)\n",
      "Track 40181 is too small (size: 481325)\n",
      "Track 40351 is too small (size: 480328)\n",
      "Track 40352 is too small (size: 480326)\n",
      "Track 40353 is too small (size: 481113)\n",
      "Track 40354 is too small (size: 481705)\n",
      "Track 40355 is too small (size: 481128)\n",
      "Track 40356 is too small (size: 481142)\n",
      "Track 40358 is too small (size: 481773)\n",
      "Track 40701 is too small (size: 600749)\n",
      "Track 41375 is too small (size: 480853)\n",
      "Track 41388 is too small (size: 480854)\n",
      "Track 41452 is too small (size: 601485)\n",
      "Track 41453 is too small (size: 600977)\n",
      "Track 41454 is too small (size: 600970)\n",
      "Track 41456 is too small (size: 600967)\n",
      "Track 41457 is too small (size: 600978)\n",
      "Track 41460 is too small (size: 600976)\n",
      "Track 41706 is too small (size: 481060)\n",
      "Track 41761 is too small (size: 481036)\n",
      "Track 41809 is too small (size: 480351)\n",
      "Track 41813 is too small (size: 480333)\n",
      "Track 41823 is too small (size: 480849)\n",
      "Track 41864 is too small (size: 601053)\n",
      "Track 41865 is too small (size: 481418)\n",
      "Track 41866 is too small (size: 480923)\n",
      "Track 41867 is too small (size: 540366)\n",
      "Track 41868 is too small (size: 481442)\n",
      "Track 41955 is too small (size: 698517)\n",
      "Track 41958 is too small (size: 693109)\n",
      "Track 42276 is too small (size: 480632)\n",
      "Track 42456 is too small (size: 670636)\n",
      "Track 42457 is too small (size: 670118)\n",
      "Track 42461 is too small (size: 670142)\n",
      "Track 42462 is too small (size: 670685)\n",
      "Track 42527 is too small (size: 480838)\n",
      "Track 42528 is too small (size: 480840)\n",
      "Track 42529 is too small (size: 481246)\n",
      "Track 42530 is too small (size: 480861)\n",
      "Track 42531 is too small (size: 480831)\n",
      "Track 42532 is too small (size: 481256)\n",
      "Track 42533 is too small (size: 480832)\n",
      "Track 42534 is too small (size: 480826)\n",
      "Track 42712 is too small (size: 480876)\n",
      "Track 42743 is too small (size: 652595)\n",
      "Track 42848 is too small (size: 694056)\n",
      "Track 42865 is too small (size: 613283)\n",
      "Track 42867 is too small (size: 601489)\n",
      "Track 42868 is too small (size: 601511)\n",
      "Track 42869 is too small (size: 601493)\n",
      "Track 42870 is too small (size: 601499)\n",
      "Track 42871 is too small (size: 601504)\n",
      "Track 42872 is too small (size: 601503)\n",
      "Track 42873 is too small (size: 600968)\n",
      "Track 42901 is too small (size: 480835)\n",
      "Track 42907 is too small (size: 481267)\n",
      "Track 42913 is too small (size: 481276)\n",
      "Track 43107 is too small (size: 601511)\n",
      "Track 43113 is too small (size: 600996)\n",
      "Track 43118 is too small (size: 601005)\n",
      "Track 43121 is too small (size: 601508)\n",
      "Track 43122 is too small (size: 600974)\n",
      "Track 43123 is too small (size: 600972)\n",
      "Track 43457 is too small (size: 480880)\n",
      "Track 43458 is too small (size: 480898)\n",
      "Track 43624 is too small (size: 601013)\n",
      "Track 43838 is too small (size: 480942)\n",
      "Track 43849 is too small (size: 601526)\n",
      "Track 43882 is too small (size: 643278)\n",
      "Track 43884 is too small (size: 595171)\n",
      "Track 43904 is too small (size: 480855)\n",
      "Track 44056 is too small (size: 601453)\n",
      "Track 44057 is too small (size: 600931)\n",
      "Track 44094 is too small (size: 540827)\n",
      "Track 44095 is too small (size: 497679)\n",
      "Track 44096 is too small (size: 537557)\n",
      "Track 44158 is too small (size: 600744)\n",
      "Track 44164 is too small (size: 600742)\n",
      "Track 44168 is too small (size: 601263)\n",
      "Track 44204 is too small (size: 601360)\n",
      "Track 44477 is too small (size: 600889)\n",
      "Track 44482 is too small (size: 601433)\n",
      "Track 44886 is too small (size: 600967)\n",
      "Track 44887 is too small (size: 600978)\n",
      "Track 44888 is too small (size: 601524)\n",
      "Track 44971 is too small (size: 600763)\n",
      "Track 44973 is too small (size: 600766)\n",
      "Track 45117 is too small (size: 480847)\n",
      "Track 45230 is too small (size: 480881)\n",
      "Track 45610 is too small (size: 617391)\n",
      "Track 45611 is too small (size: 518695)\n",
      "Track 45612 is too small (size: 615876)\n",
      "Track 45613 is too small (size: 683798)\n",
      "Track 45614 is too small (size: 601254)\n",
      "Track 45615 is too small (size: 576140)\n",
      "Track 45616 is too small (size: 628459)\n",
      "Track 45617 is too small (size: 606354)\n",
      "Track 45618 is too small (size: 662837)\n",
      "Track 46302 is too small (size: 481274)\n",
      "Track 46311 is too small (size: 481295)\n",
      "Track 46637 is too small (size: 481089)\n",
      "Track 46642 is too small (size: 481470)\n",
      "Track 46648 is too small (size: 481125)\n",
      "Track 46652 is too small (size: 481067)\n",
      "Track 46695 is too small (size: 481554)\n",
      "Track 47026 is too small (size: 515405)\n",
      "Track 47028 is too small (size: 447858)\n",
      "Track 47119 is too small (size: 480983)\n",
      "Track 47449 is too small (size: 601012)\n",
      "Track 47504 is too small (size: 600812)\n",
      "Track 47505 is too small (size: 601432)\n",
      "Track 47672 is too small (size: 601487)\n",
      "Track 47675 is too small (size: 601487)\n",
      "Track 47740 is too small (size: 481296)\n",
      "Track 47741 is too small (size: 480873)\n",
      "Track 47742 is too small (size: 480882)\n",
      "Track 47743 is too small (size: 481313)\n",
      "Track 47944 is too small (size: 480914)\n",
      "Track 48156 is too small (size: 592480)\n",
      "Track 48160 is too small (size: 572074)\n",
      "Track 48229 is too small (size: 509185)\n",
      "Track 48230 is too small (size: 502353)\n",
      "Track 48306 is too small (size: 674653)\n",
      "Track 48319 is too small (size: 651981)\n",
      "Track 48326 is too small (size: 632315)\n",
      "Track 48329 is too small (size: 461584)\n",
      "Track 48344 is too small (size: 683295)\n",
      "Track 48345 is too small (size: 464716)\n",
      "Track 48346 is too small (size: 688991)\n",
      "Track 48448 is too small (size: 481335)\n",
      "Track 48449 is too small (size: 481368)\n",
      "Track 48754 is too small (size: 680311)\n",
      "Track 48782 is too small (size: 481259)\n",
      "Track 48793 is too small (size: 481261)\n",
      "Track 48796 is too small (size: 480843)\n",
      "Track 48805 is too small (size: 481261)\n",
      "Track 48806 is too small (size: 480843)\n",
      "Track 49363 is too small (size: 480929)\n",
      "Track 49364 is too small (size: 480985)\n",
      "Track 49365 is too small (size: 481281)\n",
      "Track 50137 is too small (size: 480913)\n",
      "Track 50138 is too small (size: 481420)\n",
      "Track 50140 is too small (size: 481400)\n",
      "Track 50141 is too small (size: 481392)\n",
      "Track 50164 is too small (size: 638620)\n",
      "Track 50167 is too small (size: 571061)\n",
      "Track 50409 is too small (size: 563607)\n",
      "Track 50410 is too small (size: 580783)\n",
      "Track 50818 is too small (size: 601292)\n",
      "Track 50819 is too small (size: 600766)\n",
      "Track 50820 is too small (size: 600777)\n",
      "Track 50821 is too small (size: 600763)\n",
      "Track 51289 is too small (size: 600706)\n",
      "Track 51689 is too small (size: 640340)\n",
      "Track 51786 is too small (size: 480925)\n",
      "Track 51932 is too small (size: 481317)\n",
      "Track 51933 is too small (size: 480877)\n",
      "Track 51934 is too small (size: 481356)\n",
      "Track 51936 is too small (size: 481349)\n",
      "Track 52378 is too small (size: 600919)\n",
      "Track 52387 is too small (size: 600915)\n",
      "Track 52405 is too small (size: 490728)\n",
      "Track 52406 is too small (size: 502359)\n",
      "Track 52407 is too small (size: 529948)\n",
      "Track 52408 is too small (size: 542542)\n",
      "Track 52898 is too small (size: 601207)\n",
      "Track 52899 is too small (size: 601380)\n",
      "Track 53380 is too small (size: 480937)\n",
      "Track 53898 is too small (size: 600901)\n",
      "Track 53899 is too small (size: 600897)\n",
      "Track 53900 is too small (size: 600900)\n",
      "Track 53901 is too small (size: 600925)\n",
      "Track 54161 is too small (size: 600971)\n",
      "Track 54162 is too small (size: 481348)\n",
      "Track 54298 is too small (size: 600388)\n",
      "Track 54362 is too small (size: 600812)\n",
      "Track 54363 is too small (size: 600860)\n",
      "Track 54368 is too small (size: 600832)\n"
     ]
    },
    {
     "name": "stderr",
     "output_type": "stream",
     "text": [
      "Filtering tracks by size:  44%|█████████████████████▌                           | 7497/17000 [00:00<00:01, 9211.50it/s]"
     ]
    },
    {
     "name": "stdout",
     "output_type": "stream",
     "text": [
      "Track 54632 is too small (size: 587648)\n",
      "Track 54634 is too small (size: 600629)\n",
      "Track 54882 is too small (size: 622378)\n",
      "Track 55152 is too small (size: 480962)\n",
      "Track 55156 is too small (size: 481078)\n",
      "Track 55157 is too small (size: 601031)\n",
      "Track 55164 is too small (size: 441652)\n",
      "Track 55184 is too small (size: 480826)\n",
      "Track 55185 is too small (size: 480801)\n",
      "Track 55187 is too small (size: 480830)\n",
      "Track 55189 is too small (size: 480802)\n",
      "Track 55190 is too small (size: 480809)\n",
      "Track 55451 is too small (size: 601451)\n",
      "Track 55452 is too small (size: 600928)\n",
      "Track 55773 is too small (size: 481393)\n",
      "Track 55947 is too small (size: 656336)\n",
      "Track 55948 is too small (size: 639580)\n",
      "Track 55949 is too small (size: 656106)\n",
      "Track 55950 is too small (size: 678964)\n",
      "Track 55951 is too small (size: 655374)\n",
      "Track 55952 is too small (size: 674046)\n",
      "Track 55953 is too small (size: 641168)\n",
      "Track 55954 is too small (size: 603402)\n",
      "Track 55955 is too small (size: 656192)\n",
      "Track 55956 is too small (size: 655061)\n",
      "Track 55957 is too small (size: 641693)\n",
      "Track 55958 is too small (size: 640449)\n",
      "Track 56006 is too small (size: 683270)\n",
      "Track 56560 is too small (size: 481500)\n",
      "Track 56567 is too small (size: 481456)\n",
      "Track 56575 is too small (size: 481560)\n",
      "Track 57680 is too small (size: 480343)\n",
      "Track 58077 is too small (size: 481398)\n",
      "Track 58128 is too small (size: 481325)\n",
      "Track 58130 is too small (size: 481325)\n",
      "Track 58136 is too small (size: 481332)\n",
      "Track 58138 is too small (size: 480920)\n",
      "Track 58139 is too small (size: 480919)\n",
      "Track 58163 is too small (size: 480760)\n",
      "Track 58167 is too small (size: 480748)\n",
      "Track 58168 is too small (size: 481214)\n",
      "Track 58208 is too small (size: 601640)\n",
      "Track 58401 is too small (size: 600973)\n",
      "Track 58402 is too small (size: 600978)\n",
      "Track 58403 is too small (size: 601504)\n",
      "Track 58404 is too small (size: 600988)\n",
      "Track 58405 is too small (size: 600995)\n",
      "Track 58417 is too small (size: 601456)\n",
      "Track 58419 is too small (size: 600926)\n",
      "Track 58423 is too small (size: 601459)\n",
      "Track 58425 is too small (size: 600928)\n",
      "Track 58553 is too small (size: 600722)\n",
      "Track 58555 is too small (size: 601458)\n",
      "Track 58566 is too small (size: 601003)\n",
      "Track 58567 is too small (size: 601529)\n",
      "Track 58570 is too small (size: 600718)\n",
      "Track 59086 is too small (size: 480970)\n",
      "Track 59087 is too small (size: 481384)\n",
      "Track 59173 is too small (size: 601031)\n",
      "Track 59192 is too small (size: 480896)\n",
      "Track 59450 is too small (size: 600950)\n",
      "Track 59453 is too small (size: 601473)\n",
      "Track 59563 is too small (size: 480834)\n",
      "Track 59577 is too small (size: 449170)\n",
      "Track 59578 is too small (size: 585392)\n",
      "Track 59579 is too small (size: 446679)\n",
      "Track 59580 is too small (size: 559839)\n",
      "Track 59584 is too small (size: 642929)\n",
      "Track 59585 is too small (size: 665776)\n",
      "Track 59586 is too small (size: 687611)\n",
      "Track 59587 is too small (size: 570659)\n",
      "Track 59731 is too small (size: 601006)\n",
      "Track 59732 is too small (size: 601015)\n",
      "Track 59733 is too small (size: 601053)\n",
      "Track 59734 is too small (size: 601009)\n",
      "Track 59735 is too small (size: 601004)\n",
      "Track 60276 is too small (size: 481101)\n",
      "Track 60277 is too small (size: 481148)\n",
      "Track 60278 is too small (size: 481521)\n",
      "Track 60279 is too small (size: 481543)\n",
      "Track 60280 is too small (size: 481097)\n",
      "Track 60281 is too small (size: 481088)\n",
      "Track 60282 is too small (size: 481260)\n",
      "Track 60283 is too small (size: 481598)\n",
      "Track 60284 is too small (size: 481514)\n",
      "Track 60285 is too small (size: 481086)\n",
      "Track 60286 is too small (size: 481192)\n",
      "Track 60287 is too small (size: 481103)\n",
      "Track 60602 is too small (size: 479780)\n",
      "Track 60603 is too small (size: 480189)\n",
      "Track 60707 is too small (size: 545598)\n",
      "Track 61595 is too small (size: 601475)\n",
      "Track 61596 is too small (size: 601515)\n",
      "Track 61598 is too small (size: 601545)\n",
      "Track 61891 is too small (size: 480308)\n",
      "Track 61894 is too small (size: 479881)\n",
      "Track 61896 is too small (size: 479912)\n",
      "Track 61897 is too small (size: 479939)\n",
      "Track 61906 is too small (size: 479952)\n",
      "Track 61923 is too small (size: 480328)\n",
      "Track 62673 is too small (size: 614300)\n",
      "Track 63259 is too small (size: 676270)\n",
      "Track 63263 is too small (size: 696419)\n",
      "Track 63264 is too small (size: 659049)\n",
      "Track 63384 is too small (size: 601623)\n",
      "Track 63395 is too small (size: 481436)\n",
      "Track 63398 is too small (size: 481029)\n",
      "Track 63402 is too small (size: 601073)\n",
      "Track 63483 is too small (size: 480871)\n",
      "Track 63657 is too small (size: 505519)\n",
      "Track 63665 is too small (size: 691669)\n",
      "Track 63666 is too small (size: 589119)\n",
      "Track 63667 is too small (size: 682456)\n",
      "Track 63669 is too small (size: 576865)\n",
      "Track 63670 is too small (size: 562346)\n",
      "Track 64236 is too small (size: 481175)\n",
      "Track 64240 is too small (size: 481175)\n",
      "Track 64254 is too small (size: 481440)\n",
      "Track 64255 is too small (size: 481025)\n",
      "Track 64256 is too small (size: 481427)\n",
      "Track 64257 is too small (size: 481423)\n",
      "Track 64568 is too small (size: 657024)\n",
      "Track 64572 is too small (size: 676108)\n",
      "Track 64972 is too small (size: 691962)\n",
      "Track 65160 is too small (size: 481143)\n",
      "Track 65164 is too small (size: 481149)\n",
      "Track 65706 is too small (size: 481113)\n",
      "Track 65708 is too small (size: 481111)\n",
      "Track 65709 is too small (size: 480696)\n",
      "Track 65753 is too small (size: 1733)\n",
      "Track 65778 is too small (size: 665648)\n",
      "Track 65781 is too small (size: 615951)\n",
      "Track 65782 is too small (size: 647082)\n",
      "Track 65783 is too small (size: 664765)\n",
      "Track 65784 is too small (size: 639354)\n",
      "Track 65785 is too small (size: 661566)\n",
      "Track 65786 is too small (size: 609462)\n",
      "Track 65787 is too small (size: 654552)\n",
      "Track 65788 is too small (size: 649356)\n",
      "Track 65789 is too small (size: 671956)\n",
      "Track 65790 is too small (size: 639879)\n",
      "Track 65791 is too small (size: 622700)\n",
      "Track 65792 is too small (size: 650602)\n",
      "Track 65793 is too small (size: 663716)\n",
      "Track 65794 is too small (size: 692163)\n",
      "Track 65795 is too small (size: 630028)\n",
      "Track 65796 is too small (size: 658100)\n",
      "Track 66471 is too small (size: 637977)\n",
      "Track 66477 is too small (size: 665724)\n",
      "Track 66479 is too small (size: 635558)\n",
      "Track 66701 is too small (size: 481000)\n",
      "Track 66703 is too small (size: 481085)\n",
      "Track 66779 is too small (size: 481091)\n",
      "Track 66805 is too small (size: 568806)\n",
      "Track 66806 is too small (size: 653890)\n",
      "Track 66807 is too small (size: 635030)\n",
      "Track 66808 is too small (size: 663810)\n",
      "Track 66811 is too small (size: 654787)\n",
      "Track 66812 is too small (size: 686624)\n",
      "Track 66813 is too small (size: 684744)\n",
      "Track 66816 is too small (size: 650530)\n",
      "Track 66817 is too small (size: 613934)\n",
      "Track 66849 is too small (size: 626538)\n",
      "Track 66850 is too small (size: 684581)\n",
      "Track 66851 is too small (size: 676593)\n",
      "Track 66854 is too small (size: 655475)\n",
      "Track 66856 is too small (size: 633056)\n",
      "Track 66857 is too small (size: 665633)\n",
      "Track 66859 is too small (size: 675284)\n",
      "Track 66861 is too small (size: 696041)\n",
      "Track 66862 is too small (size: 699736)\n",
      "Track 66865 is too small (size: 650591)\n",
      "Track 66866 is too small (size: 687943)\n",
      "Track 66868 is too small (size: 664476)\n",
      "Track 66869 is too small (size: 680917)\n",
      "Track 66871 is too small (size: 695187)\n",
      "Track 66876 is too small (size: 580893)\n",
      "Track 66879 is too small (size: 672244)\n",
      "Track 66880 is too small (size: 619347)\n",
      "Track 66881 is too small (size: 509988)\n",
      "Track 66882 is too small (size: 577617)\n",
      "Track 66885 is too small (size: 626141)\n",
      "Track 66886 is too small (size: 682865)\n",
      "Track 66887 is too small (size: 626490)\n",
      "Track 66888 is too small (size: 517661)\n",
      "Track 66925 is too small (size: 557905)\n",
      "Track 66926 is too small (size: 594087)\n",
      "Track 66927 is too small (size: 681943)\n",
      "Track 66928 is too small (size: 606765)\n",
      "Track 66932 is too small (size: 656527)\n",
      "Track 66934 is too small (size: 660564)\n",
      "Track 66935 is too small (size: 631603)\n",
      "Track 66936 is too small (size: 590501)\n",
      "Track 66937 is too small (size: 694365)\n",
      "Track 66938 is too small (size: 633356)\n",
      "Track 66939 is too small (size: 679001)\n",
      "Track 66940 is too small (size: 593621)\n",
      "Track 66941 is too small (size: 679093)\n",
      "Track 66945 is too small (size: 634371)\n",
      "Track 66946 is too small (size: 600982)\n",
      "Track 66947 is too small (size: 679034)\n",
      "Track 66948 is too small (size: 623310)\n",
      "Track 66949 is too small (size: 584618)\n",
      "Track 66950 is too small (size: 669265)\n",
      "Track 66951 is too small (size: 603093)\n",
      "Track 66952 is too small (size: 558967)\n",
      "Track 66953 is too small (size: 650674)\n",
      "Track 66955 is too small (size: 541789)\n",
      "Track 66956 is too small (size: 566345)\n",
      "Track 66957 is too small (size: 510835)\n",
      "Track 66958 is too small (size: 510631)\n",
      "Track 66959 is too small (size: 544464)\n",
      "Track 66960 is too small (size: 571298)\n",
      "Track 66961 is too small (size: 488945)\n",
      "Track 66962 is too small (size: 567671)\n",
      "Track 66963 is too small (size: 557086)\n",
      "Track 66964 is too small (size: 563359)\n",
      "Track 66965 is too small (size: 492753)\n",
      "Track 66966 is too small (size: 647223)\n",
      "Track 66967 is too small (size: 593204)\n",
      "Track 66968 is too small (size: 641365)\n",
      "Track 66969 is too small (size: 619991)\n",
      "Track 66970 is too small (size: 686809)\n",
      "Track 66971 is too small (size: 620874)\n",
      "Track 66972 is too small (size: 619291)\n",
      "Track 66973 is too small (size: 603883)\n",
      "Track 66974 is too small (size: 686001)\n",
      "Track 66975 is too small (size: 575054)\n",
      "Track 66976 is too small (size: 629549)\n",
      "Track 66977 is too small (size: 626771)\n",
      "Track 67038 is too small (size: 685996)\n",
      "Track 67040 is too small (size: 653859)\n",
      "Track 67041 is too small (size: 664386)\n",
      "Track 67042 is too small (size: 661431)\n",
      "Track 67043 is too small (size: 665007)\n",
      "Track 67044 is too small (size: 653399)\n",
      "Track 67045 is too small (size: 686394)\n",
      "Track 67046 is too small (size: 658553)\n",
      "Track 67047 is too small (size: 696335)\n",
      "Track 67048 is too small (size: 676773)\n"
     ]
    },
    {
     "name": "stderr",
     "output_type": "stream",
     "text": [
      "Filtering tracks by size:  55%|██████████████████████████▉                      | 9335/17000 [00:00<00:00, 8993.01it/s]"
     ]
    },
    {
     "name": "stdout",
     "output_type": "stream",
     "text": [
      "Track 67762 is too small (size: 600918)\n",
      "Track 68408 is too small (size: 480880)\n",
      "Track 68409 is too small (size: 481308)\n",
      "Track 68570 is too small (size: 396561)\n",
      "Track 68746 is too small (size: 480838)\n",
      "Track 68748 is too small (size: 481255)\n",
      "Track 69258 is too small (size: 481385)\n",
      "Track 69259 is too small (size: 480992)\n",
      "Track 69260 is too small (size: 481395)\n",
      "Track 69261 is too small (size: 481407)\n",
      "Track 69262 is too small (size: 480993)\n",
      "Track 69263 is too small (size: 480981)\n",
      "Track 69264 is too small (size: 481394)\n",
      "Track 69270 is too small (size: 481370)\n",
      "Track 69272 is too small (size: 481382)\n",
      "Track 69291 is too small (size: 480973)\n",
      "Track 69299 is too small (size: 481424)\n",
      "Track 69636 is too small (size: 481268)\n",
      "Track 69638 is too small (size: 480839)\n",
      "Track 69646 is too small (size: 480842)\n",
      "Track 69647 is too small (size: 481303)\n",
      "Track 69665 is too small (size: 480909)\n",
      "Track 69683 is too small (size: 600467)\n",
      "Track 69686 is too small (size: 600467)\n",
      "Track 69776 is too small (size: 601454)\n",
      "Track 70417 is too small (size: 480855)\n",
      "Track 70418 is too small (size: 489379)\n",
      "Track 70419 is too small (size: 487798)\n",
      "Track 70821 is too small (size: 601497)\n",
      "Track 70822 is too small (size: 601485)\n",
      "Track 70824 is too small (size: 600975)\n",
      "Track 71256 is too small (size: 480925)\n",
      "Track 71257 is too small (size: 480932)\n",
      "Track 71259 is too small (size: 480939)\n",
      "Track 71261 is too small (size: 480947)\n",
      "Track 71263 is too small (size: 480949)\n",
      "Track 71265 is too small (size: 480934)\n",
      "Track 71266 is too small (size: 480934)\n",
      "Track 71373 is too small (size: 460657)\n",
      "Track 71375 is too small (size: 647212)\n",
      "Track 71376 is too small (size: 453487)\n",
      "Track 71377 is too small (size: 636919)\n",
      "Track 71378 is too small (size: 452343)\n",
      "Track 71380 is too small (size: 634677)\n",
      "Track 71381 is too small (size: 508116)\n",
      "Track 71413 is too small (size: 601006)\n",
      "Track 71414 is too small (size: 601547)\n",
      "Track 71613 is too small (size: 600549)\n",
      "Track 71614 is too small (size: 600549)\n",
      "Track 71615 is too small (size: 600549)\n",
      "Track 71616 is too small (size: 601072)\n",
      "Track 71618 is too small (size: 600550)\n",
      "Track 71619 is too small (size: 600550)\n",
      "Track 71621 is too small (size: 601072)\n",
      "Track 72055 is too small (size: 661853)\n",
      "Track 72060 is too small (size: 630943)\n",
      "Track 72063 is too small (size: 687634)\n",
      "Track 74774 is too small (size: 594375)\n",
      "Track 74775 is too small (size: 630416)\n",
      "Track 74776 is too small (size: 629684)\n",
      "Track 75078 is too small (size: 674608)\n",
      "Track 75079 is too small (size: 655390)\n",
      "Track 75197 is too small (size: 644489)\n",
      "Track 75199 is too small (size: 576746)\n",
      "Track 75206 is too small (size: 646953)\n",
      "Track 75207 is too small (size: 633375)\n",
      "Track 75208 is too small (size: 662682)\n",
      "Track 75222 is too small (size: 685172)\n",
      "Track 75224 is too small (size: 698151)\n",
      "Track 75225 is too small (size: 682130)\n",
      "Track 75226 is too small (size: 688433)\n",
      "Track 75227 is too small (size: 673976)\n",
      "Track 75231 is too small (size: 689728)\n",
      "Track 75384 is too small (size: 601553)\n",
      "Track 75385 is too small (size: 601543)\n",
      "Track 75387 is too small (size: 601547)\n",
      "Track 75388 is too small (size: 601562)\n",
      "Track 75392 is too small (size: 601552)\n",
      "Track 75394 is too small (size: 601032)\n",
      "Track 75658 is too small (size: 637875)\n",
      "Track 75686 is too small (size: 698957)\n",
      "Track 75891 is too small (size: 610565)\n",
      "Track 75893 is too small (size: 616976)\n",
      "Track 75894 is too small (size: 637419)\n",
      "Track 75895 is too small (size: 659136)\n",
      "Track 75896 is too small (size: 639599)\n",
      "Track 75897 is too small (size: 679134)\n",
      "Track 75898 is too small (size: 686082)\n",
      "Track 75914 is too small (size: 691683)\n",
      "Track 75915 is too small (size: 698270)\n",
      "Track 75916 is too small (size: 695352)\n",
      "Track 75917 is too small (size: 699009)\n",
      "Track 75919 is too small (size: 697464)\n",
      "Track 78985 is too small (size: 694424)\n",
      "Track 78987 is too small (size: 651372)\n",
      "Track 78993 is too small (size: 561530)\n",
      "Track 78994 is too small (size: 644445)\n",
      "Track 78995 is too small (size: 600526)\n",
      "Track 78997 is too small (size: 651469)\n",
      "Track 79001 is too small (size: 587204)\n",
      "Track 79002 is too small (size: 684021)\n",
      "Track 79642 is too small (size: 481093)\n",
      "Track 79900 is too small (size: 691281)\n",
      "Track 79901 is too small (size: 694167)\n",
      "Track 79903 is too small (size: 697504)\n",
      "Track 79905 is too small (size: 686687)\n",
      "Track 79906 is too small (size: 686555)\n",
      "Track 79907 is too small (size: 695942)\n",
      "Track 79909 is too small (size: 693008)\n",
      "Track 79910 is too small (size: 677529)\n",
      "Track 79911 is too small (size: 699429)\n",
      "Track 80032 is too small (size: 600961)\n",
      "Track 80391 is too small (size: 1604)\n",
      "Track 81185 is too small (size: 525251)\n",
      "Track 81190 is too small (size: 660086)\n",
      "Track 82411 is too small (size: 600415)\n",
      "Track 82414 is too small (size: 600950)\n",
      "Track 82648 is too small (size: 601443)\n",
      "Track 82649 is too small (size: 600932)\n",
      "Track 82654 is too small (size: 601467)\n",
      "Track 82716 is too small (size: 481299)\n",
      "Track 82720 is too small (size: 480870)\n",
      "Track 83053 is too small (size: 600876)\n",
      "Track 83065 is too small (size: 601425)\n",
      "Track 83690 is too small (size: 480864)\n",
      "Track 83909 is too small (size: 480928)\n",
      "Track 83955 is too small (size: 451276)\n",
      "Track 83958 is too small (size: 695550)\n",
      "Track 84791 is too small (size: 481377)\n",
      "Track 84792 is too small (size: 481369)\n",
      "Track 84793 is too small (size: 481363)\n",
      "Track 85072 is too small (size: 601416)\n",
      "Track 85074 is too small (size: 600896)\n",
      "Track 85345 is too small (size: 485457)\n",
      "Track 85765 is too small (size: 481293)\n",
      "Track 85766 is too small (size: 481293)\n",
      "Track 85815 is too small (size: 481295)\n",
      "Track 85922 is too small (size: 480957)\n",
      "Track 85965 is too small (size: 480959)\n",
      "Track 85969 is too small (size: 481413)\n",
      "Track 85970 is too small (size: 481007)\n",
      "Track 85971 is too small (size: 481025)\n",
      "Track 85972 is too small (size: 481043)\n"
     ]
    },
    {
     "name": "stderr",
     "output_type": "stream",
     "text": [
      "Filtering tracks by size:  71%|█████████████████████████████████▉              | 12025/17000 [00:01<00:00, 8827.85it/s]"
     ]
    },
    {
     "name": "stdout",
     "output_type": "stream",
     "text": [
      "Track 86295 is too small (size: 480987)\n",
      "Track 86297 is too small (size: 481376)\n",
      "Track 86298 is too small (size: 480960)\n",
      "Track 86299 is too small (size: 480958)\n",
      "Track 86300 is too small (size: 480984)\n",
      "Track 86521 is too small (size: 480934)\n",
      "Track 86715 is too small (size: 601514)\n",
      "Track 86726 is too small (size: 600981)\n",
      "Track 87293 is too small (size: 481279)\n",
      "Track 87294 is too small (size: 481239)\n",
      "Track 87700 is too small (size: 480184)\n",
      "Track 87701 is too small (size: 479784)\n",
      "Track 87703 is too small (size: 480216)\n",
      "Track 87704 is too small (size: 479767)\n",
      "Track 89524 is too small (size: 481350)\n",
      "Track 89526 is too small (size: 480954)\n",
      "Track 89527 is too small (size: 481340)\n",
      "Track 89529 is too small (size: 480920)\n",
      "Track 89531 is too small (size: 481356)\n",
      "Track 89535 is too small (size: 480944)\n",
      "Track 89536 is too small (size: 480936)\n",
      "Track 90619 is too small (size: 548097)\n",
      "Track 90621 is too small (size: 566447)\n",
      "Track 90624 is too small (size: 567580)\n",
      "Track 90690 is too small (size: 480831)\n",
      "Track 90691 is too small (size: 480862)\n",
      "Track 90692 is too small (size: 480840)\n",
      "Track 90693 is too small (size: 480853)\n",
      "Track 90769 is too small (size: 481422)\n",
      "Track 90772 is too small (size: 481002)\n",
      "Track 90805 is too small (size: 481035)\n",
      "Track 90808 is too small (size: 481035)\n",
      "Track 90827 is too small (size: 480975)\n",
      "Track 90834 is too small (size: 481407)\n",
      "Track 91048 is too small (size: 481018)\n",
      "Track 91061 is too small (size: 481388)\n",
      "Track 91062 is too small (size: 480984)\n",
      "Track 91064 is too small (size: 480990)\n",
      "Track 91066 is too small (size: 481408)\n",
      "Track 91067 is too small (size: 481400)\n",
      "Track 91068 is too small (size: 480980)\n",
      "Track 91069 is too small (size: 480985)\n",
      "Track 91074 is too small (size: 481407)\n",
      "Track 91075 is too small (size: 480975)\n",
      "Track 91090 is too small (size: 480854)\n",
      "Track 91096 is too small (size: 480860)\n",
      "Track 91097 is too small (size: 480853)\n",
      "Track 91099 is too small (size: 480877)\n",
      "Track 91100 is too small (size: 481304)\n",
      "Track 91101 is too small (size: 481292)\n",
      "Track 91156 is too small (size: 479810)\n",
      "Track 91235 is too small (size: 663612)\n",
      "Track 91336 is too small (size: 479808)\n",
      "Track 91337 is too small (size: 481046)\n",
      "Track 91414 is too small (size: 480897)\n",
      "Track 91415 is too small (size: 481325)\n",
      "Track 91416 is too small (size: 480921)\n",
      "Track 91417 is too small (size: 481313)\n",
      "Track 91418 is too small (size: 480881)\n",
      "Track 91419 is too small (size: 480901)\n",
      "Track 91420 is too small (size: 481309)\n",
      "Track 91421 is too small (size: 480887)\n",
      "Track 91434 is too small (size: 481325)\n",
      "Track 91435 is too small (size: 481321)\n",
      "Track 91436 is too small (size: 480913)\n",
      "Track 91437 is too small (size: 480907)\n",
      "Track 91439 is too small (size: 480910)\n",
      "Track 91440 is too small (size: 480899)\n",
      "Track 91441 is too small (size: 481315)\n",
      "Track 91442 is too small (size: 480917)\n",
      "Track 91456 is too small (size: 655003)\n",
      "Track 91457 is too small (size: 678171)\n",
      "Track 91748 is too small (size: 480671)\n",
      "Track 91749 is too small (size: 481102)\n",
      "Track 91750 is too small (size: 481098)\n",
      "Track 91751 is too small (size: 480655)\n",
      "Track 91752 is too small (size: 480685)\n",
      "Track 91914 is too small (size: 481399)\n",
      "Track 91918 is too small (size: 480973)\n",
      "Track 91935 is too small (size: 481007)\n",
      "Track 91940 is too small (size: 480967)\n",
      "Track 91941 is too small (size: 480977)\n",
      "Track 91942 is too small (size: 481413)\n",
      "Track 91943 is too small (size: 480970)\n",
      "Track 91944 is too small (size: 480988)\n",
      "Track 91945 is too small (size: 481423)\n",
      "Track 92277 is too small (size: 687162)\n",
      "Track 92367 is too small (size: 529553)\n",
      "Track 92373 is too small (size: 667661)\n",
      "Track 92537 is too small (size: 481438)\n",
      "Track 93425 is too small (size: 481420)\n",
      "Track 93430 is too small (size: 481406)\n",
      "Track 93431 is too small (size: 481406)\n",
      "Track 93432 is too small (size: 481414)\n",
      "Track 93433 is too small (size: 481416)\n",
      "Track 93988 is too small (size: 481356)\n",
      "Track 93992 is too small (size: 480904)\n",
      "Track 94024 is too small (size: 480950)\n",
      "Track 94025 is too small (size: 481387)\n",
      "Track 94031 is too small (size: 480939)\n",
      "Track 94629 is too small (size: 480875)\n",
      "Track 94633 is too small (size: 481329)\n",
      "Track 95244 is too small (size: 481402)\n",
      "Track 95245 is too small (size: 480991)\n",
      "Track 95246 is too small (size: 480989)\n",
      "Track 95247 is too small (size: 481419)\n",
      "Track 95507 is too small (size: 481443)\n",
      "Track 95508 is too small (size: 481019)\n",
      "Track 95512 is too small (size: 481417)\n",
      "Track 95517 is too small (size: 481420)\n",
      "Track 95523 is too small (size: 480999)\n",
      "Track 95558 is too small (size: 480676)\n",
      "Track 96143 is too small (size: 481372)\n",
      "Track 96146 is too small (size: 481352)\n",
      "Track 96709 is too small (size: 480996)\n",
      "Track 96710 is too small (size: 480973)\n",
      "Track 96711 is too small (size: 481407)\n",
      "Track 96712 is too small (size: 480985)\n",
      "Track 96713 is too small (size: 481409)\n",
      "Track 96714 is too small (size: 480983)\n",
      "Track 96715 is too small (size: 480973)\n",
      "Track 96716 is too small (size: 481414)\n",
      "Track 96717 is too small (size: 481411)\n",
      "Track 96721 is too small (size: 481419)\n",
      "Track 96722 is too small (size: 481019)\n",
      "Track 96723 is too small (size: 481411)\n",
      "Track 96724 is too small (size: 480997)\n",
      "Track 96725 is too small (size: 480997)\n",
      "Track 96758 is too small (size: 481190)\n",
      "Track 96760 is too small (size: 481170)\n",
      "Track 96766 is too small (size: 481156)\n",
      "Track 96767 is too small (size: 481168)\n",
      "Track 96769 is too small (size: 481171)\n",
      "Track 97376 is too small (size: 480902)\n",
      "Track 97537 is too small (size: 691674)\n",
      "Track 98157 is too small (size: 481074)\n",
      "Track 98220 is too small (size: 480896)\n",
      "Track 98558 is too small (size: 1507)\n",
      "Track 98559 is too small (size: 1095)\n",
      "Track 98560 is too small (size: 1539)\n",
      "Track 98566 is too small (size: 367344)\n",
      "Track 98568 is too small (size: 129136)\n",
      "Track 98571 is too small (size: 931)\n",
      "Track 99144 is too small (size: 601481)\n",
      "Track 99145 is too small (size: 600976)\n",
      "Track 99148 is too small (size: 601495)\n",
      "Track 99150 is too small (size: 601489)\n",
      "Track 99151 is too small (size: 600962)\n",
      "Track 100543 is too small (size: 479835)\n",
      "Track 100547 is too small (size: 480263)\n",
      "Track 104190 is too small (size: 466988)\n",
      "Track 104191 is too small (size: 486828)\n",
      "Track 104193 is too small (size: 493469)\n",
      "Track 104201 is too small (size: 474726)\n",
      "Track 104220 is too small (size: 600955)\n",
      "Track 104225 is too small (size: 601498)\n",
      "Track 104228 is too small (size: 601478)\n",
      "Track 104614 is too small (size: 601202)\n",
      "Track 104766 is too small (size: 480864)\n",
      "Track 104770 is too small (size: 480858)\n",
      "Track 105179 is too small (size: 601012)\n",
      "Track 105192 is too small (size: 601058)\n",
      "Track 105247 is too small (size: 1302)\n",
      "Track 105393 is too small (size: 480628)\n",
      "Track 105397 is too small (size: 480632)\n",
      "Track 106443 is too small (size: 479725)\n",
      "Track 106520 is too small (size: 480875)\n",
      "Track 106626 is too small (size: 699148)\n",
      "Track 106632 is too small (size: 481296)\n",
      "Track 106634 is too small (size: 600926)\n",
      "Track 107510 is too small (size: 690438)\n",
      "Track 107511 is too small (size: 698481)\n",
      "Track 107514 is too small (size: 599324)\n",
      "Track 107649 is too small (size: 480884)\n",
      "Track 107652 is too small (size: 481311)\n",
      "Track 107653 is too small (size: 481306)\n",
      "Track 107655 is too small (size: 480885)\n",
      "Track 107656 is too small (size: 481285)\n",
      "Track 107657 is too small (size: 481309)\n",
      "Track 107658 is too small (size: 481306)\n",
      "Track 107660 is too small (size: 480904)\n",
      "Track 107661 is too small (size: 481377)\n",
      "Track 107662 is too small (size: 480871)\n",
      "Track 108052 is too small (size: 480886)\n",
      "Track 108053 is too small (size: 480905)\n"
     ]
    },
    {
     "name": "stderr",
     "output_type": "stream",
     "text": [
      "Filtering tracks by size:  81%|██████████████████████████████████████▉         | 13786/17000 [00:01<00:00, 8704.01it/s]"
     ]
    },
    {
     "name": "stdout",
     "output_type": "stream",
     "text": [
      "Track 108924 is too small (size: 657001)\n",
      "Track 108937 is too small (size: 600916)\n",
      "Track 108938 is too small (size: 600914)\n",
      "Track 108939 is too small (size: 601440)\n",
      "Track 108940 is too small (size: 600951)\n",
      "Track 108941 is too small (size: 601440)\n",
      "Track 108942 is too small (size: 601432)\n",
      "Track 108944 is too small (size: 601436)\n",
      "Track 108946 is too small (size: 601435)\n",
      "Track 108949 is too small (size: 601477)\n",
      "Track 108950 is too small (size: 600918)\n",
      "Track 108951 is too small (size: 601435)\n",
      "Track 108952 is too small (size: 601449)\n",
      "Track 109482 is too small (size: 481074)\n",
      "Track 109484 is too small (size: 481056)\n",
      "Track 109485 is too small (size: 481064)\n",
      "Track 109489 is too small (size: 481062)\n",
      "Track 109492 is too small (size: 481063)\n",
      "Track 109493 is too small (size: 481055)\n",
      "Track 109494 is too small (size: 481051)\n",
      "Track 109495 is too small (size: 481071)\n",
      "Track 109496 is too small (size: 481073)\n",
      "Track 109539 is too small (size: 481434)\n",
      "Track 109540 is too small (size: 480961)\n",
      "Track 109541 is too small (size: 481359)\n",
      "Track 109723 is too small (size: 448407)\n",
      "Track 109731 is too small (size: 453021)\n",
      "Track 109907 is too small (size: 480935)\n",
      "Track 109914 is too small (size: 481374)\n",
      "Track 109916 is too small (size: 481408)\n",
      "Track 109920 is too small (size: 481376)\n",
      "Track 110411 is too small (size: 480961)\n",
      "Track 110412 is too small (size: 480945)\n",
      "Track 110413 is too small (size: 480946)\n",
      "Track 110414 is too small (size: 480945)\n",
      "Track 110415 is too small (size: 480951)\n",
      "Track 110416 is too small (size: 480940)\n",
      "Track 110429 is too small (size: 481375)\n",
      "Track 110430 is too small (size: 481389)\n",
      "Track 110434 is too small (size: 480992)\n",
      "Track 111449 is too small (size: 653977)\n",
      "Track 111855 is too small (size: 566866)\n",
      "Track 111902 is too small (size: 600941)\n",
      "Track 111903 is too small (size: 600937)\n",
      "Track 111904 is too small (size: 601460)\n",
      "Track 111905 is too small (size: 601486)\n",
      "Track 111906 is too small (size: 601006)\n",
      "Track 111907 is too small (size: 600956)\n",
      "Track 111908 is too small (size: 600957)\n",
      "Track 111909 is too small (size: 601463)\n",
      "Track 111910 is too small (size: 600953)\n",
      "Track 112373 is too small (size: 600834)\n",
      "Track 112374 is too small (size: 601359)\n",
      "Track 112378 is too small (size: 600853)\n",
      "Track 112380 is too small (size: 600872)\n",
      "Track 112382 is too small (size: 601401)\n",
      "Track 112383 is too small (size: 601400)\n",
      "Track 112384 is too small (size: 601403)\n",
      "Track 113286 is too small (size: 480909)\n",
      "Track 113287 is too small (size: 481347)\n",
      "Track 113288 is too small (size: 480940)\n",
      "Track 113289 is too small (size: 480913)\n",
      "Track 113290 is too small (size: 480940)\n",
      "Track 113291 is too small (size: 481326)\n",
      "Track 113292 is too small (size: 480901)\n",
      "Track 113293 is too small (size: 480921)\n",
      "Track 113295 is too small (size: 481357)\n",
      "Track 113296 is too small (size: 480943)\n",
      "Track 113297 is too small (size: 480943)\n",
      "Track 113298 is too small (size: 481366)\n",
      "Track 113299 is too small (size: 480941)\n",
      "Track 113300 is too small (size: 481359)\n",
      "Track 113528 is too small (size: 546981)\n",
      "Track 113529 is too small (size: 563976)\n",
      "Track 114203 is too small (size: 481323)\n",
      "Track 115158 is too small (size: 479977)\n",
      "Track 115159 is too small (size: 479568)\n",
      "Track 115171 is too small (size: 480939)\n",
      "Track 115173 is too small (size: 481388)\n",
      "Track 115626 is too small (size: 480810)\n",
      "Track 115934 is too small (size: 573168)\n",
      "Track 116702 is too small (size: 481332)\n",
      "Track 117254 is too small (size: 601488)\n",
      "Track 117261 is too small (size: 600923)\n",
      "Track 117391 is too small (size: 481249)\n",
      "Track 117392 is too small (size: 481117)\n",
      "Track 117462 is too small (size: 688522)\n",
      "Track 117464 is too small (size: 689076)\n",
      "Track 118048 is too small (size: 655361)\n",
      "Track 118050 is too small (size: 539768)\n",
      "Track 118051 is too small (size: 655055)\n",
      "Track 118052 is too small (size: 643370)\n",
      "Track 118054 is too small (size: 657552)\n",
      "Track 118055 is too small (size: 661315)\n",
      "Track 118056 is too small (size: 669363)\n",
      "Track 118518 is too small (size: 481320)\n",
      "Track 118724 is too small (size: 480838)\n",
      "Track 118725 is too small (size: 481213)\n",
      "Track 118740 is too small (size: 569348)\n",
      "Track 118867 is too small (size: 481289)\n",
      "Track 118868 is too small (size: 480855)\n",
      "Track 118870 is too small (size: 481305)\n",
      "Track 119075 is too small (size: 481342)\n",
      "Track 119077 is too small (size: 481320)\n",
      "Track 119820 is too small (size: 481362)\n",
      "Track 120516 is too small (size: 480814)\n",
      "Track 120517 is too small (size: 481275)\n",
      "Track 120913 is too small (size: 600971)\n",
      "Track 120914 is too small (size: 600978)\n",
      "Track 120915 is too small (size: 601485)\n",
      "Track 120916 is too small (size: 601469)\n",
      "Track 120917 is too small (size: 601496)\n",
      "Track 120918 is too small (size: 601031)\n",
      "Track 120919 is too small (size: 601018)\n",
      "Track 120920 is too small (size: 600949)\n",
      "Track 120921 is too small (size: 600985)\n",
      "Track 120922 is too small (size: 600953)\n",
      "Track 120923 is too small (size: 600970)\n",
      "Track 120924 is too small (size: 600952)\n",
      "Track 120926 is too small (size: 601460)\n",
      "Track 120929 is too small (size: 481317)\n",
      "Track 120930 is too small (size: 480919)\n",
      "Track 120931 is too small (size: 480903)\n",
      "Track 120932 is too small (size: 480898)\n",
      "Track 120933 is too small (size: 480902)\n",
      "Track 120934 is too small (size: 480902)\n",
      "Track 120935 is too small (size: 481313)\n",
      "Track 120936 is too small (size: 481317)\n",
      "Track 120937 is too small (size: 481315)\n",
      "Track 120938 is too small (size: 481330)\n",
      "Track 120939 is too small (size: 481318)\n",
      "Track 120940 is too small (size: 480894)\n",
      "Track 121217 is too small (size: 480911)\n",
      "Track 121287 is too small (size: 690843)\n",
      "Track 121289 is too small (size: 685385)\n",
      "Track 122248 is too small (size: 645885)\n",
      "Track 122249 is too small (size: 481349)\n",
      "Track 122371 is too small (size: 480832)\n",
      "Track 122372 is too small (size: 481250)\n",
      "Track 123263 is too small (size: 601456)\n",
      "Track 123267 is too small (size: 600934)\n",
      "Track 123271 is too small (size: 600931)\n",
      "Track 123274 is too small (size: 601482)\n",
      "Track 123275 is too small (size: 601459)\n"
     ]
    },
    {
     "name": "stderr",
     "output_type": "stream",
     "text": [
      "Filtering tracks by size:  86%|█████████████████████████████████████████▍      | 14657/17000 [00:01<00:00, 8529.28it/s]"
     ]
    },
    {
     "name": "stdout",
     "output_type": "stream",
     "text": [
      "Track 124196 is too small (size: 481338)\n",
      "Track 124198 is too small (size: 481332)\n",
      "Track 124199 is too small (size: 480924)\n",
      "Track 124200 is too small (size: 480916)\n",
      "Track 124730 is too small (size: 481097)\n",
      "Track 124902 is too small (size: 480986)\n",
      "Track 124904 is too small (size: 481382)\n",
      "Track 124905 is too small (size: 480993)\n",
      "Track 124906 is too small (size: 480974)\n",
      "Track 124907 is too small (size: 480980)\n",
      "Track 124908 is too small (size: 480975)\n",
      "Track 124909 is too small (size: 481404)\n",
      "Track 124910 is too small (size: 481402)\n",
      "Track 124993 is too small (size: 601452)\n",
      "Track 124995 is too small (size: 600942)\n",
      "Track 124997 is too small (size: 601437)\n",
      "Track 124998 is too small (size: 600933)\n",
      "Track 124999 is too small (size: 601455)\n",
      "Track 125000 is too small (size: 600935)\n",
      "Track 125371 is too small (size: 601466)\n",
      "Track 125372 is too small (size: 601469)\n",
      "Track 125376 is too small (size: 600939)\n",
      "Track 126201 is too small (size: 653067)\n",
      "Track 126299 is too small (size: 683164)\n",
      "Track 126301 is too small (size: 689513)\n",
      "Track 126439 is too small (size: 688618)\n",
      "Track 126518 is too small (size: 640600)\n",
      "Track 126981 is too small (size: 1254)\n",
      "Track 127156 is too small (size: 513196)\n",
      "Track 127157 is too small (size: 436683)\n",
      "Track 127158 is too small (size: 527872)\n",
      "Track 127160 is too small (size: 480891)\n",
      "Track 127161 is too small (size: 480889)\n",
      "Track 127162 is too small (size: 481339)\n",
      "Track 127163 is too small (size: 481304)\n",
      "Track 127164 is too small (size: 481330)\n",
      "Track 127336 is too small (size: 1718)\n",
      "Track 127427 is too small (size: 480913)\n",
      "Track 127723 is too small (size: 540456)\n",
      "Track 127724 is too small (size: 504211)\n",
      "Track 127725 is too small (size: 471796)\n",
      "Track 128261 is too small (size: 646561)\n",
      "Track 128264 is too small (size: 639136)\n",
      "Track 129341 is too small (size: 613246)\n",
      "Track 129342 is too small (size: 541308)\n",
      "Track 129345 is too small (size: 601348)\n",
      "Track 129346 is too small (size: 591602)\n",
      "Track 129836 is too small (size: 686629)\n",
      "Track 130012 is too small (size: 480856)\n",
      "Track 130013 is too small (size: 481267)\n",
      "Track 130014 is too small (size: 480834)\n",
      "Track 130015 is too small (size: 481250)\n",
      "Track 130017 is too small (size: 480846)\n",
      "Track 130397 is too small (size: 601448)\n",
      "Track 130398 is too small (size: 601479)\n",
      "Track 130957 is too small (size: 578410)\n",
      "Track 130958 is too small (size: 582666)\n",
      "Track 130960 is too small (size: 616951)\n",
      "Track 130961 is too small (size: 579543)\n",
      "Track 130962 is too small (size: 637944)\n",
      "Track 131341 is too small (size: 480967)\n",
      "Track 131535 is too small (size: 480871)\n",
      "Track 131537 is too small (size: 480862)\n",
      "Track 131538 is too small (size: 481280)\n",
      "Track 131539 is too small (size: 480874)\n",
      "Track 131813 is too small (size: 612847)\n",
      "Track 131817 is too small (size: 673557)\n",
      "Track 132015 is too small (size: 668748)\n",
      "Track 132020 is too small (size: 385936)\n",
      "Track 132021 is too small (size: 680252)\n",
      "Track 132022 is too small (size: 666101)\n",
      "Track 133301 is too small (size: 480930)\n",
      "Track 133302 is too small (size: 480924)\n",
      "Track 133327 is too small (size: 480960)\n",
      "Track 133329 is too small (size: 480892)\n",
      "Track 133421 is too small (size: 480733)\n",
      "Track 133422 is too small (size: 480736)\n",
      "Track 133423 is too small (size: 481161)\n",
      "Track 133424 is too small (size: 481161)\n",
      "Track 133425 is too small (size: 480732)\n",
      "Track 133426 is too small (size: 480743)\n",
      "Track 133427 is too small (size: 480734)\n",
      "Track 133428 is too small (size: 480745)\n",
      "Track 133429 is too small (size: 481154)\n",
      "Track 133430 is too small (size: 480732)\n",
      "Track 133478 is too small (size: 600872)\n",
      "Track 133480 is too small (size: 601399)\n",
      "Track 133482 is too small (size: 601407)\n",
      "Track 133483 is too small (size: 600881)\n",
      "Track 133484 is too small (size: 600867)\n",
      "Track 133485 is too small (size: 600890)\n",
      "Track 133486 is too small (size: 601391)\n",
      "Track 133797 is too small (size: 480882)\n",
      "Track 133800 is too small (size: 481325)\n",
      "Track 133801 is too small (size: 480912)\n",
      "Track 134081 is too small (size: 587668)\n",
      "Track 134082 is too small (size: 554991)\n",
      "Track 134083 is too small (size: 658516)\n",
      "Track 134186 is too small (size: 625022)\n",
      "Track 134187 is too small (size: 552715)\n",
      "Track 134188 is too small (size: 619576)\n",
      "Track 134968 is too small (size: 647708)\n",
      "Track 134973 is too small (size: 667238)\n",
      "Track 134993 is too small (size: 479768)\n",
      "Track 134994 is too small (size: 479770)\n",
      "Track 136400 is too small (size: 600989)\n",
      "Track 136401 is too small (size: 600980)\n",
      "Track 136402 is too small (size: 601503)\n",
      "Track 136403 is too small (size: 601021)\n",
      "Track 137539 is too small (size: 600915)\n",
      "Track 137541 is too small (size: 600925)\n",
      "Track 137542 is too small (size: 601440)\n"
     ]
    },
    {
     "name": "stderr",
     "output_type": "stream",
     "text": [
      "Filtering tracks by size: 100%|████████████████████████████████████████████████| 17000/17000 [00:01<00:00, 9107.92it/s]\n"
     ]
    },
    {
     "name": "stdout",
     "output_type": "stream",
     "text": [
      "Track 138506 is too small (size: 480860)\n",
      "Track 138511 is too small (size: 480858)\n",
      "Track 138925 is too small (size: 481280)\n",
      "Track 138929 is too small (size: 481298)\n",
      "Track 138930 is too small (size: 480842)\n",
      "Track 141967 is too small (size: 600374)\n",
      "Track 141968 is too small (size: 600831)\n",
      "Track 141969 is too small (size: 601351)\n",
      "Track 141970 is too small (size: 600834)\n",
      "Track 141990 is too small (size: 600948)\n",
      "Track 142291 is too small (size: 479719)\n",
      "Track 142292 is too small (size: 479725)\n",
      "Track 142294 is too small (size: 479819)\n",
      "Track 142296 is too small (size: 479711)\n",
      "Track 142297 is too small (size: 479715)\n",
      "Track 142298 is too small (size: 480121)\n",
      "Track 142299 is too small (size: 480133)\n",
      "Track 142300 is too small (size: 479706)\n",
      "Track 142302 is too small (size: 479730)\n",
      "Track 143291 is too small (size: 600995)\n",
      "Track 143292 is too small (size: 600977)\n",
      "Track 143293 is too small (size: 601513)\n",
      "Track 143294 is too small (size: 600980)\n",
      "Track 143297 is too small (size: 601528)\n",
      "Track 143298 is too small (size: 601557)\n",
      "Track 143301 is too small (size: 601517)\n",
      "Track 143302 is too small (size: 601007)\n",
      "Track 143464 is too small (size: 479806)\n",
      "Track 143465 is too small (size: 480202)\n",
      "Track 143992 is too small (size: 1743)\n",
      "Track 145206 is too small (size: 480990)\n",
      "Track 145207 is too small (size: 480991)\n",
      "Track 145208 is too small (size: 481408)\n",
      "Track 145209 is too small (size: 480990)\n",
      "Track 147171 is too small (size: 601484)\n",
      "Track 147173 is too small (size: 600969)\n",
      "Track 147757 is too small (size: 537433)\n",
      "Track 147760 is too small (size: 694671)\n",
      "Track 147762 is too small (size: 596341)\n",
      "Track 147769 is too small (size: 587613)\n",
      "Track 147775 is too small (size: 694356)\n",
      "Track 148029 is too small (size: 481208)\n",
      "Track 148030 is too small (size: 480805)\n",
      "Track 149147 is too small (size: 481311)\n",
      "Track 149148 is too small (size: 481294)\n",
      "Track 150035 is too small (size: 480916)\n",
      "Track 150036 is too small (size: 480930)\n",
      "Track 151039 is too small (size: 657026)\n",
      "Track 151048 is too small (size: 682749)\n",
      "Track 151049 is too small (size: 696857)\n",
      "Track 151050 is too small (size: 493585)\n",
      "Track 151061 is too small (size: 607050)\n",
      "Track 151063 is too small (size: 619381)\n",
      "Track 151064 is too small (size: 664989)\n",
      "Track 152844 is too small (size: 480945)\n",
      "Track 153334 is too small (size: 599797)\n",
      "Track 153335 is too small (size: 663941)\n",
      "Track 154046 is too small (size: 481253)\n",
      "Training Set Genre Distribution:\n",
      "(track, genre_top)\n",
      "Rock                   4366\n",
      "Electronic             3931\n",
      "Hip-Hop                 908\n",
      "Experimental            896\n",
      "Folk                    364\n",
      "Classical               362\n",
      "Old-Time / Historic     324\n",
      "Jazz                    252\n",
      "Instrumental            229\n",
      "Country                 127\n",
      "Pop                     118\n",
      "Soul-RnB                 85\n",
      "Spoken                   83\n",
      "Blues                    43\n",
      "International            14\n",
      "Easy Listening           12\n",
      "Name: count, dtype: int64\n",
      "\n",
      "Validation Set Genre Distribution:\n",
      "(track, genre_top)\n",
      "Rock                   567\n",
      "Electronic             517\n",
      "Experimental           111\n",
      "Hip-Hop                110\n",
      "Classical               51\n",
      "Folk                    44\n",
      "Jazz                    34\n",
      "Old-Time / Historic     30\n",
      "Instrumental            22\n",
      "Country                 18\n",
      "Soul-RnB                18\n",
      "Spoken                  12\n",
      "Pop                     10\n",
      "Blues                    8\n",
      "International            2\n",
      "Easy Listening           2\n",
      "Name: count, dtype: int64\n",
      "\n",
      "Testing Set Genre Distribution:\n",
      "(track, genre_top)\n",
      "Rock                   600\n",
      "Electronic             461\n",
      "Experimental           119\n",
      "Hip-Hop                111\n",
      "Instrumental            70\n",
      "Folk                    44\n",
      "Classical               44\n",
      "Soul-RnB                42\n",
      "Old-Time / Historic     39\n",
      "Jazz                    26\n",
      "Pop                     19\n",
      "Country                 14\n",
      "Spoken                  12\n",
      "Easy Listening           6\n",
      "International            2\n",
      "Blues                    1\n",
      "Name: count, dtype: int64\n",
      "\n",
      "Training samples: 12114, Validation samples: 1556, Test samples: 1610\n",
      "Training Set Genre Counts:\n",
      "(track, genre_top)\n",
      "Rock                   4366\n",
      "Electronic             3931\n",
      "Hip-Hop                 908\n",
      "Experimental            896\n",
      "Folk                    364\n",
      "Classical               362\n",
      "Old-Time / Historic     324\n",
      "Jazz                    252\n",
      "Instrumental            229\n",
      "Country                 127\n",
      "Pop                     118\n",
      "Soul-RnB                 85\n",
      "Spoken                   83\n",
      "Blues                    43\n",
      "International            14\n",
      "Easy Listening           12\n",
      "Name: count, dtype: int64\n",
      "\n",
      "Versions per track per genre (excluding Rock and Electronic):\n",
      "Hip-Hop: 5\n",
      "Experimental: 5\n",
      "Folk: 11\n",
      "Classical: 12\n",
      "Old-Time / Historic: 13\n",
      "Jazz: 16\n",
      "Instrumental: 18\n",
      "Country: 32\n",
      "Pop: 34\n",
      "Soul-RnB: 48\n",
      "Spoken: 49\n",
      "Blues: 50\n",
      "International: 50\n",
      "Easy Listening: 50\n",
      "\n",
      "Estimating number of samples for memmap arrays...\n",
      "Estimated Training Samples: 577040\n",
      "Estimated Validation Samples: 15560\n",
      "Estimated Test Samples: 16100\n",
      "Number of time frames per segment: 130\n",
      "\n",
      "Creating memory-mapped files...\n",
      "\n",
      "Processing training data with augmentation...\n"
     ]
    },
    {
     "name": "stderr",
     "output_type": "stream",
     "text": [
      "Processing tracks:   0%|                                                          | 26/12114 [00:13<3:07:35,  1.07it/s]"
     ]
    },
    {
     "name": "stdout",
     "output_type": "stream",
     "text": [
      "Processed 1000 samples\n"
     ]
    },
    {
     "name": "stderr",
     "output_type": "stream",
     "text": [
      "Processing tracks:   0%|▏                                                         | 46/12114 [00:24<1:24:47,  2.37it/s]"
     ]
    },
    {
     "name": "stdout",
     "output_type": "stream",
     "text": [
      "Processed 2000 samples\n"
     ]
    },
    {
     "name": "stderr",
     "output_type": "stream",
     "text": [
      "Processing tracks:   1%|▎                                                         | 63/12114 [00:37<3:04:04,  1.09it/s]"
     ]
    },
    {
     "name": "stdout",
     "output_type": "stream",
     "text": [
      "Processed 3000 samples\n"
     ]
    },
    {
     "name": "stderr",
     "output_type": "stream",
     "text": [
      "Processing tracks:   1%|▍                                                           | 89/12114 [00:51<22:21,  8.96it/s]"
     ]
    },
    {
     "name": "stdout",
     "output_type": "stream",
     "text": [
      "Processed 4000 samples\n"
     ]
    },
    {
     "name": "stderr",
     "output_type": "stream",
     "text": [
      "Processing tracks:   1%|▌                                                          | 123/12114 [01:00<38:15,  5.22it/s]"
     ]
    },
    {
     "name": "stdout",
     "output_type": "stream",
     "text": [
      "Processed 5000 samples\n"
     ]
    },
    {
     "name": "stderr",
     "output_type": "stream",
     "text": [
      "Processing tracks:   1%|▋                                                        | 153/12114 [01:14<1:13:51,  2.70it/s]"
     ]
    },
    {
     "name": "stdout",
     "output_type": "stream",
     "text": [
      "Processed 6000 samples\n"
     ]
    },
    {
     "name": "stderr",
     "output_type": "stream",
     "text": [
      "Processing tracks:   1%|▋                                                       | 155/12114 [01:28<12:04:17,  3.63s/it]"
     ]
    },
    {
     "name": "stdout",
     "output_type": "stream",
     "text": [
      "Processed 7000 samples\n"
     ]
    },
    {
     "name": "stderr",
     "output_type": "stream",
     "text": [
      "Processing tracks:   1%|▊                                                        | 163/12114 [01:43<7:40:02,  2.31s/it]"
     ]
    },
    {
     "name": "stdout",
     "output_type": "stream",
     "text": [
      "Processed 8000 samples\n"
     ]
    },
    {
     "name": "stderr",
     "output_type": "stream",
     "text": [
      "Processing tracks:   1%|▊                                                       | 166/12114 [01:56<11:58:21,  3.61s/it]"
     ]
    },
    {
     "name": "stdout",
     "output_type": "stream",
     "text": [
      "Processed 9000 samples\n"
     ]
    },
    {
     "name": "stderr",
     "output_type": "stream",
     "text": [
      "Processing tracks:   2%|▉                                                          | 195/12114 [02:07<20:13,  9.82it/s]"
     ]
    },
    {
     "name": "stdout",
     "output_type": "stream",
     "text": [
      "Processed 10000 samples\n"
     ]
    },
    {
     "name": "stderr",
     "output_type": "stream",
     "text": [
      "Processing tracks:   2%|█▎                                                         | 262/12114 [02:21<20:16,  9.74it/s]"
     ]
    },
    {
     "name": "stdout",
     "output_type": "stream",
     "text": [
      "Processed 11000 samples\n"
     ]
    },
    {
     "name": "stderr",
     "output_type": "stream",
     "text": [
      "Processing tracks:   3%|█▌                                                       | 344/12114 [02:32<1:20:32,  2.44it/s]"
     ]
    },
    {
     "name": "stdout",
     "output_type": "stream",
     "text": [
      "Processed 12000 samples\n"
     ]
    },
    {
     "name": "stderr",
     "output_type": "stream",
     "text": [
      "Processing tracks:   3%|█▋                                                       | 367/12114 [02:45<4:47:59,  1.47s/it]"
     ]
    },
    {
     "name": "stdout",
     "output_type": "stream",
     "text": [
      "Processed 13000 samples\n"
     ]
    },
    {
     "name": "stderr",
     "output_type": "stream",
     "text": [
      "Processing tracks:   3%|█▉                                                       | 406/12114 [02:58<4:22:29,  1.35s/it]"
     ]
    },
    {
     "name": "stdout",
     "output_type": "stream",
     "text": [
      "Processed 14000 samples\n"
     ]
    },
    {
     "name": "stderr",
     "output_type": "stream",
     "text": [
      "Processing tracks:   4%|██▏                                                        | 445/12114 [03:09<21:13,  9.17it/s]"
     ]
    },
    {
     "name": "stdout",
     "output_type": "stream",
     "text": [
      "Processed 15000 samples\n"
     ]
    },
    {
     "name": "stderr",
     "output_type": "stream",
     "text": [
      "Processing tracks:   4%|██▏                                                      | 459/12114 [03:21<1:27:10,  2.23it/s]"
     ]
    },
    {
     "name": "stdout",
     "output_type": "stream",
     "text": [
      "Processed 16000 samples\n"
     ]
    },
    {
     "name": "stderr",
     "output_type": "stream",
     "text": [
      "Processing tracks:   4%|██▏                                                      | 472/12114 [03:35<5:39:32,  1.75s/it]"
     ]
    },
    {
     "name": "stdout",
     "output_type": "stream",
     "text": [
      "Processed 17000 samples\n"
     ]
    },
    {
     "name": "stderr",
     "output_type": "stream",
     "text": [
      "Processing tracks:   4%|██▍                                                        | 513/12114 [03:50<20:02,  9.65it/s]"
     ]
    },
    {
     "name": "stdout",
     "output_type": "stream",
     "text": [
      "Processed 18000 samples\n"
     ]
    },
    {
     "name": "stderr",
     "output_type": "stream",
     "text": [
      "Processing tracks:   4%|██▌                                                        | 534/12114 [04:02<22:59,  8.40it/s]"
     ]
    },
    {
     "name": "stdout",
     "output_type": "stream",
     "text": [
      "Processed 19000 samples\n"
     ]
    },
    {
     "name": "stderr",
     "output_type": "stream",
     "text": [
      "Processing tracks:   5%|██▋                                                      | 579/12114 [04:16<2:31:24,  1.27it/s]"
     ]
    },
    {
     "name": "stdout",
     "output_type": "stream",
     "text": [
      "Processed 20000 samples\n"
     ]
    },
    {
     "name": "stderr",
     "output_type": "stream",
     "text": [
      "Processing tracks:   5%|███                                                        | 619/12114 [04:28<44:31,  4.30it/s]"
     ]
    },
    {
     "name": "stdout",
     "output_type": "stream",
     "text": [
      "Processed 21000 samples\n"
     ]
    },
    {
     "name": "stderr",
     "output_type": "stream",
     "text": [
      "Processing tracks:   5%|██▉                                                      | 636/12114 [04:40<5:34:05,  1.75s/it]"
     ]
    },
    {
     "name": "stdout",
     "output_type": "stream",
     "text": [
      "Processed 22000 samples\n"
     ]
    },
    {
     "name": "stderr",
     "output_type": "stream",
     "text": [
      "Processing tracks:   6%|███▎                                                       | 673/12114 [04:52<20:47,  9.17it/s]"
     ]
    },
    {
     "name": "stdout",
     "output_type": "stream",
     "text": [
      "Processed 23000 samples\n"
     ]
    },
    {
     "name": "stderr",
     "output_type": "stream",
     "text": [
      "Processing tracks:   6%|███▏                                                     | 681/12114 [05:06<4:36:55,  1.45s/it]"
     ]
    },
    {
     "name": "stdout",
     "output_type": "stream",
     "text": [
      "Processed 24000 samples\n"
     ]
    },
    {
     "name": "stderr",
     "output_type": "stream",
     "text": [
      "Processing tracks:   6%|███▎                                                     | 691/12114 [05:20<3:50:44,  1.21s/it]"
     ]
    },
    {
     "name": "stdout",
     "output_type": "stream",
     "text": [
      "Processed 25000 samples\n"
     ]
    },
    {
     "name": "stderr",
     "output_type": "stream",
     "text": [
      "Processing tracks:   6%|███▍                                                     | 721/12114 [05:34<6:08:23,  1.94s/it]"
     ]
    },
    {
     "name": "stdout",
     "output_type": "stream",
     "text": [
      "Processed 26000 samples\n"
     ]
    },
    {
     "name": "stderr",
     "output_type": "stream",
     "text": [
      "Processing tracks:   6%|███▍                                                     | 726/12114 [05:46<7:02:34,  2.23s/it]"
     ]
    },
    {
     "name": "stdout",
     "output_type": "stream",
     "text": [
      "Processed 27000 samples\n"
     ]
    },
    {
     "name": "stderr",
     "output_type": "stream",
     "text": [
      "Processing tracks:   6%|███▍                                                     | 737/12114 [06:02<4:15:27,  1.35s/it]"
     ]
    },
    {
     "name": "stdout",
     "output_type": "stream",
     "text": [
      "Processed 28000 samples\n"
     ]
    },
    {
     "name": "stderr",
     "output_type": "stream",
     "text": [
      "Processing tracks:   6%|███▌                                                     | 749/12114 [06:15<5:19:41,  1.69s/it]"
     ]
    },
    {
     "name": "stdout",
     "output_type": "stream",
     "text": [
      "Processed 29000 samples\n"
     ]
    },
    {
     "name": "stderr",
     "output_type": "stream",
     "text": [
      "Processing tracks:   6%|███▋                                                     | 776/12114 [06:26<1:46:07,  1.78it/s]"
     ]
    },
    {
     "name": "stdout",
     "output_type": "stream",
     "text": [
      "Processed 30000 samples\n"
     ]
    },
    {
     "name": "stderr",
     "output_type": "stream",
     "text": [
      "Processing tracks:   7%|███▋                                                     | 792/12114 [06:39<3:20:17,  1.06s/it]"
     ]
    },
    {
     "name": "stdout",
     "output_type": "stream",
     "text": [
      "Processed 31000 samples\n"
     ]
    },
    {
     "name": "stderr",
     "output_type": "stream",
     "text": [
      "Processing tracks:   7%|███▊                                                     | 801/12114 [06:53<4:09:44,  1.32s/it]"
     ]
    },
    {
     "name": "stdout",
     "output_type": "stream",
     "text": [
      "Processed 32000 samples\n"
     ]
    },
    {
     "name": "stderr",
     "output_type": "stream",
     "text": [
      "Processing tracks:   7%|███▊                                                     | 809/12114 [07:07<4:48:15,  1.53s/it]"
     ]
    },
    {
     "name": "stdout",
     "output_type": "stream",
     "text": [
      "Processed 33000 samples\n"
     ]
    },
    {
     "name": "stderr",
     "output_type": "stream",
     "text": [
      "Processing tracks:   7%|███▊                                                     | 820/12114 [07:20<4:53:04,  1.56s/it]"
     ]
    },
    {
     "name": "stdout",
     "output_type": "stream",
     "text": [
      "Processed 34000 samples\n"
     ]
    },
    {
     "name": "stderr",
     "output_type": "stream",
     "text": [
      "Processing tracks:   7%|███▉                                                     | 838/12114 [07:33<2:06:47,  1.48it/s]"
     ]
    },
    {
     "name": "stdout",
     "output_type": "stream",
     "text": [
      "Processed 35000 samples\n"
     ]
    },
    {
     "name": "stderr",
     "output_type": "stream",
     "text": [
      "Processing tracks:   7%|████                                                     | 851/12114 [07:47<4:08:50,  1.33s/it]"
     ]
    },
    {
     "name": "stdout",
     "output_type": "stream",
     "text": [
      "Processed 36000 samples\n"
     ]
    },
    {
     "name": "stderr",
     "output_type": "stream",
     "text": [
      "Processing tracks:   7%|████                                                     | 871/12114 [08:01<2:28:01,  1.27it/s]"
     ]
    },
    {
     "name": "stdout",
     "output_type": "stream",
     "text": [
      "Processed 37000 samples\n"
     ]
    },
    {
     "name": "stderr",
     "output_type": "stream",
     "text": [
      "Processing tracks:   7%|████▎                                                      | 898/12114 [08:12<39:51,  4.69it/s]"
     ]
    },
    {
     "name": "stdout",
     "output_type": "stream",
     "text": [
      "Processed 38000 samples\n"
     ]
    },
    {
     "name": "stderr",
     "output_type": "stream",
     "text": [
      "Processing tracks:   8%|████▋                                                      | 958/12114 [08:24<43:51,  4.24it/s]"
     ]
    },
    {
     "name": "stdout",
     "output_type": "stream",
     "text": [
      "Processed 39000 samples\n"
     ]
    },
    {
     "name": "stderr",
     "output_type": "stream",
     "text": [
      "Processing tracks:   8%|████▌                                                    | 961/12114 [08:37<9:47:39,  3.16s/it]"
     ]
    },
    {
     "name": "stdout",
     "output_type": "stream",
     "text": [
      "Processed 40000 samples\n"
     ]
    },
    {
     "name": "stderr",
     "output_type": "stream",
     "text": [
      "Processing tracks:   8%|████▍                                                   | 964/12114 [08:49<11:18:09,  3.65s/it]"
     ]
    },
    {
     "name": "stdout",
     "output_type": "stream",
     "text": [
      "Processed 41000 samples\n"
     ]
    },
    {
     "name": "stderr",
     "output_type": "stream",
     "text": [
      "Processing tracks:   8%|████▍                                                   | 967/12114 [09:03<13:28:08,  4.35s/it]"
     ]
    },
    {
     "name": "stdout",
     "output_type": "stream",
     "text": [
      "Processed 42000 samples\n"
     ]
    },
    {
     "name": "stderr",
     "output_type": "stream",
     "text": [
      "Processing tracks:   8%|████▍                                                   | 970/12114 [09:16<13:15:07,  4.28s/it]"
     ]
    },
    {
     "name": "stdout",
     "output_type": "stream",
     "text": [
      "Processed 43000 samples\n"
     ]
    },
    {
     "name": "stderr",
     "output_type": "stream",
     "text": [
      "Processing tracks:   8%|████▌                                                    | 980/12114 [09:33<5:39:25,  1.83s/it]"
     ]
    },
    {
     "name": "stdout",
     "output_type": "stream",
     "text": [
      "Processed 44000 samples\n"
     ]
    },
    {
     "name": "stderr",
     "output_type": "stream",
     "text": [
      "Processing tracks:   8%|████▋                                                    | 990/12114 [09:47<3:21:17,  1.09s/it]"
     ]
    },
    {
     "name": "stdout",
     "output_type": "stream",
     "text": [
      "Processed 45000 samples\n"
     ]
    },
    {
     "name": "stderr",
     "output_type": "stream",
     "text": [
      "Processing tracks:   8%|████▊                                                     | 1008/12114 [09:59<27:00,  6.85it/s]"
     ]
    },
    {
     "name": "stdout",
     "output_type": "stream",
     "text": [
      "Processed 46000 samples\n"
     ]
    },
    {
     "name": "stderr",
     "output_type": "stream",
     "text": [
      "Processing tracks:   8%|████▋                                                   | 1017/12114 [10:14<5:36:40,  1.82s/it]"
     ]
    },
    {
     "name": "stdout",
     "output_type": "stream",
     "text": [
      "Processed 47000 samples\n"
     ]
    },
    {
     "name": "stderr",
     "output_type": "stream",
     "text": [
      "Processing tracks:   8%|████▊                                                   | 1028/12114 [10:23<1:36:56,  1.91it/s]"
     ]
    },
    {
     "name": "stdout",
     "output_type": "stream",
     "text": [
      "Processed 48000 samples\n"
     ]
    },
    {
     "name": "stderr",
     "output_type": "stream",
     "text": [
      "Processing tracks:   9%|████▊                                                   | 1053/12114 [10:39<4:19:15,  1.41s/it]"
     ]
    },
    {
     "name": "stdout",
     "output_type": "stream",
     "text": [
      "Processed 49000 samples\n"
     ]
    },
    {
     "name": "stderr",
     "output_type": "stream",
     "text": [
      "Processing tracks:   9%|████▉                                                   | 1057/12114 [10:51<6:59:30,  2.28s/it]"
     ]
    },
    {
     "name": "stdout",
     "output_type": "stream",
     "text": [
      "Processed 50000 samples\n"
     ]
    },
    {
     "name": "stderr",
     "output_type": "stream",
     "text": [
      "Processing tracks:   9%|████▊                                                  | 1060/12114 [11:03<10:32:25,  3.43s/it]"
     ]
    },
    {
     "name": "stdout",
     "output_type": "stream",
     "text": [
      "Processed 51000 samples\n"
     ]
    },
    {
     "name": "stderr",
     "output_type": "stream",
     "text": [
      "Processing tracks:   9%|████▊                                                  | 1064/12114 [11:20<12:35:02,  4.10s/it]"
     ]
    },
    {
     "name": "stdout",
     "output_type": "stream",
     "text": [
      "Processed 52000 samples\n"
     ]
    },
    {
     "name": "stderr",
     "output_type": "stream",
     "text": [
      "Processing tracks:   9%|████▉                                                   | 1069/12114 [11:33<8:09:22,  2.66s/it]"
     ]
    },
    {
     "name": "stdout",
     "output_type": "stream",
     "text": [
      "Processed 53000 samples\n"
     ]
    },
    {
     "name": "stderr",
     "output_type": "stream",
     "text": [
      "Processing tracks:   9%|█████▏                                                  | 1131/12114 [11:45<1:15:17,  2.43it/s]"
     ]
    },
    {
     "name": "stdout",
     "output_type": "stream",
     "text": [
      "Processed 54000 samples\n"
     ]
    },
    {
     "name": "stderr",
     "output_type": "stream",
     "text": [
      "Processing tracks:  10%|█████▌                                                    | 1161/12114 [11:52<20:42,  8.81it/s]"
     ]
    },
    {
     "name": "stdout",
     "output_type": "stream",
     "text": [
      "Processed 55000 samples\n"
     ]
    },
    {
     "name": "stderr",
     "output_type": "stream",
     "text": [
      "Processing tracks:  10%|█████▍                                                  | 1166/12114 [12:04<5:14:55,  1.73s/it]"
     ]
    },
    {
     "name": "stdout",
     "output_type": "stream",
     "text": [
      "Processed 56000 samples\n"
     ]
    },
    {
     "name": "stderr",
     "output_type": "stream",
     "text": [
      "Processing tracks:  10%|█████▍                                                  | 1170/12114 [12:18<7:37:49,  2.51s/it]"
     ]
    },
    {
     "name": "stdout",
     "output_type": "stream",
     "text": [
      "Processed 57000 samples\n"
     ]
    },
    {
     "name": "stderr",
     "output_type": "stream",
     "text": [
      "Processing tracks:  10%|█████▌                                                  | 1198/12114 [12:35<4:03:00,  1.34s/it]"
     ]
    },
    {
     "name": "stdout",
     "output_type": "stream",
     "text": [
      "Processed 58000 samples\n"
     ]
    },
    {
     "name": "stderr",
     "output_type": "stream",
     "text": [
      "Processing tracks:  10%|█████▌                                                  | 1206/12114 [12:49<2:22:16,  1.28it/s]"
     ]
    },
    {
     "name": "stdout",
     "output_type": "stream",
     "text": [
      "Processed 59000 samples\n"
     ]
    },
    {
     "name": "stderr",
     "output_type": "stream",
     "text": [
      "Processing tracks:  10%|█████▊                                                    | 1223/12114 [13:03<24:06,  7.53it/s]"
     ]
    },
    {
     "name": "stdout",
     "output_type": "stream",
     "text": [
      "Processed 60000 samples\n"
     ]
    },
    {
     "name": "stderr",
     "output_type": "stream",
     "text": [
      "Processing tracks:  10%|█████▊                                                  | 1250/12114 [13:15<1:18:15,  2.31it/s]"
     ]
    },
    {
     "name": "stdout",
     "output_type": "stream",
     "text": [
      "Processed 61000 samples\n"
     ]
    },
    {
     "name": "stderr",
     "output_type": "stream",
     "text": [
      "Processing tracks:  11%|█████▉                                                  | 1278/12114 [13:27<1:13:15,  2.47it/s]"
     ]
    },
    {
     "name": "stdout",
     "output_type": "stream",
     "text": [
      "Processed 62000 samples\n"
     ]
    },
    {
     "name": "stderr",
     "output_type": "stream",
     "text": [
      "Processing tracks:  11%|██████▎                                                   | 1306/12114 [13:35<19:05,  9.44it/s]"
     ]
    },
    {
     "name": "stdout",
     "output_type": "stream",
     "text": [
      "Processed 63000 samples\n"
     ]
    },
    {
     "name": "stderr",
     "output_type": "stream",
     "text": [
      "Processing tracks:  11%|██████                                                  | 1308/12114 [13:49<8:55:29,  2.97s/it]"
     ]
    },
    {
     "name": "stdout",
     "output_type": "stream",
     "text": [
      "Processed 64000 samples\n"
     ]
    },
    {
     "name": "stderr",
     "output_type": "stream",
     "text": [
      "Processing tracks:  11%|██████                                                  | 1322/12114 [14:05<1:45:44,  1.70it/s]"
     ]
    },
    {
     "name": "stdout",
     "output_type": "stream",
     "text": [
      "Processed 65000 samples\n"
     ]
    },
    {
     "name": "stderr",
     "output_type": "stream",
     "text": [
      "Processing tracks:  11%|██████▏                                                 | 1330/12114 [14:18<4:46:06,  1.59s/it]"
     ]
    },
    {
     "name": "stdout",
     "output_type": "stream",
     "text": [
      "Processed 66000 samples\n"
     ]
    },
    {
     "name": "stderr",
     "output_type": "stream",
     "text": [
      "Processing tracks:  11%|██████▏                                                 | 1338/12114 [14:31<5:03:49,  1.69s/it]"
     ]
    },
    {
     "name": "stdout",
     "output_type": "stream",
     "text": [
      "Processed 67000 samples\n"
     ]
    },
    {
     "name": "stderr",
     "output_type": "stream",
     "text": [
      "Processing tracks:  11%|██████▏                                                 | 1345/12114 [14:44<5:23:51,  1.80s/it]"
     ]
    },
    {
     "name": "stdout",
     "output_type": "stream",
     "text": [
      "Processed 68000 samples\n"
     ]
    },
    {
     "name": "stderr",
     "output_type": "stream",
     "text": [
      "Processing tracks:  11%|██████▎                                                 | 1358/12114 [14:59<6:16:28,  2.10s/it]"
     ]
    },
    {
     "name": "stdout",
     "output_type": "stream",
     "text": [
      "Processed 69000 samples\n"
     ]
    },
    {
     "name": "stderr",
     "output_type": "stream",
     "text": [
      "Processing tracks:  11%|██████▎                                                 | 1364/12114 [15:12<6:33:00,  2.19s/it]"
     ]
    },
    {
     "name": "stdout",
     "output_type": "stream",
     "text": [
      "Processed 70000 samples\n"
     ]
    },
    {
     "name": "stderr",
     "output_type": "stream",
     "text": [
      "Processing tracks:  12%|██████▋                                                   | 1402/12114 [15:25<38:21,  4.65it/s]"
     ]
    },
    {
     "name": "stdout",
     "output_type": "stream",
     "text": [
      "Processed 71000 samples\n"
     ]
    },
    {
     "name": "stderr",
     "output_type": "stream",
     "text": [
      "Processing tracks:  12%|██████▉                                                   | 1437/12114 [15:36<20:19,  8.75it/s]"
     ]
    },
    {
     "name": "stdout",
     "output_type": "stream",
     "text": [
      "Processed 72000 samples\n"
     ]
    },
    {
     "name": "stderr",
     "output_type": "stream",
     "text": [
      "Processing tracks:  12%|███████                                                   | 1486/12114 [15:49<20:50,  8.50it/s]"
     ]
    },
    {
     "name": "stdout",
     "output_type": "stream",
     "text": [
      "Processed 73000 samples\n"
     ]
    },
    {
     "name": "stderr",
     "output_type": "stream",
     "text": [
      "Processing tracks:  12%|██████▉                                                 | 1502/12114 [16:02<4:31:31,  1.54s/it]"
     ]
    },
    {
     "name": "stdout",
     "output_type": "stream",
     "text": [
      "Processed 74000 samples\n"
     ]
    },
    {
     "name": "stderr",
     "output_type": "stream",
     "text": [
      "Processing tracks:  12%|██████▉                                                 | 1509/12114 [16:13<4:27:44,  1.51s/it]"
     ]
    },
    {
     "name": "stdout",
     "output_type": "stream",
     "text": [
      "Processed 75000 samples\n"
     ]
    },
    {
     "name": "stderr",
     "output_type": "stream",
     "text": [
      "Processing tracks:  13%|███████                                                 | 1517/12114 [16:28<5:15:19,  1.79s/it]"
     ]
    },
    {
     "name": "stdout",
     "output_type": "stream",
     "text": [
      "Processed 76000 samples\n"
     ]
    },
    {
     "name": "stderr",
     "output_type": "stream",
     "text": [
      "Processing tracks:  13%|███████                                                 | 1525/12114 [16:43<5:28:18,  1.86s/it]"
     ]
    },
    {
     "name": "stdout",
     "output_type": "stream",
     "text": [
      "Processed 77000 samples\n"
     ]
    },
    {
     "name": "stderr",
     "output_type": "stream",
     "text": [
      "Processing tracks:  13%|███████                                                 | 1530/12114 [16:51<4:30:57,  1.54s/it]"
     ]
    },
    {
     "name": "stdout",
     "output_type": "stream",
     "text": [
      "Processed 78000 samples\n"
     ]
    },
    {
     "name": "stderr",
     "output_type": "stream",
     "text": [
      "Processing tracks:  13%|███████▌                                                  | 1571/12114 [17:07<22:29,  7.81it/s]"
     ]
    },
    {
     "name": "stdout",
     "output_type": "stream",
     "text": [
      "Processed 79000 samples\n"
     ]
    },
    {
     "name": "stderr",
     "output_type": "stream",
     "text": [
      "Processing tracks:  13%|███████▎                                                | 1584/12114 [17:20<4:44:46,  1.62s/it]"
     ]
    },
    {
     "name": "stdout",
     "output_type": "stream",
     "text": [
      "Processed 80000 samples\n"
     ]
    },
    {
     "name": "stderr",
     "output_type": "stream",
     "text": [
      "Processing tracks:  13%|███████▎                                                | 1587/12114 [17:29<9:08:33,  3.13s/it]"
     ]
    },
    {
     "name": "stdout",
     "output_type": "stream",
     "text": [
      "Processed 81000 samples\n"
     ]
    },
    {
     "name": "stderr",
     "output_type": "stream",
     "text": [
      "Processing tracks:  13%|███████▏                                               | 1589/12114 [17:45<15:36:45,  5.34s/it]"
     ]
    },
    {
     "name": "stdout",
     "output_type": "stream",
     "text": [
      "Processed 82000 samples\n"
     ]
    },
    {
     "name": "stderr",
     "output_type": "stream",
     "text": [
      "Processing tracks:  13%|███████▏                                               | 1591/12114 [17:58<17:53:17,  6.12s/it]"
     ]
    },
    {
     "name": "stdout",
     "output_type": "stream",
     "text": [
      "Processed 83000 samples\n"
     ]
    },
    {
     "name": "stderr",
     "output_type": "stream",
     "text": [
      "Processing tracks:  13%|███████▏                                               | 1593/12114 [18:11<18:25:49,  6.31s/it]"
     ]
    },
    {
     "name": "stdout",
     "output_type": "stream",
     "text": [
      "Processed 84000 samples\n"
     ]
    },
    {
     "name": "stderr",
     "output_type": "stream",
     "text": [
      "Processing tracks:  13%|███████▏                                               | 1595/12114 [18:25<18:56:58,  6.49s/it]"
     ]
    },
    {
     "name": "stdout",
     "output_type": "stream",
     "text": [
      "Processed 85000 samples\n"
     ]
    },
    {
     "name": "stderr",
     "output_type": "stream",
     "text": [
      "Processing tracks:  13%|███████▍                                                | 1604/12114 [18:44<5:26:20,  1.86s/it]"
     ]
    },
    {
     "name": "stdout",
     "output_type": "stream",
     "text": [
      "Processed 86000 samples\n"
     ]
    },
    {
     "name": "stderr",
     "output_type": "stream",
     "text": [
      "Processing tracks:  13%|███████▍                                                | 1609/12114 [18:59<5:32:05,  1.90s/it]"
     ]
    },
    {
     "name": "stdout",
     "output_type": "stream",
     "text": [
      "Processed 87000 samples\n"
     ]
    },
    {
     "name": "stderr",
     "output_type": "stream",
     "text": [
      "Processing tracks:  13%|███████▌                                                | 1626/12114 [19:15<1:48:11,  1.62it/s]"
     ]
    },
    {
     "name": "stdout",
     "output_type": "stream",
     "text": [
      "Processed 88000 samples\n"
     ]
    },
    {
     "name": "stderr",
     "output_type": "stream",
     "text": [
      "Processing tracks:  14%|███████▌                                                | 1640/12114 [19:27<1:39:40,  1.75it/s]"
     ]
    },
    {
     "name": "stdout",
     "output_type": "stream",
     "text": [
      "Processed 89000 samples\n"
     ]
    },
    {
     "name": "stderr",
     "output_type": "stream",
     "text": [
      "Processing tracks:  14%|███████▌                                                | 1646/12114 [19:40<5:54:44,  2.03s/it]"
     ]
    },
    {
     "name": "stdout",
     "output_type": "stream",
     "text": [
      "Processed 90000 samples\n"
     ]
    },
    {
     "name": "stderr",
     "output_type": "stream",
     "text": [
      "Processing tracks:  14%|███████▋                                                | 1657/12114 [19:55<4:52:03,  1.68s/it]"
     ]
    },
    {
     "name": "stdout",
     "output_type": "stream",
     "text": [
      "Processed 91000 samples\n"
     ]
    },
    {
     "name": "stderr",
     "output_type": "stream",
     "text": [
      "Processing tracks:  14%|███████▋                                                | 1664/12114 [20:07<5:04:21,  1.75s/it]"
     ]
    },
    {
     "name": "stdout",
     "output_type": "stream",
     "text": [
      "Processed 92000 samples\n"
     ]
    },
    {
     "name": "stderr",
     "output_type": "stream",
     "text": [
      "Processing tracks:  14%|███████▋                                                | 1672/12114 [20:20<4:50:30,  1.67s/it]"
     ]
    },
    {
     "name": "stdout",
     "output_type": "stream",
     "text": [
      "Processed 93000 samples\n"
     ]
    },
    {
     "name": "stderr",
     "output_type": "stream",
     "text": [
      "Processing tracks:  14%|███████▊                                                | 1680/12114 [20:35<5:08:26,  1.77s/it]"
     ]
    },
    {
     "name": "stdout",
     "output_type": "stream",
     "text": [
      "Processed 94000 samples\n"
     ]
    },
    {
     "name": "stderr",
     "output_type": "stream",
     "text": [
      "Processing tracks:  14%|███████▊                                                | 1698/12114 [20:47<2:00:00,  1.45it/s]"
     ]
    },
    {
     "name": "stdout",
     "output_type": "stream",
     "text": [
      "Processed 95000 samples\n"
     ]
    },
    {
     "name": "stderr",
     "output_type": "stream",
     "text": [
      "Processing tracks:  14%|███████▉                                                | 1716/12114 [20:59<3:23:57,  1.18s/it]"
     ]
    },
    {
     "name": "stdout",
     "output_type": "stream",
     "text": [
      "Processed 96000 samples\n"
     ]
    },
    {
     "name": "stderr",
     "output_type": "stream",
     "text": [
      "Processing tracks:  14%|███████▉                                                | 1724/12114 [21:14<5:07:53,  1.78s/it]"
     ]
    },
    {
     "name": "stdout",
     "output_type": "stream",
     "text": [
      "Processed 97000 samples\n"
     ]
    },
    {
     "name": "stderr",
     "output_type": "stream",
     "text": [
      "Processing tracks:  14%|████████                                                | 1732/12114 [21:28<5:06:55,  1.77s/it]"
     ]
    },
    {
     "name": "stdout",
     "output_type": "stream",
     "text": [
      "Processed 98000 samples\n"
     ]
    },
    {
     "name": "stderr",
     "output_type": "stream",
     "text": [
      "Processing tracks:  14%|████████                                                | 1739/12114 [21:42<5:31:06,  1.91s/it]"
     ]
    },
    {
     "name": "stdout",
     "output_type": "stream",
     "text": [
      "Processed 99000 samples\n"
     ]
    },
    {
     "name": "stderr",
     "output_type": "stream",
     "text": [
      "Processing tracks:  14%|████████                                                | 1747/12114 [21:56<5:22:12,  1.86s/it]"
     ]
    },
    {
     "name": "stdout",
     "output_type": "stream",
     "text": [
      "Processed 100000 samples\n"
     ]
    },
    {
     "name": "stderr",
     "output_type": "stream",
     "text": [
      "Processing tracks:  14%|████████                                                | 1755/12114 [22:12<5:45:34,  2.00s/it]"
     ]
    },
    {
     "name": "stdout",
     "output_type": "stream",
     "text": [
      "Processed 101000 samples\n"
     ]
    },
    {
     "name": "stderr",
     "output_type": "stream",
     "text": [
      "Processing tracks:  15%|████████▏                                               | 1763/12114 [22:24<4:51:09,  1.69s/it]"
     ]
    },
    {
     "name": "stdout",
     "output_type": "stream",
     "text": [
      "Processed 102000 samples\n"
     ]
    },
    {
     "name": "stderr",
     "output_type": "stream",
     "text": [
      "Processing tracks:  15%|████████▏                                               | 1779/12114 [22:36<2:26:37,  1.17it/s]"
     ]
    },
    {
     "name": "stdout",
     "output_type": "stream",
     "text": [
      "Processed 103000 samples\n"
     ]
    },
    {
     "name": "stderr",
     "output_type": "stream",
     "text": [
      "Processing tracks:  15%|████████▎                                               | 1786/12114 [22:48<5:16:54,  1.84s/it]"
     ]
    },
    {
     "name": "stdout",
     "output_type": "stream",
     "text": [
      "Processed 104000 samples\n"
     ]
    },
    {
     "name": "stderr",
     "output_type": "stream",
     "text": [
      "Processing tracks:  15%|████████▎                                               | 1796/12114 [23:00<5:18:10,  1.85s/it]"
     ]
    },
    {
     "name": "stdout",
     "output_type": "stream",
     "text": [
      "Processed 105000 samples\n"
     ]
    },
    {
     "name": "stderr",
     "output_type": "stream",
     "text": [
      "Processing tracks:  15%|████████▏                                              | 1798/12114 [23:13<10:57:49,  3.83s/it]"
     ]
    },
    {
     "name": "stdout",
     "output_type": "stream",
     "text": [
      "Processed 106000 samples\n"
     ]
    },
    {
     "name": "stderr",
     "output_type": "stream",
     "text": [
      "Processing tracks:  15%|████████▏                                              | 1800/12114 [23:26<15:12:39,  5.31s/it]"
     ]
    },
    {
     "name": "stdout",
     "output_type": "stream",
     "text": [
      "Processed 107000 samples\n"
     ]
    },
    {
     "name": "stderr",
     "output_type": "stream",
     "text": [
      "Processing tracks:  15%|████████▏                                              | 1804/12114 [23:42<10:18:09,  3.60s/it]"
     ]
    },
    {
     "name": "stdout",
     "output_type": "stream",
     "text": [
      "Processed 108000 samples\n"
     ]
    },
    {
     "name": "stderr",
     "output_type": "stream",
     "text": [
      "Processing tracks:  15%|████████▍                                               | 1812/12114 [23:56<5:15:44,  1.84s/it]"
     ]
    },
    {
     "name": "stdout",
     "output_type": "stream",
     "text": [
      "Processed 109000 samples\n"
     ]
    },
    {
     "name": "stderr",
     "output_type": "stream",
     "text": [
      "Processing tracks:  15%|████████▍                                               | 1820/12114 [24:12<5:25:42,  1.90s/it]"
     ]
    },
    {
     "name": "stdout",
     "output_type": "stream",
     "text": [
      "Processed 110000 samples\n"
     ]
    },
    {
     "name": "stderr",
     "output_type": "stream",
     "text": [
      "Processing tracks:  15%|████████▍                                               | 1834/12114 [24:25<3:20:25,  1.17s/it]"
     ]
    },
    {
     "name": "stdout",
     "output_type": "stream",
     "text": [
      "Processed 111000 samples\n"
     ]
    },
    {
     "name": "stderr",
     "output_type": "stream",
     "text": [
      "Processing tracks:  15%|████████▌                                               | 1865/12114 [24:36<1:19:11,  2.16it/s]"
     ]
    },
    {
     "name": "stdout",
     "output_type": "stream",
     "text": [
      "Processed 112000 samples\n"
     ]
    },
    {
     "name": "stderr",
     "output_type": "stream",
     "text": [
      "Processing tracks:  16%|████████▋                                               | 1891/12114 [24:51<2:40:55,  1.06it/s]"
     ]
    },
    {
     "name": "stdout",
     "output_type": "stream",
     "text": [
      "Processed 113000 samples\n"
     ]
    },
    {
     "name": "stderr",
     "output_type": "stream",
     "text": [
      "Processing tracks:  16%|████████▊                                               | 1894/12114 [25:00<7:55:40,  2.79s/it]"
     ]
    },
    {
     "name": "stdout",
     "output_type": "stream",
     "text": [
      "Processed 114000 samples\n"
     ]
    },
    {
     "name": "stderr",
     "output_type": "stream",
     "text": [
      "Processing tracks:  16%|████████▌                                              | 1896/12114 [25:13<13:17:05,  4.68s/it]"
     ]
    },
    {
     "name": "stdout",
     "output_type": "stream",
     "text": [
      "Processed 115000 samples\n"
     ]
    },
    {
     "name": "stderr",
     "output_type": "stream",
     "text": [
      "Processing tracks:  16%|█████████▎                                                | 1953/12114 [25:31<38:29,  4.40it/s]"
     ]
    },
    {
     "name": "stdout",
     "output_type": "stream",
     "text": [
      "Processed 116000 samples\n"
     ]
    },
    {
     "name": "stderr",
     "output_type": "stream",
     "text": [
      "Processing tracks:  16%|█████████                                               | 1973/12114 [25:43<3:30:15,  1.24s/it]"
     ]
    },
    {
     "name": "stdout",
     "output_type": "stream",
     "text": [
      "Processed 117000 samples\n"
     ]
    },
    {
     "name": "stderr",
     "output_type": "stream",
     "text": [
      "Processing tracks:  17%|█████████▋                                                | 2030/12114 [25:55<17:55,  9.38it/s]"
     ]
    },
    {
     "name": "stdout",
     "output_type": "stream",
     "text": [
      "Processed 118000 samples\n"
     ]
    },
    {
     "name": "stderr",
     "output_type": "stream",
     "text": [
      "Processing tracks:  17%|█████████▏                                             | 2032/12114 [26:09<10:03:03,  3.59s/it]"
     ]
    },
    {
     "name": "stdout",
     "output_type": "stream",
     "text": [
      "Processed 119000 samples\n"
     ]
    },
    {
     "name": "stderr",
     "output_type": "stream",
     "text": [
      "Processing tracks:  17%|█████████▍                                              | 2039/12114 [26:23<5:32:03,  1.98s/it]"
     ]
    },
    {
     "name": "stdout",
     "output_type": "stream",
     "text": [
      "Processed 120000 samples\n"
     ]
    },
    {
     "name": "stderr",
     "output_type": "stream",
     "text": [
      "Processing tracks:  17%|█████████▍                                              | 2046/12114 [26:39<5:55:17,  2.12s/it]"
     ]
    },
    {
     "name": "stdout",
     "output_type": "stream",
     "text": [
      "Processed 121000 samples\n"
     ]
    },
    {
     "name": "stderr",
     "output_type": "stream",
     "text": [
      "Processing tracks:  17%|█████████▍                                              | 2053/12114 [26:50<4:24:07,  1.58s/it]"
     ]
    },
    {
     "name": "stdout",
     "output_type": "stream",
     "text": [
      "Processed 122000 samples\n"
     ]
    },
    {
     "name": "stderr",
     "output_type": "stream",
     "text": [
      "Processing tracks:  17%|█████████▉                                                | 2082/12114 [27:03<17:28,  9.56it/s]"
     ]
    },
    {
     "name": "stdout",
     "output_type": "stream",
     "text": [
      "Processed 123000 samples\n"
     ]
    },
    {
     "name": "stderr",
     "output_type": "stream",
     "text": [
      "Processing tracks:  17%|█████████▋                                              | 2085/12114 [27:17<8:23:01,  3.01s/it]"
     ]
    },
    {
     "name": "stdout",
     "output_type": "stream",
     "text": [
      "Processed 124000 samples\n"
     ]
    },
    {
     "name": "stderr",
     "output_type": "stream",
     "text": [
      "Processing tracks:  17%|█████████▍                                             | 2087/12114 [27:29<12:11:06,  4.37s/it]"
     ]
    },
    {
     "name": "stdout",
     "output_type": "stream",
     "text": [
      "Processed 125000 samples\n"
     ]
    },
    {
     "name": "stderr",
     "output_type": "stream",
     "text": [
      "Processing tracks:  17%|█████████▍                                             | 2089/12114 [27:44<16:23:26,  5.89s/it]"
     ]
    },
    {
     "name": "stdout",
     "output_type": "stream",
     "text": [
      "Processed 126000 samples\n"
     ]
    },
    {
     "name": "stderr",
     "output_type": "stream",
     "text": [
      "Processing tracks:  18%|██████████▏                                               | 2121/12114 [28:03<22:24,  7.43it/s]"
     ]
    },
    {
     "name": "stdout",
     "output_type": "stream",
     "text": [
      "Processed 127000 samples\n"
     ]
    },
    {
     "name": "stderr",
     "output_type": "stream",
     "text": [
      "Processing tracks:  18%|█████████▊                                              | 2135/12114 [28:18<4:46:20,  1.72s/it]"
     ]
    },
    {
     "name": "stdout",
     "output_type": "stream",
     "text": [
      "Processed 128000 samples\n"
     ]
    },
    {
     "name": "stderr",
     "output_type": "stream",
     "text": [
      "Processing tracks:  18%|█████████▉                                              | 2147/12114 [28:32<1:33:30,  1.78it/s]"
     ]
    },
    {
     "name": "stdout",
     "output_type": "stream",
     "text": [
      "Processed 129000 samples\n"
     ]
    },
    {
     "name": "stderr",
     "output_type": "stream",
     "text": [
      "Processing tracks:  18%|██████████                                              | 2181/12114 [28:44<1:38:28,  1.68it/s]"
     ]
    },
    {
     "name": "stdout",
     "output_type": "stream",
     "text": [
      "Processed 130000 samples\n"
     ]
    },
    {
     "name": "stderr",
     "output_type": "stream",
     "text": [
      "Processing tracks:  18%|██████████▌                                               | 2212/12114 [28:58<31:57,  5.16it/s]"
     ]
    },
    {
     "name": "stdout",
     "output_type": "stream",
     "text": [
      "Processed 131000 samples\n"
     ]
    },
    {
     "name": "stderr",
     "output_type": "stream",
     "text": [
      "Processing tracks:  18%|██████████▎                                             | 2223/12114 [29:08<4:06:49,  1.50s/it]"
     ]
    },
    {
     "name": "stdout",
     "output_type": "stream",
     "text": [
      "Processed 132000 samples\n"
     ]
    },
    {
     "name": "stderr",
     "output_type": "stream",
     "text": [
      "Processing tracks:  19%|██████████▊                                               | 2252/12114 [29:26<19:33,  8.40it/s]"
     ]
    },
    {
     "name": "stdout",
     "output_type": "stream",
     "text": [
      "Processed 133000 samples\n"
     ]
    },
    {
     "name": "stderr",
     "output_type": "stream",
     "text": [
      "Processing tracks:  19%|██████████▉                                               | 2272/12114 [29:37<25:37,  6.40it/s]"
     ]
    },
    {
     "name": "stdout",
     "output_type": "stream",
     "text": [
      "Processed 134000 samples\n"
     ]
    },
    {
     "name": "stderr",
     "output_type": "stream",
     "text": [
      "Processing tracks:  19%|██████████▌                                             | 2289/12114 [29:57<2:26:14,  1.12it/s]"
     ]
    },
    {
     "name": "stdout",
     "output_type": "stream",
     "text": [
      "Processed 135000 samples\n"
     ]
    },
    {
     "name": "stderr",
     "output_type": "stream",
     "text": [
      "Processing tracks:  19%|███████████                                               | 2322/12114 [30:11<43:53,  3.72it/s]"
     ]
    },
    {
     "name": "stdout",
     "output_type": "stream",
     "text": [
      "Processed 136000 samples\n"
     ]
    },
    {
     "name": "stderr",
     "output_type": "stream",
     "text": [
      "Processing tracks:  19%|██████████▉                                             | 2362/12114 [30:26<4:53:23,  1.81s/it]"
     ]
    },
    {
     "name": "stdout",
     "output_type": "stream",
     "text": [
      "Processed 137000 samples\n"
     ]
    },
    {
     "name": "stderr",
     "output_type": "stream",
     "text": [
      "Processing tracks:  20%|███████████                                             | 2391/12114 [30:39<3:19:41,  1.23s/it]"
     ]
    },
    {
     "name": "stdout",
     "output_type": "stream",
     "text": [
      "Processed 138000 samples\n"
     ]
    },
    {
     "name": "stderr",
     "output_type": "stream",
     "text": [
      "Processing tracks:  20%|███████████▌                                              | 2403/12114 [30:48<35:12,  4.60it/s]"
     ]
    },
    {
     "name": "stdout",
     "output_type": "stream",
     "text": [
      "Processed 139000 samples\n"
     ]
    },
    {
     "name": "stderr",
     "output_type": "stream",
     "text": [
      "Processing tracks:  20%|██████████▉                                            | 2406/12114 [31:08<12:00:34,  4.45s/it]"
     ]
    },
    {
     "name": "stdout",
     "output_type": "stream",
     "text": [
      "Processed 140000 samples\n"
     ]
    },
    {
     "name": "stderr",
     "output_type": "stream",
     "text": [
      "Processing tracks:  20%|███████████▏                                            | 2422/12114 [31:22<5:19:28,  1.98s/it]"
     ]
    },
    {
     "name": "stdout",
     "output_type": "stream",
     "text": [
      "Processed 141000 samples\n"
     ]
    },
    {
     "name": "stderr",
     "output_type": "stream",
     "text": [
      "Processing tracks:  20%|███████████▏                                            | 2427/12114 [31:33<5:35:12,  2.08s/it]"
     ]
    },
    {
     "name": "stdout",
     "output_type": "stream",
     "text": [
      "Processed 142000 samples\n"
     ]
    },
    {
     "name": "stderr",
     "output_type": "stream",
     "text": [
      "Processing tracks:  20%|███████████▎                                            | 2437/12114 [31:49<3:28:34,  1.29s/it]"
     ]
    },
    {
     "name": "stdout",
     "output_type": "stream",
     "text": [
      "Processed 143000 samples\n"
     ]
    },
    {
     "name": "stderr",
     "output_type": "stream",
     "text": [
      "Processing tracks:  20%|███████████▎                                            | 2448/12114 [32:04<3:45:44,  1.40s/it]"
     ]
    },
    {
     "name": "stdout",
     "output_type": "stream",
     "text": [
      "Processed 144000 samples\n"
     ]
    },
    {
     "name": "stderr",
     "output_type": "stream",
     "text": [
      "Processing tracks:  21%|███████████▉                                              | 2492/12114 [32:17<44:50,  3.58it/s]"
     ]
    },
    {
     "name": "stdout",
     "output_type": "stream",
     "text": [
      "Processed 145000 samples\n"
     ]
    },
    {
     "name": "stderr",
     "output_type": "stream",
     "text": [
      "Processing tracks:  21%|███████████▌                                            | 2514/12114 [32:32<1:50:06,  1.45it/s]"
     ]
    },
    {
     "name": "stdout",
     "output_type": "stream",
     "text": [
      "Processed 146000 samples\n"
     ]
    },
    {
     "name": "stderr",
     "output_type": "stream",
     "text": [
      "Processing tracks:  21%|███████████▋                                            | 2532/12114 [32:47<3:02:28,  1.14s/it]"
     ]
    },
    {
     "name": "stdout",
     "output_type": "stream",
     "text": [
      "Processed 147000 samples\n"
     ]
    },
    {
     "name": "stderr",
     "output_type": "stream",
     "text": [
      "Processing tracks:  21%|███████████▊                                            | 2566/12114 [32:59<1:11:37,  2.22it/s]"
     ]
    },
    {
     "name": "stdout",
     "output_type": "stream",
     "text": [
      "Processed 148000 samples\n"
     ]
    },
    {
     "name": "stderr",
     "output_type": "stream",
     "text": [
      "Processing tracks:  21%|███████████▉                                            | 2583/12114 [33:12<3:52:38,  1.46s/it]"
     ]
    },
    {
     "name": "stdout",
     "output_type": "stream",
     "text": [
      "Processed 149000 samples\n"
     ]
    },
    {
     "name": "stderr",
     "output_type": "stream",
     "text": [
      "Processing tracks:  21%|███████████▉                                            | 2591/12114 [33:25<4:28:49,  1.69s/it]"
     ]
    },
    {
     "name": "stdout",
     "output_type": "stream",
     "text": [
      "Processed 150000 samples\n"
     ]
    },
    {
     "name": "stderr",
     "output_type": "stream",
     "text": [
      "Processing tracks:  22%|████████████▌                                             | 2617/12114 [33:37<17:31,  9.03it/s]"
     ]
    },
    {
     "name": "stdout",
     "output_type": "stream",
     "text": [
      "Processed 151000 samples\n"
     ]
    },
    {
     "name": "stderr",
     "output_type": "stream",
     "text": [
      "Processing tracks:  22%|████████████▊                                             | 2679/12114 [33:51<20:08,  7.81it/s]"
     ]
    },
    {
     "name": "stdout",
     "output_type": "stream",
     "text": [
      "Processed 152000 samples\n"
     ]
    },
    {
     "name": "stderr",
     "output_type": "stream",
     "text": [
      "Processing tracks:  23%|████████████▌                                           | 2731/12114 [34:07<2:44:00,  1.05s/it]"
     ]
    },
    {
     "name": "stdout",
     "output_type": "stream",
     "text": [
      "Processed 153000 samples\n"
     ]
    },
    {
     "name": "stderr",
     "output_type": "stream",
     "text": [
      "Processing tracks:  23%|████████████▋                                           | 2734/12114 [34:10<2:33:30,  1.02it/s]"
     ]
    }
   ],
   "source": [
    "# ================================================\n",
    "# Imports\n",
    "# ================================================\n",
    "import os\n",
    "import numpy as np\n",
    "import pandas as pd\n",
    "import librosa\n",
    "import librosa.display\n",
    "from tqdm import tqdm\n",
    "from tensorflow.keras.utils import to_categorical\n",
    "import matplotlib.pyplot as plt\n",
    "import math\n",
    "from collections import Counter\n",
    "from tensorflow.keras.models import Sequential\n",
    "from tensorflow.keras.layers import Conv2D, MaxPooling2D, BatchNormalization, Dropout, Flatten, Dense\n",
    "from tensorflow.keras.optimizers import Adam\n",
    "from tensorflow.keras.callbacks import ModelCheckpoint, ReduceLROnPlateau\n",
    "\n",
    "# ================================================\n",
    "# Paths\n",
    "# ================================================\n",
    "AUDIO_DIR = 'C:/Users/HASSAN/Desktop/Master Thesis/ClasificacionGeneroMusical_DL-master/ClasificacionGeneroMusical_DL-master/fma_medium/fma_medium'\n",
    "DATA_DIR = 'C:/Users/HASSAN/Desktop/Master Thesis/ClasificacionGeneroMusical_DL-master/ClasificacionGeneroMusical_DL-master/fma_metadata/fma_metadata'\n",
    "MEMMAP_DIR = 'memmap_data'\n",
    "\n",
    "# Create memmap directory if it doesn't exist\n",
    "os.makedirs(MEMMAP_DIR, exist_ok=True)\n",
    "\n",
    "# ================================================\n",
    "# Parameters\n",
    "# ================================================\n",
    "N_MFCC = 13\n",
    "N_FFT = 2048             # FFT window size\n",
    "HOP_LENGTH = 512         # Number of samples between successive frames\n",
    "SAMPLE_RATE = 22050      # Default sample rate\n",
    "NUM_SEGMENTS = 10        # Number of segments per track\n",
    "TARGET_SEGMENTS_PER_GENRE = 40000\n",
    "SEGMENTS_PER_TRACK = NUM_SEGMENTS  # 10 segments per track\n",
    "MAX_VERSIONS_PER_TRACK = 50  # Maximum data augmentation versions per track\n",
    "\n",
    "# ================================================\n",
    "# Function Definitions\n",
    "# ================================================\n",
    "\n",
    "def get_audio_path(audio_dir, track_id):\n",
    "    tid_str = '{:06d}'.format(track_id)\n",
    "    return os.path.join(audio_dir, tid_str[:3], tid_str + '.mp3')\n",
    "\n",
    "def filter_by_size(df, audio_dir, min_size=700000):\n",
    "    correct_tracks = []\n",
    "    for track_id in tqdm(df.index, desc='Filtering tracks by size'):\n",
    "        fpath = get_audio_path(audio_dir, track_id)\n",
    "        if os.path.exists(fpath):\n",
    "            size = os.path.getsize(fpath)\n",
    "            if size > min_size:\n",
    "                correct_tracks.append(track_id)\n",
    "            else:\n",
    "                print(f'Track {track_id} is too small (size: {size})')\n",
    "        else:\n",
    "            print(f'Track {track_id} not found')\n",
    "    return df.loc[correct_tracks]\n",
    "\n",
    "def fixed_length_time_stretch(y, rate, desired_length):\n",
    "    \"\"\"\n",
    "    Applies time stretching and fixes the length of the audio signal.\n",
    "    \"\"\"\n",
    "    y_stretched = librosa.effects.time_stretch(y=y, rate=rate)\n",
    "\n",
    "    if len(y_stretched) > desired_length:\n",
    "        y_stretched = y_stretched[:desired_length]\n",
    "    else:\n",
    "        y_stretched = np.pad(y_stretched, (0, max(0, desired_length - len(y_stretched))), mode='constant')\n",
    "    return y_stretched\n",
    "\n",
    "def fixed_length_pitch_shift(y, sr, n_steps, desired_length):\n",
    "    \"\"\"\n",
    "    Applies pitch shifting and fixes the length of the audio signal.\n",
    "    \"\"\"\n",
    "    y_shifted = librosa.effects.pitch_shift(y=y, sr=sr, n_steps=n_steps)\n",
    "    y_shifted = librosa.util.fix_length(y_shifted, size=desired_length)\n",
    "    return y_shifted\n",
    "\n",
    "def time_shift_audio(y, shift_max):\n",
    "    \"\"\"\n",
    "    Shifts the audio signal in time without wrapping around.\n",
    "    \"\"\"\n",
    "    shift = np.random.randint(-shift_max, shift_max)\n",
    "    if shift > 0:\n",
    "        y_shifted = np.pad(y, (shift, 0), mode='constant')[:len(y)]\n",
    "    elif shift < 0:\n",
    "        y_shifted = np.pad(y, (0, -shift), mode='constant')[-shift:]\n",
    "    else:\n",
    "        y_shifted = y\n",
    "    return y_shifted\n",
    "\n",
    "def get_pitch_shift_steps():\n",
    "    \"\"\"\n",
    "    Returns a random number of pitch shift steps, excluding zero.\n",
    "    \"\"\"\n",
    "    return np.random.choice([-5, -4, -3, -2, -1, 1, 2, 3, 4])\n",
    "\n",
    "def augment_audio(y, sr, num_augmented_versions, desired_length):\n",
    "    \"\"\"\n",
    "    Generates augmented versions of the audio signal.\n",
    "    Each augmented version undergoes one random augmentation to prevent over-distortion.\n",
    "    \"\"\"\n",
    "    augmented_signals = []\n",
    "    for _ in range(num_augmented_versions):\n",
    "        try:\n",
    "            y_aug = y.copy()\n",
    "            # Apply one random augmentation per version\n",
    "            augmentation = np.random.choice(['time_stretch', 'pitch_shift', 'add_noise', 'time_shift'])\n",
    "            if augmentation == 'time_stretch':\n",
    "                rate = np.random.uniform(0.8, 1.2)\n",
    "                y_aug = fixed_length_time_stretch(y_aug, rate, desired_length)\n",
    "            elif augmentation == 'pitch_shift':\n",
    "                n_steps = get_pitch_shift_steps()\n",
    "                y_aug = fixed_length_pitch_shift(y_aug, sr, n_steps, desired_length)\n",
    "            elif augmentation == 'add_noise':\n",
    "                noise_amp = 0.005 * np.random.uniform() * np.max(np.abs(y_aug))\n",
    "                y_aug += noise_amp * np.random.normal(size=y_aug.shape[0])\n",
    "                y_aug = librosa.util.fix_length(y_aug, size=desired_length)\n",
    "            elif augmentation == 'time_shift':\n",
    "                y_aug = time_shift_audio(y_aug, shift_max=int(0.1 * len(y_aug)))\n",
    "                y_aug = librosa.util.fix_length(y_aug, size=desired_length)\n",
    "            # Normalize the augmented signal\n",
    "            y_aug = (y_aug - np.mean(y_aug)) / (np.std(y_aug) + 1e-6)\n",
    "            augmented_signals.append(y_aug)\n",
    "        except Exception as e:\n",
    "            print(f\"Augmentation failed: {e}\")\n",
    "            continue\n",
    "    return augmented_signals\n",
    "\n",
    "def estimate_num_samples(df, versions_per_track, num_segments=NUM_SEGMENTS):\n",
    "    total = 0\n",
    "    for track_id in df.index:\n",
    "        genre = df.loc[track_id][('track', 'genre_top')]\n",
    "        vpt = versions_per_track.get(genre, 1)\n",
    "        total += vpt * num_segments\n",
    "    return total\n",
    "\n",
    "def process_tracks_memmap(df, audio_dir, dict_genres_final, versions_per_track, \n",
    "                         X_memmap, y_memmap, start_idx=0, \n",
    "                         num_segments=NUM_SEGMENTS, n_mfcc=N_MFCC, \n",
    "                         n_fft=N_FFT, hop_length=HOP_LENGTH):\n",
    "    \"\"\"\n",
    "    Processes tracks from a DataFrame, extracting MFCC segments for each track.\n",
    "    Writes the data directly to memory-mapped arrays.\n",
    "    \"\"\"\n",
    "    current_idx = start_idx\n",
    "    for track_id in tqdm(df.index, desc='Processing tracks'):\n",
    "        filepath = get_audio_path(audio_dir, track_id)\n",
    "        if not os.path.exists(filepath):\n",
    "            print(f\"Audio file not found at path {filepath}\")\n",
    "            continue\n",
    "        try:\n",
    "            # Load audio file\n",
    "            y_full, sr = librosa.load(filepath, sr=SAMPLE_RATE)\n",
    "            genre = df.loc[track_id][('track', 'genre_top')]\n",
    "            y_label = dict_genres_final.get(genre)\n",
    "            # Determine number of versions per track\n",
    "            vpt = versions_per_track.get(genre, 1)\n",
    "            num_augmentations = vpt - 1  # Exclude original\n",
    "\n",
    "            # Generate augmented versions\n",
    "            desired_length = len(y_full)\n",
    "            augmented_signals = [y_full]  # Include original\n",
    "            if num_augmentations > 0:\n",
    "                augmented_signals.extend(augment_audio(y_full, sr, num_augmentations, desired_length))\n",
    "\n",
    "            # Process each version\n",
    "            for y_version in augmented_signals:\n",
    "                # Split into segments\n",
    "                samples_per_segment = int(desired_length / num_segments)\n",
    "                num_mfcc_vectors_per_segment = math.ceil(samples_per_segment / hop_length)\n",
    "\n",
    "                for d in range(num_segments):\n",
    "                    # Calculate start and finish sample for current segment\n",
    "                    start = samples_per_segment * d\n",
    "                    finish = start + samples_per_segment\n",
    "\n",
    "                    # Ensure segment is within bounds\n",
    "                    if finish > len(y_version):\n",
    "                        finish = len(y_version)\n",
    "                        start = finish - samples_per_segment\n",
    "                        if start < 0:\n",
    "                            continue  # Skip if segment is too short\n",
    "\n",
    "                    y_segment = y_version[start:finish]\n",
    "                    mfcc = librosa.feature.mfcc(y=y_segment, sr=sr, n_mfcc=n_mfcc, \n",
    "                                                n_fft=n_fft, hop_length=hop_length)\n",
    "                    mfcc = mfcc.T  # Transpose to shape (time_frames, n_mfcc)\n",
    "\n",
    "                    # Store MFCCs if they have the expected length\n",
    "                    if len(mfcc) == num_mfcc_vectors_per_segment:\n",
    "                        if current_idx >= X_memmap.shape[0]:\n",
    "                            print(\"Reached memmap array limit. Skipping remaining data.\")\n",
    "                            return current_idx\n",
    "                        X_memmap[current_idx] = mfcc[..., np.newaxis]  # Add channel dimension\n",
    "                        y_memmap[current_idx] = y_label\n",
    "                        current_idx += 1\n",
    "                        if current_idx % 1000 == 0:\n",
    "                            print(f\"Processed {current_idx} samples\")\n",
    "                    else:\n",
    "                        print(f\"Segment {d+1} of track {track_id} has unexpected length: {len(mfcc)} (expected {num_mfcc_vectors_per_segment})\")\n",
    "        except Exception as e:\n",
    "            print(f\"Error processing track {track_id}: {e}\")\n",
    "            continue\n",
    "    return current_idx\n",
    "\n",
    "def plot_history(history):\n",
    "    \"\"\"Plots accuracy/loss for training/validation set as a function of the epochs\n",
    "\n",
    "        :param history: Training history of model\n",
    "        :return:\n",
    "    \"\"\"\n",
    "\n",
    "    fig, axs = plt.subplots(2, figsize=(10, 8))\n",
    "\n",
    "    # create accuracy subplot\n",
    "    axs[0].plot(history.history[\"accuracy\"], label=\"train accuracy\")\n",
    "    axs[0].plot(history.history[\"val_accuracy\"], label=\"validation accuracy\")\n",
    "    axs[0].set_ylabel(\"Accuracy\")\n",
    "    axs[0].legend(loc=\"lower right\")\n",
    "    axs[0].set_title(\"Accuracy Evaluation\")\n",
    "\n",
    "    # create error subplot\n",
    "    axs[1].plot(history.history[\"loss\"], label=\"train loss\")\n",
    "    axs[1].plot(history.history[\"val_loss\"], label=\"validation loss\")\n",
    "    axs[1].set_ylabel(\"Loss\")\n",
    "    axs[1].set_xlabel(\"Epoch\")\n",
    "    axs[1].legend(loc=\"upper right\")\n",
    "    axs[1].set_title(\"Loss Evaluation\")\n",
    "\n",
    "    plt.tight_layout()\n",
    "    plt.show()\n",
    "\n",
    "def data_generator(X_memmap, y_memmap, batch_size=64):\n",
    "    \"\"\"\n",
    "    Data generator that yields batches of data from memmap arrays.\n",
    "    \"\"\"\n",
    "    num_samples = X_memmap.shape[0]\n",
    "    while True:\n",
    "        for offset in range(0, num_samples, batch_size):\n",
    "            batch_X = X_memmap[offset:offset+batch_size]\n",
    "            batch_y = y_memmap[offset:offset+batch_size]\n",
    "            yield (batch_X, batch_y)\n",
    "\n",
    "# ================================================\n",
    "# Load Metadata\n",
    "# ================================================\n",
    "print(\"Loading metadata...\")\n",
    "filepath = os.path.join(DATA_DIR, 'tracks.csv')\n",
    "tracks = pd.read_csv(filepath, index_col=0, header=[0, 1])\n",
    "\n",
    "# Selection of columns from the dataframe\n",
    "cols = [('set', 'split'), ('set', 'subset'), ('track', 'genre_top')]\n",
    "\n",
    "# Filtering the columns\n",
    "df_medium = tracks[cols]\n",
    "df_medium = df_medium[df_medium[('set', 'subset')] == 'medium']\n",
    "\n",
    "# Apply size filter\n",
    "print(\"Filtering tracks by size...\")\n",
    "df_filtered = filter_by_size(df_medium, AUDIO_DIR)\n",
    "\n",
    "# Get unique genres and create genre mapping\n",
    "genres = df_filtered[('track', 'genre_top')].unique()\n",
    "dict_genres_final = {genre: idx for idx, genre in enumerate(genres)}\n",
    "CANT_genres = len(dict_genres_final)\n",
    "\n",
    "# Split the data\n",
    "df_train = df_filtered[df_filtered[('set', 'split')] == 'training']\n",
    "df_valid = df_filtered[df_filtered[('set', 'split')] == 'validation']\n",
    "df_test = df_filtered[df_filtered[('set', 'split')] == 'test']\n",
    "\n",
    "# Display genre distribution\n",
    "train_genre_distribution = df_train[('track', 'genre_top')].value_counts()\n",
    "print(\"Training Set Genre Distribution:\")\n",
    "print(train_genre_distribution)\n",
    "\n",
    "valid_genre_distribution = df_valid[('track', 'genre_top')].value_counts()\n",
    "print(\"\\nValidation Set Genre Distribution:\")\n",
    "print(valid_genre_distribution)\n",
    "\n",
    "test_genre_distribution = df_test[('track', 'genre_top')].value_counts()\n",
    "print(\"\\nTesting Set Genre Distribution:\")\n",
    "print(test_genre_distribution)\n",
    "\n",
    "print(f\"\\nTraining samples: {df_train.shape[0]}, Validation samples: {df_valid.shape[0]}, Test samples: {df_test.shape[0]}\")\n",
    "\n",
    "# ================================================\n",
    "# Data Augmentation Configuration\n",
    "# ================================================\n",
    "\n",
    "# Get the number of tracks per genre in the training set\n",
    "train_genre_counts = df_train[('track', 'genre_top')].value_counts()\n",
    "print(\"Training Set Genre Counts:\")\n",
    "print(train_genre_counts)\n",
    "\n",
    "# Calculate versions per track for each genre\n",
    "versions_per_track = {}\n",
    "max_versions_per_track = MAX_VERSIONS_PER_TRACK  # Set a reasonable maximum to prevent impractical augmentation\n",
    "\n",
    "for genre, num_tracks in train_genre_counts.items():\n",
    "    # Skip Rock and Electronic genres\n",
    "    if genre in ['Rock', 'Electronic']:\n",
    "        versions_per_track[genre] = 1\n",
    "        continue\n",
    "    vpt = math.ceil(TARGET_SEGMENTS_PER_GENRE / (num_tracks * SEGMENTS_PER_TRACK))\n",
    "    vpt = min(vpt, max_versions_per_track)\n",
    "    versions_per_track[genre] = vpt\n",
    "\n",
    "print(\"\\nVersions per track per genre (excluding Rock and Electronic):\")\n",
    "for genre, vpt in versions_per_track.items():\n",
    "    if genre not in ['Rock', 'Electronic']:\n",
    "        print(f\"{genre}: {vpt}\")\n",
    "\n",
    "# ================================================\n",
    "# Estimate Number of Samples\n",
    "# ================================================\n",
    "print(\"\\nEstimating number of samples for memmap arrays...\")\n",
    "num_train_samples = estimate_num_samples(df_train, versions_per_track)\n",
    "num_valid_samples = estimate_num_samples(df_valid, {})\n",
    "num_test_samples = estimate_num_samples(df_test, {})\n",
    "\n",
    "print(f\"Estimated Training Samples: {num_train_samples}\")\n",
    "print(f\"Estimated Validation Samples: {num_valid_samples}\")\n",
    "print(f\"Estimated Test Samples: {num_test_samples}\")\n",
    "\n",
    "# ================================================\n",
    "# Determine MFCC Parameters (Time Frames)\n",
    "# ================================================\n",
    "# To determine the number of time frames, process one segment\n",
    "sample_track_id = df_train.index[0]\n",
    "sample_filepath = get_audio_path(AUDIO_DIR, sample_track_id)\n",
    "y_sample, sr_sample = librosa.load(sample_filepath, sr=SAMPLE_RATE)\n",
    "samples_per_segment_sample = int(len(y_sample) / NUM_SEGMENTS)\n",
    "y_segment_sample = y_sample[0:samples_per_segment_sample]\n",
    "mfcc_sample = librosa.feature.mfcc(y=y_segment_sample, sr=sr_sample, n_mfcc=N_MFCC, \n",
    "                                   n_fft=N_FFT, hop_length=HOP_LENGTH)\n",
    "time_frames = mfcc_sample.shape[1]  # Number of time frames\n",
    "print(f\"Number of time frames per segment: {time_frames}\")\n",
    "\n",
    "# ================================================\n",
    "# Create Memory-Mapped Files\n",
    "# ================================================\n",
    "print(\"\\nCreating memory-mapped files...\")\n",
    "X_train_memmap = np.memmap(os.path.join(MEMMAP_DIR, 'X_train.dat'), dtype='float32',\n",
    "                           mode='w+', shape=(num_train_samples, time_frames, N_MFCC, 1))\n",
    "y_train_memmap = np.memmap(os.path.join(MEMMAP_DIR, 'y_train.dat'), dtype='int32',\n",
    "                           mode='w+', shape=(num_train_samples,))\n",
    "\n",
    "X_valid_memmap = np.memmap(os.path.join(MEMMAP_DIR, 'X_valid.dat'), dtype='float32',\n",
    "                           mode='w+', shape=(num_valid_samples, time_frames, N_MFCC, 1))\n",
    "y_valid_memmap = np.memmap(os.path.join(MEMMAP_DIR, 'y_valid.dat'), dtype='int32',\n",
    "                           mode='w+', shape=(num_valid_samples,))\n",
    "\n",
    "X_test_memmap = np.memmap(os.path.join(MEMMAP_DIR, 'X_test.dat'), dtype='float32',\n",
    "                          mode='w+', shape=(num_test_samples, time_frames, N_MFCC, 1))\n",
    "y_test_memmap = np.memmap(os.path.join(MEMMAP_DIR, 'y_test.dat'), dtype='int32',\n",
    "                          mode='w+', shape=(num_test_samples,))\n",
    "\n",
    "# ================================================\n",
    "# Process and Populate Memmap Files\n",
    "# ================================================\n",
    "print(\"\\nProcessing training data with augmentation...\")\n",
    "train_end_idx = process_tracks_memmap(\n",
    "    df_train,\n",
    "    AUDIO_DIR,\n",
    "    dict_genres_final,\n",
    "    versions_per_track,  # Include versions per track for augmentation\n",
    "    X_train_memmap,\n",
    "    y_train_memmap,\n",
    "    start_idx=0,\n",
    "    num_segments=NUM_SEGMENTS,\n",
    "    n_mfcc=N_MFCC,\n",
    "    n_fft=N_FFT,\n",
    "    hop_length=HOP_LENGTH\n",
    ")\n",
    "\n",
    "print(\"\\nProcessing validation data without augmentation...\")\n",
    "valid_end_idx = process_tracks_memmap(\n",
    "    df_valid,\n",
    "    AUDIO_DIR,\n",
    "    dict_genres_final,\n",
    "    {},  # No augmentation\n",
    "    X_valid_memmap,\n",
    "    y_valid_memmap,\n",
    "    start_idx=0,\n",
    "    num_segments=NUM_SEGMENTS,\n",
    "    n_mfcc=N_MFCC,\n",
    "    n_fft=N_FFT,\n",
    "    hop_length=HOP_LENGTH\n",
    ")\n",
    "\n",
    "print(\"\\nProcessing test data without augmentation...\")\n",
    "test_end_idx = process_tracks_memmap(\n",
    "    df_test,\n",
    "    AUDIO_DIR,\n",
    "    dict_genres_final,\n",
    "    {},  # No augmentation\n",
    "    X_test_memmap,\n",
    "    y_test_memmap,\n",
    "    start_idx=0,\n",
    "    num_segments=NUM_SEGMENTS,\n",
    "    n_mfcc=N_MFCC,\n",
    "    n_fft=N_FFT,\n",
    "    hop_length=HOP_LENGTH\n",
    ")\n",
    "\n",
    "# Flush changes to disk\n",
    "print(\"\\nFlushing memmap arrays to disk...\")\n",
    "X_train_memmap.flush()\n",
    "y_train_memmap.flush()\n",
    "X_valid_memmap.flush()\n",
    "y_valid_memmap.flush()\n",
    "X_test_memmap.flush()\n",
    "y_test_memmap.flush()\n",
    "\n",
    "# ================================================\n",
    "# Reload Memmap Arrays in Read Mode\n",
    "# ================================================\n",
    "print(\"\\nReloading memmap arrays in read mode...\")\n",
    "X_train_memmap = np.memmap(os.path.join(MEMMAP_DIR, 'X_train.dat'), dtype='float32',\n",
    "                           mode='r', shape=(train_end_idx, time_frames, N_MFCC, 1))\n",
    "y_train_memmap = np.memmap(os.path.join(MEMMAP_DIR, 'y_train.dat'), dtype='int32',\n",
    "                           mode='r', shape=(train_end_idx,))\n",
    "\n",
    "X_valid_memmap = np.memmap(os.path.join(MEMMAP_DIR, 'X_valid.dat'), dtype='float32',\n",
    "                           mode='r', shape=(valid_end_idx, time_frames, N_MFCC, 1))\n",
    "y_valid_memmap = np.memmap(os.path.join(MEMMAP_DIR, 'y_valid.dat'), dtype='int32',\n",
    "                           mode='r', shape=(valid_end_idx,))\n",
    "\n",
    "X_test_memmap = np.memmap(os.path.join(MEMMAP_DIR, 'X_test.dat'), dtype='float32',\n",
    "                          mode='r', shape=(test_end_idx, time_frames, N_MFCC, 1))\n",
    "y_test_memmap = np.memmap(os.path.join(MEMMAP_DIR, 'y_test.dat'), dtype='int32',\n",
    "                          mode='r', shape=(test_end_idx,))\n",
    "\n",
    "# ================================================\n",
    "# Convert Labels to Categorical\n",
    "# ================================================\n",
    "print(\"\\nConverting labels to categorical...\")\n",
    "y_train = to_categorical(y_train_memmap, num_classes=CANT_genres)\n",
    "y_valid = to_categorical(y_valid_memmap, num_classes=CANT_genres)\n",
    "y_test = to_categorical(y_test_memmap, num_classes=CANT_genres)\n",
    "\n",
    "# Display segment counts per genre after augmentation\n",
    "genre_indices = {v: k for k, v in dict_genres_final.items()}\n",
    "y_train_genres = [genre_indices[np.argmax(label)] for label in y_train]\n",
    "segment_counts = Counter(y_train_genres)\n",
    "print(\"\\nSegment counts per genre in training data after augmentation:\")\n",
    "for genre, count in segment_counts.items():\n",
    "    print(f\"{genre}: {count}\")\n",
    "\n",
    "# ================================================\n",
    "# Build the CNN Model\n",
    "# ================================================\n",
    "print(\"\\nBuilding the CNN model...\")\n",
    "input_shape = (time_frames, N_MFCC, 1)\n",
    "\n",
    "model = Sequential()\n",
    "\n",
    "# First Convolutional Block\n",
    "model.add(Conv2D(32, kernel_size=(3, 3), activation='relu', input_shape=input_shape))\n",
    "model.add(MaxPooling2D(pool_size=(3, 3), strides=(2, 2), padding='same'))\n",
    "model.add(BatchNormalization())\n",
    "\n",
    "# Second Convolutional Block\n",
    "model.add(Conv2D(32, kernel_size=(3, 3), activation='relu'))\n",
    "model.add(MaxPooling2D(pool_size=(3, 3), strides=(2, 2), padding='same'))\n",
    "model.add(BatchNormalization())\n",
    "\n",
    "# Third Convolutional Block\n",
    "model.add(Conv2D(32, kernel_size=(2, 2), activation='relu'))\n",
    "model.add(MaxPooling2D(pool_size=(2, 2), strides=(2, 2), padding='same'))\n",
    "model.add(BatchNormalization())\n",
    "\n",
    "# Flatten and Fully Connected Layer\n",
    "model.add(Flatten())\n",
    "model.add(Dense(64, activation='relu'))\n",
    "model.add(Dropout(0.3))\n",
    "\n",
    "# Output Layer with softmax activation for classification\n",
    "model.add(Dense(CANT_genres, activation='softmax'))\n",
    "\n",
    "# Compile the model\n",
    "print(\"\\nCompiling the model...\")\n",
    "opt = Adam(learning_rate=0.0001)\n",
    "model.compile(loss='categorical_crossentropy',\n",
    "              optimizer=opt,\n",
    "              metrics=['accuracy'])\n",
    "\n",
    "# ================================================\n",
    "# Callbacks\n",
    "# ================================================\n",
    "checkpoint_callback = ModelCheckpoint('./best_weight_CNN2D_mfcc.keras',\n",
    "                                      monitor='val_accuracy', verbose=1, save_best_only=True, mode='max')\n",
    "reducelr_callback = ReduceLROnPlateau(monitor='val_accuracy', factor=0.5, patience=5, min_delta=0.01)\n",
    "callbacks = [checkpoint_callback, reducelr_callback]\n",
    "\n",
    "# ================================================\n",
    "# Create Data Generators\n",
    "# ================================================\n",
    "print(\"\\nCreating data generators...\")\n",
    "train_gen = data_generator(X_train_memmap, y_train, batch_size=64)\n",
    "valid_gen = data_generator(X_valid_memmap, y_valid, batch_size=64)\n",
    "\n",
    "# Calculate steps per epoch\n",
    "steps_per_epoch = math.ceil(train_end_idx / 64)\n",
    "validation_steps = math.ceil(valid_end_idx / 64)\n",
    "\n",
    "# ================================================\n",
    "# Training the Model\n",
    "# ================================================\n",
    "print(\"\\nStarting model training...\")\n",
    "history = model.fit(\n",
    "    train_gen,\n",
    "    steps_per_epoch=steps_per_epoch,\n",
    "    epochs=20,\n",
    "    verbose=1,\n",
    "    validation_data=valid_gen,\n",
    "    validation_steps=validation_steps,\n",
    "    callbacks=callbacks\n",
    ")\n",
    "\n",
    "# ================================================\n",
    "# Plot Training History\n",
    "# ================================================\n",
    "plot_history(history)"
   ]
  },
  {
   "cell_type": "code",
   "execution_count": null,
   "id": "12ca57fb-1128-4a9d-abfe-a526ffe40c8c",
   "metadata": {},
   "outputs": [],
   "source": []
  }
 ],
 "metadata": {
  "kernelspec": {
   "display_name": "Python 3 (ipykernel)",
   "language": "python",
   "name": "python3"
  },
  "language_info": {
   "codemirror_mode": {
    "name": "ipython",
    "version": 3
   },
   "file_extension": ".py",
   "mimetype": "text/x-python",
   "name": "python",
   "nbconvert_exporter": "python",
   "pygments_lexer": "ipython3",
   "version": "3.12.3"
  }
 },
 "nbformat": 4,
 "nbformat_minor": 5
}
